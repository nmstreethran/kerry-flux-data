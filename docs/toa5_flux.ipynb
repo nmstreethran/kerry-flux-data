{
 "cells": [
  {
   "cell_type": "markdown",
   "id": "f7a3c32f-d185-4ebf-8907-af4900ab9f3d",
   "metadata": {},
   "source": [
    "# Process TOA5 30-minute flux data"
   ]
  },
  {
   "cell_type": "code",
   "execution_count": 1,
   "id": "079dc8b6",
   "metadata": {
    "vscode": {
     "languageId": "r"
    }
   },
   "outputs": [],
   "source": [
    "if (grepl(\"docs\", getwd(), fixed = TRUE)) {\n",
    "  setwd(\"..\")\n",
    "}"
   ]
  },
  {
   "cell_type": "markdown",
   "id": "71031c07",
   "metadata": {},
   "source": [
    "## TOA5_3989.flux.dat"
   ]
  },
  {
   "cell_type": "code",
   "execution_count": 2,
   "id": "0e22c582",
   "metadata": {
    "vscode": {
     "languageId": "r"
    }
   },
   "outputs": [
    {
     "data": {
      "text/html": [
       "<style>\n",
       ".list-inline {list-style: none; margin:0; padding: 0}\n",
       ".list-inline>li {display: inline-block}\n",
       ".list-inline>li:not(:last-child)::after {content: \"\\00b7\"; padding: 0 .5ex}\n",
       "</style>\n",
       "<ol class=list-inline><li>'\"TOA5\",\"3989\",\"CR1000\",\"3989\",\"CR1000.Std.08\",\"CPU:kerry.co2.2.0.cr1\",\"33162\",\"flux\"'</li><li>'\"TIMESTAMP\",\"RECORD\",\"Fc_wpl\",\"LE_wpl\",\"Hs\",\"Hc\",\"tau\",\"u_star\",\"stdev_Ts\",\"cov_Ts_Ux\",\"cov_Ts_Uy\",\"cov_Ts_Uz\",\"stdev_Ux\",\"cov_Ux_Uy\",\"cov_Ux_Uz\",\"stdev_Uy\",\"cov_Uy_Uz\",\"stdev_Uz\",\"stdev_co2\",\"cov_co2_Ux\",\"cov_co2_Uy\",\"cov_co2_Uz\",\"stdev_h2o\",\"cov_h2o_Ux\",\"cov_h2o_Uy\",\"cov_h2o_Uz\",\"Ts_mean\",\"Ux_Avg\",\"Uy_Avg\",\"Uz_Avg\",\"co2_mean\",\"h2o_Avg\",\"rho_a_mean\",\"press_mean\",\"panel_temp_Avg\",\"wind_dir\",\"rslt_wnd_spd\",\"std_wnd_dir\",\"batt_volt_Avg\",\"irga_warnings\",\"chopper_f_Tot\",\"detector_f_Tot\",\"pll_f_Tot\",\"sync_f_Tot\",\"agc_Avg\",\"Fc_irga\",\"LE_irga\",\"co2_wpl_LE\",\"co2_wpl_H\",\"h2o_wpl_LE\",\"h2o_wpl_H\",\"h2o_hmp_mean\",\"t_hmp_mean\",\"rh_hmp_mean\"'</li><li>'\"TS\",\"RN\",\"mg/(m^2 s)\",\"W/m^2\",\"W/m^2\",\"W/m^2\",\"kg/(m s^2)\",\"m/s\",\"C\",\"m C/s\",\"m C/s\",\"m C/s\",\"m/s\",\"(m/s)^2\",\"(m/s)^2\",\"m/s\",\"(m/s)^2\",\"m/s\",\"mg/m^3\",\"mg/(m^2 s)\",\"mg/(m^2 s)\",\"mg/(m^2 s)\",\"g/m^3\",\"g/(m^2 s)\",\"g/(m^2 s)\",\"g/(m^2 s)\",\"C\",\"m/s\",\"m/s\",\"m/s\",\"mg/m^3\",\"g/m^3\",\"kg/m^3\",\"kPa\",\"C\",\"degrees\",\"m/s\",\"degrees\",\"V\",\"samples\",\"samples\",\"samples\",\"samples\",\"samples\",\"unitless\",\"mg/(m^2 s)\",\"W/m^2\",\"mg/(m^2 s)\",\"mg/(m^2 s)\",\"W/m^2\",\"W/m^2\",\"g/m^3\",\"C\",\"percent\"'</li><li>'\"\",\"\",\"Smp\",\"Smp\",\"Smp\",\"Smp\",\"Smp\",\"Smp\",\"Smp\",\"Smp\",\"Smp\",\"Smp\",\"Smp\",\"Smp\",\"Smp\",\"Smp\",\"Smp\",\"Smp\",\"Smp\",\"Smp\",\"Smp\",\"Smp\",\"Smp\",\"Smp\",\"Smp\",\"Smp\",\"Smp\",\"Avg\",\"Avg\",\"Avg\",\"Smp\",\"Avg\",\"Smp\",\"Smp\",\"Avg\",\"Smp\",\"Smp\",\"Smp\",\"Avg\",\"Tot\",\"Tot\",\"Tot\",\"Tot\",\"Tot\",\"Avg\",\"Smp\",\"Smp\",\"Smp\",\"Smp\",\"Smp\",\"Smp\",\"Smp\",\"Smp\",\"Smp\"'</li><li>'\"2014-11-19 12:30:00\",29287,-0.02738776,41.11178,27.61276,24.76925,0.2095944,0.4146389,0.3397227,-0.01496416,-0.1669969,0.02254482,1.129708,0.01969266,0.0398798,1.215521,-0.1672362,0.4648904,1.421534,-0.08834183,0.5933571,-0.08351655,0.1443758,0.04946187,-0.07262927,0.01604872,15.86149,-1.070578,4.829395,-0.0512819,602.3029,8.133391,1.219101,99.81187,11.62588,102.4991,4.946632,12.74537,12.35718,0,0,0,0,0,56,-0.08351655,39.15887,0.01285764,0.04327115,0.410987,1.541922,7.890273,11.29643,77.49195'</li><li>'\"2014-11-19 13:00:00\",29288,-0.03498442,46.15891,28.56569,25.41201,0.1617521,0.3645584,0.255728,0.008030742,-0.09918141,0.02336177,1.19633,-0.05240786,0.05489367,1.175235,-0.1210366,0.4286742,1.054063,-0.09726954,0.5639542,-0.09378111,0.1674606,0.04367864,-0.09218977,0.01806351,16.32451,-1.174527,4.034345,-0.03606286,601.3304,8.199872,1.21707,99.831,12.30342,106.232,4.201839,15.2234,12.04245,0,0,0,0,0,56,-0.09378111,44.07496,0.01447388,0.04432281,0.4691145,1.614831,7.987618,11.80993,75.96396'</li><li>'\"2014-11-19 13:30:00\",29289,0.1808234,-6.167122,-24.50253,-23.7634,0.1895548,0.3944006,0.8363222,-1.465492,0.3509563,-0.02001372,2.243977,-0.4614682,0.04906218,1.239739,-0.1476119,0.4406865,12.5852,14.28135,-1.820175,0.2240997,0.5437512,-0.7098227,0.1237881,-0.001944606,16.03572,0.1715313,3.838373,-0.03403701,605.4674,8.077815,1.218596,99.87163,12.67262,87.44122,3.842193,29.77846,12.06097,0,0,0,0,0,56,0.2240997,-4.744839,-0.00156682,-0.04170947,-0.04999511,-1.372288,7.917885,11.58026,76.34363'</li></ol>\n"
      ],
      "text/latex": [
       "\\begin{enumerate*}\n",
       "\\item '\"TOA5\",\"3989\",\"CR1000\",\"3989\",\"CR1000.Std.08\",\"CPU:kerry.co2.2.0.cr1\",\"33162\",\"flux\"'\n",
       "\\item '\"TIMESTAMP\",\"RECORD\",\"Fc\\_wpl\",\"LE\\_wpl\",\"Hs\",\"Hc\",\"tau\",\"u\\_star\",\"stdev\\_Ts\",\"cov\\_Ts\\_Ux\",\"cov\\_Ts\\_Uy\",\"cov\\_Ts\\_Uz\",\"stdev\\_Ux\",\"cov\\_Ux\\_Uy\",\"cov\\_Ux\\_Uz\",\"stdev\\_Uy\",\"cov\\_Uy\\_Uz\",\"stdev\\_Uz\",\"stdev\\_co2\",\"cov\\_co2\\_Ux\",\"cov\\_co2\\_Uy\",\"cov\\_co2\\_Uz\",\"stdev\\_h2o\",\"cov\\_h2o\\_Ux\",\"cov\\_h2o\\_Uy\",\"cov\\_h2o\\_Uz\",\"Ts\\_mean\",\"Ux\\_Avg\",\"Uy\\_Avg\",\"Uz\\_Avg\",\"co2\\_mean\",\"h2o\\_Avg\",\"rho\\_a\\_mean\",\"press\\_mean\",\"panel\\_temp\\_Avg\",\"wind\\_dir\",\"rslt\\_wnd\\_spd\",\"std\\_wnd\\_dir\",\"batt\\_volt\\_Avg\",\"irga\\_warnings\",\"chopper\\_f\\_Tot\",\"detector\\_f\\_Tot\",\"pll\\_f\\_Tot\",\"sync\\_f\\_Tot\",\"agc\\_Avg\",\"Fc\\_irga\",\"LE\\_irga\",\"co2\\_wpl\\_LE\",\"co2\\_wpl\\_H\",\"h2o\\_wpl\\_LE\",\"h2o\\_wpl\\_H\",\"h2o\\_hmp\\_mean\",\"t\\_hmp\\_mean\",\"rh\\_hmp\\_mean\"'\n",
       "\\item '\"TS\",\"RN\",\"mg/(m\\textasciicircum{}2 s)\",\"W/m\\textasciicircum{}2\",\"W/m\\textasciicircum{}2\",\"W/m\\textasciicircum{}2\",\"kg/(m s\\textasciicircum{}2)\",\"m/s\",\"C\",\"m C/s\",\"m C/s\",\"m C/s\",\"m/s\",\"(m/s)\\textasciicircum{}2\",\"(m/s)\\textasciicircum{}2\",\"m/s\",\"(m/s)\\textasciicircum{}2\",\"m/s\",\"mg/m\\textasciicircum{}3\",\"mg/(m\\textasciicircum{}2 s)\",\"mg/(m\\textasciicircum{}2 s)\",\"mg/(m\\textasciicircum{}2 s)\",\"g/m\\textasciicircum{}3\",\"g/(m\\textasciicircum{}2 s)\",\"g/(m\\textasciicircum{}2 s)\",\"g/(m\\textasciicircum{}2 s)\",\"C\",\"m/s\",\"m/s\",\"m/s\",\"mg/m\\textasciicircum{}3\",\"g/m\\textasciicircum{}3\",\"kg/m\\textasciicircum{}3\",\"kPa\",\"C\",\"degrees\",\"m/s\",\"degrees\",\"V\",\"samples\",\"samples\",\"samples\",\"samples\",\"samples\",\"unitless\",\"mg/(m\\textasciicircum{}2 s)\",\"W/m\\textasciicircum{}2\",\"mg/(m\\textasciicircum{}2 s)\",\"mg/(m\\textasciicircum{}2 s)\",\"W/m\\textasciicircum{}2\",\"W/m\\textasciicircum{}2\",\"g/m\\textasciicircum{}3\",\"C\",\"percent\"'\n",
       "\\item '\"\",\"\",\"Smp\",\"Smp\",\"Smp\",\"Smp\",\"Smp\",\"Smp\",\"Smp\",\"Smp\",\"Smp\",\"Smp\",\"Smp\",\"Smp\",\"Smp\",\"Smp\",\"Smp\",\"Smp\",\"Smp\",\"Smp\",\"Smp\",\"Smp\",\"Smp\",\"Smp\",\"Smp\",\"Smp\",\"Smp\",\"Avg\",\"Avg\",\"Avg\",\"Smp\",\"Avg\",\"Smp\",\"Smp\",\"Avg\",\"Smp\",\"Smp\",\"Smp\",\"Avg\",\"Tot\",\"Tot\",\"Tot\",\"Tot\",\"Tot\",\"Avg\",\"Smp\",\"Smp\",\"Smp\",\"Smp\",\"Smp\",\"Smp\",\"Smp\",\"Smp\",\"Smp\"'\n",
       "\\item '\"2014-11-19 12:30:00\",29287,-0.02738776,41.11178,27.61276,24.76925,0.2095944,0.4146389,0.3397227,-0.01496416,-0.1669969,0.02254482,1.129708,0.01969266,0.0398798,1.215521,-0.1672362,0.4648904,1.421534,-0.08834183,0.5933571,-0.08351655,0.1443758,0.04946187,-0.07262927,0.01604872,15.86149,-1.070578,4.829395,-0.0512819,602.3029,8.133391,1.219101,99.81187,11.62588,102.4991,4.946632,12.74537,12.35718,0,0,0,0,0,56,-0.08351655,39.15887,0.01285764,0.04327115,0.410987,1.541922,7.890273,11.29643,77.49195'\n",
       "\\item '\"2014-11-19 13:00:00\",29288,-0.03498442,46.15891,28.56569,25.41201,0.1617521,0.3645584,0.255728,0.008030742,-0.09918141,0.02336177,1.19633,-0.05240786,0.05489367,1.175235,-0.1210366,0.4286742,1.054063,-0.09726954,0.5639542,-0.09378111,0.1674606,0.04367864,-0.09218977,0.01806351,16.32451,-1.174527,4.034345,-0.03606286,601.3304,8.199872,1.21707,99.831,12.30342,106.232,4.201839,15.2234,12.04245,0,0,0,0,0,56,-0.09378111,44.07496,0.01447388,0.04432281,0.4691145,1.614831,7.987618,11.80993,75.96396'\n",
       "\\item '\"2014-11-19 13:30:00\",29289,0.1808234,-6.167122,-24.50253,-23.7634,0.1895548,0.3944006,0.8363222,-1.465492,0.3509563,-0.02001372,2.243977,-0.4614682,0.04906218,1.239739,-0.1476119,0.4406865,12.5852,14.28135,-1.820175,0.2240997,0.5437512,-0.7098227,0.1237881,-0.001944606,16.03572,0.1715313,3.838373,-0.03403701,605.4674,8.077815,1.218596,99.87163,12.67262,87.44122,3.842193,29.77846,12.06097,0,0,0,0,0,56,0.2240997,-4.744839,-0.00156682,-0.04170947,-0.04999511,-1.372288,7.917885,11.58026,76.34363'\n",
       "\\end{enumerate*}\n"
      ],
      "text/markdown": [
       "1. '\"TOA5\",\"3989\",\"CR1000\",\"3989\",\"CR1000.Std.08\",\"CPU:kerry.co2.2.0.cr1\",\"33162\",\"flux\"'\n",
       "2. '\"TIMESTAMP\",\"RECORD\",\"Fc_wpl\",\"LE_wpl\",\"Hs\",\"Hc\",\"tau\",\"u_star\",\"stdev_Ts\",\"cov_Ts_Ux\",\"cov_Ts_Uy\",\"cov_Ts_Uz\",\"stdev_Ux\",\"cov_Ux_Uy\",\"cov_Ux_Uz\",\"stdev_Uy\",\"cov_Uy_Uz\",\"stdev_Uz\",\"stdev_co2\",\"cov_co2_Ux\",\"cov_co2_Uy\",\"cov_co2_Uz\",\"stdev_h2o\",\"cov_h2o_Ux\",\"cov_h2o_Uy\",\"cov_h2o_Uz\",\"Ts_mean\",\"Ux_Avg\",\"Uy_Avg\",\"Uz_Avg\",\"co2_mean\",\"h2o_Avg\",\"rho_a_mean\",\"press_mean\",\"panel_temp_Avg\",\"wind_dir\",\"rslt_wnd_spd\",\"std_wnd_dir\",\"batt_volt_Avg\",\"irga_warnings\",\"chopper_f_Tot\",\"detector_f_Tot\",\"pll_f_Tot\",\"sync_f_Tot\",\"agc_Avg\",\"Fc_irga\",\"LE_irga\",\"co2_wpl_LE\",\"co2_wpl_H\",\"h2o_wpl_LE\",\"h2o_wpl_H\",\"h2o_hmp_mean\",\"t_hmp_mean\",\"rh_hmp_mean\"'\n",
       "3. '\"TS\",\"RN\",\"mg/(m^2 s)\",\"W/m^2\",\"W/m^2\",\"W/m^2\",\"kg/(m s^2)\",\"m/s\",\"C\",\"m C/s\",\"m C/s\",\"m C/s\",\"m/s\",\"(m/s)^2\",\"(m/s)^2\",\"m/s\",\"(m/s)^2\",\"m/s\",\"mg/m^3\",\"mg/(m^2 s)\",\"mg/(m^2 s)\",\"mg/(m^2 s)\",\"g/m^3\",\"g/(m^2 s)\",\"g/(m^2 s)\",\"g/(m^2 s)\",\"C\",\"m/s\",\"m/s\",\"m/s\",\"mg/m^3\",\"g/m^3\",\"kg/m^3\",\"kPa\",\"C\",\"degrees\",\"m/s\",\"degrees\",\"V\",\"samples\",\"samples\",\"samples\",\"samples\",\"samples\",\"unitless\",\"mg/(m^2 s)\",\"W/m^2\",\"mg/(m^2 s)\",\"mg/(m^2 s)\",\"W/m^2\",\"W/m^2\",\"g/m^3\",\"C\",\"percent\"'\n",
       "4. '\"\",\"\",\"Smp\",\"Smp\",\"Smp\",\"Smp\",\"Smp\",\"Smp\",\"Smp\",\"Smp\",\"Smp\",\"Smp\",\"Smp\",\"Smp\",\"Smp\",\"Smp\",\"Smp\",\"Smp\",\"Smp\",\"Smp\",\"Smp\",\"Smp\",\"Smp\",\"Smp\",\"Smp\",\"Smp\",\"Smp\",\"Avg\",\"Avg\",\"Avg\",\"Smp\",\"Avg\",\"Smp\",\"Smp\",\"Avg\",\"Smp\",\"Smp\",\"Smp\",\"Avg\",\"Tot\",\"Tot\",\"Tot\",\"Tot\",\"Tot\",\"Avg\",\"Smp\",\"Smp\",\"Smp\",\"Smp\",\"Smp\",\"Smp\",\"Smp\",\"Smp\",\"Smp\"'\n",
       "5. '\"2014-11-19 12:30:00\",29287,-0.02738776,41.11178,27.61276,24.76925,0.2095944,0.4146389,0.3397227,-0.01496416,-0.1669969,0.02254482,1.129708,0.01969266,0.0398798,1.215521,-0.1672362,0.4648904,1.421534,-0.08834183,0.5933571,-0.08351655,0.1443758,0.04946187,-0.07262927,0.01604872,15.86149,-1.070578,4.829395,-0.0512819,602.3029,8.133391,1.219101,99.81187,11.62588,102.4991,4.946632,12.74537,12.35718,0,0,0,0,0,56,-0.08351655,39.15887,0.01285764,0.04327115,0.410987,1.541922,7.890273,11.29643,77.49195'\n",
       "6. '\"2014-11-19 13:00:00\",29288,-0.03498442,46.15891,28.56569,25.41201,0.1617521,0.3645584,0.255728,0.008030742,-0.09918141,0.02336177,1.19633,-0.05240786,0.05489367,1.175235,-0.1210366,0.4286742,1.054063,-0.09726954,0.5639542,-0.09378111,0.1674606,0.04367864,-0.09218977,0.01806351,16.32451,-1.174527,4.034345,-0.03606286,601.3304,8.199872,1.21707,99.831,12.30342,106.232,4.201839,15.2234,12.04245,0,0,0,0,0,56,-0.09378111,44.07496,0.01447388,0.04432281,0.4691145,1.614831,7.987618,11.80993,75.96396'\n",
       "7. '\"2014-11-19 13:30:00\",29289,0.1808234,-6.167122,-24.50253,-23.7634,0.1895548,0.3944006,0.8363222,-1.465492,0.3509563,-0.02001372,2.243977,-0.4614682,0.04906218,1.239739,-0.1476119,0.4406865,12.5852,14.28135,-1.820175,0.2240997,0.5437512,-0.7098227,0.1237881,-0.001944606,16.03572,0.1715313,3.838373,-0.03403701,605.4674,8.077815,1.218596,99.87163,12.67262,87.44122,3.842193,29.77846,12.06097,0,0,0,0,0,56,0.2240997,-4.744839,-0.00156682,-0.04170947,-0.04999511,-1.372288,7.917885,11.58026,76.34363'\n",
       "\n",
       "\n"
      ],
      "text/plain": [
       "[1] \"\\\"TOA5\\\",\\\"3989\\\",\\\"CR1000\\\",\\\"3989\\\",\\\"CR1000.Std.08\\\",\\\"CPU:kerry.co2.2.0.cr1\\\",\\\"33162\\\",\\\"flux\\\"\"                                                                                                                                                                                                                                                                                                                                                                                                                                                                                                                                                                                                                                                                  \n",
       "[2] \"\\\"TIMESTAMP\\\",\\\"RECORD\\\",\\\"Fc_wpl\\\",\\\"LE_wpl\\\",\\\"Hs\\\",\\\"Hc\\\",\\\"tau\\\",\\\"u_star\\\",\\\"stdev_Ts\\\",\\\"cov_Ts_Ux\\\",\\\"cov_Ts_Uy\\\",\\\"cov_Ts_Uz\\\",\\\"stdev_Ux\\\",\\\"cov_Ux_Uy\\\",\\\"cov_Ux_Uz\\\",\\\"stdev_Uy\\\",\\\"cov_Uy_Uz\\\",\\\"stdev_Uz\\\",\\\"stdev_co2\\\",\\\"cov_co2_Ux\\\",\\\"cov_co2_Uy\\\",\\\"cov_co2_Uz\\\",\\\"stdev_h2o\\\",\\\"cov_h2o_Ux\\\",\\\"cov_h2o_Uy\\\",\\\"cov_h2o_Uz\\\",\\\"Ts_mean\\\",\\\"Ux_Avg\\\",\\\"Uy_Avg\\\",\\\"Uz_Avg\\\",\\\"co2_mean\\\",\\\"h2o_Avg\\\",\\\"rho_a_mean\\\",\\\"press_mean\\\",\\\"panel_temp_Avg\\\",\\\"wind_dir\\\",\\\"rslt_wnd_spd\\\",\\\"std_wnd_dir\\\",\\\"batt_volt_Avg\\\",\\\"irga_warnings\\\",\\\"chopper_f_Tot\\\",\\\"detector_f_Tot\\\",\\\"pll_f_Tot\\\",\\\"sync_f_Tot\\\",\\\"agc_Avg\\\",\\\"Fc_irga\\\",\\\"LE_irga\\\",\\\"co2_wpl_LE\\\",\\\"co2_wpl_H\\\",\\\"h2o_wpl_LE\\\",\\\"h2o_wpl_H\\\",\\\"h2o_hmp_mean\\\",\\\"t_hmp_mean\\\",\\\"rh_hmp_mean\\\"\"\n",
       "[3] \"\\\"TS\\\",\\\"RN\\\",\\\"mg/(m^2 s)\\\",\\\"W/m^2\\\",\\\"W/m^2\\\",\\\"W/m^2\\\",\\\"kg/(m s^2)\\\",\\\"m/s\\\",\\\"C\\\",\\\"m C/s\\\",\\\"m C/s\\\",\\\"m C/s\\\",\\\"m/s\\\",\\\"(m/s)^2\\\",\\\"(m/s)^2\\\",\\\"m/s\\\",\\\"(m/s)^2\\\",\\\"m/s\\\",\\\"mg/m^3\\\",\\\"mg/(m^2 s)\\\",\\\"mg/(m^2 s)\\\",\\\"mg/(m^2 s)\\\",\\\"g/m^3\\\",\\\"g/(m^2 s)\\\",\\\"g/(m^2 s)\\\",\\\"g/(m^2 s)\\\",\\\"C\\\",\\\"m/s\\\",\\\"m/s\\\",\\\"m/s\\\",\\\"mg/m^3\\\",\\\"g/m^3\\\",\\\"kg/m^3\\\",\\\"kPa\\\",\\\"C\\\",\\\"degrees\\\",\\\"m/s\\\",\\\"degrees\\\",\\\"V\\\",\\\"samples\\\",\\\"samples\\\",\\\"samples\\\",\\\"samples\\\",\\\"samples\\\",\\\"unitless\\\",\\\"mg/(m^2 s)\\\",\\\"W/m^2\\\",\\\"mg/(m^2 s)\\\",\\\"mg/(m^2 s)\\\",\\\"W/m^2\\\",\\\"W/m^2\\\",\\\"g/m^3\\\",\\\"C\\\",\\\"percent\\\"\"                                                                                                                                                                       \n",
       "[4] \"\\\"\\\",\\\"\\\",\\\"Smp\\\",\\\"Smp\\\",\\\"Smp\\\",\\\"Smp\\\",\\\"Smp\\\",\\\"Smp\\\",\\\"Smp\\\",\\\"Smp\\\",\\\"Smp\\\",\\\"Smp\\\",\\\"Smp\\\",\\\"Smp\\\",\\\"Smp\\\",\\\"Smp\\\",\\\"Smp\\\",\\\"Smp\\\",\\\"Smp\\\",\\\"Smp\\\",\\\"Smp\\\",\\\"Smp\\\",\\\"Smp\\\",\\\"Smp\\\",\\\"Smp\\\",\\\"Smp\\\",\\\"Smp\\\",\\\"Avg\\\",\\\"Avg\\\",\\\"Avg\\\",\\\"Smp\\\",\\\"Avg\\\",\\\"Smp\\\",\\\"Smp\\\",\\\"Avg\\\",\\\"Smp\\\",\\\"Smp\\\",\\\"Smp\\\",\\\"Avg\\\",\\\"Tot\\\",\\\"Tot\\\",\\\"Tot\\\",\\\"Tot\\\",\\\"Tot\\\",\\\"Avg\\\",\\\"Smp\\\",\\\"Smp\\\",\\\"Smp\\\",\\\"Smp\\\",\\\"Smp\\\",\\\"Smp\\\",\\\"Smp\\\",\\\"Smp\\\",\\\"Smp\\\"\"                                                                                                                                                                                                                                                                                                                             \n",
       "[5] \"\\\"2014-11-19 12:30:00\\\",29287,-0.02738776,41.11178,27.61276,24.76925,0.2095944,0.4146389,0.3397227,-0.01496416,-0.1669969,0.02254482,1.129708,0.01969266,0.0398798,1.215521,-0.1672362,0.4648904,1.421534,-0.08834183,0.5933571,-0.08351655,0.1443758,0.04946187,-0.07262927,0.01604872,15.86149,-1.070578,4.829395,-0.0512819,602.3029,8.133391,1.219101,99.81187,11.62588,102.4991,4.946632,12.74537,12.35718,0,0,0,0,0,56,-0.08351655,39.15887,0.01285764,0.04327115,0.410987,1.541922,7.890273,11.29643,77.49195\"                                                                                                                                                                                                                                                  \n",
       "[6] \"\\\"2014-11-19 13:00:00\\\",29288,-0.03498442,46.15891,28.56569,25.41201,0.1617521,0.3645584,0.255728,0.008030742,-0.09918141,0.02336177,1.19633,-0.05240786,0.05489367,1.175235,-0.1210366,0.4286742,1.054063,-0.09726954,0.5639542,-0.09378111,0.1674606,0.04367864,-0.09218977,0.01806351,16.32451,-1.174527,4.034345,-0.03606286,601.3304,8.199872,1.21707,99.831,12.30342,106.232,4.201839,15.2234,12.04245,0,0,0,0,0,56,-0.09378111,44.07496,0.01447388,0.04432281,0.4691145,1.614831,7.987618,11.80993,75.96396\"                                                                                                                                                                                                                                                    \n",
       "[7] \"\\\"2014-11-19 13:30:00\\\",29289,0.1808234,-6.167122,-24.50253,-23.7634,0.1895548,0.3944006,0.8363222,-1.465492,0.3509563,-0.02001372,2.243977,-0.4614682,0.04906218,1.239739,-0.1476119,0.4406865,12.5852,14.28135,-1.820175,0.2240997,0.5437512,-0.7098227,0.1237881,-0.001944606,16.03572,0.1715313,3.838373,-0.03403701,605.4674,8.077815,1.218596,99.87163,12.67262,87.44122,3.842193,29.77846,12.06097,0,0,0,0,0,56,0.2240997,-4.744839,-0.00156682,-0.04170947,-0.04999511,-1.372288,7.917885,11.58026,76.34363\"                                                                                                                                                                                                                                                   "
      ]
     },
     "metadata": {},
     "output_type": "display_data"
    }
   ],
   "source": [
    "readLines(\"data/TOA5/TOA5_3989.flux.dat\", n = 7)"
   ]
  },
  {
   "cell_type": "code",
   "execution_count": 2,
   "id": "232bd55b",
   "metadata": {
    "vscode": {
     "languageId": "r"
    }
   },
   "outputs": [],
   "source": [
    "data <- read.csv(\"data/TOA5/TOA5_3989.flux.dat\", skip = 4, header = FALSE)"
   ]
  },
  {
   "cell_type": "code",
   "execution_count": 3,
   "id": "0550f8ef",
   "metadata": {
    "vscode": {
     "languageId": "r"
    }
   },
   "outputs": [],
   "source": [
    "headers <- read.csv(\n",
    "  \"data/TOA5/TOA5_3989.flux.dat\", skip = 1, header = FALSE, nrows = 3\n",
    ")"
   ]
  },
  {
   "cell_type": "code",
   "execution_count": 5,
   "id": "601e8988",
   "metadata": {
    "vscode": {
     "languageId": "r"
    }
   },
   "outputs": [
    {
     "data": {
      "text/html": [
       "<table class=\"dataframe\">\n",
       "<caption>A data.frame: 3 × 54</caption>\n",
       "<thead>\n",
       "\t<tr><th scope=col>V1</th><th scope=col>V2</th><th scope=col>V3</th><th scope=col>V4</th><th scope=col>V5</th><th scope=col>V6</th><th scope=col>V7</th><th scope=col>V8</th><th scope=col>V9</th><th scope=col>V10</th><th scope=col>⋯</th><th scope=col>V45</th><th scope=col>V46</th><th scope=col>V47</th><th scope=col>V48</th><th scope=col>V49</th><th scope=col>V50</th><th scope=col>V51</th><th scope=col>V52</th><th scope=col>V53</th><th scope=col>V54</th></tr>\n",
       "\t<tr><th scope=col>&lt;chr&gt;</th><th scope=col>&lt;chr&gt;</th><th scope=col>&lt;chr&gt;</th><th scope=col>&lt;chr&gt;</th><th scope=col>&lt;chr&gt;</th><th scope=col>&lt;chr&gt;</th><th scope=col>&lt;chr&gt;</th><th scope=col>&lt;chr&gt;</th><th scope=col>&lt;chr&gt;</th><th scope=col>&lt;chr&gt;</th><th scope=col>⋯</th><th scope=col>&lt;chr&gt;</th><th scope=col>&lt;chr&gt;</th><th scope=col>&lt;chr&gt;</th><th scope=col>&lt;chr&gt;</th><th scope=col>&lt;chr&gt;</th><th scope=col>&lt;chr&gt;</th><th scope=col>&lt;chr&gt;</th><th scope=col>&lt;chr&gt;</th><th scope=col>&lt;chr&gt;</th><th scope=col>&lt;chr&gt;</th></tr>\n",
       "</thead>\n",
       "<tbody>\n",
       "\t<tr><td>TIMESTAMP</td><td>RECORD</td><td>Fc_wpl    </td><td>LE_wpl</td><td>Hs   </td><td>Hc   </td><td>tau       </td><td>u_star</td><td>stdev_Ts</td><td>cov_Ts_Ux</td><td>⋯</td><td>agc_Avg </td><td>Fc_irga   </td><td>LE_irga</td><td>co2_wpl_LE</td><td>co2_wpl_H </td><td>h2o_wpl_LE</td><td>h2o_wpl_H</td><td>h2o_hmp_mean</td><td>t_hmp_mean</td><td>rh_hmp_mean</td></tr>\n",
       "\t<tr><td>TS       </td><td>RN    </td><td>mg/(m^2 s)</td><td>W/m^2 </td><td>W/m^2</td><td>W/m^2</td><td>kg/(m s^2)</td><td>m/s   </td><td>C       </td><td>m C/s    </td><td>⋯</td><td>unitless</td><td>mg/(m^2 s)</td><td>W/m^2  </td><td>mg/(m^2 s)</td><td>mg/(m^2 s)</td><td>W/m^2     </td><td>W/m^2    </td><td>g/m^3       </td><td>C         </td><td>percent    </td></tr>\n",
       "\t<tr><td>         </td><td>      </td><td>Smp       </td><td>Smp   </td><td>Smp  </td><td>Smp  </td><td>Smp       </td><td>Smp   </td><td>Smp     </td><td>Smp      </td><td>⋯</td><td>Avg     </td><td>Smp       </td><td>Smp    </td><td>Smp       </td><td>Smp       </td><td>Smp       </td><td>Smp      </td><td>Smp         </td><td>Smp       </td><td>Smp        </td></tr>\n",
       "</tbody>\n",
       "</table>\n"
      ],
      "text/latex": [
       "A data.frame: 3 × 54\n",
       "\\begin{tabular}{lllllllllllllllllllll}\n",
       " V1 & V2 & V3 & V4 & V5 & V6 & V7 & V8 & V9 & V10 & ⋯ & V45 & V46 & V47 & V48 & V49 & V50 & V51 & V52 & V53 & V54\\\\\n",
       " <chr> & <chr> & <chr> & <chr> & <chr> & <chr> & <chr> & <chr> & <chr> & <chr> & ⋯ & <chr> & <chr> & <chr> & <chr> & <chr> & <chr> & <chr> & <chr> & <chr> & <chr>\\\\\n",
       "\\hline\n",
       "\t TIMESTAMP & RECORD & Fc\\_wpl     & LE\\_wpl & Hs    & Hc    & tau        & u\\_star & stdev\\_Ts & cov\\_Ts\\_Ux & ⋯ & agc\\_Avg  & Fc\\_irga    & LE\\_irga & co2\\_wpl\\_LE & co2\\_wpl\\_H  & h2o\\_wpl\\_LE & h2o\\_wpl\\_H & h2o\\_hmp\\_mean & t\\_hmp\\_mean & rh\\_hmp\\_mean\\\\\n",
       "\t TS        & RN     & mg/(m\\textasciicircum{}2 s) & W/m\\textasciicircum{}2  & W/m\\textasciicircum{}2 & W/m\\textasciicircum{}2 & kg/(m s\\textasciicircum{}2) & m/s    & C        & m C/s     & ⋯ & unitless & mg/(m\\textasciicircum{}2 s) & W/m\\textasciicircum{}2   & mg/(m\\textasciicircum{}2 s) & mg/(m\\textasciicircum{}2 s) & W/m\\textasciicircum{}2      & W/m\\textasciicircum{}2     & g/m\\textasciicircum{}3        & C          & percent    \\\\\n",
       "\t           &        & Smp        & Smp    & Smp   & Smp   & Smp        & Smp    & Smp      & Smp       & ⋯ & Avg      & Smp        & Smp     & Smp        & Smp        & Smp        & Smp       & Smp          & Smp        & Smp        \\\\\n",
       "\\end{tabular}\n"
      ],
      "text/markdown": [
       "\n",
       "A data.frame: 3 × 54\n",
       "\n",
       "| V1 &lt;chr&gt; | V2 &lt;chr&gt; | V3 &lt;chr&gt; | V4 &lt;chr&gt; | V5 &lt;chr&gt; | V6 &lt;chr&gt; | V7 &lt;chr&gt; | V8 &lt;chr&gt; | V9 &lt;chr&gt; | V10 &lt;chr&gt; | ⋯ ⋯ | V45 &lt;chr&gt; | V46 &lt;chr&gt; | V47 &lt;chr&gt; | V48 &lt;chr&gt; | V49 &lt;chr&gt; | V50 &lt;chr&gt; | V51 &lt;chr&gt; | V52 &lt;chr&gt; | V53 &lt;chr&gt; | V54 &lt;chr&gt; |\n",
       "|---|---|---|---|---|---|---|---|---|---|---|---|---|---|---|---|---|---|---|---|---|\n",
       "| TIMESTAMP | RECORD | Fc_wpl     | LE_wpl | Hs    | Hc    | tau        | u_star | stdev_Ts | cov_Ts_Ux | ⋯ | agc_Avg  | Fc_irga    | LE_irga | co2_wpl_LE | co2_wpl_H  | h2o_wpl_LE | h2o_wpl_H | h2o_hmp_mean | t_hmp_mean | rh_hmp_mean |\n",
       "| TS        | RN     | mg/(m^2 s) | W/m^2  | W/m^2 | W/m^2 | kg/(m s^2) | m/s    | C        | m C/s     | ⋯ | unitless | mg/(m^2 s) | W/m^2   | mg/(m^2 s) | mg/(m^2 s) | W/m^2      | W/m^2     | g/m^3        | C          | percent     |\n",
       "| <!----> | <!----> | Smp        | Smp    | Smp   | Smp   | Smp        | Smp    | Smp      | Smp       | ⋯ | Avg      | Smp        | Smp     | Smp        | Smp        | Smp        | Smp       | Smp          | Smp        | Smp         |\n",
       "\n"
      ],
      "text/plain": [
       "  V1        V2     V3         V4     V5    V6    V7         V8     V9      \n",
       "1 TIMESTAMP RECORD Fc_wpl     LE_wpl Hs    Hc    tau        u_star stdev_Ts\n",
       "2 TS        RN     mg/(m^2 s) W/m^2  W/m^2 W/m^2 kg/(m s^2) m/s    C       \n",
       "3                  Smp        Smp    Smp   Smp   Smp        Smp    Smp     \n",
       "  V10       ⋯ V45      V46        V47     V48        V49        V50       \n",
       "1 cov_Ts_Ux ⋯ agc_Avg  Fc_irga    LE_irga co2_wpl_LE co2_wpl_H  h2o_wpl_LE\n",
       "2 m C/s     ⋯ unitless mg/(m^2 s) W/m^2   mg/(m^2 s) mg/(m^2 s) W/m^2     \n",
       "3 Smp       ⋯ Avg      Smp        Smp     Smp        Smp        Smp       \n",
       "  V51       V52          V53        V54        \n",
       "1 h2o_wpl_H h2o_hmp_mean t_hmp_mean rh_hmp_mean\n",
       "2 W/m^2     g/m^3        C          percent    \n",
       "3 Smp       Smp          Smp        Smp        "
      ]
     },
     "metadata": {},
     "output_type": "display_data"
    }
   ],
   "source": [
    "headers"
   ]
  },
  {
   "cell_type": "code",
   "execution_count": 6,
   "id": "60573ffb",
   "metadata": {
    "vscode": {
     "languageId": "r"
    }
   },
   "outputs": [],
   "source": [
    "write.table(\n",
    "  headers, \"data/CSV/TOA5_3989.flux.headers.csv\", row.names = FALSE,\n",
    "  col.names = FALSE, sep = \",\", quote = FALSE\n",
    ")"
   ]
  },
  {
   "cell_type": "code",
   "execution_count": 4,
   "id": "668a08fd",
   "metadata": {
    "vscode": {
     "languageId": "r"
    }
   },
   "outputs": [],
   "source": [
    "names(data) <- as.matrix(\n",
    "  read.csv(\"data/TOA5/TOA5_3989.flux.dat\", skip = 1, header = FALSE, nrows = 1)\n",
    ")"
   ]
  },
  {
   "cell_type": "code",
   "execution_count": 5,
   "id": "bd28272d",
   "metadata": {
    "vscode": {
     "languageId": "r"
    }
   },
   "outputs": [
    {
     "data": {
      "text/html": [
       "<table class=\"dataframe\">\n",
       "<caption>A data.frame: 6 × 54</caption>\n",
       "<thead>\n",
       "\t<tr><th></th><th scope=col>TIMESTAMP</th><th scope=col>RECORD</th><th scope=col>Fc_wpl</th><th scope=col>LE_wpl</th><th scope=col>Hs</th><th scope=col>Hc</th><th scope=col>tau</th><th scope=col>u_star</th><th scope=col>stdev_Ts</th><th scope=col>cov_Ts_Ux</th><th scope=col>⋯</th><th scope=col>agc_Avg</th><th scope=col>Fc_irga</th><th scope=col>LE_irga</th><th scope=col>co2_wpl_LE</th><th scope=col>co2_wpl_H</th><th scope=col>h2o_wpl_LE</th><th scope=col>h2o_wpl_H</th><th scope=col>h2o_hmp_mean</th><th scope=col>t_hmp_mean</th><th scope=col>rh_hmp_mean</th></tr>\n",
       "\t<tr><th></th><th scope=col>&lt;chr&gt;</th><th scope=col>&lt;int&gt;</th><th scope=col>&lt;dbl&gt;</th><th scope=col>&lt;dbl&gt;</th><th scope=col>&lt;dbl&gt;</th><th scope=col>&lt;dbl&gt;</th><th scope=col>&lt;dbl&gt;</th><th scope=col>&lt;dbl&gt;</th><th scope=col>&lt;dbl&gt;</th><th scope=col>&lt;dbl&gt;</th><th scope=col>⋯</th><th scope=col>&lt;dbl&gt;</th><th scope=col>&lt;dbl&gt;</th><th scope=col>&lt;dbl&gt;</th><th scope=col>&lt;dbl&gt;</th><th scope=col>&lt;dbl&gt;</th><th scope=col>&lt;dbl&gt;</th><th scope=col>&lt;dbl&gt;</th><th scope=col>&lt;dbl&gt;</th><th scope=col>&lt;dbl&gt;</th><th scope=col>&lt;dbl&gt;</th></tr>\n",
       "</thead>\n",
       "<tbody>\n",
       "\t<tr><th scope=row>1</th><td>2014-11-19 12:30:00</td><td>29287</td><td>-0.02738776</td><td> 41.111780</td><td> 27.612760</td><td> 24.769250</td><td>0.20959440</td><td>0.4146389</td><td>0.3397227</td><td>-0.014964160</td><td>⋯</td><td>56.00000</td><td>-0.083516550</td><td> 39.158870</td><td> 0.01285764</td><td> 0.04327115</td><td> 0.41098700</td><td> 1.5419220</td><td>7.890273</td><td>11.296430</td><td>77.49195</td></tr>\n",
       "\t<tr><th scope=row>2</th><td>2014-11-19 13:00:00</td><td>29288</td><td>-0.03498442</td><td> 46.158910</td><td> 28.565690</td><td> 25.412010</td><td>0.16175210</td><td>0.3645584</td><td>0.2557280</td><td> 0.008030742</td><td>⋯</td><td>56.00000</td><td>-0.093781110</td><td> 44.074960</td><td> 0.01447388</td><td> 0.04432281</td><td> 0.46911450</td><td> 1.6148310</td><td>7.987618</td><td>11.809930</td><td>75.96396</td></tr>\n",
       "\t<tr><th scope=row>3</th><td>2014-11-19 13:30:00</td><td>29289</td><td> 0.18082340</td><td> -6.167122</td><td>-24.502530</td><td>-23.763400</td><td>0.18955480</td><td>0.3944006</td><td>0.8363222</td><td>-1.465492000</td><td>⋯</td><td>56.00000</td><td> 0.224099700</td><td> -4.744839</td><td>-0.00156682</td><td>-0.04170947</td><td>-0.04999511</td><td>-1.3722880</td><td>7.917885</td><td>11.580260</td><td>76.34363</td></tr>\n",
       "\t<tr><th scope=row>4</th><td>2014-11-19 14:00:00</td><td>29290</td><td> 2.18144700</td><td>-36.546420</td><td> -8.166809</td><td> -5.908159</td><td>0.07494499</td><td>0.2468190</td><td>0.8353181</td><td>-0.894337100</td><td>⋯</td><td>59.64111</td><td> 2.224159000</td><td>-35.732150</td><td>-0.02265313</td><td>-0.02005932</td><td>-0.36612430</td><td>-0.4481432</td><td>7.774566</td><td> 9.416086</td><td>85.95309</td></tr>\n",
       "\t<tr><th scope=row>5</th><td>2014-11-19 14:30:00</td><td>29291</td><td>-0.07790546</td><td> 37.358010</td><td> -5.191130</td><td> -7.278997</td><td>0.03453151</td><td>0.1677954</td><td>0.3394781</td><td>-0.030340910</td><td>⋯</td><td>56.00000</td><td>-0.077377380</td><td> 37.254240</td><td> 0.01248777</td><td>-0.01301585</td><td> 0.40426460</td><td>-0.3004996</td><td>8.205495</td><td>10.590230</td><td>84.24697</td></tr>\n",
       "\t<tr><th scope=row>6</th><td>2014-11-19 15:00:00</td><td>29292</td><td>-0.01854837</td><td> 29.914260</td><td>-19.607910</td><td>-21.032380</td><td>0.08993658</td><td>0.2712201</td><td>0.2265035</td><td>-0.108646600</td><td>⋯</td><td>56.00000</td><td> 0.008064821</td><td> 30.713200</td><td> 0.01006716</td><td>-0.03668035</td><td> 0.33333760</td><td>-1.1322800</td><td>8.181075</td><td>11.328960</td><td>80.18222</td></tr>\n",
       "</tbody>\n",
       "</table>\n"
      ],
      "text/latex": [
       "A data.frame: 6 × 54\n",
       "\\begin{tabular}{r|lllllllllllllllllllll}\n",
       "  & TIMESTAMP & RECORD & Fc\\_wpl & LE\\_wpl & Hs & Hc & tau & u\\_star & stdev\\_Ts & cov\\_Ts\\_Ux & ⋯ & agc\\_Avg & Fc\\_irga & LE\\_irga & co2\\_wpl\\_LE & co2\\_wpl\\_H & h2o\\_wpl\\_LE & h2o\\_wpl\\_H & h2o\\_hmp\\_mean & t\\_hmp\\_mean & rh\\_hmp\\_mean\\\\\n",
       "  & <chr> & <int> & <dbl> & <dbl> & <dbl> & <dbl> & <dbl> & <dbl> & <dbl> & <dbl> & ⋯ & <dbl> & <dbl> & <dbl> & <dbl> & <dbl> & <dbl> & <dbl> & <dbl> & <dbl> & <dbl>\\\\\n",
       "\\hline\n",
       "\t1 & 2014-11-19 12:30:00 & 29287 & -0.02738776 &  41.111780 &  27.612760 &  24.769250 & 0.20959440 & 0.4146389 & 0.3397227 & -0.014964160 & ⋯ & 56.00000 & -0.083516550 &  39.158870 &  0.01285764 &  0.04327115 &  0.41098700 &  1.5419220 & 7.890273 & 11.296430 & 77.49195\\\\\n",
       "\t2 & 2014-11-19 13:00:00 & 29288 & -0.03498442 &  46.158910 &  28.565690 &  25.412010 & 0.16175210 & 0.3645584 & 0.2557280 &  0.008030742 & ⋯ & 56.00000 & -0.093781110 &  44.074960 &  0.01447388 &  0.04432281 &  0.46911450 &  1.6148310 & 7.987618 & 11.809930 & 75.96396\\\\\n",
       "\t3 & 2014-11-19 13:30:00 & 29289 &  0.18082340 &  -6.167122 & -24.502530 & -23.763400 & 0.18955480 & 0.3944006 & 0.8363222 & -1.465492000 & ⋯ & 56.00000 &  0.224099700 &  -4.744839 & -0.00156682 & -0.04170947 & -0.04999511 & -1.3722880 & 7.917885 & 11.580260 & 76.34363\\\\\n",
       "\t4 & 2014-11-19 14:00:00 & 29290 &  2.18144700 & -36.546420 &  -8.166809 &  -5.908159 & 0.07494499 & 0.2468190 & 0.8353181 & -0.894337100 & ⋯ & 59.64111 &  2.224159000 & -35.732150 & -0.02265313 & -0.02005932 & -0.36612430 & -0.4481432 & 7.774566 &  9.416086 & 85.95309\\\\\n",
       "\t5 & 2014-11-19 14:30:00 & 29291 & -0.07790546 &  37.358010 &  -5.191130 &  -7.278997 & 0.03453151 & 0.1677954 & 0.3394781 & -0.030340910 & ⋯ & 56.00000 & -0.077377380 &  37.254240 &  0.01248777 & -0.01301585 &  0.40426460 & -0.3004996 & 8.205495 & 10.590230 & 84.24697\\\\\n",
       "\t6 & 2014-11-19 15:00:00 & 29292 & -0.01854837 &  29.914260 & -19.607910 & -21.032380 & 0.08993658 & 0.2712201 & 0.2265035 & -0.108646600 & ⋯ & 56.00000 &  0.008064821 &  30.713200 &  0.01006716 & -0.03668035 &  0.33333760 & -1.1322800 & 8.181075 & 11.328960 & 80.18222\\\\\n",
       "\\end{tabular}\n"
      ],
      "text/markdown": [
       "\n",
       "A data.frame: 6 × 54\n",
       "\n",
       "| <!--/--> | TIMESTAMP &lt;chr&gt; | RECORD &lt;int&gt; | Fc_wpl &lt;dbl&gt; | LE_wpl &lt;dbl&gt; | Hs &lt;dbl&gt; | Hc &lt;dbl&gt; | tau &lt;dbl&gt; | u_star &lt;dbl&gt; | stdev_Ts &lt;dbl&gt; | cov_Ts_Ux &lt;dbl&gt; | ⋯ ⋯ | agc_Avg &lt;dbl&gt; | Fc_irga &lt;dbl&gt; | LE_irga &lt;dbl&gt; | co2_wpl_LE &lt;dbl&gt; | co2_wpl_H &lt;dbl&gt; | h2o_wpl_LE &lt;dbl&gt; | h2o_wpl_H &lt;dbl&gt; | h2o_hmp_mean &lt;dbl&gt; | t_hmp_mean &lt;dbl&gt; | rh_hmp_mean &lt;dbl&gt; |\n",
       "|---|---|---|---|---|---|---|---|---|---|---|---|---|---|---|---|---|---|---|---|---|---|\n",
       "| 1 | 2014-11-19 12:30:00 | 29287 | -0.02738776 |  41.111780 |  27.612760 |  24.769250 | 0.20959440 | 0.4146389 | 0.3397227 | -0.014964160 | ⋯ | 56.00000 | -0.083516550 |  39.158870 |  0.01285764 |  0.04327115 |  0.41098700 |  1.5419220 | 7.890273 | 11.296430 | 77.49195 |\n",
       "| 2 | 2014-11-19 13:00:00 | 29288 | -0.03498442 |  46.158910 |  28.565690 |  25.412010 | 0.16175210 | 0.3645584 | 0.2557280 |  0.008030742 | ⋯ | 56.00000 | -0.093781110 |  44.074960 |  0.01447388 |  0.04432281 |  0.46911450 |  1.6148310 | 7.987618 | 11.809930 | 75.96396 |\n",
       "| 3 | 2014-11-19 13:30:00 | 29289 |  0.18082340 |  -6.167122 | -24.502530 | -23.763400 | 0.18955480 | 0.3944006 | 0.8363222 | -1.465492000 | ⋯ | 56.00000 |  0.224099700 |  -4.744839 | -0.00156682 | -0.04170947 | -0.04999511 | -1.3722880 | 7.917885 | 11.580260 | 76.34363 |\n",
       "| 4 | 2014-11-19 14:00:00 | 29290 |  2.18144700 | -36.546420 |  -8.166809 |  -5.908159 | 0.07494499 | 0.2468190 | 0.8353181 | -0.894337100 | ⋯ | 59.64111 |  2.224159000 | -35.732150 | -0.02265313 | -0.02005932 | -0.36612430 | -0.4481432 | 7.774566 |  9.416086 | 85.95309 |\n",
       "| 5 | 2014-11-19 14:30:00 | 29291 | -0.07790546 |  37.358010 |  -5.191130 |  -7.278997 | 0.03453151 | 0.1677954 | 0.3394781 | -0.030340910 | ⋯ | 56.00000 | -0.077377380 |  37.254240 |  0.01248777 | -0.01301585 |  0.40426460 | -0.3004996 | 8.205495 | 10.590230 | 84.24697 |\n",
       "| 6 | 2014-11-19 15:00:00 | 29292 | -0.01854837 |  29.914260 | -19.607910 | -21.032380 | 0.08993658 | 0.2712201 | 0.2265035 | -0.108646600 | ⋯ | 56.00000 |  0.008064821 |  30.713200 |  0.01006716 | -0.03668035 |  0.33333760 | -1.1322800 | 8.181075 | 11.328960 | 80.18222 |\n",
       "\n"
      ],
      "text/plain": [
       "  TIMESTAMP           RECORD Fc_wpl      LE_wpl     Hs         Hc        \n",
       "1 2014-11-19 12:30:00 29287  -0.02738776  41.111780  27.612760  24.769250\n",
       "2 2014-11-19 13:00:00 29288  -0.03498442  46.158910  28.565690  25.412010\n",
       "3 2014-11-19 13:30:00 29289   0.18082340  -6.167122 -24.502530 -23.763400\n",
       "4 2014-11-19 14:00:00 29290   2.18144700 -36.546420  -8.166809  -5.908159\n",
       "5 2014-11-19 14:30:00 29291  -0.07790546  37.358010  -5.191130  -7.278997\n",
       "6 2014-11-19 15:00:00 29292  -0.01854837  29.914260 -19.607910 -21.032380\n",
       "  tau        u_star    stdev_Ts  cov_Ts_Ux    ⋯ agc_Avg  Fc_irga     \n",
       "1 0.20959440 0.4146389 0.3397227 -0.014964160 ⋯ 56.00000 -0.083516550\n",
       "2 0.16175210 0.3645584 0.2557280  0.008030742 ⋯ 56.00000 -0.093781110\n",
       "3 0.18955480 0.3944006 0.8363222 -1.465492000 ⋯ 56.00000  0.224099700\n",
       "4 0.07494499 0.2468190 0.8353181 -0.894337100 ⋯ 59.64111  2.224159000\n",
       "5 0.03453151 0.1677954 0.3394781 -0.030340910 ⋯ 56.00000 -0.077377380\n",
       "6 0.08993658 0.2712201 0.2265035 -0.108646600 ⋯ 56.00000  0.008064821\n",
       "  LE_irga    co2_wpl_LE  co2_wpl_H   h2o_wpl_LE  h2o_wpl_H  h2o_hmp_mean\n",
       "1  39.158870  0.01285764  0.04327115  0.41098700  1.5419220 7.890273    \n",
       "2  44.074960  0.01447388  0.04432281  0.46911450  1.6148310 7.987618    \n",
       "3  -4.744839 -0.00156682 -0.04170947 -0.04999511 -1.3722880 7.917885    \n",
       "4 -35.732150 -0.02265313 -0.02005932 -0.36612430 -0.4481432 7.774566    \n",
       "5  37.254240  0.01248777 -0.01301585  0.40426460 -0.3004996 8.205495    \n",
       "6  30.713200  0.01006716 -0.03668035  0.33333760 -1.1322800 8.181075    \n",
       "  t_hmp_mean rh_hmp_mean\n",
       "1 11.296430  77.49195   \n",
       "2 11.809930  75.96396   \n",
       "3 11.580260  76.34363   \n",
       "4  9.416086  85.95309   \n",
       "5 10.590230  84.24697   \n",
       "6 11.328960  80.18222   "
      ]
     },
     "metadata": {},
     "output_type": "display_data"
    }
   ],
   "source": [
    "head(data)"
   ]
  },
  {
   "cell_type": "code",
   "execution_count": 9,
   "id": "38a3cfea",
   "metadata": {
    "vscode": {
     "languageId": "r"
    }
   },
   "outputs": [
    {
     "data": {
      "text/html": [
       "315"
      ],
      "text/latex": [
       "315"
      ],
      "text/markdown": [
       "315"
      ],
      "text/plain": [
       "[1] 315"
      ]
     },
     "metadata": {},
     "output_type": "display_data"
    }
   ],
   "source": [
    "nrow(data)"
   ]
  },
  {
   "cell_type": "markdown",
   "id": "b0e9b849",
   "metadata": {},
   "source": [
    "## TOA5_3989.flux (2021_09_17 14_49_19 UTC) (2015).dat"
   ]
  },
  {
   "cell_type": "code",
   "execution_count": 10,
   "id": "3eba5e84",
   "metadata": {
    "vscode": {
     "languageId": "r"
    }
   },
   "outputs": [
    {
     "data": {
      "text/html": [
       "<style>\n",
       ".list-inline {list-style: none; margin:0; padding: 0}\n",
       ".list-inline>li {display: inline-block}\n",
       ".list-inline>li:not(:last-child)::after {content: \"\\00b7\"; padding: 0 .5ex}\n",
       "</style>\n",
       "<ol class=list-inline><li>'\"TOA5\",\"3989\",\"CR1000\",\"3989\",\"CR1000.Std.08\",\"CPU:kerry.co2.2.0.cr1\",\"33162\",\"flux\"'</li><li>'\"TIMESTAMP\",\"RECORD\",\"Fc_wpl\",\"LE_wpl\",\"Hs\",\"Hc\",\"tau\",\"u_star\",\"stdev_Ts\",\"cov_Ts_Ux\",\"cov_Ts_Uy\",\"cov_Ts_Uz\",\"stdev_Ux\",\"cov_Ux_Uy\",\"cov_Ux_Uz\",\"stdev_Uy\",\"cov_Uy_Uz\",\"stdev_Uz\",\"stdev_co2\",\"cov_co2_Ux\",\"cov_co2_Uy\",\"cov_co2_Uz\",\"stdev_h2o\",\"cov_h2o_Ux\",\"cov_h2o_Uy\",\"cov_h2o_Uz\",\"Ts_mean\",\"Ux_Avg\",\"Uy_Avg\",\"Uz_Avg\",\"co2_mean\",\"h2o_Avg\",\"rho_a_mean\",\"press_mean\",\"panel_temp_Avg\",\"wind_dir\",\"rslt_wnd_spd\",\"std_wnd_dir\",\"batt_volt_Avg\",\"irga_warnings\",\"chopper_f_Tot\",\"detector_f_Tot\",\"pll_f_Tot\",\"sync_f_Tot\",\"agc_Avg\",\"Fc_irga\",\"LE_irga\",\"co2_wpl_LE\",\"co2_wpl_H\",\"h2o_wpl_LE\",\"h2o_wpl_H\",\"h2o_hmp_mean\",\"t_hmp_mean\",\"rh_hmp_mean\"'</li><li>'\"TS\",\"RN\",\"mg/(m^2 s)\",\"W/m^2\",\"W/m^2\",\"W/m^2\",\"kg/(m s^2)\",\"m/s\",\"C\",\"m C/s\",\"m C/s\",\"m C/s\",\"m/s\",\"(m/s)^2\",\"(m/s)^2\",\"m/s\",\"(m/s)^2\",\"m/s\",\"mg/m^3\",\"mg/(m^2 s)\",\"mg/(m^2 s)\",\"mg/(m^2 s)\",\"g/m^3\",\"g/(m^2 s)\",\"g/(m^2 s)\",\"g/(m^2 s)\",\"C\",\"m/s\",\"m/s\",\"m/s\",\"mg/m^3\",\"g/m^3\",\"kg/m^3\",\"kPa\",\"C\",\"degrees\",\"m/s\",\"degrees\",\"V\",\"samples\",\"samples\",\"samples\",\"samples\",\"samples\",\"unitless\",\"mg/(m^2 s)\",\"W/m^2\",\"mg/(m^2 s)\",\"mg/(m^2 s)\",\"W/m^2\",\"W/m^2\",\"g/m^3\",\"C\",\"percent\"'</li><li>'\"\",\"\",\"Smp\",\"Smp\",\"Smp\",\"Smp\",\"Smp\",\"Smp\",\"Smp\",\"Smp\",\"Smp\",\"Smp\",\"Smp\",\"Smp\",\"Smp\",\"Smp\",\"Smp\",\"Smp\",\"Smp\",\"Smp\",\"Smp\",\"Smp\",\"Smp\",\"Smp\",\"Smp\",\"Smp\",\"Smp\",\"Avg\",\"Avg\",\"Avg\",\"Smp\",\"Avg\",\"Smp\",\"Smp\",\"Avg\",\"Smp\",\"Smp\",\"Smp\",\"Avg\",\"Tot\",\"Tot\",\"Tot\",\"Tot\",\"Tot\",\"Avg\",\"Smp\",\"Smp\",\"Smp\",\"Smp\",\"Smp\",\"Smp\",\"Smp\",\"Smp\",\"Smp\"'</li><li>'\"2015-04-16 10:30:00\",33528,-0.07050741,75.43386,139.7478,133.3558,0.01570627,0.1136141,0.7702006,0.0287227,0.03381336,0.1143175,0.7624483,0.2069015,0.01236219,0.9078643,-0.00371439,0.2849423,2.405463,-0.2433473,-0.1619354,-0.3332449,0.2030236,0.01568299,0.01604299,0.02766319,17.15509,-0.9320452,-1.126813,0.02570675,623.1078,6.780926,1.216771,100.2397,14.18789,-129.5959,1.462332,28.70714,13.23716,0,0,0,0,0,56,-0.3332449,67.49818,0.02296296,0.2397746,0.6645014,7.271169,7.389947,13.13227,64.73261'</li><li>'\"2015-04-16 11:00:00\",33529,-0.06113067,97.84227,183.5227,175.0836,0.006824024,0.07498017,0.8852791,0.0007770061,0.02217865,0.1504938,1.071358,0.0276407,-0.005268425,1.02806,0.001962364,0.3263579,2.514321,0.08234715,-0.1506004,-0.4046633,0.2338435,0.009415597,0.02544558,0.03581095,17.99106,-0.8767914,-1.744364,0.01492664,621.0428,6.827036,1.213802,100.2263,14.74764,-116.686,1.952328,30.07014,13.24102,0,0,0,0,0,56,-0.4046633,87.37871,0.02970162,0.313831,0.8665181,9.597045,7.42556,13.78645,62.4719'</li><li>'\"2015-04-16 11:30:00\",33530,0.009571165,104.2355,199.8177,190.7273,0.08037375,0.257495,0.9643432,-0.291831,-0.04099387,0.1640718,1.338304,0.4940267,-0.06306306,1.163296,-0.020475,0.3454463,2.95971,0.7013156,-0.119334,-0.3658124,0.2646294,-0.005396664,-0.009120643,0.03798236,18.38503,-0.6437444,-2.393694,0.04266752,624.1392,6.951874,1.212207,100.2205,14.84076,-105.0526,2.478747,29.27938,13.2421,0,0,0,0,0,56,-0.3658124,92.67695,0.03170475,0.3436788,0.9354095,10.6231,7.546908,14.12835,62.17416'</li></ol>\n"
      ],
      "text/latex": [
       "\\begin{enumerate*}\n",
       "\\item '\"TOA5\",\"3989\",\"CR1000\",\"3989\",\"CR1000.Std.08\",\"CPU:kerry.co2.2.0.cr1\",\"33162\",\"flux\"'\n",
       "\\item '\"TIMESTAMP\",\"RECORD\",\"Fc\\_wpl\",\"LE\\_wpl\",\"Hs\",\"Hc\",\"tau\",\"u\\_star\",\"stdev\\_Ts\",\"cov\\_Ts\\_Ux\",\"cov\\_Ts\\_Uy\",\"cov\\_Ts\\_Uz\",\"stdev\\_Ux\",\"cov\\_Ux\\_Uy\",\"cov\\_Ux\\_Uz\",\"stdev\\_Uy\",\"cov\\_Uy\\_Uz\",\"stdev\\_Uz\",\"stdev\\_co2\",\"cov\\_co2\\_Ux\",\"cov\\_co2\\_Uy\",\"cov\\_co2\\_Uz\",\"stdev\\_h2o\",\"cov\\_h2o\\_Ux\",\"cov\\_h2o\\_Uy\",\"cov\\_h2o\\_Uz\",\"Ts\\_mean\",\"Ux\\_Avg\",\"Uy\\_Avg\",\"Uz\\_Avg\",\"co2\\_mean\",\"h2o\\_Avg\",\"rho\\_a\\_mean\",\"press\\_mean\",\"panel\\_temp\\_Avg\",\"wind\\_dir\",\"rslt\\_wnd\\_spd\",\"std\\_wnd\\_dir\",\"batt\\_volt\\_Avg\",\"irga\\_warnings\",\"chopper\\_f\\_Tot\",\"detector\\_f\\_Tot\",\"pll\\_f\\_Tot\",\"sync\\_f\\_Tot\",\"agc\\_Avg\",\"Fc\\_irga\",\"LE\\_irga\",\"co2\\_wpl\\_LE\",\"co2\\_wpl\\_H\",\"h2o\\_wpl\\_LE\",\"h2o\\_wpl\\_H\",\"h2o\\_hmp\\_mean\",\"t\\_hmp\\_mean\",\"rh\\_hmp\\_mean\"'\n",
       "\\item '\"TS\",\"RN\",\"mg/(m\\textasciicircum{}2 s)\",\"W/m\\textasciicircum{}2\",\"W/m\\textasciicircum{}2\",\"W/m\\textasciicircum{}2\",\"kg/(m s\\textasciicircum{}2)\",\"m/s\",\"C\",\"m C/s\",\"m C/s\",\"m C/s\",\"m/s\",\"(m/s)\\textasciicircum{}2\",\"(m/s)\\textasciicircum{}2\",\"m/s\",\"(m/s)\\textasciicircum{}2\",\"m/s\",\"mg/m\\textasciicircum{}3\",\"mg/(m\\textasciicircum{}2 s)\",\"mg/(m\\textasciicircum{}2 s)\",\"mg/(m\\textasciicircum{}2 s)\",\"g/m\\textasciicircum{}3\",\"g/(m\\textasciicircum{}2 s)\",\"g/(m\\textasciicircum{}2 s)\",\"g/(m\\textasciicircum{}2 s)\",\"C\",\"m/s\",\"m/s\",\"m/s\",\"mg/m\\textasciicircum{}3\",\"g/m\\textasciicircum{}3\",\"kg/m\\textasciicircum{}3\",\"kPa\",\"C\",\"degrees\",\"m/s\",\"degrees\",\"V\",\"samples\",\"samples\",\"samples\",\"samples\",\"samples\",\"unitless\",\"mg/(m\\textasciicircum{}2 s)\",\"W/m\\textasciicircum{}2\",\"mg/(m\\textasciicircum{}2 s)\",\"mg/(m\\textasciicircum{}2 s)\",\"W/m\\textasciicircum{}2\",\"W/m\\textasciicircum{}2\",\"g/m\\textasciicircum{}3\",\"C\",\"percent\"'\n",
       "\\item '\"\",\"\",\"Smp\",\"Smp\",\"Smp\",\"Smp\",\"Smp\",\"Smp\",\"Smp\",\"Smp\",\"Smp\",\"Smp\",\"Smp\",\"Smp\",\"Smp\",\"Smp\",\"Smp\",\"Smp\",\"Smp\",\"Smp\",\"Smp\",\"Smp\",\"Smp\",\"Smp\",\"Smp\",\"Smp\",\"Smp\",\"Avg\",\"Avg\",\"Avg\",\"Smp\",\"Avg\",\"Smp\",\"Smp\",\"Avg\",\"Smp\",\"Smp\",\"Smp\",\"Avg\",\"Tot\",\"Tot\",\"Tot\",\"Tot\",\"Tot\",\"Avg\",\"Smp\",\"Smp\",\"Smp\",\"Smp\",\"Smp\",\"Smp\",\"Smp\",\"Smp\",\"Smp\"'\n",
       "\\item '\"2015-04-16 10:30:00\",33528,-0.07050741,75.43386,139.7478,133.3558,0.01570627,0.1136141,0.7702006,0.0287227,0.03381336,0.1143175,0.7624483,0.2069015,0.01236219,0.9078643,-0.00371439,0.2849423,2.405463,-0.2433473,-0.1619354,-0.3332449,0.2030236,0.01568299,0.01604299,0.02766319,17.15509,-0.9320452,-1.126813,0.02570675,623.1078,6.780926,1.216771,100.2397,14.18789,-129.5959,1.462332,28.70714,13.23716,0,0,0,0,0,56,-0.3332449,67.49818,0.02296296,0.2397746,0.6645014,7.271169,7.389947,13.13227,64.73261'\n",
       "\\item '\"2015-04-16 11:00:00\",33529,-0.06113067,97.84227,183.5227,175.0836,0.006824024,0.07498017,0.8852791,0.0007770061,0.02217865,0.1504938,1.071358,0.0276407,-0.005268425,1.02806,0.001962364,0.3263579,2.514321,0.08234715,-0.1506004,-0.4046633,0.2338435,0.009415597,0.02544558,0.03581095,17.99106,-0.8767914,-1.744364,0.01492664,621.0428,6.827036,1.213802,100.2263,14.74764,-116.686,1.952328,30.07014,13.24102,0,0,0,0,0,56,-0.4046633,87.37871,0.02970162,0.313831,0.8665181,9.597045,7.42556,13.78645,62.4719'\n",
       "\\item '\"2015-04-16 11:30:00\",33530,0.009571165,104.2355,199.8177,190.7273,0.08037375,0.257495,0.9643432,-0.291831,-0.04099387,0.1640718,1.338304,0.4940267,-0.06306306,1.163296,-0.020475,0.3454463,2.95971,0.7013156,-0.119334,-0.3658124,0.2646294,-0.005396664,-0.009120643,0.03798236,18.38503,-0.6437444,-2.393694,0.04266752,624.1392,6.951874,1.212207,100.2205,14.84076,-105.0526,2.478747,29.27938,13.2421,0,0,0,0,0,56,-0.3658124,92.67695,0.03170475,0.3436788,0.9354095,10.6231,7.546908,14.12835,62.17416'\n",
       "\\end{enumerate*}\n"
      ],
      "text/markdown": [
       "1. '\"TOA5\",\"3989\",\"CR1000\",\"3989\",\"CR1000.Std.08\",\"CPU:kerry.co2.2.0.cr1\",\"33162\",\"flux\"'\n",
       "2. '\"TIMESTAMP\",\"RECORD\",\"Fc_wpl\",\"LE_wpl\",\"Hs\",\"Hc\",\"tau\",\"u_star\",\"stdev_Ts\",\"cov_Ts_Ux\",\"cov_Ts_Uy\",\"cov_Ts_Uz\",\"stdev_Ux\",\"cov_Ux_Uy\",\"cov_Ux_Uz\",\"stdev_Uy\",\"cov_Uy_Uz\",\"stdev_Uz\",\"stdev_co2\",\"cov_co2_Ux\",\"cov_co2_Uy\",\"cov_co2_Uz\",\"stdev_h2o\",\"cov_h2o_Ux\",\"cov_h2o_Uy\",\"cov_h2o_Uz\",\"Ts_mean\",\"Ux_Avg\",\"Uy_Avg\",\"Uz_Avg\",\"co2_mean\",\"h2o_Avg\",\"rho_a_mean\",\"press_mean\",\"panel_temp_Avg\",\"wind_dir\",\"rslt_wnd_spd\",\"std_wnd_dir\",\"batt_volt_Avg\",\"irga_warnings\",\"chopper_f_Tot\",\"detector_f_Tot\",\"pll_f_Tot\",\"sync_f_Tot\",\"agc_Avg\",\"Fc_irga\",\"LE_irga\",\"co2_wpl_LE\",\"co2_wpl_H\",\"h2o_wpl_LE\",\"h2o_wpl_H\",\"h2o_hmp_mean\",\"t_hmp_mean\",\"rh_hmp_mean\"'\n",
       "3. '\"TS\",\"RN\",\"mg/(m^2 s)\",\"W/m^2\",\"W/m^2\",\"W/m^2\",\"kg/(m s^2)\",\"m/s\",\"C\",\"m C/s\",\"m C/s\",\"m C/s\",\"m/s\",\"(m/s)^2\",\"(m/s)^2\",\"m/s\",\"(m/s)^2\",\"m/s\",\"mg/m^3\",\"mg/(m^2 s)\",\"mg/(m^2 s)\",\"mg/(m^2 s)\",\"g/m^3\",\"g/(m^2 s)\",\"g/(m^2 s)\",\"g/(m^2 s)\",\"C\",\"m/s\",\"m/s\",\"m/s\",\"mg/m^3\",\"g/m^3\",\"kg/m^3\",\"kPa\",\"C\",\"degrees\",\"m/s\",\"degrees\",\"V\",\"samples\",\"samples\",\"samples\",\"samples\",\"samples\",\"unitless\",\"mg/(m^2 s)\",\"W/m^2\",\"mg/(m^2 s)\",\"mg/(m^2 s)\",\"W/m^2\",\"W/m^2\",\"g/m^3\",\"C\",\"percent\"'\n",
       "4. '\"\",\"\",\"Smp\",\"Smp\",\"Smp\",\"Smp\",\"Smp\",\"Smp\",\"Smp\",\"Smp\",\"Smp\",\"Smp\",\"Smp\",\"Smp\",\"Smp\",\"Smp\",\"Smp\",\"Smp\",\"Smp\",\"Smp\",\"Smp\",\"Smp\",\"Smp\",\"Smp\",\"Smp\",\"Smp\",\"Smp\",\"Avg\",\"Avg\",\"Avg\",\"Smp\",\"Avg\",\"Smp\",\"Smp\",\"Avg\",\"Smp\",\"Smp\",\"Smp\",\"Avg\",\"Tot\",\"Tot\",\"Tot\",\"Tot\",\"Tot\",\"Avg\",\"Smp\",\"Smp\",\"Smp\",\"Smp\",\"Smp\",\"Smp\",\"Smp\",\"Smp\",\"Smp\"'\n",
       "5. '\"2015-04-16 10:30:00\",33528,-0.07050741,75.43386,139.7478,133.3558,0.01570627,0.1136141,0.7702006,0.0287227,0.03381336,0.1143175,0.7624483,0.2069015,0.01236219,0.9078643,-0.00371439,0.2849423,2.405463,-0.2433473,-0.1619354,-0.3332449,0.2030236,0.01568299,0.01604299,0.02766319,17.15509,-0.9320452,-1.126813,0.02570675,623.1078,6.780926,1.216771,100.2397,14.18789,-129.5959,1.462332,28.70714,13.23716,0,0,0,0,0,56,-0.3332449,67.49818,0.02296296,0.2397746,0.6645014,7.271169,7.389947,13.13227,64.73261'\n",
       "6. '\"2015-04-16 11:00:00\",33529,-0.06113067,97.84227,183.5227,175.0836,0.006824024,0.07498017,0.8852791,0.0007770061,0.02217865,0.1504938,1.071358,0.0276407,-0.005268425,1.02806,0.001962364,0.3263579,2.514321,0.08234715,-0.1506004,-0.4046633,0.2338435,0.009415597,0.02544558,0.03581095,17.99106,-0.8767914,-1.744364,0.01492664,621.0428,6.827036,1.213802,100.2263,14.74764,-116.686,1.952328,30.07014,13.24102,0,0,0,0,0,56,-0.4046633,87.37871,0.02970162,0.313831,0.8665181,9.597045,7.42556,13.78645,62.4719'\n",
       "7. '\"2015-04-16 11:30:00\",33530,0.009571165,104.2355,199.8177,190.7273,0.08037375,0.257495,0.9643432,-0.291831,-0.04099387,0.1640718,1.338304,0.4940267,-0.06306306,1.163296,-0.020475,0.3454463,2.95971,0.7013156,-0.119334,-0.3658124,0.2646294,-0.005396664,-0.009120643,0.03798236,18.38503,-0.6437444,-2.393694,0.04266752,624.1392,6.951874,1.212207,100.2205,14.84076,-105.0526,2.478747,29.27938,13.2421,0,0,0,0,0,56,-0.3658124,92.67695,0.03170475,0.3436788,0.9354095,10.6231,7.546908,14.12835,62.17416'\n",
       "\n",
       "\n"
      ],
      "text/plain": [
       "[1] \"\\\"TOA5\\\",\\\"3989\\\",\\\"CR1000\\\",\\\"3989\\\",\\\"CR1000.Std.08\\\",\\\"CPU:kerry.co2.2.0.cr1\\\",\\\"33162\\\",\\\"flux\\\"\"                                                                                                                                                                                                                                                                                                                                                                                                                                                                                                                                                                                                                                                                  \n",
       "[2] \"\\\"TIMESTAMP\\\",\\\"RECORD\\\",\\\"Fc_wpl\\\",\\\"LE_wpl\\\",\\\"Hs\\\",\\\"Hc\\\",\\\"tau\\\",\\\"u_star\\\",\\\"stdev_Ts\\\",\\\"cov_Ts_Ux\\\",\\\"cov_Ts_Uy\\\",\\\"cov_Ts_Uz\\\",\\\"stdev_Ux\\\",\\\"cov_Ux_Uy\\\",\\\"cov_Ux_Uz\\\",\\\"stdev_Uy\\\",\\\"cov_Uy_Uz\\\",\\\"stdev_Uz\\\",\\\"stdev_co2\\\",\\\"cov_co2_Ux\\\",\\\"cov_co2_Uy\\\",\\\"cov_co2_Uz\\\",\\\"stdev_h2o\\\",\\\"cov_h2o_Ux\\\",\\\"cov_h2o_Uy\\\",\\\"cov_h2o_Uz\\\",\\\"Ts_mean\\\",\\\"Ux_Avg\\\",\\\"Uy_Avg\\\",\\\"Uz_Avg\\\",\\\"co2_mean\\\",\\\"h2o_Avg\\\",\\\"rho_a_mean\\\",\\\"press_mean\\\",\\\"panel_temp_Avg\\\",\\\"wind_dir\\\",\\\"rslt_wnd_spd\\\",\\\"std_wnd_dir\\\",\\\"batt_volt_Avg\\\",\\\"irga_warnings\\\",\\\"chopper_f_Tot\\\",\\\"detector_f_Tot\\\",\\\"pll_f_Tot\\\",\\\"sync_f_Tot\\\",\\\"agc_Avg\\\",\\\"Fc_irga\\\",\\\"LE_irga\\\",\\\"co2_wpl_LE\\\",\\\"co2_wpl_H\\\",\\\"h2o_wpl_LE\\\",\\\"h2o_wpl_H\\\",\\\"h2o_hmp_mean\\\",\\\"t_hmp_mean\\\",\\\"rh_hmp_mean\\\"\"\n",
       "[3] \"\\\"TS\\\",\\\"RN\\\",\\\"mg/(m^2 s)\\\",\\\"W/m^2\\\",\\\"W/m^2\\\",\\\"W/m^2\\\",\\\"kg/(m s^2)\\\",\\\"m/s\\\",\\\"C\\\",\\\"m C/s\\\",\\\"m C/s\\\",\\\"m C/s\\\",\\\"m/s\\\",\\\"(m/s)^2\\\",\\\"(m/s)^2\\\",\\\"m/s\\\",\\\"(m/s)^2\\\",\\\"m/s\\\",\\\"mg/m^3\\\",\\\"mg/(m^2 s)\\\",\\\"mg/(m^2 s)\\\",\\\"mg/(m^2 s)\\\",\\\"g/m^3\\\",\\\"g/(m^2 s)\\\",\\\"g/(m^2 s)\\\",\\\"g/(m^2 s)\\\",\\\"C\\\",\\\"m/s\\\",\\\"m/s\\\",\\\"m/s\\\",\\\"mg/m^3\\\",\\\"g/m^3\\\",\\\"kg/m^3\\\",\\\"kPa\\\",\\\"C\\\",\\\"degrees\\\",\\\"m/s\\\",\\\"degrees\\\",\\\"V\\\",\\\"samples\\\",\\\"samples\\\",\\\"samples\\\",\\\"samples\\\",\\\"samples\\\",\\\"unitless\\\",\\\"mg/(m^2 s)\\\",\\\"W/m^2\\\",\\\"mg/(m^2 s)\\\",\\\"mg/(m^2 s)\\\",\\\"W/m^2\\\",\\\"W/m^2\\\",\\\"g/m^3\\\",\\\"C\\\",\\\"percent\\\"\"                                                                                                                                                                       \n",
       "[4] \"\\\"\\\",\\\"\\\",\\\"Smp\\\",\\\"Smp\\\",\\\"Smp\\\",\\\"Smp\\\",\\\"Smp\\\",\\\"Smp\\\",\\\"Smp\\\",\\\"Smp\\\",\\\"Smp\\\",\\\"Smp\\\",\\\"Smp\\\",\\\"Smp\\\",\\\"Smp\\\",\\\"Smp\\\",\\\"Smp\\\",\\\"Smp\\\",\\\"Smp\\\",\\\"Smp\\\",\\\"Smp\\\",\\\"Smp\\\",\\\"Smp\\\",\\\"Smp\\\",\\\"Smp\\\",\\\"Smp\\\",\\\"Smp\\\",\\\"Avg\\\",\\\"Avg\\\",\\\"Avg\\\",\\\"Smp\\\",\\\"Avg\\\",\\\"Smp\\\",\\\"Smp\\\",\\\"Avg\\\",\\\"Smp\\\",\\\"Smp\\\",\\\"Smp\\\",\\\"Avg\\\",\\\"Tot\\\",\\\"Tot\\\",\\\"Tot\\\",\\\"Tot\\\",\\\"Tot\\\",\\\"Avg\\\",\\\"Smp\\\",\\\"Smp\\\",\\\"Smp\\\",\\\"Smp\\\",\\\"Smp\\\",\\\"Smp\\\",\\\"Smp\\\",\\\"Smp\\\",\\\"Smp\\\"\"                                                                                                                                                                                                                                                                                                                             \n",
       "[5] \"\\\"2015-04-16 10:30:00\\\",33528,-0.07050741,75.43386,139.7478,133.3558,0.01570627,0.1136141,0.7702006,0.0287227,0.03381336,0.1143175,0.7624483,0.2069015,0.01236219,0.9078643,-0.00371439,0.2849423,2.405463,-0.2433473,-0.1619354,-0.3332449,0.2030236,0.01568299,0.01604299,0.02766319,17.15509,-0.9320452,-1.126813,0.02570675,623.1078,6.780926,1.216771,100.2397,14.18789,-129.5959,1.462332,28.70714,13.23716,0,0,0,0,0,56,-0.3332449,67.49818,0.02296296,0.2397746,0.6645014,7.271169,7.389947,13.13227,64.73261\"                                                                                                                                                                                                                                                 \n",
       "[6] \"\\\"2015-04-16 11:00:00\\\",33529,-0.06113067,97.84227,183.5227,175.0836,0.006824024,0.07498017,0.8852791,0.0007770061,0.02217865,0.1504938,1.071358,0.0276407,-0.005268425,1.02806,0.001962364,0.3263579,2.514321,0.08234715,-0.1506004,-0.4046633,0.2338435,0.009415597,0.02544558,0.03581095,17.99106,-0.8767914,-1.744364,0.01492664,621.0428,6.827036,1.213802,100.2263,14.74764,-116.686,1.952328,30.07014,13.24102,0,0,0,0,0,56,-0.4046633,87.37871,0.02970162,0.313831,0.8665181,9.597045,7.42556,13.78645,62.4719\"                                                                                                                                                                                                                                                \n",
       "[7] \"\\\"2015-04-16 11:30:00\\\",33530,0.009571165,104.2355,199.8177,190.7273,0.08037375,0.257495,0.9643432,-0.291831,-0.04099387,0.1640718,1.338304,0.4940267,-0.06306306,1.163296,-0.020475,0.3454463,2.95971,0.7013156,-0.119334,-0.3658124,0.2646294,-0.005396664,-0.009120643,0.03798236,18.38503,-0.6437444,-2.393694,0.04266752,624.1392,6.951874,1.212207,100.2205,14.84076,-105.0526,2.478747,29.27938,13.2421,0,0,0,0,0,56,-0.3658124,92.67695,0.03170475,0.3436788,0.9354095,10.6231,7.546908,14.12835,62.17416\"                                                                                                                                                                                                                                                     "
      ]
     },
     "metadata": {},
     "output_type": "display_data"
    }
   ],
   "source": [
    "readLines(\n",
    "  \"data/TOA5/TOA5_3989.flux (2021_09_17 14_49_19 UTC) (2015).dat\", n = 7\n",
    ")"
   ]
  },
  {
   "cell_type": "code",
   "execution_count": 5,
   "id": "c61461de",
   "metadata": {
    "vscode": {
     "languageId": "r"
    }
   },
   "outputs": [],
   "source": [
    "data_2015 <- read.csv(\n",
    "  \"data/TOA5/TOA5_3989.flux (2021_09_17 14_49_19 UTC) (2015).dat\",\n",
    "  skip = 4, header = FALSE\n",
    ")"
   ]
  },
  {
   "cell_type": "code",
   "execution_count": 6,
   "id": "7c251f2e",
   "metadata": {
    "vscode": {
     "languageId": "r"
    }
   },
   "outputs": [],
   "source": [
    "names(data_2015) <- as.matrix(\n",
    "  read.csv(\n",
    "    \"data/TOA5/TOA5_3989.flux (2021_09_17 14_49_19 UTC) (2015).dat\",\n",
    "    skip = 1, header = FALSE, nrows = 1\n",
    "  )\n",
    ")"
   ]
  },
  {
   "cell_type": "code",
   "execution_count": 8,
   "id": "89d6de60",
   "metadata": {
    "vscode": {
     "languageId": "r"
    }
   },
   "outputs": [
    {
     "data": {
      "text/html": [
       "<table class=\"dataframe\">\n",
       "<caption>A data.frame: 6 × 54</caption>\n",
       "<thead>\n",
       "\t<tr><th></th><th scope=col>TIMESTAMP</th><th scope=col>RECORD</th><th scope=col>Fc_wpl</th><th scope=col>LE_wpl</th><th scope=col>Hs</th><th scope=col>Hc</th><th scope=col>tau</th><th scope=col>u_star</th><th scope=col>stdev_Ts</th><th scope=col>cov_Ts_Ux</th><th scope=col>⋯</th><th scope=col>agc_Avg</th><th scope=col>Fc_irga</th><th scope=col>LE_irga</th><th scope=col>co2_wpl_LE</th><th scope=col>co2_wpl_H</th><th scope=col>h2o_wpl_LE</th><th scope=col>h2o_wpl_H</th><th scope=col>h2o_hmp_mean</th><th scope=col>t_hmp_mean</th><th scope=col>rh_hmp_mean</th></tr>\n",
       "\t<tr><th></th><th scope=col>&lt;chr&gt;</th><th scope=col>&lt;int&gt;</th><th scope=col>&lt;dbl&gt;</th><th scope=col>&lt;dbl&gt;</th><th scope=col>&lt;dbl&gt;</th><th scope=col>&lt;dbl&gt;</th><th scope=col>&lt;dbl&gt;</th><th scope=col>&lt;dbl&gt;</th><th scope=col>&lt;dbl&gt;</th><th scope=col>&lt;dbl&gt;</th><th scope=col>⋯</th><th scope=col>&lt;dbl&gt;</th><th scope=col>&lt;dbl&gt;</th><th scope=col>&lt;dbl&gt;</th><th scope=col>&lt;dbl&gt;</th><th scope=col>&lt;dbl&gt;</th><th scope=col>&lt;dbl&gt;</th><th scope=col>&lt;dbl&gt;</th><th scope=col>&lt;dbl&gt;</th><th scope=col>&lt;dbl&gt;</th><th scope=col>&lt;dbl&gt;</th></tr>\n",
       "</thead>\n",
       "<tbody>\n",
       "\t<tr><th scope=row>1</th><td>2015-04-16 10:30:00</td><td>33528</td><td>-0.070507410</td><td> 75.43386</td><td>139.7478</td><td>133.3558</td><td>0.015706270</td><td>0.11361410</td><td>0.7702006</td><td> 0.0287227000</td><td>⋯</td><td>56</td><td>-0.3332449</td><td> 67.49818</td><td>0.02296296</td><td>0.2397746</td><td>0.6645014</td><td> 7.271169</td><td>7.389947</td><td>13.13227</td><td>64.73261</td></tr>\n",
       "\t<tr><th scope=row>2</th><td>2015-04-16 11:00:00</td><td>33529</td><td>-0.061130670</td><td> 97.84227</td><td>183.5227</td><td>175.0836</td><td>0.006824024</td><td>0.07498017</td><td>0.8852791</td><td> 0.0007770061</td><td>⋯</td><td>56</td><td>-0.4046633</td><td> 87.37871</td><td>0.02970162</td><td>0.3138310</td><td>0.8665181</td><td> 9.597045</td><td>7.425560</td><td>13.78645</td><td>62.47190</td></tr>\n",
       "\t<tr><th scope=row>3</th><td>2015-04-16 11:30:00</td><td>33530</td><td> 0.009571165</td><td>104.23550</td><td>199.8177</td><td>190.7273</td><td>0.080373750</td><td>0.25749500</td><td>0.9643432</td><td>-0.2918310000</td><td>⋯</td><td>56</td><td>-0.3658124</td><td> 92.67695</td><td>0.03170475</td><td>0.3436788</td><td>0.9354095</td><td>10.623100</td><td>7.546908</td><td>14.12835</td><td>62.17416</td></tr>\n",
       "\t<tr><th scope=row>4</th><td>2015-04-16 12:00:00</td><td>33531</td><td>-0.053656130</td><td>114.78070</td><td>169.4980</td><td>160.3188</td><td>0.037065820</td><td>0.17503830</td><td>0.8076537</td><td> 0.1571966000</td><td>⋯</td><td>56</td><td>-0.3771344</td><td>104.77400</td><td>0.03576480</td><td>0.2877135</td><td>1.0527530</td><td> 8.953876</td><td>7.498158</td><td>14.66202</td><td>59.78199</td></tr>\n",
       "\t<tr><th scope=row>5</th><td>2015-04-16 12:30:00</td><td>33532</td><td>-0.058696390</td><td>122.23720</td><td>205.8765</td><td>195.6567</td><td>0.058038200</td><td>0.21918670</td><td>0.9739804</td><td>-0.2421052000</td><td>⋯</td><td>56</td><td>-0.4449696</td><td>110.40930</td><td>0.03748565</td><td>0.3487876</td><td>1.0961310</td><td>10.731750</td><td>7.398589</td><td>15.02505</td><td>57.70282</td></tr>\n",
       "\t<tr><th scope=row>6</th><td>2015-04-16 13:00:00</td><td>33533</td><td>-0.039852740</td><td>111.92110</td><td>187.7205</td><td>178.3878</td><td>0.032758150</td><td>0.16478070</td><td>0.8736999</td><td> 0.0738351200</td><td>⋯</td><td>56</td><td>-0.3915091</td><td>101.31530</td><td>0.03436560</td><td>0.3172907</td><td>0.9897227</td><td> 9.615979</td><td>7.271001</td><td>15.38198</td><td>55.48570</td></tr>\n",
       "</tbody>\n",
       "</table>\n"
      ],
      "text/latex": [
       "A data.frame: 6 × 54\n",
       "\\begin{tabular}{r|lllllllllllllllllllll}\n",
       "  & TIMESTAMP & RECORD & Fc\\_wpl & LE\\_wpl & Hs & Hc & tau & u\\_star & stdev\\_Ts & cov\\_Ts\\_Ux & ⋯ & agc\\_Avg & Fc\\_irga & LE\\_irga & co2\\_wpl\\_LE & co2\\_wpl\\_H & h2o\\_wpl\\_LE & h2o\\_wpl\\_H & h2o\\_hmp\\_mean & t\\_hmp\\_mean & rh\\_hmp\\_mean\\\\\n",
       "  & <chr> & <int> & <dbl> & <dbl> & <dbl> & <dbl> & <dbl> & <dbl> & <dbl> & <dbl> & ⋯ & <dbl> & <dbl> & <dbl> & <dbl> & <dbl> & <dbl> & <dbl> & <dbl> & <dbl> & <dbl>\\\\\n",
       "\\hline\n",
       "\t1 & 2015-04-16 10:30:00 & 33528 & -0.070507410 &  75.43386 & 139.7478 & 133.3558 & 0.015706270 & 0.11361410 & 0.7702006 &  0.0287227000 & ⋯ & 56 & -0.3332449 &  67.49818 & 0.02296296 & 0.2397746 & 0.6645014 &  7.271169 & 7.389947 & 13.13227 & 64.73261\\\\\n",
       "\t2 & 2015-04-16 11:00:00 & 33529 & -0.061130670 &  97.84227 & 183.5227 & 175.0836 & 0.006824024 & 0.07498017 & 0.8852791 &  0.0007770061 & ⋯ & 56 & -0.4046633 &  87.37871 & 0.02970162 & 0.3138310 & 0.8665181 &  9.597045 & 7.425560 & 13.78645 & 62.47190\\\\\n",
       "\t3 & 2015-04-16 11:30:00 & 33530 &  0.009571165 & 104.23550 & 199.8177 & 190.7273 & 0.080373750 & 0.25749500 & 0.9643432 & -0.2918310000 & ⋯ & 56 & -0.3658124 &  92.67695 & 0.03170475 & 0.3436788 & 0.9354095 & 10.623100 & 7.546908 & 14.12835 & 62.17416\\\\\n",
       "\t4 & 2015-04-16 12:00:00 & 33531 & -0.053656130 & 114.78070 & 169.4980 & 160.3188 & 0.037065820 & 0.17503830 & 0.8076537 &  0.1571966000 & ⋯ & 56 & -0.3771344 & 104.77400 & 0.03576480 & 0.2877135 & 1.0527530 &  8.953876 & 7.498158 & 14.66202 & 59.78199\\\\\n",
       "\t5 & 2015-04-16 12:30:00 & 33532 & -0.058696390 & 122.23720 & 205.8765 & 195.6567 & 0.058038200 & 0.21918670 & 0.9739804 & -0.2421052000 & ⋯ & 56 & -0.4449696 & 110.40930 & 0.03748565 & 0.3487876 & 1.0961310 & 10.731750 & 7.398589 & 15.02505 & 57.70282\\\\\n",
       "\t6 & 2015-04-16 13:00:00 & 33533 & -0.039852740 & 111.92110 & 187.7205 & 178.3878 & 0.032758150 & 0.16478070 & 0.8736999 &  0.0738351200 & ⋯ & 56 & -0.3915091 & 101.31530 & 0.03436560 & 0.3172907 & 0.9897227 &  9.615979 & 7.271001 & 15.38198 & 55.48570\\\\\n",
       "\\end{tabular}\n"
      ],
      "text/markdown": [
       "\n",
       "A data.frame: 6 × 54\n",
       "\n",
       "| <!--/--> | TIMESTAMP &lt;chr&gt; | RECORD &lt;int&gt; | Fc_wpl &lt;dbl&gt; | LE_wpl &lt;dbl&gt; | Hs &lt;dbl&gt; | Hc &lt;dbl&gt; | tau &lt;dbl&gt; | u_star &lt;dbl&gt; | stdev_Ts &lt;dbl&gt; | cov_Ts_Ux &lt;dbl&gt; | ⋯ ⋯ | agc_Avg &lt;dbl&gt; | Fc_irga &lt;dbl&gt; | LE_irga &lt;dbl&gt; | co2_wpl_LE &lt;dbl&gt; | co2_wpl_H &lt;dbl&gt; | h2o_wpl_LE &lt;dbl&gt; | h2o_wpl_H &lt;dbl&gt; | h2o_hmp_mean &lt;dbl&gt; | t_hmp_mean &lt;dbl&gt; | rh_hmp_mean &lt;dbl&gt; |\n",
       "|---|---|---|---|---|---|---|---|---|---|---|---|---|---|---|---|---|---|---|---|---|---|\n",
       "| 1 | 2015-04-16 10:30:00 | 33528 | -0.070507410 |  75.43386 | 139.7478 | 133.3558 | 0.015706270 | 0.11361410 | 0.7702006 |  0.0287227000 | ⋯ | 56 | -0.3332449 |  67.49818 | 0.02296296 | 0.2397746 | 0.6645014 |  7.271169 | 7.389947 | 13.13227 | 64.73261 |\n",
       "| 2 | 2015-04-16 11:00:00 | 33529 | -0.061130670 |  97.84227 | 183.5227 | 175.0836 | 0.006824024 | 0.07498017 | 0.8852791 |  0.0007770061 | ⋯ | 56 | -0.4046633 |  87.37871 | 0.02970162 | 0.3138310 | 0.8665181 |  9.597045 | 7.425560 | 13.78645 | 62.47190 |\n",
       "| 3 | 2015-04-16 11:30:00 | 33530 |  0.009571165 | 104.23550 | 199.8177 | 190.7273 | 0.080373750 | 0.25749500 | 0.9643432 | -0.2918310000 | ⋯ | 56 | -0.3658124 |  92.67695 | 0.03170475 | 0.3436788 | 0.9354095 | 10.623100 | 7.546908 | 14.12835 | 62.17416 |\n",
       "| 4 | 2015-04-16 12:00:00 | 33531 | -0.053656130 | 114.78070 | 169.4980 | 160.3188 | 0.037065820 | 0.17503830 | 0.8076537 |  0.1571966000 | ⋯ | 56 | -0.3771344 | 104.77400 | 0.03576480 | 0.2877135 | 1.0527530 |  8.953876 | 7.498158 | 14.66202 | 59.78199 |\n",
       "| 5 | 2015-04-16 12:30:00 | 33532 | -0.058696390 | 122.23720 | 205.8765 | 195.6567 | 0.058038200 | 0.21918670 | 0.9739804 | -0.2421052000 | ⋯ | 56 | -0.4449696 | 110.40930 | 0.03748565 | 0.3487876 | 1.0961310 | 10.731750 | 7.398589 | 15.02505 | 57.70282 |\n",
       "| 6 | 2015-04-16 13:00:00 | 33533 | -0.039852740 | 111.92110 | 187.7205 | 178.3878 | 0.032758150 | 0.16478070 | 0.8736999 |  0.0738351200 | ⋯ | 56 | -0.3915091 | 101.31530 | 0.03436560 | 0.3172907 | 0.9897227 |  9.615979 | 7.271001 | 15.38198 | 55.48570 |\n",
       "\n"
      ],
      "text/plain": [
       "  TIMESTAMP           RECORD Fc_wpl       LE_wpl    Hs       Hc      \n",
       "1 2015-04-16 10:30:00 33528  -0.070507410  75.43386 139.7478 133.3558\n",
       "2 2015-04-16 11:00:00 33529  -0.061130670  97.84227 183.5227 175.0836\n",
       "3 2015-04-16 11:30:00 33530   0.009571165 104.23550 199.8177 190.7273\n",
       "4 2015-04-16 12:00:00 33531  -0.053656130 114.78070 169.4980 160.3188\n",
       "5 2015-04-16 12:30:00 33532  -0.058696390 122.23720 205.8765 195.6567\n",
       "6 2015-04-16 13:00:00 33533  -0.039852740 111.92110 187.7205 178.3878\n",
       "  tau         u_star     stdev_Ts  cov_Ts_Ux     ⋯ agc_Avg Fc_irga    LE_irga  \n",
       "1 0.015706270 0.11361410 0.7702006  0.0287227000 ⋯ 56      -0.3332449  67.49818\n",
       "2 0.006824024 0.07498017 0.8852791  0.0007770061 ⋯ 56      -0.4046633  87.37871\n",
       "3 0.080373750 0.25749500 0.9643432 -0.2918310000 ⋯ 56      -0.3658124  92.67695\n",
       "4 0.037065820 0.17503830 0.8076537  0.1571966000 ⋯ 56      -0.3771344 104.77400\n",
       "5 0.058038200 0.21918670 0.9739804 -0.2421052000 ⋯ 56      -0.4449696 110.40930\n",
       "6 0.032758150 0.16478070 0.8736999  0.0738351200 ⋯ 56      -0.3915091 101.31530\n",
       "  co2_wpl_LE co2_wpl_H h2o_wpl_LE h2o_wpl_H h2o_hmp_mean t_hmp_mean rh_hmp_mean\n",
       "1 0.02296296 0.2397746 0.6645014   7.271169 7.389947     13.13227   64.73261   \n",
       "2 0.02970162 0.3138310 0.8665181   9.597045 7.425560     13.78645   62.47190   \n",
       "3 0.03170475 0.3436788 0.9354095  10.623100 7.546908     14.12835   62.17416   \n",
       "4 0.03576480 0.2877135 1.0527530   8.953876 7.498158     14.66202   59.78199   \n",
       "5 0.03748565 0.3487876 1.0961310  10.731750 7.398589     15.02505   57.70282   \n",
       "6 0.03436560 0.3172907 0.9897227   9.615979 7.271001     15.38198   55.48570   "
      ]
     },
     "metadata": {},
     "output_type": "display_data"
    }
   ],
   "source": [
    "head(data_2015)"
   ]
  },
  {
   "cell_type": "code",
   "execution_count": 14,
   "id": "2df540e1",
   "metadata": {
    "vscode": {
     "languageId": "r"
    }
   },
   "outputs": [
    {
     "data": {
      "text/html": [
       "1353"
      ],
      "text/latex": [
       "1353"
      ],
      "text/markdown": [
       "1353"
      ],
      "text/plain": [
       "[1] 1353"
      ]
     },
     "metadata": {},
     "output_type": "display_data"
    }
   ],
   "source": [
    "nrow(data_2015)"
   ]
  },
  {
   "cell_type": "markdown",
   "id": "8f0549bf",
   "metadata": {},
   "source": [
    "## TOA5_3989.flux (2021_09_17 14_49_19 UTC) (2016).dat"
   ]
  },
  {
   "cell_type": "code",
   "execution_count": 15,
   "id": "0052932b",
   "metadata": {
    "vscode": {
     "languageId": "r"
    }
   },
   "outputs": [
    {
     "data": {
      "text/html": [
       "<style>\n",
       ".list-inline {list-style: none; margin:0; padding: 0}\n",
       ".list-inline>li {display: inline-block}\n",
       ".list-inline>li:not(:last-child)::after {content: \"\\00b7\"; padding: 0 .5ex}\n",
       "</style>\n",
       "<ol class=list-inline><li>'\"TOA5\",\"3989\",\"CR1000\",\"3989\",\"CR1000.Std.08\",\"CPU:kerry.co2.2.0.cr1\",\"33162\",\"flux\"'</li><li>'\"TIMESTAMP\",\"RECORD\",\"Fc_wpl\",\"LE_wpl\",\"Hs\",\"Hc\",\"tau\",\"u_star\",\"stdev_Ts\",\"cov_Ts_Ux\",\"cov_Ts_Uy\",\"cov_Ts_Uz\",\"stdev_Ux\",\"cov_Ux_Uy\",\"cov_Ux_Uz\",\"stdev_Uy\",\"cov_Uy_Uz\",\"stdev_Uz\",\"stdev_co2\",\"cov_co2_Ux\",\"cov_co2_Uy\",\"cov_co2_Uz\",\"stdev_h2o\",\"cov_h2o_Ux\",\"cov_h2o_Uy\",\"cov_h2o_Uz\",\"Ts_mean\",\"Ux_Avg\",\"Uy_Avg\",\"Uz_Avg\",\"co2_mean\",\"h2o_Avg\",\"rho_a_mean\",\"press_mean\",\"panel_temp_Avg\",\"wind_dir\",\"rslt_wnd_spd\",\"std_wnd_dir\",\"batt_volt_Avg\",\"irga_warnings\",\"chopper_f_Tot\",\"detector_f_Tot\",\"pll_f_Tot\",\"sync_f_Tot\",\"agc_Avg\",\"Fc_irga\",\"LE_irga\",\"co2_wpl_LE\",\"co2_wpl_H\",\"h2o_wpl_LE\",\"h2o_wpl_H\",\"h2o_hmp_mean\",\"t_hmp_mean\",\"rh_hmp_mean\"'</li><li>'\"TS\",\"RN\",\"mg/(m^2 s)\",\"W/m^2\",\"W/m^2\",\"W/m^2\",\"kg/(m s^2)\",\"m/s\",\"C\",\"m C/s\",\"m C/s\",\"m C/s\",\"m/s\",\"(m/s)^2\",\"(m/s)^2\",\"m/s\",\"(m/s)^2\",\"m/s\",\"mg/m^3\",\"mg/(m^2 s)\",\"mg/(m^2 s)\",\"mg/(m^2 s)\",\"g/m^3\",\"g/(m^2 s)\",\"g/(m^2 s)\",\"g/(m^2 s)\",\"C\",\"m/s\",\"m/s\",\"m/s\",\"mg/m^3\",\"g/m^3\",\"kg/m^3\",\"kPa\",\"C\",\"degrees\",\"m/s\",\"degrees\",\"V\",\"samples\",\"samples\",\"samples\",\"samples\",\"samples\",\"unitless\",\"mg/(m^2 s)\",\"W/m^2\",\"mg/(m^2 s)\",\"mg/(m^2 s)\",\"W/m^2\",\"W/m^2\",\"g/m^3\",\"C\",\"percent\"'</li><li>'\"\",\"\",\"Smp\",\"Smp\",\"Smp\",\"Smp\",\"Smp\",\"Smp\",\"Smp\",\"Smp\",\"Smp\",\"Smp\",\"Smp\",\"Smp\",\"Smp\",\"Smp\",\"Smp\",\"Smp\",\"Smp\",\"Smp\",\"Smp\",\"Smp\",\"Smp\",\"Smp\",\"Smp\",\"Smp\",\"Smp\",\"Avg\",\"Avg\",\"Avg\",\"Smp\",\"Avg\",\"Smp\",\"Smp\",\"Avg\",\"Smp\",\"Smp\",\"Smp\",\"Avg\",\"Tot\",\"Tot\",\"Tot\",\"Tot\",\"Tot\",\"Avg\",\"Smp\",\"Smp\",\"Smp\",\"Smp\",\"Smp\",\"Smp\",\"Smp\",\"Smp\",\"Smp\"'</li><li>'\"2016-06-09 08:30:00\",44801,-0.1307632,37.03913,25.60763,23.3344,0.1181751,0.3133757,0.2528313,-0.01505542,-0.07113852,0.02118119,0.9986033,-0.03467703,0.004057795,1.13161,-0.09812042,0.3728273,1.872982,0.1896596,0.859367,-0.1936334,0.1459866,-0.01045346,-0.08244079,0.01417896,16.35466,-0.1112268,2.938537,-0.01629304,723.5212,9.118859,1.20336,100.2632,16.41071,92.16766,2.940639,18.63249,12.99674,0,0,0,0,0,50,-0.1936334,34.59666,0.0138582,0.04901194,0.5003809,1.942085,10.70669,15.89368,79.20306'</li><li>'\"2016-06-09 09:00:00\",44802,-0.1701145,54.49001,62.58549,59.215,0.1070421,0.298587,0.4525773,0.008037789,-0.1740882,0.05188449,0.8466863,0.06221153,-0.01557749,0.8815346,-0.08778278,0.3223213,2.784797,0.1742953,1.233275,-0.3134294,0.1825024,-0.001951572,-0.07789491,0.02002347,16.89225,0.2707642,2.812156,-0.01600124,719.7424,9.512256,1.20064,100.2749,17.09632,84.50031,2.825158,16.78185,13.02122,0,0,0,0,0,50,-0.3134294,48.85725,0.01951842,0.1237964,0.7311883,4.901563,11.05024,16.5283,78.67393'</li><li>'\"2016-06-09 09:30:00\",44803,-0.168336,60.68195,68.70016,64.93797,0.09754083,0.2851819,0.3828293,-0.06610256,-0.1205805,0.05701535,0.9924686,0.1423672,-0.020966,0.9882805,-0.07857981,0.3226543,2.501359,0.495024,0.7823009,-0.325776,0.1737764,-0.0131622,-0.04362109,0.02234407,17.18247,1.0204,2.391732,0.008349597,719.1043,9.466228,1.199341,100.2539,17.8618,66.89518,2.600309,21.11683,13.03483,0,0,0,0,0,50,-0.325776,54.51952,0.02178382,0.1356562,0.8121096,5.350313,10.98709,16.78893,77.00739'</li></ol>\n"
      ],
      "text/latex": [
       "\\begin{enumerate*}\n",
       "\\item '\"TOA5\",\"3989\",\"CR1000\",\"3989\",\"CR1000.Std.08\",\"CPU:kerry.co2.2.0.cr1\",\"33162\",\"flux\"'\n",
       "\\item '\"TIMESTAMP\",\"RECORD\",\"Fc\\_wpl\",\"LE\\_wpl\",\"Hs\",\"Hc\",\"tau\",\"u\\_star\",\"stdev\\_Ts\",\"cov\\_Ts\\_Ux\",\"cov\\_Ts\\_Uy\",\"cov\\_Ts\\_Uz\",\"stdev\\_Ux\",\"cov\\_Ux\\_Uy\",\"cov\\_Ux\\_Uz\",\"stdev\\_Uy\",\"cov\\_Uy\\_Uz\",\"stdev\\_Uz\",\"stdev\\_co2\",\"cov\\_co2\\_Ux\",\"cov\\_co2\\_Uy\",\"cov\\_co2\\_Uz\",\"stdev\\_h2o\",\"cov\\_h2o\\_Ux\",\"cov\\_h2o\\_Uy\",\"cov\\_h2o\\_Uz\",\"Ts\\_mean\",\"Ux\\_Avg\",\"Uy\\_Avg\",\"Uz\\_Avg\",\"co2\\_mean\",\"h2o\\_Avg\",\"rho\\_a\\_mean\",\"press\\_mean\",\"panel\\_temp\\_Avg\",\"wind\\_dir\",\"rslt\\_wnd\\_spd\",\"std\\_wnd\\_dir\",\"batt\\_volt\\_Avg\",\"irga\\_warnings\",\"chopper\\_f\\_Tot\",\"detector\\_f\\_Tot\",\"pll\\_f\\_Tot\",\"sync\\_f\\_Tot\",\"agc\\_Avg\",\"Fc\\_irga\",\"LE\\_irga\",\"co2\\_wpl\\_LE\",\"co2\\_wpl\\_H\",\"h2o\\_wpl\\_LE\",\"h2o\\_wpl\\_H\",\"h2o\\_hmp\\_mean\",\"t\\_hmp\\_mean\",\"rh\\_hmp\\_mean\"'\n",
       "\\item '\"TS\",\"RN\",\"mg/(m\\textasciicircum{}2 s)\",\"W/m\\textasciicircum{}2\",\"W/m\\textasciicircum{}2\",\"W/m\\textasciicircum{}2\",\"kg/(m s\\textasciicircum{}2)\",\"m/s\",\"C\",\"m C/s\",\"m C/s\",\"m C/s\",\"m/s\",\"(m/s)\\textasciicircum{}2\",\"(m/s)\\textasciicircum{}2\",\"m/s\",\"(m/s)\\textasciicircum{}2\",\"m/s\",\"mg/m\\textasciicircum{}3\",\"mg/(m\\textasciicircum{}2 s)\",\"mg/(m\\textasciicircum{}2 s)\",\"mg/(m\\textasciicircum{}2 s)\",\"g/m\\textasciicircum{}3\",\"g/(m\\textasciicircum{}2 s)\",\"g/(m\\textasciicircum{}2 s)\",\"g/(m\\textasciicircum{}2 s)\",\"C\",\"m/s\",\"m/s\",\"m/s\",\"mg/m\\textasciicircum{}3\",\"g/m\\textasciicircum{}3\",\"kg/m\\textasciicircum{}3\",\"kPa\",\"C\",\"degrees\",\"m/s\",\"degrees\",\"V\",\"samples\",\"samples\",\"samples\",\"samples\",\"samples\",\"unitless\",\"mg/(m\\textasciicircum{}2 s)\",\"W/m\\textasciicircum{}2\",\"mg/(m\\textasciicircum{}2 s)\",\"mg/(m\\textasciicircum{}2 s)\",\"W/m\\textasciicircum{}2\",\"W/m\\textasciicircum{}2\",\"g/m\\textasciicircum{}3\",\"C\",\"percent\"'\n",
       "\\item '\"\",\"\",\"Smp\",\"Smp\",\"Smp\",\"Smp\",\"Smp\",\"Smp\",\"Smp\",\"Smp\",\"Smp\",\"Smp\",\"Smp\",\"Smp\",\"Smp\",\"Smp\",\"Smp\",\"Smp\",\"Smp\",\"Smp\",\"Smp\",\"Smp\",\"Smp\",\"Smp\",\"Smp\",\"Smp\",\"Smp\",\"Avg\",\"Avg\",\"Avg\",\"Smp\",\"Avg\",\"Smp\",\"Smp\",\"Avg\",\"Smp\",\"Smp\",\"Smp\",\"Avg\",\"Tot\",\"Tot\",\"Tot\",\"Tot\",\"Tot\",\"Avg\",\"Smp\",\"Smp\",\"Smp\",\"Smp\",\"Smp\",\"Smp\",\"Smp\",\"Smp\",\"Smp\"'\n",
       "\\item '\"2016-06-09 08:30:00\",44801,-0.1307632,37.03913,25.60763,23.3344,0.1181751,0.3133757,0.2528313,-0.01505542,-0.07113852,0.02118119,0.9986033,-0.03467703,0.004057795,1.13161,-0.09812042,0.3728273,1.872982,0.1896596,0.859367,-0.1936334,0.1459866,-0.01045346,-0.08244079,0.01417896,16.35466,-0.1112268,2.938537,-0.01629304,723.5212,9.118859,1.20336,100.2632,16.41071,92.16766,2.940639,18.63249,12.99674,0,0,0,0,0,50,-0.1936334,34.59666,0.0138582,0.04901194,0.5003809,1.942085,10.70669,15.89368,79.20306'\n",
       "\\item '\"2016-06-09 09:00:00\",44802,-0.1701145,54.49001,62.58549,59.215,0.1070421,0.298587,0.4525773,0.008037789,-0.1740882,0.05188449,0.8466863,0.06221153,-0.01557749,0.8815346,-0.08778278,0.3223213,2.784797,0.1742953,1.233275,-0.3134294,0.1825024,-0.001951572,-0.07789491,0.02002347,16.89225,0.2707642,2.812156,-0.01600124,719.7424,9.512256,1.20064,100.2749,17.09632,84.50031,2.825158,16.78185,13.02122,0,0,0,0,0,50,-0.3134294,48.85725,0.01951842,0.1237964,0.7311883,4.901563,11.05024,16.5283,78.67393'\n",
       "\\item '\"2016-06-09 09:30:00\",44803,-0.168336,60.68195,68.70016,64.93797,0.09754083,0.2851819,0.3828293,-0.06610256,-0.1205805,0.05701535,0.9924686,0.1423672,-0.020966,0.9882805,-0.07857981,0.3226543,2.501359,0.495024,0.7823009,-0.325776,0.1737764,-0.0131622,-0.04362109,0.02234407,17.18247,1.0204,2.391732,0.008349597,719.1043,9.466228,1.199341,100.2539,17.8618,66.89518,2.600309,21.11683,13.03483,0,0,0,0,0,50,-0.325776,54.51952,0.02178382,0.1356562,0.8121096,5.350313,10.98709,16.78893,77.00739'\n",
       "\\end{enumerate*}\n"
      ],
      "text/markdown": [
       "1. '\"TOA5\",\"3989\",\"CR1000\",\"3989\",\"CR1000.Std.08\",\"CPU:kerry.co2.2.0.cr1\",\"33162\",\"flux\"'\n",
       "2. '\"TIMESTAMP\",\"RECORD\",\"Fc_wpl\",\"LE_wpl\",\"Hs\",\"Hc\",\"tau\",\"u_star\",\"stdev_Ts\",\"cov_Ts_Ux\",\"cov_Ts_Uy\",\"cov_Ts_Uz\",\"stdev_Ux\",\"cov_Ux_Uy\",\"cov_Ux_Uz\",\"stdev_Uy\",\"cov_Uy_Uz\",\"stdev_Uz\",\"stdev_co2\",\"cov_co2_Ux\",\"cov_co2_Uy\",\"cov_co2_Uz\",\"stdev_h2o\",\"cov_h2o_Ux\",\"cov_h2o_Uy\",\"cov_h2o_Uz\",\"Ts_mean\",\"Ux_Avg\",\"Uy_Avg\",\"Uz_Avg\",\"co2_mean\",\"h2o_Avg\",\"rho_a_mean\",\"press_mean\",\"panel_temp_Avg\",\"wind_dir\",\"rslt_wnd_spd\",\"std_wnd_dir\",\"batt_volt_Avg\",\"irga_warnings\",\"chopper_f_Tot\",\"detector_f_Tot\",\"pll_f_Tot\",\"sync_f_Tot\",\"agc_Avg\",\"Fc_irga\",\"LE_irga\",\"co2_wpl_LE\",\"co2_wpl_H\",\"h2o_wpl_LE\",\"h2o_wpl_H\",\"h2o_hmp_mean\",\"t_hmp_mean\",\"rh_hmp_mean\"'\n",
       "3. '\"TS\",\"RN\",\"mg/(m^2 s)\",\"W/m^2\",\"W/m^2\",\"W/m^2\",\"kg/(m s^2)\",\"m/s\",\"C\",\"m C/s\",\"m C/s\",\"m C/s\",\"m/s\",\"(m/s)^2\",\"(m/s)^2\",\"m/s\",\"(m/s)^2\",\"m/s\",\"mg/m^3\",\"mg/(m^2 s)\",\"mg/(m^2 s)\",\"mg/(m^2 s)\",\"g/m^3\",\"g/(m^2 s)\",\"g/(m^2 s)\",\"g/(m^2 s)\",\"C\",\"m/s\",\"m/s\",\"m/s\",\"mg/m^3\",\"g/m^3\",\"kg/m^3\",\"kPa\",\"C\",\"degrees\",\"m/s\",\"degrees\",\"V\",\"samples\",\"samples\",\"samples\",\"samples\",\"samples\",\"unitless\",\"mg/(m^2 s)\",\"W/m^2\",\"mg/(m^2 s)\",\"mg/(m^2 s)\",\"W/m^2\",\"W/m^2\",\"g/m^3\",\"C\",\"percent\"'\n",
       "4. '\"\",\"\",\"Smp\",\"Smp\",\"Smp\",\"Smp\",\"Smp\",\"Smp\",\"Smp\",\"Smp\",\"Smp\",\"Smp\",\"Smp\",\"Smp\",\"Smp\",\"Smp\",\"Smp\",\"Smp\",\"Smp\",\"Smp\",\"Smp\",\"Smp\",\"Smp\",\"Smp\",\"Smp\",\"Smp\",\"Smp\",\"Avg\",\"Avg\",\"Avg\",\"Smp\",\"Avg\",\"Smp\",\"Smp\",\"Avg\",\"Smp\",\"Smp\",\"Smp\",\"Avg\",\"Tot\",\"Tot\",\"Tot\",\"Tot\",\"Tot\",\"Avg\",\"Smp\",\"Smp\",\"Smp\",\"Smp\",\"Smp\",\"Smp\",\"Smp\",\"Smp\",\"Smp\"'\n",
       "5. '\"2016-06-09 08:30:00\",44801,-0.1307632,37.03913,25.60763,23.3344,0.1181751,0.3133757,0.2528313,-0.01505542,-0.07113852,0.02118119,0.9986033,-0.03467703,0.004057795,1.13161,-0.09812042,0.3728273,1.872982,0.1896596,0.859367,-0.1936334,0.1459866,-0.01045346,-0.08244079,0.01417896,16.35466,-0.1112268,2.938537,-0.01629304,723.5212,9.118859,1.20336,100.2632,16.41071,92.16766,2.940639,18.63249,12.99674,0,0,0,0,0,50,-0.1936334,34.59666,0.0138582,0.04901194,0.5003809,1.942085,10.70669,15.89368,79.20306'\n",
       "6. '\"2016-06-09 09:00:00\",44802,-0.1701145,54.49001,62.58549,59.215,0.1070421,0.298587,0.4525773,0.008037789,-0.1740882,0.05188449,0.8466863,0.06221153,-0.01557749,0.8815346,-0.08778278,0.3223213,2.784797,0.1742953,1.233275,-0.3134294,0.1825024,-0.001951572,-0.07789491,0.02002347,16.89225,0.2707642,2.812156,-0.01600124,719.7424,9.512256,1.20064,100.2749,17.09632,84.50031,2.825158,16.78185,13.02122,0,0,0,0,0,50,-0.3134294,48.85725,0.01951842,0.1237964,0.7311883,4.901563,11.05024,16.5283,78.67393'\n",
       "7. '\"2016-06-09 09:30:00\",44803,-0.168336,60.68195,68.70016,64.93797,0.09754083,0.2851819,0.3828293,-0.06610256,-0.1205805,0.05701535,0.9924686,0.1423672,-0.020966,0.9882805,-0.07857981,0.3226543,2.501359,0.495024,0.7823009,-0.325776,0.1737764,-0.0131622,-0.04362109,0.02234407,17.18247,1.0204,2.391732,0.008349597,719.1043,9.466228,1.199341,100.2539,17.8618,66.89518,2.600309,21.11683,13.03483,0,0,0,0,0,50,-0.325776,54.51952,0.02178382,0.1356562,0.8121096,5.350313,10.98709,16.78893,77.00739'\n",
       "\n",
       "\n"
      ],
      "text/plain": [
       "[1] \"\\\"TOA5\\\",\\\"3989\\\",\\\"CR1000\\\",\\\"3989\\\",\\\"CR1000.Std.08\\\",\\\"CPU:kerry.co2.2.0.cr1\\\",\\\"33162\\\",\\\"flux\\\"\"                                                                                                                                                                                                                                                                                                                                                                                                                                                                                                                                                                                                                                                                  \n",
       "[2] \"\\\"TIMESTAMP\\\",\\\"RECORD\\\",\\\"Fc_wpl\\\",\\\"LE_wpl\\\",\\\"Hs\\\",\\\"Hc\\\",\\\"tau\\\",\\\"u_star\\\",\\\"stdev_Ts\\\",\\\"cov_Ts_Ux\\\",\\\"cov_Ts_Uy\\\",\\\"cov_Ts_Uz\\\",\\\"stdev_Ux\\\",\\\"cov_Ux_Uy\\\",\\\"cov_Ux_Uz\\\",\\\"stdev_Uy\\\",\\\"cov_Uy_Uz\\\",\\\"stdev_Uz\\\",\\\"stdev_co2\\\",\\\"cov_co2_Ux\\\",\\\"cov_co2_Uy\\\",\\\"cov_co2_Uz\\\",\\\"stdev_h2o\\\",\\\"cov_h2o_Ux\\\",\\\"cov_h2o_Uy\\\",\\\"cov_h2o_Uz\\\",\\\"Ts_mean\\\",\\\"Ux_Avg\\\",\\\"Uy_Avg\\\",\\\"Uz_Avg\\\",\\\"co2_mean\\\",\\\"h2o_Avg\\\",\\\"rho_a_mean\\\",\\\"press_mean\\\",\\\"panel_temp_Avg\\\",\\\"wind_dir\\\",\\\"rslt_wnd_spd\\\",\\\"std_wnd_dir\\\",\\\"batt_volt_Avg\\\",\\\"irga_warnings\\\",\\\"chopper_f_Tot\\\",\\\"detector_f_Tot\\\",\\\"pll_f_Tot\\\",\\\"sync_f_Tot\\\",\\\"agc_Avg\\\",\\\"Fc_irga\\\",\\\"LE_irga\\\",\\\"co2_wpl_LE\\\",\\\"co2_wpl_H\\\",\\\"h2o_wpl_LE\\\",\\\"h2o_wpl_H\\\",\\\"h2o_hmp_mean\\\",\\\"t_hmp_mean\\\",\\\"rh_hmp_mean\\\"\"\n",
       "[3] \"\\\"TS\\\",\\\"RN\\\",\\\"mg/(m^2 s)\\\",\\\"W/m^2\\\",\\\"W/m^2\\\",\\\"W/m^2\\\",\\\"kg/(m s^2)\\\",\\\"m/s\\\",\\\"C\\\",\\\"m C/s\\\",\\\"m C/s\\\",\\\"m C/s\\\",\\\"m/s\\\",\\\"(m/s)^2\\\",\\\"(m/s)^2\\\",\\\"m/s\\\",\\\"(m/s)^2\\\",\\\"m/s\\\",\\\"mg/m^3\\\",\\\"mg/(m^2 s)\\\",\\\"mg/(m^2 s)\\\",\\\"mg/(m^2 s)\\\",\\\"g/m^3\\\",\\\"g/(m^2 s)\\\",\\\"g/(m^2 s)\\\",\\\"g/(m^2 s)\\\",\\\"C\\\",\\\"m/s\\\",\\\"m/s\\\",\\\"m/s\\\",\\\"mg/m^3\\\",\\\"g/m^3\\\",\\\"kg/m^3\\\",\\\"kPa\\\",\\\"C\\\",\\\"degrees\\\",\\\"m/s\\\",\\\"degrees\\\",\\\"V\\\",\\\"samples\\\",\\\"samples\\\",\\\"samples\\\",\\\"samples\\\",\\\"samples\\\",\\\"unitless\\\",\\\"mg/(m^2 s)\\\",\\\"W/m^2\\\",\\\"mg/(m^2 s)\\\",\\\"mg/(m^2 s)\\\",\\\"W/m^2\\\",\\\"W/m^2\\\",\\\"g/m^3\\\",\\\"C\\\",\\\"percent\\\"\"                                                                                                                                                                       \n",
       "[4] \"\\\"\\\",\\\"\\\",\\\"Smp\\\",\\\"Smp\\\",\\\"Smp\\\",\\\"Smp\\\",\\\"Smp\\\",\\\"Smp\\\",\\\"Smp\\\",\\\"Smp\\\",\\\"Smp\\\",\\\"Smp\\\",\\\"Smp\\\",\\\"Smp\\\",\\\"Smp\\\",\\\"Smp\\\",\\\"Smp\\\",\\\"Smp\\\",\\\"Smp\\\",\\\"Smp\\\",\\\"Smp\\\",\\\"Smp\\\",\\\"Smp\\\",\\\"Smp\\\",\\\"Smp\\\",\\\"Smp\\\",\\\"Smp\\\",\\\"Avg\\\",\\\"Avg\\\",\\\"Avg\\\",\\\"Smp\\\",\\\"Avg\\\",\\\"Smp\\\",\\\"Smp\\\",\\\"Avg\\\",\\\"Smp\\\",\\\"Smp\\\",\\\"Smp\\\",\\\"Avg\\\",\\\"Tot\\\",\\\"Tot\\\",\\\"Tot\\\",\\\"Tot\\\",\\\"Tot\\\",\\\"Avg\\\",\\\"Smp\\\",\\\"Smp\\\",\\\"Smp\\\",\\\"Smp\\\",\\\"Smp\\\",\\\"Smp\\\",\\\"Smp\\\",\\\"Smp\\\",\\\"Smp\\\"\"                                                                                                                                                                                                                                                                                                                             \n",
       "[5] \"\\\"2016-06-09 08:30:00\\\",44801,-0.1307632,37.03913,25.60763,23.3344,0.1181751,0.3133757,0.2528313,-0.01505542,-0.07113852,0.02118119,0.9986033,-0.03467703,0.004057795,1.13161,-0.09812042,0.3728273,1.872982,0.1896596,0.859367,-0.1936334,0.1459866,-0.01045346,-0.08244079,0.01417896,16.35466,-0.1112268,2.938537,-0.01629304,723.5212,9.118859,1.20336,100.2632,16.41071,92.16766,2.940639,18.63249,12.99674,0,0,0,0,0,50,-0.1936334,34.59666,0.0138582,0.04901194,0.5003809,1.942085,10.70669,15.89368,79.20306\"                                                                                                                                                                                                                                                  \n",
       "[6] \"\\\"2016-06-09 09:00:00\\\",44802,-0.1701145,54.49001,62.58549,59.215,0.1070421,0.298587,0.4525773,0.008037789,-0.1740882,0.05188449,0.8466863,0.06221153,-0.01557749,0.8815346,-0.08778278,0.3223213,2.784797,0.1742953,1.233275,-0.3134294,0.1825024,-0.001951572,-0.07789491,0.02002347,16.89225,0.2707642,2.812156,-0.01600124,719.7424,9.512256,1.20064,100.2749,17.09632,84.50031,2.825158,16.78185,13.02122,0,0,0,0,0,50,-0.3134294,48.85725,0.01951842,0.1237964,0.7311883,4.901563,11.05024,16.5283,78.67393\"                                                                                                                                                                                                                                                     \n",
       "[7] \"\\\"2016-06-09 09:30:00\\\",44803,-0.168336,60.68195,68.70016,64.93797,0.09754083,0.2851819,0.3828293,-0.06610256,-0.1205805,0.05701535,0.9924686,0.1423672,-0.020966,0.9882805,-0.07857981,0.3226543,2.501359,0.495024,0.7823009,-0.325776,0.1737764,-0.0131622,-0.04362109,0.02234407,17.18247,1.0204,2.391732,0.008349597,719.1043,9.466228,1.199341,100.2539,17.8618,66.89518,2.600309,21.11683,13.03483,0,0,0,0,0,50,-0.325776,54.51952,0.02178382,0.1356562,0.8121096,5.350313,10.98709,16.78893,77.00739\"                                                                                                                                                                                                                                                           "
      ]
     },
     "metadata": {},
     "output_type": "display_data"
    }
   ],
   "source": [
    "readLines(\n",
    "  \"data/TOA5/TOA5_3989.flux (2021_09_17 14_49_19 UTC) (2016).dat\", n = 7\n",
    ")"
   ]
  },
  {
   "cell_type": "code",
   "execution_count": 9,
   "id": "7dfd3aa2",
   "metadata": {
    "vscode": {
     "languageId": "r"
    }
   },
   "outputs": [],
   "source": [
    "data_2016 <- read.csv(\n",
    "  \"data/TOA5/TOA5_3989.flux (2021_09_17 14_49_19 UTC) (2016).dat\",\n",
    "  skip = 4, header = FALSE\n",
    ")"
   ]
  },
  {
   "cell_type": "code",
   "execution_count": 10,
   "id": "dedfda84",
   "metadata": {
    "vscode": {
     "languageId": "r"
    }
   },
   "outputs": [],
   "source": [
    "names(data_2016) <- as.matrix(\n",
    "  read.csv(\n",
    "    \"data/TOA5/TOA5_3989.flux (2021_09_17 14_49_19 UTC) (2016).dat\",\n",
    "    skip = 1, header = FALSE, nrows = 1\n",
    "  )\n",
    ")"
   ]
  },
  {
   "cell_type": "code",
   "execution_count": 11,
   "id": "01ab65d2",
   "metadata": {
    "vscode": {
     "languageId": "r"
    }
   },
   "outputs": [
    {
     "data": {
      "text/html": [
       "<table class=\"dataframe\">\n",
       "<caption>A data.frame: 6 × 54</caption>\n",
       "<thead>\n",
       "\t<tr><th></th><th scope=col>TIMESTAMP</th><th scope=col>RECORD</th><th scope=col>Fc_wpl</th><th scope=col>LE_wpl</th><th scope=col>Hs</th><th scope=col>Hc</th><th scope=col>tau</th><th scope=col>u_star</th><th scope=col>stdev_Ts</th><th scope=col>cov_Ts_Ux</th><th scope=col>⋯</th><th scope=col>agc_Avg</th><th scope=col>Fc_irga</th><th scope=col>LE_irga</th><th scope=col>co2_wpl_LE</th><th scope=col>co2_wpl_H</th><th scope=col>h2o_wpl_LE</th><th scope=col>h2o_wpl_H</th><th scope=col>h2o_hmp_mean</th><th scope=col>t_hmp_mean</th><th scope=col>rh_hmp_mean</th></tr>\n",
       "\t<tr><th></th><th scope=col>&lt;chr&gt;</th><th scope=col>&lt;int&gt;</th><th scope=col>&lt;dbl&gt;</th><th scope=col>&lt;dbl&gt;</th><th scope=col>&lt;dbl&gt;</th><th scope=col>&lt;dbl&gt;</th><th scope=col>&lt;dbl&gt;</th><th scope=col>&lt;dbl&gt;</th><th scope=col>&lt;dbl&gt;</th><th scope=col>&lt;dbl&gt;</th><th scope=col>⋯</th><th scope=col>&lt;dbl&gt;</th><th scope=col>&lt;dbl&gt;</th><th scope=col>&lt;dbl&gt;</th><th scope=col>&lt;dbl&gt;</th><th scope=col>&lt;dbl&gt;</th><th scope=col>&lt;dbl&gt;</th><th scope=col>&lt;dbl&gt;</th><th scope=col>&lt;dbl&gt;</th><th scope=col>&lt;dbl&gt;</th><th scope=col>&lt;dbl&gt;</th></tr>\n",
       "</thead>\n",
       "<tbody>\n",
       "\t<tr><th scope=row>1</th><td>2016-06-09 08:30:00</td><td>44801</td><td>-0.1307632</td><td>37.03913</td><td> 25.60763</td><td> 23.33440</td><td>0.11817510</td><td>0.3133757</td><td>0.2528313</td><td>-0.015055420</td><td>⋯</td><td>50</td><td>-0.1936334</td><td>34.59666</td><td>0.01385820</td><td>0.04901194</td><td>0.5003809</td><td>1.942085</td><td>10.70669</td><td>15.89368</td><td>79.20306</td></tr>\n",
       "\t<tr><th scope=row>2</th><td>2016-06-09 09:00:00</td><td>44802</td><td>-0.1701145</td><td>54.49001</td><td> 62.58549</td><td> 59.21500</td><td>0.10704210</td><td>0.2985870</td><td>0.4525773</td><td> 0.008037789</td><td>⋯</td><td>50</td><td>-0.3134294</td><td>48.85725</td><td>0.01951842</td><td>0.12379640</td><td>0.7311883</td><td>4.901563</td><td>11.05024</td><td>16.52830</td><td>78.67393</td></tr>\n",
       "\t<tr><th scope=row>3</th><td>2016-06-09 09:30:00</td><td>44803</td><td>-0.1683360</td><td>60.68195</td><td> 68.70016</td><td> 64.93797</td><td>0.09754083</td><td>0.2851819</td><td>0.3828293</td><td>-0.066102560</td><td>⋯</td><td>50</td><td>-0.3257760</td><td>54.51952</td><td>0.02178382</td><td>0.13565620</td><td>0.8121096</td><td>5.350313</td><td>10.98709</td><td>16.78893</td><td>77.00739</td></tr>\n",
       "\t<tr><th scope=row>4</th><td>2016-06-09 10:00:00</td><td>44804</td><td>-0.1584697</td><td>58.81278</td><td> 63.49821</td><td> 59.84708</td><td>0.11498450</td><td>0.3098198</td><td>0.3687277</td><td>-0.118348000</td><td>⋯</td><td>50</td><td>-0.3044280</td><td>53.02826</td><td>0.02116952</td><td>0.12478870</td><td>0.7973850</td><td>4.987134</td><td>11.07698</td><td>17.09130</td><td>76.24122</td></tr>\n",
       "\t<tr><th scope=row>5</th><td>2016-06-09 10:30:00</td><td>44805</td><td>-0.1508173</td><td>51.99655</td><td> 66.14544</td><td> 62.90998</td><td>0.11189950</td><td>0.3056701</td><td>0.3978571</td><td>-0.078495500</td><td>⋯</td><td>50</td><td>-0.3005183</td><td>46.12586</td><td>0.01842926</td><td>0.13127170</td><td>0.6915368</td><td>5.179154</td><td>11.04192</td><td>17.11374</td><td>75.89794</td></tr>\n",
       "\t<tr><th scope=row>6</th><td>2016-06-09 11:00:00</td><td>44806</td><td>-0.2001991</td><td>79.05721</td><td>114.46250</td><td>109.52880</td><td>0.15611540</td><td>0.3614822</td><td>0.5429151</td><td> 0.020380990</td><td>⋯</td><td>50</td><td>-0.4554492</td><td>68.96523</td><td>0.02751203</td><td>0.22773800</td><td>1.0457320</td><td>9.046240</td><td>11.13956</td><td>17.71659</td><td>73.86147</td></tr>\n",
       "</tbody>\n",
       "</table>\n"
      ],
      "text/latex": [
       "A data.frame: 6 × 54\n",
       "\\begin{tabular}{r|lllllllllllllllllllll}\n",
       "  & TIMESTAMP & RECORD & Fc\\_wpl & LE\\_wpl & Hs & Hc & tau & u\\_star & stdev\\_Ts & cov\\_Ts\\_Ux & ⋯ & agc\\_Avg & Fc\\_irga & LE\\_irga & co2\\_wpl\\_LE & co2\\_wpl\\_H & h2o\\_wpl\\_LE & h2o\\_wpl\\_H & h2o\\_hmp\\_mean & t\\_hmp\\_mean & rh\\_hmp\\_mean\\\\\n",
       "  & <chr> & <int> & <dbl> & <dbl> & <dbl> & <dbl> & <dbl> & <dbl> & <dbl> & <dbl> & ⋯ & <dbl> & <dbl> & <dbl> & <dbl> & <dbl> & <dbl> & <dbl> & <dbl> & <dbl> & <dbl>\\\\\n",
       "\\hline\n",
       "\t1 & 2016-06-09 08:30:00 & 44801 & -0.1307632 & 37.03913 &  25.60763 &  23.33440 & 0.11817510 & 0.3133757 & 0.2528313 & -0.015055420 & ⋯ & 50 & -0.1936334 & 34.59666 & 0.01385820 & 0.04901194 & 0.5003809 & 1.942085 & 10.70669 & 15.89368 & 79.20306\\\\\n",
       "\t2 & 2016-06-09 09:00:00 & 44802 & -0.1701145 & 54.49001 &  62.58549 &  59.21500 & 0.10704210 & 0.2985870 & 0.4525773 &  0.008037789 & ⋯ & 50 & -0.3134294 & 48.85725 & 0.01951842 & 0.12379640 & 0.7311883 & 4.901563 & 11.05024 & 16.52830 & 78.67393\\\\\n",
       "\t3 & 2016-06-09 09:30:00 & 44803 & -0.1683360 & 60.68195 &  68.70016 &  64.93797 & 0.09754083 & 0.2851819 & 0.3828293 & -0.066102560 & ⋯ & 50 & -0.3257760 & 54.51952 & 0.02178382 & 0.13565620 & 0.8121096 & 5.350313 & 10.98709 & 16.78893 & 77.00739\\\\\n",
       "\t4 & 2016-06-09 10:00:00 & 44804 & -0.1584697 & 58.81278 &  63.49821 &  59.84708 & 0.11498450 & 0.3098198 & 0.3687277 & -0.118348000 & ⋯ & 50 & -0.3044280 & 53.02826 & 0.02116952 & 0.12478870 & 0.7973850 & 4.987134 & 11.07698 & 17.09130 & 76.24122\\\\\n",
       "\t5 & 2016-06-09 10:30:00 & 44805 & -0.1508173 & 51.99655 &  66.14544 &  62.90998 & 0.11189950 & 0.3056701 & 0.3978571 & -0.078495500 & ⋯ & 50 & -0.3005183 & 46.12586 & 0.01842926 & 0.13127170 & 0.6915368 & 5.179154 & 11.04192 & 17.11374 & 75.89794\\\\\n",
       "\t6 & 2016-06-09 11:00:00 & 44806 & -0.2001991 & 79.05721 & 114.46250 & 109.52880 & 0.15611540 & 0.3614822 & 0.5429151 &  0.020380990 & ⋯ & 50 & -0.4554492 & 68.96523 & 0.02751203 & 0.22773800 & 1.0457320 & 9.046240 & 11.13956 & 17.71659 & 73.86147\\\\\n",
       "\\end{tabular}\n"
      ],
      "text/markdown": [
       "\n",
       "A data.frame: 6 × 54\n",
       "\n",
       "| <!--/--> | TIMESTAMP &lt;chr&gt; | RECORD &lt;int&gt; | Fc_wpl &lt;dbl&gt; | LE_wpl &lt;dbl&gt; | Hs &lt;dbl&gt; | Hc &lt;dbl&gt; | tau &lt;dbl&gt; | u_star &lt;dbl&gt; | stdev_Ts &lt;dbl&gt; | cov_Ts_Ux &lt;dbl&gt; | ⋯ ⋯ | agc_Avg &lt;dbl&gt; | Fc_irga &lt;dbl&gt; | LE_irga &lt;dbl&gt; | co2_wpl_LE &lt;dbl&gt; | co2_wpl_H &lt;dbl&gt; | h2o_wpl_LE &lt;dbl&gt; | h2o_wpl_H &lt;dbl&gt; | h2o_hmp_mean &lt;dbl&gt; | t_hmp_mean &lt;dbl&gt; | rh_hmp_mean &lt;dbl&gt; |\n",
       "|---|---|---|---|---|---|---|---|---|---|---|---|---|---|---|---|---|---|---|---|---|---|\n",
       "| 1 | 2016-06-09 08:30:00 | 44801 | -0.1307632 | 37.03913 |  25.60763 |  23.33440 | 0.11817510 | 0.3133757 | 0.2528313 | -0.015055420 | ⋯ | 50 | -0.1936334 | 34.59666 | 0.01385820 | 0.04901194 | 0.5003809 | 1.942085 | 10.70669 | 15.89368 | 79.20306 |\n",
       "| 2 | 2016-06-09 09:00:00 | 44802 | -0.1701145 | 54.49001 |  62.58549 |  59.21500 | 0.10704210 | 0.2985870 | 0.4525773 |  0.008037789 | ⋯ | 50 | -0.3134294 | 48.85725 | 0.01951842 | 0.12379640 | 0.7311883 | 4.901563 | 11.05024 | 16.52830 | 78.67393 |\n",
       "| 3 | 2016-06-09 09:30:00 | 44803 | -0.1683360 | 60.68195 |  68.70016 |  64.93797 | 0.09754083 | 0.2851819 | 0.3828293 | -0.066102560 | ⋯ | 50 | -0.3257760 | 54.51952 | 0.02178382 | 0.13565620 | 0.8121096 | 5.350313 | 10.98709 | 16.78893 | 77.00739 |\n",
       "| 4 | 2016-06-09 10:00:00 | 44804 | -0.1584697 | 58.81278 |  63.49821 |  59.84708 | 0.11498450 | 0.3098198 | 0.3687277 | -0.118348000 | ⋯ | 50 | -0.3044280 | 53.02826 | 0.02116952 | 0.12478870 | 0.7973850 | 4.987134 | 11.07698 | 17.09130 | 76.24122 |\n",
       "| 5 | 2016-06-09 10:30:00 | 44805 | -0.1508173 | 51.99655 |  66.14544 |  62.90998 | 0.11189950 | 0.3056701 | 0.3978571 | -0.078495500 | ⋯ | 50 | -0.3005183 | 46.12586 | 0.01842926 | 0.13127170 | 0.6915368 | 5.179154 | 11.04192 | 17.11374 | 75.89794 |\n",
       "| 6 | 2016-06-09 11:00:00 | 44806 | -0.2001991 | 79.05721 | 114.46250 | 109.52880 | 0.15611540 | 0.3614822 | 0.5429151 |  0.020380990 | ⋯ | 50 | -0.4554492 | 68.96523 | 0.02751203 | 0.22773800 | 1.0457320 | 9.046240 | 11.13956 | 17.71659 | 73.86147 |\n",
       "\n"
      ],
      "text/plain": [
       "  TIMESTAMP           RECORD Fc_wpl     LE_wpl   Hs        Hc        tau       \n",
       "1 2016-06-09 08:30:00 44801  -0.1307632 37.03913  25.60763  23.33440 0.11817510\n",
       "2 2016-06-09 09:00:00 44802  -0.1701145 54.49001  62.58549  59.21500 0.10704210\n",
       "3 2016-06-09 09:30:00 44803  -0.1683360 60.68195  68.70016  64.93797 0.09754083\n",
       "4 2016-06-09 10:00:00 44804  -0.1584697 58.81278  63.49821  59.84708 0.11498450\n",
       "5 2016-06-09 10:30:00 44805  -0.1508173 51.99655  66.14544  62.90998 0.11189950\n",
       "6 2016-06-09 11:00:00 44806  -0.2001991 79.05721 114.46250 109.52880 0.15611540\n",
       "  u_star    stdev_Ts  cov_Ts_Ux    ⋯ agc_Avg Fc_irga    LE_irga  co2_wpl_LE\n",
       "1 0.3133757 0.2528313 -0.015055420 ⋯ 50      -0.1936334 34.59666 0.01385820\n",
       "2 0.2985870 0.4525773  0.008037789 ⋯ 50      -0.3134294 48.85725 0.01951842\n",
       "3 0.2851819 0.3828293 -0.066102560 ⋯ 50      -0.3257760 54.51952 0.02178382\n",
       "4 0.3098198 0.3687277 -0.118348000 ⋯ 50      -0.3044280 53.02826 0.02116952\n",
       "5 0.3056701 0.3978571 -0.078495500 ⋯ 50      -0.3005183 46.12586 0.01842926\n",
       "6 0.3614822 0.5429151  0.020380990 ⋯ 50      -0.4554492 68.96523 0.02751203\n",
       "  co2_wpl_H  h2o_wpl_LE h2o_wpl_H h2o_hmp_mean t_hmp_mean rh_hmp_mean\n",
       "1 0.04901194 0.5003809  1.942085  10.70669     15.89368   79.20306   \n",
       "2 0.12379640 0.7311883  4.901563  11.05024     16.52830   78.67393   \n",
       "3 0.13565620 0.8121096  5.350313  10.98709     16.78893   77.00739   \n",
       "4 0.12478870 0.7973850  4.987134  11.07698     17.09130   76.24122   \n",
       "5 0.13127170 0.6915368  5.179154  11.04192     17.11374   75.89794   \n",
       "6 0.22773800 1.0457320  9.046240  11.13956     17.71659   73.86147   "
      ]
     },
     "metadata": {},
     "output_type": "display_data"
    }
   ],
   "source": [
    "head(data_2016)"
   ]
  },
  {
   "cell_type": "code",
   "execution_count": 19,
   "id": "da1082bf",
   "metadata": {
    "vscode": {
     "languageId": "r"
    }
   },
   "outputs": [
    {
     "data": {
      "text/html": [
       "1355"
      ],
      "text/latex": [
       "1355"
      ],
      "text/markdown": [
       "1355"
      ],
      "text/plain": [
       "[1] 1355"
      ]
     },
     "metadata": {},
     "output_type": "display_data"
    }
   ],
   "source": [
    "nrow(data_2016)"
   ]
  },
  {
   "cell_type": "markdown",
   "id": "742868d9",
   "metadata": {},
   "source": [
    "## Merged"
   ]
  },
  {
   "cell_type": "code",
   "execution_count": 11,
   "id": "c968dd78",
   "metadata": {
    "vscode": {
     "languageId": "r"
    }
   },
   "outputs": [],
   "source": [
    "data_merged <- merge(merge(data_2015, data_2016, all = TRUE), data, all = TRUE)"
   ]
  },
  {
   "cell_type": "code",
   "execution_count": 13,
   "id": "aacefd61",
   "metadata": {
    "vscode": {
     "languageId": "r"
    }
   },
   "outputs": [
    {
     "data": {
      "text/html": [
       "<table class=\"dataframe\">\n",
       "<caption>A data.frame: 6 × 54</caption>\n",
       "<thead>\n",
       "\t<tr><th></th><th scope=col>TIMESTAMP</th><th scope=col>RECORD</th><th scope=col>Fc_wpl</th><th scope=col>LE_wpl</th><th scope=col>Hs</th><th scope=col>Hc</th><th scope=col>tau</th><th scope=col>u_star</th><th scope=col>stdev_Ts</th><th scope=col>cov_Ts_Ux</th><th scope=col>⋯</th><th scope=col>agc_Avg</th><th scope=col>Fc_irga</th><th scope=col>LE_irga</th><th scope=col>co2_wpl_LE</th><th scope=col>co2_wpl_H</th><th scope=col>h2o_wpl_LE</th><th scope=col>h2o_wpl_H</th><th scope=col>h2o_hmp_mean</th><th scope=col>t_hmp_mean</th><th scope=col>rh_hmp_mean</th></tr>\n",
       "\t<tr><th></th><th scope=col>&lt;chr&gt;</th><th scope=col>&lt;int&gt;</th><th scope=col>&lt;dbl&gt;</th><th scope=col>&lt;dbl&gt;</th><th scope=col>&lt;dbl&gt;</th><th scope=col>&lt;dbl&gt;</th><th scope=col>&lt;dbl&gt;</th><th scope=col>&lt;dbl&gt;</th><th scope=col>&lt;dbl&gt;</th><th scope=col>&lt;dbl&gt;</th><th scope=col>⋯</th><th scope=col>&lt;dbl&gt;</th><th scope=col>&lt;dbl&gt;</th><th scope=col>&lt;dbl&gt;</th><th scope=col>&lt;dbl&gt;</th><th scope=col>&lt;dbl&gt;</th><th scope=col>&lt;dbl&gt;</th><th scope=col>&lt;dbl&gt;</th><th scope=col>&lt;dbl&gt;</th><th scope=col>&lt;dbl&gt;</th><th scope=col>&lt;dbl&gt;</th></tr>\n",
       "</thead>\n",
       "<tbody>\n",
       "\t<tr><th scope=row>1</th><td>2014-11-19 12:30:00</td><td>29287</td><td>-0.02738776</td><td> 41.111780</td><td> 27.612760</td><td> 24.769250</td><td>0.20959440</td><td>0.4146389</td><td>0.3397227</td><td>-0.014964160</td><td>⋯</td><td>56.00000</td><td>-0.083516550</td><td> 39.158870</td><td> 0.01285764</td><td> 0.04327115</td><td> 0.41098700</td><td> 1.5419220</td><td>7.890273</td><td>11.296430</td><td>77.49195</td></tr>\n",
       "\t<tr><th scope=row>2</th><td>2014-11-19 13:00:00</td><td>29288</td><td>-0.03498442</td><td> 46.158910</td><td> 28.565690</td><td> 25.412010</td><td>0.16175210</td><td>0.3645584</td><td>0.2557280</td><td> 0.008030742</td><td>⋯</td><td>56.00000</td><td>-0.093781110</td><td> 44.074960</td><td> 0.01447388</td><td> 0.04432281</td><td> 0.46911450</td><td> 1.6148310</td><td>7.987618</td><td>11.809930</td><td>75.96396</td></tr>\n",
       "\t<tr><th scope=row>3</th><td>2014-11-19 13:30:00</td><td>29289</td><td> 0.18082340</td><td> -6.167122</td><td>-24.502530</td><td>-23.763400</td><td>0.18955480</td><td>0.3944006</td><td>0.8363222</td><td>-1.465492000</td><td>⋯</td><td>56.00000</td><td> 0.224099700</td><td> -4.744839</td><td>-0.00156682</td><td>-0.04170947</td><td>-0.04999511</td><td>-1.3722880</td><td>7.917885</td><td>11.580260</td><td>76.34363</td></tr>\n",
       "\t<tr><th scope=row>4</th><td>2014-11-19 14:00:00</td><td>29290</td><td> 2.18144700</td><td>-36.546420</td><td> -8.166809</td><td> -5.908159</td><td>0.07494499</td><td>0.2468190</td><td>0.8353181</td><td>-0.894337100</td><td>⋯</td><td>59.64111</td><td> 2.224159000</td><td>-35.732150</td><td>-0.02265313</td><td>-0.02005932</td><td>-0.36612430</td><td>-0.4481432</td><td>7.774566</td><td> 9.416086</td><td>85.95309</td></tr>\n",
       "\t<tr><th scope=row>5</th><td>2014-11-19 14:30:00</td><td>29291</td><td>-0.07790546</td><td> 37.358010</td><td> -5.191130</td><td> -7.278997</td><td>0.03453151</td><td>0.1677954</td><td>0.3394781</td><td>-0.030340910</td><td>⋯</td><td>56.00000</td><td>-0.077377380</td><td> 37.254240</td><td> 0.01248777</td><td>-0.01301585</td><td> 0.40426460</td><td>-0.3004996</td><td>8.205495</td><td>10.590230</td><td>84.24697</td></tr>\n",
       "\t<tr><th scope=row>6</th><td>2014-11-19 15:00:00</td><td>29292</td><td>-0.01854837</td><td> 29.914260</td><td>-19.607910</td><td>-21.032380</td><td>0.08993658</td><td>0.2712201</td><td>0.2265035</td><td>-0.108646600</td><td>⋯</td><td>56.00000</td><td> 0.008064821</td><td> 30.713200</td><td> 0.01006716</td><td>-0.03668035</td><td> 0.33333760</td><td>-1.1322800</td><td>8.181075</td><td>11.328960</td><td>80.18222</td></tr>\n",
       "</tbody>\n",
       "</table>\n"
      ],
      "text/latex": [
       "A data.frame: 6 × 54\n",
       "\\begin{tabular}{r|lllllllllllllllllllll}\n",
       "  & TIMESTAMP & RECORD & Fc\\_wpl & LE\\_wpl & Hs & Hc & tau & u\\_star & stdev\\_Ts & cov\\_Ts\\_Ux & ⋯ & agc\\_Avg & Fc\\_irga & LE\\_irga & co2\\_wpl\\_LE & co2\\_wpl\\_H & h2o\\_wpl\\_LE & h2o\\_wpl\\_H & h2o\\_hmp\\_mean & t\\_hmp\\_mean & rh\\_hmp\\_mean\\\\\n",
       "  & <chr> & <int> & <dbl> & <dbl> & <dbl> & <dbl> & <dbl> & <dbl> & <dbl> & <dbl> & ⋯ & <dbl> & <dbl> & <dbl> & <dbl> & <dbl> & <dbl> & <dbl> & <dbl> & <dbl> & <dbl>\\\\\n",
       "\\hline\n",
       "\t1 & 2014-11-19 12:30:00 & 29287 & -0.02738776 &  41.111780 &  27.612760 &  24.769250 & 0.20959440 & 0.4146389 & 0.3397227 & -0.014964160 & ⋯ & 56.00000 & -0.083516550 &  39.158870 &  0.01285764 &  0.04327115 &  0.41098700 &  1.5419220 & 7.890273 & 11.296430 & 77.49195\\\\\n",
       "\t2 & 2014-11-19 13:00:00 & 29288 & -0.03498442 &  46.158910 &  28.565690 &  25.412010 & 0.16175210 & 0.3645584 & 0.2557280 &  0.008030742 & ⋯ & 56.00000 & -0.093781110 &  44.074960 &  0.01447388 &  0.04432281 &  0.46911450 &  1.6148310 & 7.987618 & 11.809930 & 75.96396\\\\\n",
       "\t3 & 2014-11-19 13:30:00 & 29289 &  0.18082340 &  -6.167122 & -24.502530 & -23.763400 & 0.18955480 & 0.3944006 & 0.8363222 & -1.465492000 & ⋯ & 56.00000 &  0.224099700 &  -4.744839 & -0.00156682 & -0.04170947 & -0.04999511 & -1.3722880 & 7.917885 & 11.580260 & 76.34363\\\\\n",
       "\t4 & 2014-11-19 14:00:00 & 29290 &  2.18144700 & -36.546420 &  -8.166809 &  -5.908159 & 0.07494499 & 0.2468190 & 0.8353181 & -0.894337100 & ⋯ & 59.64111 &  2.224159000 & -35.732150 & -0.02265313 & -0.02005932 & -0.36612430 & -0.4481432 & 7.774566 &  9.416086 & 85.95309\\\\\n",
       "\t5 & 2014-11-19 14:30:00 & 29291 & -0.07790546 &  37.358010 &  -5.191130 &  -7.278997 & 0.03453151 & 0.1677954 & 0.3394781 & -0.030340910 & ⋯ & 56.00000 & -0.077377380 &  37.254240 &  0.01248777 & -0.01301585 &  0.40426460 & -0.3004996 & 8.205495 & 10.590230 & 84.24697\\\\\n",
       "\t6 & 2014-11-19 15:00:00 & 29292 & -0.01854837 &  29.914260 & -19.607910 & -21.032380 & 0.08993658 & 0.2712201 & 0.2265035 & -0.108646600 & ⋯ & 56.00000 &  0.008064821 &  30.713200 &  0.01006716 & -0.03668035 &  0.33333760 & -1.1322800 & 8.181075 & 11.328960 & 80.18222\\\\\n",
       "\\end{tabular}\n"
      ],
      "text/markdown": [
       "\n",
       "A data.frame: 6 × 54\n",
       "\n",
       "| <!--/--> | TIMESTAMP &lt;chr&gt; | RECORD &lt;int&gt; | Fc_wpl &lt;dbl&gt; | LE_wpl &lt;dbl&gt; | Hs &lt;dbl&gt; | Hc &lt;dbl&gt; | tau &lt;dbl&gt; | u_star &lt;dbl&gt; | stdev_Ts &lt;dbl&gt; | cov_Ts_Ux &lt;dbl&gt; | ⋯ ⋯ | agc_Avg &lt;dbl&gt; | Fc_irga &lt;dbl&gt; | LE_irga &lt;dbl&gt; | co2_wpl_LE &lt;dbl&gt; | co2_wpl_H &lt;dbl&gt; | h2o_wpl_LE &lt;dbl&gt; | h2o_wpl_H &lt;dbl&gt; | h2o_hmp_mean &lt;dbl&gt; | t_hmp_mean &lt;dbl&gt; | rh_hmp_mean &lt;dbl&gt; |\n",
       "|---|---|---|---|---|---|---|---|---|---|---|---|---|---|---|---|---|---|---|---|---|---|\n",
       "| 1 | 2014-11-19 12:30:00 | 29287 | -0.02738776 |  41.111780 |  27.612760 |  24.769250 | 0.20959440 | 0.4146389 | 0.3397227 | -0.014964160 | ⋯ | 56.00000 | -0.083516550 |  39.158870 |  0.01285764 |  0.04327115 |  0.41098700 |  1.5419220 | 7.890273 | 11.296430 | 77.49195 |\n",
       "| 2 | 2014-11-19 13:00:00 | 29288 | -0.03498442 |  46.158910 |  28.565690 |  25.412010 | 0.16175210 | 0.3645584 | 0.2557280 |  0.008030742 | ⋯ | 56.00000 | -0.093781110 |  44.074960 |  0.01447388 |  0.04432281 |  0.46911450 |  1.6148310 | 7.987618 | 11.809930 | 75.96396 |\n",
       "| 3 | 2014-11-19 13:30:00 | 29289 |  0.18082340 |  -6.167122 | -24.502530 | -23.763400 | 0.18955480 | 0.3944006 | 0.8363222 | -1.465492000 | ⋯ | 56.00000 |  0.224099700 |  -4.744839 | -0.00156682 | -0.04170947 | -0.04999511 | -1.3722880 | 7.917885 | 11.580260 | 76.34363 |\n",
       "| 4 | 2014-11-19 14:00:00 | 29290 |  2.18144700 | -36.546420 |  -8.166809 |  -5.908159 | 0.07494499 | 0.2468190 | 0.8353181 | -0.894337100 | ⋯ | 59.64111 |  2.224159000 | -35.732150 | -0.02265313 | -0.02005932 | -0.36612430 | -0.4481432 | 7.774566 |  9.416086 | 85.95309 |\n",
       "| 5 | 2014-11-19 14:30:00 | 29291 | -0.07790546 |  37.358010 |  -5.191130 |  -7.278997 | 0.03453151 | 0.1677954 | 0.3394781 | -0.030340910 | ⋯ | 56.00000 | -0.077377380 |  37.254240 |  0.01248777 | -0.01301585 |  0.40426460 | -0.3004996 | 8.205495 | 10.590230 | 84.24697 |\n",
       "| 6 | 2014-11-19 15:00:00 | 29292 | -0.01854837 |  29.914260 | -19.607910 | -21.032380 | 0.08993658 | 0.2712201 | 0.2265035 | -0.108646600 | ⋯ | 56.00000 |  0.008064821 |  30.713200 |  0.01006716 | -0.03668035 |  0.33333760 | -1.1322800 | 8.181075 | 11.328960 | 80.18222 |\n",
       "\n"
      ],
      "text/plain": [
       "  TIMESTAMP           RECORD Fc_wpl      LE_wpl     Hs         Hc        \n",
       "1 2014-11-19 12:30:00 29287  -0.02738776  41.111780  27.612760  24.769250\n",
       "2 2014-11-19 13:00:00 29288  -0.03498442  46.158910  28.565690  25.412010\n",
       "3 2014-11-19 13:30:00 29289   0.18082340  -6.167122 -24.502530 -23.763400\n",
       "4 2014-11-19 14:00:00 29290   2.18144700 -36.546420  -8.166809  -5.908159\n",
       "5 2014-11-19 14:30:00 29291  -0.07790546  37.358010  -5.191130  -7.278997\n",
       "6 2014-11-19 15:00:00 29292  -0.01854837  29.914260 -19.607910 -21.032380\n",
       "  tau        u_star    stdev_Ts  cov_Ts_Ux    ⋯ agc_Avg  Fc_irga     \n",
       "1 0.20959440 0.4146389 0.3397227 -0.014964160 ⋯ 56.00000 -0.083516550\n",
       "2 0.16175210 0.3645584 0.2557280  0.008030742 ⋯ 56.00000 -0.093781110\n",
       "3 0.18955480 0.3944006 0.8363222 -1.465492000 ⋯ 56.00000  0.224099700\n",
       "4 0.07494499 0.2468190 0.8353181 -0.894337100 ⋯ 59.64111  2.224159000\n",
       "5 0.03453151 0.1677954 0.3394781 -0.030340910 ⋯ 56.00000 -0.077377380\n",
       "6 0.08993658 0.2712201 0.2265035 -0.108646600 ⋯ 56.00000  0.008064821\n",
       "  LE_irga    co2_wpl_LE  co2_wpl_H   h2o_wpl_LE  h2o_wpl_H  h2o_hmp_mean\n",
       "1  39.158870  0.01285764  0.04327115  0.41098700  1.5419220 7.890273    \n",
       "2  44.074960  0.01447388  0.04432281  0.46911450  1.6148310 7.987618    \n",
       "3  -4.744839 -0.00156682 -0.04170947 -0.04999511 -1.3722880 7.917885    \n",
       "4 -35.732150 -0.02265313 -0.02005932 -0.36612430 -0.4481432 7.774566    \n",
       "5  37.254240  0.01248777 -0.01301585  0.40426460 -0.3004996 8.205495    \n",
       "6  30.713200  0.01006716 -0.03668035  0.33333760 -1.1322800 8.181075    \n",
       "  t_hmp_mean rh_hmp_mean\n",
       "1 11.296430  77.49195   \n",
       "2 11.809930  75.96396   \n",
       "3 11.580260  76.34363   \n",
       "4  9.416086  85.95309   \n",
       "5 10.590230  84.24697   \n",
       "6 11.328960  80.18222   "
      ]
     },
     "metadata": {},
     "output_type": "display_data"
    }
   ],
   "source": [
    "head(data_merged)"
   ]
  },
  {
   "cell_type": "code",
   "execution_count": 14,
   "id": "fd48e082",
   "metadata": {
    "vscode": {
     "languageId": "r"
    }
   },
   "outputs": [
    {
     "data": {
      "text/html": [
       "3023"
      ],
      "text/latex": [
       "3023"
      ],
      "text/markdown": [
       "3023"
      ],
      "text/plain": [
       "[1] 3023"
      ]
     },
     "metadata": {},
     "output_type": "display_data"
    }
   ],
   "source": [
    "nrow(data_merged)"
   ]
  },
  {
   "cell_type": "code",
   "execution_count": 15,
   "id": "2b3f95a2",
   "metadata": {
    "vscode": {
     "languageId": "r"
    }
   },
   "outputs": [
    {
     "data": {
      "text/html": [
       "TRUE"
      ],
      "text/latex": [
       "TRUE"
      ],
      "text/markdown": [
       "TRUE"
      ],
      "text/plain": [
       "[1] TRUE"
      ]
     },
     "metadata": {},
     "output_type": "display_data"
    }
   ],
   "source": [
    "nrow(data_merged) == nrow(data) + nrow(data_2015) + nrow(data_2016)"
   ]
  },
  {
   "cell_type": "code",
   "execution_count": 12,
   "id": "87e90ef0",
   "metadata": {
    "vscode": {
     "languageId": "r"
    }
   },
   "outputs": [],
   "source": [
    "write.table(\n",
    "  data_merged, \"data/CSV/TOA5_3989.flux.csv\", row.names = FALSE,\n",
    "  sep = \",\", quote = FALSE\n",
    ")"
   ]
  },
  {
   "cell_type": "code",
   "execution_count": 17,
   "id": "7ac4be8f",
   "metadata": {
    "vscode": {
     "languageId": "r"
    }
   },
   "outputs": [],
   "source": [
    "# format timestamps\n",
    "# specify GMT as tz to prevent DST adjustments\n",
    "data_merged$TIMESTAMP <- as.POSIXct(\n",
    "  data_merged$TIMESTAMP, format = \"%Y-%m-%d %H:%M:%S\", tz = \"GMT\"\n",
    ")"
   ]
  },
  {
   "cell_type": "code",
   "execution_count": 18,
   "id": "733a49c2",
   "metadata": {
    "vscode": {
     "languageId": "r"
    }
   },
   "outputs": [
    {
     "data": {
      "text/plain": [
       "   TIMESTAMP                         RECORD          Fc_wpl          \n",
       " Min.   :2014-11-19 12:30:00.0   Min.   :29287   Min.   :-6.065e+07  \n",
       " 1st Qu.:2015-04-25 14:45:00.0   1st Qu.:33968   1st Qu.: 0.000e+00  \n",
       " Median :2015-05-11 08:30:00.0   Median :34724   Median : 0.000e+00  \n",
       " Mean   :2015-10-19 05:30:25.5   Mean   :38761   Mean   : 1.614e+15  \n",
       " 3rd Qu.:2016-06-21 19:45:00.0   3rd Qu.:45400   3rd Qu.: 0.000e+00  \n",
       " Max.   :2016-07-07 13:30:00.0   Max.   :46155   Max.   : 4.743e+18  \n",
       "                                                 NA's   :84          \n",
       "     LE_wpl                Hs                Hc                 tau         \n",
       " Min.   :-1517.564   Min.   :-360.39   Min.   :-346.1101   Min.   :0.00014  \n",
       " 1st Qu.:    4.401   1st Qu.: -15.90   1st Qu.: -16.8182   1st Qu.:0.04341  \n",
       " Median :   29.035   Median :   0.28   Median :  -0.2508   Median :0.11836  \n",
       " Mean   :   49.264   Mean   :  24.73   Mean   :  21.6757   Mean   :0.18354  \n",
       " 3rd Qu.:   80.409   3rd Qu.:  52.26   3rd Qu.:  48.1234   3rd Qu.:0.23182  \n",
       " Max.   : 3450.499   Max.   :1056.91   Max.   : 996.0977   Max.   :2.87540  \n",
       " NA's   :84          NA's   :84        NA's   :84          NA's   :84       \n",
       "     u_star           stdev_Ts         cov_Ts_Ux          cov_Ts_Uy       \n",
       " Min.   :0.01061   Min.   :0.03464   Min.   :-3.05725   Min.   :-2.99900  \n",
       " 1st Qu.:0.18925   1st Qu.:0.18773   1st Qu.:-0.08433   1st Qu.:-0.05237  \n",
       " Median :0.31291   Median :0.31891   Median :-0.00306   Median : 0.01000  \n",
       " Mean   :0.33412   Mean   :0.42384   Mean   :-0.01270   Mean   : 0.00862  \n",
       " 3rd Qu.:0.43717   3rd Qu.:0.58193   3rd Qu.: 0.06364   3rd Qu.: 0.09074  \n",
       " Max.   :1.55185   Max.   :2.57834   Max.   : 1.94764   Max.   : 2.55940  \n",
       " NA's   :84        NA's   :84        NA's   :84         NA's   :84        \n",
       "   cov_Ts_Uz           stdev_Ux        cov_Ux_Uy          cov_Ux_Uz       \n",
       " Min.   :-0.30101   Min.   :0.1198   Min.   :-4.62318   Min.   :-1.79458  \n",
       " 1st Qu.:-0.01303   1st Qu.:0.7306   1st Qu.:-0.17092   1st Qu.:-0.09360  \n",
       " Median : 0.00023   Median :1.0404   Median :-0.01374   Median :-0.01963  \n",
       " Mean   : 0.02042   Mean   :1.0765   Mean   :-0.04139   Mean   :-0.03284  \n",
       " 3rd Qu.: 0.04275   3rd Qu.:1.3535   3rd Qu.: 0.12057   3rd Qu.: 0.01043  \n",
       " Max.   : 0.88263   Max.   :3.2504   Max.   : 6.46954   Max.   : 1.20664  \n",
       " NA's   :84         NA's   :84       NA's   :84         NA's   :84        \n",
       "    stdev_Uy        cov_Uy_Uz           stdev_Uz         stdev_co2        \n",
       " Min.   :0.1294   Min.   :-2.08414   Min.   :0.02824   Min.   :0.000e+00  \n",
       " 1st Qu.:0.7395   1st Qu.:-0.05374   1st Qu.:0.25795   1st Qu.:2.000e+00  \n",
       " Median :1.0119   Median :-0.00416   Median :0.38458   Median :4.000e+00  \n",
       " Mean   :1.0746   Mean   :-0.02712   Mean   :0.39554   Mean   :1.131e+06  \n",
       " 3rd Qu.:1.3382   3rd Qu.: 0.03305   3rd Qu.:0.51426   3rd Qu.:6.200e+01  \n",
       " Max.   :3.0788   Max.   : 0.89969   Max.   :1.03345   Max.   :3.415e+09  \n",
       " NA's   :84       NA's   :84         NA's   :84        NA's   :1          \n",
       "   cov_co2_Ux           cov_co2_Uy           cov_co2_Uz        \n",
       " Min.   :-1.383e+07   Min.   :-3.045e+20   Min.   :-6.066e+07  \n",
       " 1st Qu.:-1.000e+00   1st Qu.:-1.000e+00   1st Qu.: 0.000e+00  \n",
       " Median : 0.000e+00   Median : 0.000e+00   Median : 0.000e+00  \n",
       " Mean   : 6.913e+16   Mean   :-1.036e+17   Mean   : 1.618e+15  \n",
       " 3rd Qu.: 1.000e+00   3rd Qu.: 1.000e+00   3rd Qu.: 0.000e+00  \n",
       " Max.   : 2.032e+20   Max.   : 4.511e+06   Max.   : 4.755e+18  \n",
       " NA's   :84           NA's   :84           NA's   :84          \n",
       "   stdev_h2o           cov_h2o_Ux          cov_h2o_Uy          cov_h2o_Uz      \n",
       " Min.   :  0.02117   Min.   :-67.47302   Min.   :-31.31385   Min.   :-0.61681  \n",
       " 1st Qu.:  0.15257   1st Qu.: -0.08378   1st Qu.: -0.04714   1st Qu.: 0.00202  \n",
       " Median :  0.32540   Median : -0.00559   Median :  0.00772   Median : 0.01173  \n",
       " Mean   :  1.72668   Mean   : -0.07532   Mean   :  0.07225   Mean   : 0.01939  \n",
       " 3rd Qu.:  2.03405   3rd Qu.:  0.05070   3rd Qu.:  0.09385   3rd Qu.: 0.03139  \n",
       " Max.   :181.62370   Max.   : 21.72854   Max.   : 41.97945   Max.   : 1.40207  \n",
       "                     NA's   :84          NA's   :84          NA's   :84        \n",
       "    Ts_mean          Ux_Avg            Uy_Avg             Uz_Avg        \n",
       " Min.   : 5.32   Min.   :-7.5456   Min.   :-7.02332   Min.   :-0.67717  \n",
       " 1st Qu.:12.92   1st Qu.:-0.4895   1st Qu.:-2.00049   1st Qu.:-0.04042  \n",
       " Median :14.42   Median : 1.2368   Median :-0.10906   Median : 0.00844  \n",
       " Mean   :14.50   Mean   : 1.4555   Mean   : 0.02639   Mean   : 0.03468  \n",
       " 3rd Qu.:16.04   3rd Qu.: 3.6680   3rd Qu.: 1.64249   3rd Qu.: 0.10716  \n",
       " Max.   :23.50   Max.   :11.1110   Max.   :11.23601   Max.   : 0.38665  \n",
       " NA's   :84      NA's   :84        NA's   :84         NA's   :84        \n",
       "    co2_mean             h2o_Avg          rho_a_mean      press_mean    \n",
       " Min.   :-2.240e+02   Min.   : -9.434   Min.   :1.179   Min.   : 97.40  \n",
       " 1st Qu.: 6.390e+02   1st Qu.:  4.114   1st Qu.:1.204   1st Qu.: 99.33  \n",
       " Median : 7.130e+02   Median :  6.275   Median :1.215   Median : 99.96  \n",
       " Mean   : 2.479e+16   Mean   :  8.438   Mean   :1.219   Mean   : 99.90  \n",
       " 3rd Qu.: 7.460e+02   3rd Qu.:  7.725   3rd Qu.:1.233   3rd Qu.:100.46  \n",
       " Max.   : 7.494e+19   Max.   :523.327   Max.   :1.288   Max.   :102.28  \n",
       "                                                                        \n",
       " panel_temp_Avg       wind_dir         rslt_wnd_spd       std_wnd_dir   \n",
       " Min.   : 0.3427   Min.   :-179.911   Min.   : 0.04004   Min.   : 0.00  \n",
       " 1st Qu.: 9.4155   1st Qu.: -51.829   1st Qu.: 2.17671   1st Qu.:11.24  \n",
       " Median :12.6313   Median :  -1.729   Median : 3.73850   Median :14.11  \n",
       " Mean   :12.1392   Mean   :   1.073   Mean   : 3.93107   Mean   :18.26  \n",
       " 3rd Qu.:14.8278   3rd Qu.:  54.421   3rd Qu.: 5.27690   3rd Qu.:19.60  \n",
       " Max.   :21.5515   Max.   : 179.849   Max.   :11.95476   Max.   :79.66  \n",
       "                                      NA's   :84                        \n",
       " batt_volt_Avg    irga_warnings       chopper_f_Tot      detector_f_Tot\n",
       " Min.   : 8.915   Min.   :  0.00000   Min.   :  0.0000   Min.   :0     \n",
       " 1st Qu.:12.987   1st Qu.:  0.00000   1st Qu.:  0.0000   1st Qu.:0     \n",
       " Median :13.034   Median :  0.00000   Median :  0.0000   Median :0     \n",
       " Mean   :12.906   Mean   :  0.06517   Mean   :  0.0612   Mean   :0     \n",
       " 3rd Qu.:13.196   3rd Qu.:  0.00000   3rd Qu.:  0.0000   3rd Qu.:0     \n",
       " Max.   :13.254   Max.   :185.00000   Max.   :185.0000   Max.   :0     \n",
       "                                                                       \n",
       "   pll_f_Tot   sync_f_Tot    agc_Avg         Fc_irga          \n",
       " Min.   :0   Min.   :0    Min.   :50.00   Min.   :-6.066e+07  \n",
       " 1st Qu.:0   1st Qu.:0    1st Qu.:50.00   1st Qu.: 0.000e+00  \n",
       " Median :0   Median :0    Median :56.00   Median : 0.000e+00  \n",
       " Mean   :0   Mean   :0    Mean   :58.97   Mean   : 1.618e+15  \n",
       " 3rd Qu.:0   3rd Qu.:0    3rd Qu.:61.20   3rd Qu.: 0.000e+00  \n",
       " Max.   :0   Max.   :0    Max.   :94.00   Max.   : 4.755e+18  \n",
       "                                          NA's   :84          \n",
       "    LE_irga            co2_wpl_LE           co2_wpl_H         \n",
       " Min.   :-1505.024   Min.   :-1.136e+16   Min.   :-4.583e+14  \n",
       " 1st Qu.:    4.933   1st Qu.: 0.000e+00   1st Qu.: 0.000e+00  \n",
       " Median :   28.619   Median : 0.000e+00   Median : 0.000e+00  \n",
       " Mean   :   47.311   Mean   :-3.866e+12   Mean   :-1.559e+11  \n",
       " 3rd Qu.:   76.587   3rd Qu.: 0.000e+00   3rd Qu.: 0.000e+00  \n",
       " Max.   : 3421.049   Max.   : 2.464e+04   Max.   : 2.000e+00  \n",
       " NA's   :84          NA's   :84           NA's   :84          \n",
       "   h2o_wpl_LE          h2o_wpl_H          h2o_hmp_mean      t_hmp_mean     \n",
       " Min.   :-17.53247   Min.   :-33.96988   Min.   : 3.282   Min.   : 0.9912  \n",
       " 1st Qu.:  0.04909   1st Qu.: -0.93667   1st Qu.: 6.885   1st Qu.: 9.2996  \n",
       " Median :  0.30985   Median :  0.01614   Median : 8.405   Median :12.1813  \n",
       " Mean   :  0.53416   Mean   :  1.41954   Mean   : 8.373   Mean   :11.5616  \n",
       " 3rd Qu.:  0.84437   3rd Qu.:  3.21163   3rd Qu.: 9.826   3rd Qu.:13.8720  \n",
       " Max.   : 37.57141   Max.   : 85.01846   Max.   :13.195   Max.   :19.0064  \n",
       " NA's   :84          NA's   :84                                            \n",
       "  rh_hmp_mean   \n",
       " Min.   :21.64  \n",
       " 1st Qu.:73.88  \n",
       " Median :82.49  \n",
       " Mean   :80.09  \n",
       " 3rd Qu.:89.19  \n",
       " Max.   :97.27  \n",
       "                "
      ]
     },
     "metadata": {},
     "output_type": "display_data"
    }
   ],
   "source": [
    "summary(data_merged)"
   ]
  }
 ],
 "metadata": {
  "kernelspec": {
   "display_name": "R",
   "language": "R",
   "name": "ir"
  },
  "language_info": {
   "codemirror_mode": "r",
   "file_extension": ".r",
   "mimetype": "text/x-r-source",
   "name": "R",
   "pygments_lexer": "r",
   "version": "4.3.2"
  }
 },
 "nbformat": 4,
 "nbformat_minor": 5
}
