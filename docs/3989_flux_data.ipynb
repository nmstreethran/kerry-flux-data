{
 "cells": [
  {
   "cell_type": "markdown",
   "metadata": {},
   "source": [
    "# Flux data"
   ]
  },
  {
   "cell_type": "code",
   "execution_count": 1,
   "metadata": {
    "vscode": {
     "languageId": "r"
    }
   },
   "outputs": [],
   "source": [
    "if (grepl(\"docs\", getwd(), fixed = TRUE)) {\n",
    "  setwd(\"..\")\n",
    "}"
   ]
  },
  {
   "cell_type": "code",
   "execution_count": 2,
   "metadata": {
    "vscode": {
     "languageId": "r"
    }
   },
   "outputs": [
    {
     "name": "stderr",
     "output_type": "stream",
     "text": [
      "\n",
      "Attaching package: ‘dplyr’\n",
      "\n",
      "\n",
      "The following objects are masked from ‘package:stats’:\n",
      "\n",
      "    filter, lag\n",
      "\n",
      "\n",
      "The following objects are masked from ‘package:base’:\n",
      "\n",
      "    intersect, setdiff, setequal, union\n",
      "\n",
      "\n"
     ]
    }
   ],
   "source": [
    "library(REddyProc)\n",
    "library(dplyr)"
   ]
  },
  {
   "cell_type": "code",
   "execution_count": 6,
   "metadata": {
    "vscode": {
     "languageId": "r"
    }
   },
   "outputs": [],
   "source": [
    "data <- read.csv(\"data/CSV/TOA5_3989.flux.csv\")"
   ]
  },
  {
   "cell_type": "code",
   "execution_count": 7,
   "metadata": {
    "vscode": {
     "languageId": "r"
    }
   },
   "outputs": [],
   "source": [
    "# format timestamps\n",
    "# specify GMT as tz to prevent DST adjustments\n",
    "data$TIMESTAMP <- as.POSIXct(\n",
    "  data$TIMESTAMP, format = \"%Y-%m-%d %H:%M:%S\", tz = \"GMT\"\n",
    ")"
   ]
  },
  {
   "cell_type": "code",
   "execution_count": 5,
   "metadata": {
    "vscode": {
     "languageId": "r"
    }
   },
   "outputs": [
    {
     "data": {
      "text/html": [
       "<table class=\"dataframe\">\n",
       "<caption>A data.frame: 6 × 54</caption>\n",
       "<thead>\n",
       "\t<tr><th></th><th scope=col>TIMESTAMP</th><th scope=col>RECORD</th><th scope=col>Fc_wpl</th><th scope=col>LE_wpl</th><th scope=col>Hs</th><th scope=col>Hc</th><th scope=col>tau</th><th scope=col>u_star</th><th scope=col>stdev_Ts</th><th scope=col>cov_Ts_Ux</th><th scope=col>⋯</th><th scope=col>agc_Avg</th><th scope=col>Fc_irga</th><th scope=col>LE_irga</th><th scope=col>co2_wpl_LE</th><th scope=col>co2_wpl_H</th><th scope=col>h2o_wpl_LE</th><th scope=col>h2o_wpl_H</th><th scope=col>h2o_hmp_mean</th><th scope=col>t_hmp_mean</th><th scope=col>rh_hmp_mean</th></tr>\n",
       "\t<tr><th></th><th scope=col>&lt;dttm&gt;</th><th scope=col>&lt;int&gt;</th><th scope=col>&lt;dbl&gt;</th><th scope=col>&lt;dbl&gt;</th><th scope=col>&lt;dbl&gt;</th><th scope=col>&lt;dbl&gt;</th><th scope=col>&lt;dbl&gt;</th><th scope=col>&lt;dbl&gt;</th><th scope=col>&lt;dbl&gt;</th><th scope=col>&lt;dbl&gt;</th><th scope=col>⋯</th><th scope=col>&lt;dbl&gt;</th><th scope=col>&lt;dbl&gt;</th><th scope=col>&lt;dbl&gt;</th><th scope=col>&lt;dbl&gt;</th><th scope=col>&lt;dbl&gt;</th><th scope=col>&lt;dbl&gt;</th><th scope=col>&lt;dbl&gt;</th><th scope=col>&lt;dbl&gt;</th><th scope=col>&lt;dbl&gt;</th><th scope=col>&lt;dbl&gt;</th></tr>\n",
       "</thead>\n",
       "<tbody>\n",
       "\t<tr><th scope=row>1</th><td>2014-11-19 12:30:00</td><td>29287</td><td>-0.02738776</td><td> 41.111780</td><td> 27.612760</td><td> 24.769250</td><td>0.20959440</td><td>0.4146389</td><td>0.3397227</td><td>-0.014964160</td><td>⋯</td><td>56.00000</td><td>-0.083516550</td><td> 39.158870</td><td> 0.01285764</td><td> 0.04327115</td><td> 0.41098700</td><td> 1.5419220</td><td>7.890273</td><td>11.296430</td><td>77.49195</td></tr>\n",
       "\t<tr><th scope=row>2</th><td>2014-11-19 13:00:00</td><td>29288</td><td>-0.03498442</td><td> 46.158910</td><td> 28.565690</td><td> 25.412010</td><td>0.16175210</td><td>0.3645584</td><td>0.2557280</td><td> 0.008030742</td><td>⋯</td><td>56.00000</td><td>-0.093781110</td><td> 44.074960</td><td> 0.01447388</td><td> 0.04432281</td><td> 0.46911450</td><td> 1.6148310</td><td>7.987618</td><td>11.809930</td><td>75.96396</td></tr>\n",
       "\t<tr><th scope=row>3</th><td>2014-11-19 13:30:00</td><td>29289</td><td> 0.18082340</td><td> -6.167122</td><td>-24.502530</td><td>-23.763400</td><td>0.18955480</td><td>0.3944006</td><td>0.8363222</td><td>-1.465492000</td><td>⋯</td><td>56.00000</td><td> 0.224099700</td><td> -4.744839</td><td>-0.00156682</td><td>-0.04170947</td><td>-0.04999511</td><td>-1.3722880</td><td>7.917885</td><td>11.580260</td><td>76.34363</td></tr>\n",
       "\t<tr><th scope=row>4</th><td>2014-11-19 14:00:00</td><td>29290</td><td> 2.18144700</td><td>-36.546420</td><td> -8.166809</td><td> -5.908159</td><td>0.07494499</td><td>0.2468190</td><td>0.8353181</td><td>-0.894337100</td><td>⋯</td><td>59.64111</td><td> 2.224159000</td><td>-35.732150</td><td>-0.02265313</td><td>-0.02005932</td><td>-0.36612430</td><td>-0.4481432</td><td>7.774566</td><td> 9.416086</td><td>85.95309</td></tr>\n",
       "\t<tr><th scope=row>5</th><td>2014-11-19 14:30:00</td><td>29291</td><td>-0.07790546</td><td> 37.358010</td><td> -5.191130</td><td> -7.278997</td><td>0.03453151</td><td>0.1677954</td><td>0.3394781</td><td>-0.030340910</td><td>⋯</td><td>56.00000</td><td>-0.077377380</td><td> 37.254240</td><td> 0.01248777</td><td>-0.01301585</td><td> 0.40426460</td><td>-0.3004996</td><td>8.205495</td><td>10.590230</td><td>84.24697</td></tr>\n",
       "\t<tr><th scope=row>6</th><td>2014-11-19 15:00:00</td><td>29292</td><td>-0.01854837</td><td> 29.914260</td><td>-19.607910</td><td>-21.032380</td><td>0.08993658</td><td>0.2712201</td><td>0.2265035</td><td>-0.108646600</td><td>⋯</td><td>56.00000</td><td> 0.008064821</td><td> 30.713200</td><td> 0.01006716</td><td>-0.03668035</td><td> 0.33333760</td><td>-1.1322800</td><td>8.181075</td><td>11.328960</td><td>80.18222</td></tr>\n",
       "</tbody>\n",
       "</table>\n"
      ],
      "text/latex": [
       "A data.frame: 6 × 54\n",
       "\\begin{tabular}{r|lllllllllllllllllllll}\n",
       "  & TIMESTAMP & RECORD & Fc\\_wpl & LE\\_wpl & Hs & Hc & tau & u\\_star & stdev\\_Ts & cov\\_Ts\\_Ux & ⋯ & agc\\_Avg & Fc\\_irga & LE\\_irga & co2\\_wpl\\_LE & co2\\_wpl\\_H & h2o\\_wpl\\_LE & h2o\\_wpl\\_H & h2o\\_hmp\\_mean & t\\_hmp\\_mean & rh\\_hmp\\_mean\\\\\n",
       "  & <dttm> & <int> & <dbl> & <dbl> & <dbl> & <dbl> & <dbl> & <dbl> & <dbl> & <dbl> & ⋯ & <dbl> & <dbl> & <dbl> & <dbl> & <dbl> & <dbl> & <dbl> & <dbl> & <dbl> & <dbl>\\\\\n",
       "\\hline\n",
       "\t1 & 2014-11-19 12:30:00 & 29287 & -0.02738776 &  41.111780 &  27.612760 &  24.769250 & 0.20959440 & 0.4146389 & 0.3397227 & -0.014964160 & ⋯ & 56.00000 & -0.083516550 &  39.158870 &  0.01285764 &  0.04327115 &  0.41098700 &  1.5419220 & 7.890273 & 11.296430 & 77.49195\\\\\n",
       "\t2 & 2014-11-19 13:00:00 & 29288 & -0.03498442 &  46.158910 &  28.565690 &  25.412010 & 0.16175210 & 0.3645584 & 0.2557280 &  0.008030742 & ⋯ & 56.00000 & -0.093781110 &  44.074960 &  0.01447388 &  0.04432281 &  0.46911450 &  1.6148310 & 7.987618 & 11.809930 & 75.96396\\\\\n",
       "\t3 & 2014-11-19 13:30:00 & 29289 &  0.18082340 &  -6.167122 & -24.502530 & -23.763400 & 0.18955480 & 0.3944006 & 0.8363222 & -1.465492000 & ⋯ & 56.00000 &  0.224099700 &  -4.744839 & -0.00156682 & -0.04170947 & -0.04999511 & -1.3722880 & 7.917885 & 11.580260 & 76.34363\\\\\n",
       "\t4 & 2014-11-19 14:00:00 & 29290 &  2.18144700 & -36.546420 &  -8.166809 &  -5.908159 & 0.07494499 & 0.2468190 & 0.8353181 & -0.894337100 & ⋯ & 59.64111 &  2.224159000 & -35.732150 & -0.02265313 & -0.02005932 & -0.36612430 & -0.4481432 & 7.774566 &  9.416086 & 85.95309\\\\\n",
       "\t5 & 2014-11-19 14:30:00 & 29291 & -0.07790546 &  37.358010 &  -5.191130 &  -7.278997 & 0.03453151 & 0.1677954 & 0.3394781 & -0.030340910 & ⋯ & 56.00000 & -0.077377380 &  37.254240 &  0.01248777 & -0.01301585 &  0.40426460 & -0.3004996 & 8.205495 & 10.590230 & 84.24697\\\\\n",
       "\t6 & 2014-11-19 15:00:00 & 29292 & -0.01854837 &  29.914260 & -19.607910 & -21.032380 & 0.08993658 & 0.2712201 & 0.2265035 & -0.108646600 & ⋯ & 56.00000 &  0.008064821 &  30.713200 &  0.01006716 & -0.03668035 &  0.33333760 & -1.1322800 & 8.181075 & 11.328960 & 80.18222\\\\\n",
       "\\end{tabular}\n"
      ],
      "text/markdown": [
       "\n",
       "A data.frame: 6 × 54\n",
       "\n",
       "| <!--/--> | TIMESTAMP &lt;dttm&gt; | RECORD &lt;int&gt; | Fc_wpl &lt;dbl&gt; | LE_wpl &lt;dbl&gt; | Hs &lt;dbl&gt; | Hc &lt;dbl&gt; | tau &lt;dbl&gt; | u_star &lt;dbl&gt; | stdev_Ts &lt;dbl&gt; | cov_Ts_Ux &lt;dbl&gt; | ⋯ ⋯ | agc_Avg &lt;dbl&gt; | Fc_irga &lt;dbl&gt; | LE_irga &lt;dbl&gt; | co2_wpl_LE &lt;dbl&gt; | co2_wpl_H &lt;dbl&gt; | h2o_wpl_LE &lt;dbl&gt; | h2o_wpl_H &lt;dbl&gt; | h2o_hmp_mean &lt;dbl&gt; | t_hmp_mean &lt;dbl&gt; | rh_hmp_mean &lt;dbl&gt; |\n",
       "|---|---|---|---|---|---|---|---|---|---|---|---|---|---|---|---|---|---|---|---|---|---|\n",
       "| 1 | 2014-11-19 12:30:00 | 29287 | -0.02738776 |  41.111780 |  27.612760 |  24.769250 | 0.20959440 | 0.4146389 | 0.3397227 | -0.014964160 | ⋯ | 56.00000 | -0.083516550 |  39.158870 |  0.01285764 |  0.04327115 |  0.41098700 |  1.5419220 | 7.890273 | 11.296430 | 77.49195 |\n",
       "| 2 | 2014-11-19 13:00:00 | 29288 | -0.03498442 |  46.158910 |  28.565690 |  25.412010 | 0.16175210 | 0.3645584 | 0.2557280 |  0.008030742 | ⋯ | 56.00000 | -0.093781110 |  44.074960 |  0.01447388 |  0.04432281 |  0.46911450 |  1.6148310 | 7.987618 | 11.809930 | 75.96396 |\n",
       "| 3 | 2014-11-19 13:30:00 | 29289 |  0.18082340 |  -6.167122 | -24.502530 | -23.763400 | 0.18955480 | 0.3944006 | 0.8363222 | -1.465492000 | ⋯ | 56.00000 |  0.224099700 |  -4.744839 | -0.00156682 | -0.04170947 | -0.04999511 | -1.3722880 | 7.917885 | 11.580260 | 76.34363 |\n",
       "| 4 | 2014-11-19 14:00:00 | 29290 |  2.18144700 | -36.546420 |  -8.166809 |  -5.908159 | 0.07494499 | 0.2468190 | 0.8353181 | -0.894337100 | ⋯ | 59.64111 |  2.224159000 | -35.732150 | -0.02265313 | -0.02005932 | -0.36612430 | -0.4481432 | 7.774566 |  9.416086 | 85.95309 |\n",
       "| 5 | 2014-11-19 14:30:00 | 29291 | -0.07790546 |  37.358010 |  -5.191130 |  -7.278997 | 0.03453151 | 0.1677954 | 0.3394781 | -0.030340910 | ⋯ | 56.00000 | -0.077377380 |  37.254240 |  0.01248777 | -0.01301585 |  0.40426460 | -0.3004996 | 8.205495 | 10.590230 | 84.24697 |\n",
       "| 6 | 2014-11-19 15:00:00 | 29292 | -0.01854837 |  29.914260 | -19.607910 | -21.032380 | 0.08993658 | 0.2712201 | 0.2265035 | -0.108646600 | ⋯ | 56.00000 |  0.008064821 |  30.713200 |  0.01006716 | -0.03668035 |  0.33333760 | -1.1322800 | 8.181075 | 11.328960 | 80.18222 |\n",
       "\n"
      ],
      "text/plain": [
       "  TIMESTAMP           RECORD Fc_wpl      LE_wpl     Hs         Hc        \n",
       "1 2014-11-19 12:30:00 29287  -0.02738776  41.111780  27.612760  24.769250\n",
       "2 2014-11-19 13:00:00 29288  -0.03498442  46.158910  28.565690  25.412010\n",
       "3 2014-11-19 13:30:00 29289   0.18082340  -6.167122 -24.502530 -23.763400\n",
       "4 2014-11-19 14:00:00 29290   2.18144700 -36.546420  -8.166809  -5.908159\n",
       "5 2014-11-19 14:30:00 29291  -0.07790546  37.358010  -5.191130  -7.278997\n",
       "6 2014-11-19 15:00:00 29292  -0.01854837  29.914260 -19.607910 -21.032380\n",
       "  tau        u_star    stdev_Ts  cov_Ts_Ux    ⋯ agc_Avg  Fc_irga     \n",
       "1 0.20959440 0.4146389 0.3397227 -0.014964160 ⋯ 56.00000 -0.083516550\n",
       "2 0.16175210 0.3645584 0.2557280  0.008030742 ⋯ 56.00000 -0.093781110\n",
       "3 0.18955480 0.3944006 0.8363222 -1.465492000 ⋯ 56.00000  0.224099700\n",
       "4 0.07494499 0.2468190 0.8353181 -0.894337100 ⋯ 59.64111  2.224159000\n",
       "5 0.03453151 0.1677954 0.3394781 -0.030340910 ⋯ 56.00000 -0.077377380\n",
       "6 0.08993658 0.2712201 0.2265035 -0.108646600 ⋯ 56.00000  0.008064821\n",
       "  LE_irga    co2_wpl_LE  co2_wpl_H   h2o_wpl_LE  h2o_wpl_H  h2o_hmp_mean\n",
       "1  39.158870  0.01285764  0.04327115  0.41098700  1.5419220 7.890273    \n",
       "2  44.074960  0.01447388  0.04432281  0.46911450  1.6148310 7.987618    \n",
       "3  -4.744839 -0.00156682 -0.04170947 -0.04999511 -1.3722880 7.917885    \n",
       "4 -35.732150 -0.02265313 -0.02005932 -0.36612430 -0.4481432 7.774566    \n",
       "5  37.254240  0.01248777 -0.01301585  0.40426460 -0.3004996 8.205495    \n",
       "6  30.713200  0.01006716 -0.03668035  0.33333760 -1.1322800 8.181075    \n",
       "  t_hmp_mean rh_hmp_mean\n",
       "1 11.296430  77.49195   \n",
       "2 11.809930  75.96396   \n",
       "3 11.580260  76.34363   \n",
       "4  9.416086  85.95309   \n",
       "5 10.590230  84.24697   \n",
       "6 11.328960  80.18222   "
      ]
     },
     "metadata": {},
     "output_type": "display_data"
    }
   ],
   "source": [
    "head(data)"
   ]
  },
  {
   "cell_type": "code",
   "execution_count": 6,
   "metadata": {
    "vscode": {
     "languageId": "r"
    }
   },
   "outputs": [
    {
     "data": {
      "text/html": [
       "3023"
      ],
      "text/latex": [
       "3023"
      ],
      "text/markdown": [
       "3023"
      ],
      "text/plain": [
       "[1] 3023"
      ]
     },
     "metadata": {},
     "output_type": "display_data"
    }
   ],
   "source": [
    "nrow(data)"
   ]
  },
  {
   "cell_type": "markdown",
   "metadata": {},
   "source": [
    "## Rows with NA data"
   ]
  },
  {
   "cell_type": "code",
   "execution_count": 7,
   "metadata": {
    "vscode": {
     "languageId": "r"
    }
   },
   "outputs": [
    {
     "data": {
      "text/html": [
       "<table class=\"dataframe\">\n",
       "<caption>A data.frame: 6 × 54</caption>\n",
       "<thead>\n",
       "\t<tr><th></th><th scope=col>TIMESTAMP</th><th scope=col>RECORD</th><th scope=col>Fc_wpl</th><th scope=col>LE_wpl</th><th scope=col>Hs</th><th scope=col>Hc</th><th scope=col>tau</th><th scope=col>u_star</th><th scope=col>stdev_Ts</th><th scope=col>cov_Ts_Ux</th><th scope=col>⋯</th><th scope=col>agc_Avg</th><th scope=col>Fc_irga</th><th scope=col>LE_irga</th><th scope=col>co2_wpl_LE</th><th scope=col>co2_wpl_H</th><th scope=col>h2o_wpl_LE</th><th scope=col>h2o_wpl_H</th><th scope=col>h2o_hmp_mean</th><th scope=col>t_hmp_mean</th><th scope=col>rh_hmp_mean</th></tr>\n",
       "\t<tr><th></th><th scope=col>&lt;dttm&gt;</th><th scope=col>&lt;int&gt;</th><th scope=col>&lt;dbl&gt;</th><th scope=col>&lt;dbl&gt;</th><th scope=col>&lt;dbl&gt;</th><th scope=col>&lt;dbl&gt;</th><th scope=col>&lt;dbl&gt;</th><th scope=col>&lt;dbl&gt;</th><th scope=col>&lt;dbl&gt;</th><th scope=col>&lt;dbl&gt;</th><th scope=col>⋯</th><th scope=col>&lt;dbl&gt;</th><th scope=col>&lt;dbl&gt;</th><th scope=col>&lt;dbl&gt;</th><th scope=col>&lt;dbl&gt;</th><th scope=col>&lt;dbl&gt;</th><th scope=col>&lt;dbl&gt;</th><th scope=col>&lt;dbl&gt;</th><th scope=col>&lt;dbl&gt;</th><th scope=col>&lt;dbl&gt;</th><th scope=col>&lt;dbl&gt;</th></tr>\n",
       "</thead>\n",
       "<tbody>\n",
       "\t<tr><th scope=row>82</th><td>2014-11-21 05:00:00</td><td>29368</td><td>NA</td><td>NA</td><td>NA</td><td>NA</td><td>NA</td><td>NA</td><td>NA</td><td>NA</td><td>⋯</td><td>65.89661</td><td>NA</td><td>NA</td><td>NA</td><td>NA</td><td>NA</td><td>NA</td><td>8.502651</td><td>10.602440</td><td>87.23547</td></tr>\n",
       "\t<tr><th scope=row>84</th><td>2014-11-21 06:00:00</td><td>29370</td><td>NA</td><td>NA</td><td>NA</td><td>NA</td><td>NA</td><td>NA</td><td>NA</td><td>NA</td><td>⋯</td><td>77.21928</td><td>NA</td><td>NA</td><td>NA</td><td>NA</td><td>NA</td><td>NA</td><td>8.442175</td><td>10.508540</td><td>87.13308</td></tr>\n",
       "\t<tr><th scope=row>251</th><td>2014-11-24 17:30:00</td><td>29537</td><td>NA</td><td>NA</td><td>NA</td><td>NA</td><td>NA</td><td>NA</td><td>NA</td><td>NA</td><td>⋯</td><td>91.89167</td><td>NA</td><td>NA</td><td>NA</td><td>NA</td><td>NA</td><td>NA</td><td>8.087642</td><td> 8.508600</td><td>94.81455</td></tr>\n",
       "\t<tr><th scope=row>252</th><td>2014-11-24 18:00:00</td><td>29538</td><td>NA</td><td>NA</td><td>NA</td><td>NA</td><td>NA</td><td>NA</td><td>NA</td><td>NA</td><td>⋯</td><td>93.99828</td><td>NA</td><td>NA</td><td>NA</td><td>NA</td><td>NA</td><td>NA</td><td>7.994737</td><td> 8.280960</td><td>95.10827</td></tr>\n",
       "\t<tr><th scope=row>253</th><td>2014-11-24 18:30:00</td><td>29539</td><td>NA</td><td>NA</td><td>NA</td><td>NA</td><td>NA</td><td>NA</td><td>NA</td><td>NA</td><td>⋯</td><td>94.00000</td><td>NA</td><td>NA</td><td>NA</td><td>NA</td><td>NA</td><td>NA</td><td>8.010795</td><td> 8.294072</td><td>95.21899</td></tr>\n",
       "\t<tr><th scope=row>254</th><td>2014-11-24 19:00:00</td><td>29540</td><td>NA</td><td>NA</td><td>NA</td><td>NA</td><td>NA</td><td>NA</td><td>NA</td><td>NA</td><td>⋯</td><td>94.00000</td><td>NA</td><td>NA</td><td>NA</td><td>NA</td><td>NA</td><td>NA</td><td>8.000172</td><td> 8.238930</td><td>95.43085</td></tr>\n",
       "</tbody>\n",
       "</table>\n"
      ],
      "text/latex": [
       "A data.frame: 6 × 54\n",
       "\\begin{tabular}{r|lllllllllllllllllllll}\n",
       "  & TIMESTAMP & RECORD & Fc\\_wpl & LE\\_wpl & Hs & Hc & tau & u\\_star & stdev\\_Ts & cov\\_Ts\\_Ux & ⋯ & agc\\_Avg & Fc\\_irga & LE\\_irga & co2\\_wpl\\_LE & co2\\_wpl\\_H & h2o\\_wpl\\_LE & h2o\\_wpl\\_H & h2o\\_hmp\\_mean & t\\_hmp\\_mean & rh\\_hmp\\_mean\\\\\n",
       "  & <dttm> & <int> & <dbl> & <dbl> & <dbl> & <dbl> & <dbl> & <dbl> & <dbl> & <dbl> & ⋯ & <dbl> & <dbl> & <dbl> & <dbl> & <dbl> & <dbl> & <dbl> & <dbl> & <dbl> & <dbl>\\\\\n",
       "\\hline\n",
       "\t82 & 2014-11-21 05:00:00 & 29368 & NA & NA & NA & NA & NA & NA & NA & NA & ⋯ & 65.89661 & NA & NA & NA & NA & NA & NA & 8.502651 & 10.602440 & 87.23547\\\\\n",
       "\t84 & 2014-11-21 06:00:00 & 29370 & NA & NA & NA & NA & NA & NA & NA & NA & ⋯ & 77.21928 & NA & NA & NA & NA & NA & NA & 8.442175 & 10.508540 & 87.13308\\\\\n",
       "\t251 & 2014-11-24 17:30:00 & 29537 & NA & NA & NA & NA & NA & NA & NA & NA & ⋯ & 91.89167 & NA & NA & NA & NA & NA & NA & 8.087642 &  8.508600 & 94.81455\\\\\n",
       "\t252 & 2014-11-24 18:00:00 & 29538 & NA & NA & NA & NA & NA & NA & NA & NA & ⋯ & 93.99828 & NA & NA & NA & NA & NA & NA & 7.994737 &  8.280960 & 95.10827\\\\\n",
       "\t253 & 2014-11-24 18:30:00 & 29539 & NA & NA & NA & NA & NA & NA & NA & NA & ⋯ & 94.00000 & NA & NA & NA & NA & NA & NA & 8.010795 &  8.294072 & 95.21899\\\\\n",
       "\t254 & 2014-11-24 19:00:00 & 29540 & NA & NA & NA & NA & NA & NA & NA & NA & ⋯ & 94.00000 & NA & NA & NA & NA & NA & NA & 8.000172 &  8.238930 & 95.43085\\\\\n",
       "\\end{tabular}\n"
      ],
      "text/markdown": [
       "\n",
       "A data.frame: 6 × 54\n",
       "\n",
       "| <!--/--> | TIMESTAMP &lt;dttm&gt; | RECORD &lt;int&gt; | Fc_wpl &lt;dbl&gt; | LE_wpl &lt;dbl&gt; | Hs &lt;dbl&gt; | Hc &lt;dbl&gt; | tau &lt;dbl&gt; | u_star &lt;dbl&gt; | stdev_Ts &lt;dbl&gt; | cov_Ts_Ux &lt;dbl&gt; | ⋯ ⋯ | agc_Avg &lt;dbl&gt; | Fc_irga &lt;dbl&gt; | LE_irga &lt;dbl&gt; | co2_wpl_LE &lt;dbl&gt; | co2_wpl_H &lt;dbl&gt; | h2o_wpl_LE &lt;dbl&gt; | h2o_wpl_H &lt;dbl&gt; | h2o_hmp_mean &lt;dbl&gt; | t_hmp_mean &lt;dbl&gt; | rh_hmp_mean &lt;dbl&gt; |\n",
       "|---|---|---|---|---|---|---|---|---|---|---|---|---|---|---|---|---|---|---|---|---|---|\n",
       "| 82 | 2014-11-21 05:00:00 | 29368 | NA | NA | NA | NA | NA | NA | NA | NA | ⋯ | 65.89661 | NA | NA | NA | NA | NA | NA | 8.502651 | 10.602440 | 87.23547 |\n",
       "| 84 | 2014-11-21 06:00:00 | 29370 | NA | NA | NA | NA | NA | NA | NA | NA | ⋯ | 77.21928 | NA | NA | NA | NA | NA | NA | 8.442175 | 10.508540 | 87.13308 |\n",
       "| 251 | 2014-11-24 17:30:00 | 29537 | NA | NA | NA | NA | NA | NA | NA | NA | ⋯ | 91.89167 | NA | NA | NA | NA | NA | NA | 8.087642 |  8.508600 | 94.81455 |\n",
       "| 252 | 2014-11-24 18:00:00 | 29538 | NA | NA | NA | NA | NA | NA | NA | NA | ⋯ | 93.99828 | NA | NA | NA | NA | NA | NA | 7.994737 |  8.280960 | 95.10827 |\n",
       "| 253 | 2014-11-24 18:30:00 | 29539 | NA | NA | NA | NA | NA | NA | NA | NA | ⋯ | 94.00000 | NA | NA | NA | NA | NA | NA | 8.010795 |  8.294072 | 95.21899 |\n",
       "| 254 | 2014-11-24 19:00:00 | 29540 | NA | NA | NA | NA | NA | NA | NA | NA | ⋯ | 94.00000 | NA | NA | NA | NA | NA | NA | 8.000172 |  8.238930 | 95.43085 |\n",
       "\n"
      ],
      "text/plain": [
       "    TIMESTAMP           RECORD Fc_wpl LE_wpl Hs Hc tau u_star stdev_Ts\n",
       "82  2014-11-21 05:00:00 29368  NA     NA     NA NA NA  NA     NA      \n",
       "84  2014-11-21 06:00:00 29370  NA     NA     NA NA NA  NA     NA      \n",
       "251 2014-11-24 17:30:00 29537  NA     NA     NA NA NA  NA     NA      \n",
       "252 2014-11-24 18:00:00 29538  NA     NA     NA NA NA  NA     NA      \n",
       "253 2014-11-24 18:30:00 29539  NA     NA     NA NA NA  NA     NA      \n",
       "254 2014-11-24 19:00:00 29540  NA     NA     NA NA NA  NA     NA      \n",
       "    cov_Ts_Ux ⋯ agc_Avg  Fc_irga LE_irga co2_wpl_LE co2_wpl_H h2o_wpl_LE\n",
       "82  NA        ⋯ 65.89661 NA      NA      NA         NA        NA        \n",
       "84  NA        ⋯ 77.21928 NA      NA      NA         NA        NA        \n",
       "251 NA        ⋯ 91.89167 NA      NA      NA         NA        NA        \n",
       "252 NA        ⋯ 93.99828 NA      NA      NA         NA        NA        \n",
       "253 NA        ⋯ 94.00000 NA      NA      NA         NA        NA        \n",
       "254 NA        ⋯ 94.00000 NA      NA      NA         NA        NA        \n",
       "    h2o_wpl_H h2o_hmp_mean t_hmp_mean rh_hmp_mean\n",
       "82  NA        8.502651     10.602440  87.23547   \n",
       "84  NA        8.442175     10.508540  87.13308   \n",
       "251 NA        8.087642      8.508600  94.81455   \n",
       "252 NA        7.994737      8.280960  95.10827   \n",
       "253 NA        8.010795      8.294072  95.21899   \n",
       "254 NA        8.000172      8.238930  95.43085   "
      ]
     },
     "metadata": {},
     "output_type": "display_data"
    }
   ],
   "source": [
    "head(data[!complete.cases(data),])"
   ]
  },
  {
   "cell_type": "code",
   "execution_count": 8,
   "metadata": {
    "vscode": {
     "languageId": "r"
    }
   },
   "outputs": [
    {
     "data": {
      "text/html": [
       "85"
      ],
      "text/latex": [
       "85"
      ],
      "text/markdown": [
       "85"
      ],
      "text/plain": [
       "[1] 85"
      ]
     },
     "metadata": {},
     "output_type": "display_data"
    }
   ],
   "source": [
    "nrow(data[!complete.cases(data),])"
   ]
  },
  {
   "cell_type": "code",
   "execution_count": 9,
   "metadata": {
    "vscode": {
     "languageId": "r"
    }
   },
   "outputs": [
    {
     "data": {
      "text/html": [
       "2773"
      ],
      "text/latex": [
       "2773"
      ],
      "text/markdown": [
       "2773"
      ],
      "text/plain": [
       "[1] 2773"
      ]
     },
     "metadata": {},
     "output_type": "display_data"
    }
   ],
   "source": [
    "sum(is.na(data))"
   ]
  },
  {
   "cell_type": "code",
   "execution_count": 10,
   "metadata": {
    "vscode": {
     "languageId": "r"
    }
   },
   "outputs": [
    {
     "data": {
      "text/html": [
       "<style>\n",
       ".dl-inline {width: auto; margin:0; padding: 0}\n",
       ".dl-inline>dt, .dl-inline>dd {float: none; width: auto; display: inline-block}\n",
       ".dl-inline>dt::after {content: \":\\0020\"; padding-right: .5ex}\n",
       ".dl-inline>dt:not(:first-of-type) {padding-left: .5ex}\n",
       "</style><dl class=dl-inline><dt>TIMESTAMP</dt><dd>0</dd><dt>RECORD</dt><dd>0</dd><dt>Fc_wpl</dt><dd>84</dd><dt>LE_wpl</dt><dd>84</dd><dt>Hs</dt><dd>84</dd><dt>Hc</dt><dd>84</dd><dt>tau</dt><dd>84</dd><dt>u_star</dt><dd>84</dd><dt>stdev_Ts</dt><dd>84</dd><dt>cov_Ts_Ux</dt><dd>84</dd><dt>cov_Ts_Uy</dt><dd>84</dd><dt>cov_Ts_Uz</dt><dd>84</dd><dt>stdev_Ux</dt><dd>84</dd><dt>cov_Ux_Uy</dt><dd>84</dd><dt>cov_Ux_Uz</dt><dd>84</dd><dt>stdev_Uy</dt><dd>84</dd><dt>cov_Uy_Uz</dt><dd>84</dd><dt>stdev_Uz</dt><dd>84</dd><dt>stdev_co2</dt><dd>1</dd><dt>cov_co2_Ux</dt><dd>84</dd><dt>cov_co2_Uy</dt><dd>84</dd><dt>cov_co2_Uz</dt><dd>84</dd><dt>stdev_h2o</dt><dd>0</dd><dt>cov_h2o_Ux</dt><dd>84</dd><dt>cov_h2o_Uy</dt><dd>84</dd><dt>cov_h2o_Uz</dt><dd>84</dd><dt>Ts_mean</dt><dd>84</dd><dt>Ux_Avg</dt><dd>84</dd><dt>Uy_Avg</dt><dd>84</dd><dt>Uz_Avg</dt><dd>84</dd><dt>co2_mean</dt><dd>0</dd><dt>h2o_Avg</dt><dd>0</dd><dt>rho_a_mean</dt><dd>0</dd><dt>press_mean</dt><dd>0</dd><dt>panel_temp_Avg</dt><dd>0</dd><dt>wind_dir</dt><dd>0</dd><dt>rslt_wnd_spd</dt><dd>84</dd><dt>std_wnd_dir</dt><dd>0</dd><dt>batt_volt_Avg</dt><dd>0</dd><dt>irga_warnings</dt><dd>0</dd><dt>chopper_f_Tot</dt><dd>0</dd><dt>detector_f_Tot</dt><dd>0</dd><dt>pll_f_Tot</dt><dd>0</dd><dt>sync_f_Tot</dt><dd>0</dd><dt>agc_Avg</dt><dd>0</dd><dt>Fc_irga</dt><dd>84</dd><dt>LE_irga</dt><dd>84</dd><dt>co2_wpl_LE</dt><dd>84</dd><dt>co2_wpl_H</dt><dd>84</dd><dt>h2o_wpl_LE</dt><dd>84</dd><dt>h2o_wpl_H</dt><dd>84</dd><dt>h2o_hmp_mean</dt><dd>0</dd><dt>t_hmp_mean</dt><dd>0</dd><dt>rh_hmp_mean</dt><dd>0</dd></dl>\n"
      ],
      "text/latex": [
       "\\begin{description*}\n",
       "\\item[TIMESTAMP] 0\n",
       "\\item[RECORD] 0\n",
       "\\item[Fc\\textbackslash{}\\_wpl] 84\n",
       "\\item[LE\\textbackslash{}\\_wpl] 84\n",
       "\\item[Hs] 84\n",
       "\\item[Hc] 84\n",
       "\\item[tau] 84\n",
       "\\item[u\\textbackslash{}\\_star] 84\n",
       "\\item[stdev\\textbackslash{}\\_Ts] 84\n",
       "\\item[cov\\textbackslash{}\\_Ts\\textbackslash{}\\_Ux] 84\n",
       "\\item[cov\\textbackslash{}\\_Ts\\textbackslash{}\\_Uy] 84\n",
       "\\item[cov\\textbackslash{}\\_Ts\\textbackslash{}\\_Uz] 84\n",
       "\\item[stdev\\textbackslash{}\\_Ux] 84\n",
       "\\item[cov\\textbackslash{}\\_Ux\\textbackslash{}\\_Uy] 84\n",
       "\\item[cov\\textbackslash{}\\_Ux\\textbackslash{}\\_Uz] 84\n",
       "\\item[stdev\\textbackslash{}\\_Uy] 84\n",
       "\\item[cov\\textbackslash{}\\_Uy\\textbackslash{}\\_Uz] 84\n",
       "\\item[stdev\\textbackslash{}\\_Uz] 84\n",
       "\\item[stdev\\textbackslash{}\\_co2] 1\n",
       "\\item[cov\\textbackslash{}\\_co2\\textbackslash{}\\_Ux] 84\n",
       "\\item[cov\\textbackslash{}\\_co2\\textbackslash{}\\_Uy] 84\n",
       "\\item[cov\\textbackslash{}\\_co2\\textbackslash{}\\_Uz] 84\n",
       "\\item[stdev\\textbackslash{}\\_h2o] 0\n",
       "\\item[cov\\textbackslash{}\\_h2o\\textbackslash{}\\_Ux] 84\n",
       "\\item[cov\\textbackslash{}\\_h2o\\textbackslash{}\\_Uy] 84\n",
       "\\item[cov\\textbackslash{}\\_h2o\\textbackslash{}\\_Uz] 84\n",
       "\\item[Ts\\textbackslash{}\\_mean] 84\n",
       "\\item[Ux\\textbackslash{}\\_Avg] 84\n",
       "\\item[Uy\\textbackslash{}\\_Avg] 84\n",
       "\\item[Uz\\textbackslash{}\\_Avg] 84\n",
       "\\item[co2\\textbackslash{}\\_mean] 0\n",
       "\\item[h2o\\textbackslash{}\\_Avg] 0\n",
       "\\item[rho\\textbackslash{}\\_a\\textbackslash{}\\_mean] 0\n",
       "\\item[press\\textbackslash{}\\_mean] 0\n",
       "\\item[panel\\textbackslash{}\\_temp\\textbackslash{}\\_Avg] 0\n",
       "\\item[wind\\textbackslash{}\\_dir] 0\n",
       "\\item[rslt\\textbackslash{}\\_wnd\\textbackslash{}\\_spd] 84\n",
       "\\item[std\\textbackslash{}\\_wnd\\textbackslash{}\\_dir] 0\n",
       "\\item[batt\\textbackslash{}\\_volt\\textbackslash{}\\_Avg] 0\n",
       "\\item[irga\\textbackslash{}\\_warnings] 0\n",
       "\\item[chopper\\textbackslash{}\\_f\\textbackslash{}\\_Tot] 0\n",
       "\\item[detector\\textbackslash{}\\_f\\textbackslash{}\\_Tot] 0\n",
       "\\item[pll\\textbackslash{}\\_f\\textbackslash{}\\_Tot] 0\n",
       "\\item[sync\\textbackslash{}\\_f\\textbackslash{}\\_Tot] 0\n",
       "\\item[agc\\textbackslash{}\\_Avg] 0\n",
       "\\item[Fc\\textbackslash{}\\_irga] 84\n",
       "\\item[LE\\textbackslash{}\\_irga] 84\n",
       "\\item[co2\\textbackslash{}\\_wpl\\textbackslash{}\\_LE] 84\n",
       "\\item[co2\\textbackslash{}\\_wpl\\textbackslash{}\\_H] 84\n",
       "\\item[h2o\\textbackslash{}\\_wpl\\textbackslash{}\\_LE] 84\n",
       "\\item[h2o\\textbackslash{}\\_wpl\\textbackslash{}\\_H] 84\n",
       "\\item[h2o\\textbackslash{}\\_hmp\\textbackslash{}\\_mean] 0\n",
       "\\item[t\\textbackslash{}\\_hmp\\textbackslash{}\\_mean] 0\n",
       "\\item[rh\\textbackslash{}\\_hmp\\textbackslash{}\\_mean] 0\n",
       "\\end{description*}\n"
      ],
      "text/markdown": [
       "TIMESTAMP\n",
       ":   0RECORD\n",
       ":   0Fc_wpl\n",
       ":   84LE_wpl\n",
       ":   84Hs\n",
       ":   84Hc\n",
       ":   84tau\n",
       ":   84u_star\n",
       ":   84stdev_Ts\n",
       ":   84cov_Ts_Ux\n",
       ":   84cov_Ts_Uy\n",
       ":   84cov_Ts_Uz\n",
       ":   84stdev_Ux\n",
       ":   84cov_Ux_Uy\n",
       ":   84cov_Ux_Uz\n",
       ":   84stdev_Uy\n",
       ":   84cov_Uy_Uz\n",
       ":   84stdev_Uz\n",
       ":   84stdev_co2\n",
       ":   1cov_co2_Ux\n",
       ":   84cov_co2_Uy\n",
       ":   84cov_co2_Uz\n",
       ":   84stdev_h2o\n",
       ":   0cov_h2o_Ux\n",
       ":   84cov_h2o_Uy\n",
       ":   84cov_h2o_Uz\n",
       ":   84Ts_mean\n",
       ":   84Ux_Avg\n",
       ":   84Uy_Avg\n",
       ":   84Uz_Avg\n",
       ":   84co2_mean\n",
       ":   0h2o_Avg\n",
       ":   0rho_a_mean\n",
       ":   0press_mean\n",
       ":   0panel_temp_Avg\n",
       ":   0wind_dir\n",
       ":   0rslt_wnd_spd\n",
       ":   84std_wnd_dir\n",
       ":   0batt_volt_Avg\n",
       ":   0irga_warnings\n",
       ":   0chopper_f_Tot\n",
       ":   0detector_f_Tot\n",
       ":   0pll_f_Tot\n",
       ":   0sync_f_Tot\n",
       ":   0agc_Avg\n",
       ":   0Fc_irga\n",
       ":   84LE_irga\n",
       ":   84co2_wpl_LE\n",
       ":   84co2_wpl_H\n",
       ":   84h2o_wpl_LE\n",
       ":   84h2o_wpl_H\n",
       ":   84h2o_hmp_mean\n",
       ":   0t_hmp_mean\n",
       ":   0rh_hmp_mean\n",
       ":   0\n",
       "\n"
      ],
      "text/plain": [
       "     TIMESTAMP         RECORD         Fc_wpl         LE_wpl             Hs \n",
       "             0              0             84             84             84 \n",
       "            Hc            tau         u_star       stdev_Ts      cov_Ts_Ux \n",
       "            84             84             84             84             84 \n",
       "     cov_Ts_Uy      cov_Ts_Uz       stdev_Ux      cov_Ux_Uy      cov_Ux_Uz \n",
       "            84             84             84             84             84 \n",
       "      stdev_Uy      cov_Uy_Uz       stdev_Uz      stdev_co2     cov_co2_Ux \n",
       "            84             84             84              1             84 \n",
       "    cov_co2_Uy     cov_co2_Uz      stdev_h2o     cov_h2o_Ux     cov_h2o_Uy \n",
       "            84             84              0             84             84 \n",
       "    cov_h2o_Uz        Ts_mean         Ux_Avg         Uy_Avg         Uz_Avg \n",
       "            84             84             84             84             84 \n",
       "      co2_mean        h2o_Avg     rho_a_mean     press_mean panel_temp_Avg \n",
       "             0              0              0              0              0 \n",
       "      wind_dir   rslt_wnd_spd    std_wnd_dir  batt_volt_Avg  irga_warnings \n",
       "             0             84              0              0              0 \n",
       " chopper_f_Tot detector_f_Tot      pll_f_Tot     sync_f_Tot        agc_Avg \n",
       "             0              0              0              0              0 \n",
       "       Fc_irga        LE_irga     co2_wpl_LE      co2_wpl_H     h2o_wpl_LE \n",
       "            84             84             84             84             84 \n",
       "     h2o_wpl_H   h2o_hmp_mean     t_hmp_mean    rh_hmp_mean \n",
       "            84              0              0              0 "
      ]
     },
     "metadata": {},
     "output_type": "display_data"
    }
   ],
   "source": [
    "colSums(is.na(data))"
   ]
  },
  {
   "cell_type": "markdown",
   "metadata": {},
   "source": [
    "## Add missing time series rows"
   ]
  },
  {
   "cell_type": "code",
   "execution_count": 8,
   "metadata": {
    "vscode": {
     "languageId": "r"
    }
   },
   "outputs": [],
   "source": [
    "# start: first day of the first year at 00:30\n",
    "# end: first day of the year after the final year at 00:00\n",
    "# format timestamps - specify GMT as tz to prevent DST adjustments\n",
    "ts <- seq.POSIXt(\n",
    "  as.POSIXct(\n",
    "    paste(format(data$TIMESTAMP[[1]], \"%Y\"), \"-01-01 00:30:00\", sep = \"\"),\n",
    "    format = \"%Y-%m-%d %H:%M:%S\", tz = \"GMT\"\n",
    "  ),\n",
    "  as.POSIXct(\n",
    "    paste(\n",
    "      as.numeric(format(data$TIMESTAMP[[nrow(data)]], \"%Y\")) + 1,\n",
    "      \"-01-01 00:00:00\", sep = \"\"\n",
    "    ),\n",
    "    format = \"%Y-%m-%d %H:%M:%S\", tz = \"GMT\"\n",
    "  ),\n",
    "  by = \"30 min\"\n",
    ")"
   ]
  },
  {
   "cell_type": "code",
   "execution_count": 9,
   "metadata": {
    "vscode": {
     "languageId": "r"
    }
   },
   "outputs": [],
   "source": [
    "ts <- merge(data.frame(TIMESTAMP = ts), data, all = TRUE)"
   ]
  },
  {
   "cell_type": "code",
   "execution_count": 13,
   "metadata": {
    "vscode": {
     "languageId": "r"
    }
   },
   "outputs": [
    {
     "data": {
      "text/html": [
       "<table class=\"dataframe\">\n",
       "<caption>A data.frame: 6 × 54</caption>\n",
       "<thead>\n",
       "\t<tr><th></th><th scope=col>TIMESTAMP</th><th scope=col>RECORD</th><th scope=col>Fc_wpl</th><th scope=col>LE_wpl</th><th scope=col>Hs</th><th scope=col>Hc</th><th scope=col>tau</th><th scope=col>u_star</th><th scope=col>stdev_Ts</th><th scope=col>cov_Ts_Ux</th><th scope=col>⋯</th><th scope=col>agc_Avg</th><th scope=col>Fc_irga</th><th scope=col>LE_irga</th><th scope=col>co2_wpl_LE</th><th scope=col>co2_wpl_H</th><th scope=col>h2o_wpl_LE</th><th scope=col>h2o_wpl_H</th><th scope=col>h2o_hmp_mean</th><th scope=col>t_hmp_mean</th><th scope=col>rh_hmp_mean</th></tr>\n",
       "\t<tr><th></th><th scope=col>&lt;dttm&gt;</th><th scope=col>&lt;int&gt;</th><th scope=col>&lt;dbl&gt;</th><th scope=col>&lt;dbl&gt;</th><th scope=col>&lt;dbl&gt;</th><th scope=col>&lt;dbl&gt;</th><th scope=col>&lt;dbl&gt;</th><th scope=col>&lt;dbl&gt;</th><th scope=col>&lt;dbl&gt;</th><th scope=col>&lt;dbl&gt;</th><th scope=col>⋯</th><th scope=col>&lt;dbl&gt;</th><th scope=col>&lt;dbl&gt;</th><th scope=col>&lt;dbl&gt;</th><th scope=col>&lt;dbl&gt;</th><th scope=col>&lt;dbl&gt;</th><th scope=col>&lt;dbl&gt;</th><th scope=col>&lt;dbl&gt;</th><th scope=col>&lt;dbl&gt;</th><th scope=col>&lt;dbl&gt;</th><th scope=col>&lt;dbl&gt;</th></tr>\n",
       "</thead>\n",
       "<tbody>\n",
       "\t<tr><th scope=row>1</th><td>2014-01-01 00:30:00</td><td>NA</td><td>NA</td><td>NA</td><td>NA</td><td>NA</td><td>NA</td><td>NA</td><td>NA</td><td>NA</td><td>⋯</td><td>NA</td><td>NA</td><td>NA</td><td>NA</td><td>NA</td><td>NA</td><td>NA</td><td>NA</td><td>NA</td><td>NA</td></tr>\n",
       "\t<tr><th scope=row>2</th><td>2014-01-01 01:00:00</td><td>NA</td><td>NA</td><td>NA</td><td>NA</td><td>NA</td><td>NA</td><td>NA</td><td>NA</td><td>NA</td><td>⋯</td><td>NA</td><td>NA</td><td>NA</td><td>NA</td><td>NA</td><td>NA</td><td>NA</td><td>NA</td><td>NA</td><td>NA</td></tr>\n",
       "\t<tr><th scope=row>3</th><td>2014-01-01 01:30:00</td><td>NA</td><td>NA</td><td>NA</td><td>NA</td><td>NA</td><td>NA</td><td>NA</td><td>NA</td><td>NA</td><td>⋯</td><td>NA</td><td>NA</td><td>NA</td><td>NA</td><td>NA</td><td>NA</td><td>NA</td><td>NA</td><td>NA</td><td>NA</td></tr>\n",
       "\t<tr><th scope=row>4</th><td>2014-01-01 02:00:00</td><td>NA</td><td>NA</td><td>NA</td><td>NA</td><td>NA</td><td>NA</td><td>NA</td><td>NA</td><td>NA</td><td>⋯</td><td>NA</td><td>NA</td><td>NA</td><td>NA</td><td>NA</td><td>NA</td><td>NA</td><td>NA</td><td>NA</td><td>NA</td></tr>\n",
       "\t<tr><th scope=row>5</th><td>2014-01-01 02:30:00</td><td>NA</td><td>NA</td><td>NA</td><td>NA</td><td>NA</td><td>NA</td><td>NA</td><td>NA</td><td>NA</td><td>⋯</td><td>NA</td><td>NA</td><td>NA</td><td>NA</td><td>NA</td><td>NA</td><td>NA</td><td>NA</td><td>NA</td><td>NA</td></tr>\n",
       "\t<tr><th scope=row>6</th><td>2014-01-01 03:00:00</td><td>NA</td><td>NA</td><td>NA</td><td>NA</td><td>NA</td><td>NA</td><td>NA</td><td>NA</td><td>NA</td><td>⋯</td><td>NA</td><td>NA</td><td>NA</td><td>NA</td><td>NA</td><td>NA</td><td>NA</td><td>NA</td><td>NA</td><td>NA</td></tr>\n",
       "</tbody>\n",
       "</table>\n"
      ],
      "text/latex": [
       "A data.frame: 6 × 54\n",
       "\\begin{tabular}{r|lllllllllllllllllllll}\n",
       "  & TIMESTAMP & RECORD & Fc\\_wpl & LE\\_wpl & Hs & Hc & tau & u\\_star & stdev\\_Ts & cov\\_Ts\\_Ux & ⋯ & agc\\_Avg & Fc\\_irga & LE\\_irga & co2\\_wpl\\_LE & co2\\_wpl\\_H & h2o\\_wpl\\_LE & h2o\\_wpl\\_H & h2o\\_hmp\\_mean & t\\_hmp\\_mean & rh\\_hmp\\_mean\\\\\n",
       "  & <dttm> & <int> & <dbl> & <dbl> & <dbl> & <dbl> & <dbl> & <dbl> & <dbl> & <dbl> & ⋯ & <dbl> & <dbl> & <dbl> & <dbl> & <dbl> & <dbl> & <dbl> & <dbl> & <dbl> & <dbl>\\\\\n",
       "\\hline\n",
       "\t1 & 2014-01-01 00:30:00 & NA & NA & NA & NA & NA & NA & NA & NA & NA & ⋯ & NA & NA & NA & NA & NA & NA & NA & NA & NA & NA\\\\\n",
       "\t2 & 2014-01-01 01:00:00 & NA & NA & NA & NA & NA & NA & NA & NA & NA & ⋯ & NA & NA & NA & NA & NA & NA & NA & NA & NA & NA\\\\\n",
       "\t3 & 2014-01-01 01:30:00 & NA & NA & NA & NA & NA & NA & NA & NA & NA & ⋯ & NA & NA & NA & NA & NA & NA & NA & NA & NA & NA\\\\\n",
       "\t4 & 2014-01-01 02:00:00 & NA & NA & NA & NA & NA & NA & NA & NA & NA & ⋯ & NA & NA & NA & NA & NA & NA & NA & NA & NA & NA\\\\\n",
       "\t5 & 2014-01-01 02:30:00 & NA & NA & NA & NA & NA & NA & NA & NA & NA & ⋯ & NA & NA & NA & NA & NA & NA & NA & NA & NA & NA\\\\\n",
       "\t6 & 2014-01-01 03:00:00 & NA & NA & NA & NA & NA & NA & NA & NA & NA & ⋯ & NA & NA & NA & NA & NA & NA & NA & NA & NA & NA\\\\\n",
       "\\end{tabular}\n"
      ],
      "text/markdown": [
       "\n",
       "A data.frame: 6 × 54\n",
       "\n",
       "| <!--/--> | TIMESTAMP &lt;dttm&gt; | RECORD &lt;int&gt; | Fc_wpl &lt;dbl&gt; | LE_wpl &lt;dbl&gt; | Hs &lt;dbl&gt; | Hc &lt;dbl&gt; | tau &lt;dbl&gt; | u_star &lt;dbl&gt; | stdev_Ts &lt;dbl&gt; | cov_Ts_Ux &lt;dbl&gt; | ⋯ ⋯ | agc_Avg &lt;dbl&gt; | Fc_irga &lt;dbl&gt; | LE_irga &lt;dbl&gt; | co2_wpl_LE &lt;dbl&gt; | co2_wpl_H &lt;dbl&gt; | h2o_wpl_LE &lt;dbl&gt; | h2o_wpl_H &lt;dbl&gt; | h2o_hmp_mean &lt;dbl&gt; | t_hmp_mean &lt;dbl&gt; | rh_hmp_mean &lt;dbl&gt; |\n",
       "|---|---|---|---|---|---|---|---|---|---|---|---|---|---|---|---|---|---|---|---|---|---|\n",
       "| 1 | 2014-01-01 00:30:00 | NA | NA | NA | NA | NA | NA | NA | NA | NA | ⋯ | NA | NA | NA | NA | NA | NA | NA | NA | NA | NA |\n",
       "| 2 | 2014-01-01 01:00:00 | NA | NA | NA | NA | NA | NA | NA | NA | NA | ⋯ | NA | NA | NA | NA | NA | NA | NA | NA | NA | NA |\n",
       "| 3 | 2014-01-01 01:30:00 | NA | NA | NA | NA | NA | NA | NA | NA | NA | ⋯ | NA | NA | NA | NA | NA | NA | NA | NA | NA | NA |\n",
       "| 4 | 2014-01-01 02:00:00 | NA | NA | NA | NA | NA | NA | NA | NA | NA | ⋯ | NA | NA | NA | NA | NA | NA | NA | NA | NA | NA |\n",
       "| 5 | 2014-01-01 02:30:00 | NA | NA | NA | NA | NA | NA | NA | NA | NA | ⋯ | NA | NA | NA | NA | NA | NA | NA | NA | NA | NA |\n",
       "| 6 | 2014-01-01 03:00:00 | NA | NA | NA | NA | NA | NA | NA | NA | NA | ⋯ | NA | NA | NA | NA | NA | NA | NA | NA | NA | NA |\n",
       "\n"
      ],
      "text/plain": [
       "  TIMESTAMP           RECORD Fc_wpl LE_wpl Hs Hc tau u_star stdev_Ts cov_Ts_Ux\n",
       "1 2014-01-01 00:30:00 NA     NA     NA     NA NA NA  NA     NA       NA       \n",
       "2 2014-01-01 01:00:00 NA     NA     NA     NA NA NA  NA     NA       NA       \n",
       "3 2014-01-01 01:30:00 NA     NA     NA     NA NA NA  NA     NA       NA       \n",
       "4 2014-01-01 02:00:00 NA     NA     NA     NA NA NA  NA     NA       NA       \n",
       "5 2014-01-01 02:30:00 NA     NA     NA     NA NA NA  NA     NA       NA       \n",
       "6 2014-01-01 03:00:00 NA     NA     NA     NA NA NA  NA     NA       NA       \n",
       "  ⋯ agc_Avg Fc_irga LE_irga co2_wpl_LE co2_wpl_H h2o_wpl_LE h2o_wpl_H\n",
       "1 ⋯ NA      NA      NA      NA         NA        NA         NA       \n",
       "2 ⋯ NA      NA      NA      NA         NA        NA         NA       \n",
       "3 ⋯ NA      NA      NA      NA         NA        NA         NA       \n",
       "4 ⋯ NA      NA      NA      NA         NA        NA         NA       \n",
       "5 ⋯ NA      NA      NA      NA         NA        NA         NA       \n",
       "6 ⋯ NA      NA      NA      NA         NA        NA         NA       \n",
       "  h2o_hmp_mean t_hmp_mean rh_hmp_mean\n",
       "1 NA           NA         NA         \n",
       "2 NA           NA         NA         \n",
       "3 NA           NA         NA         \n",
       "4 NA           NA         NA         \n",
       "5 NA           NA         NA         \n",
       "6 NA           NA         NA         "
      ]
     },
     "metadata": {},
     "output_type": "display_data"
    }
   ],
   "source": [
    "head(ts)"
   ]
  },
  {
   "cell_type": "code",
   "execution_count": 14,
   "metadata": {
    "vscode": {
     "languageId": "r"
    }
   },
   "outputs": [
    {
     "data": {
      "text/html": [
       "<table class=\"dataframe\">\n",
       "<caption>A data.frame: 6 × 54</caption>\n",
       "<thead>\n",
       "\t<tr><th></th><th scope=col>TIMESTAMP</th><th scope=col>RECORD</th><th scope=col>Fc_wpl</th><th scope=col>LE_wpl</th><th scope=col>Hs</th><th scope=col>Hc</th><th scope=col>tau</th><th scope=col>u_star</th><th scope=col>stdev_Ts</th><th scope=col>cov_Ts_Ux</th><th scope=col>⋯</th><th scope=col>agc_Avg</th><th scope=col>Fc_irga</th><th scope=col>LE_irga</th><th scope=col>co2_wpl_LE</th><th scope=col>co2_wpl_H</th><th scope=col>h2o_wpl_LE</th><th scope=col>h2o_wpl_H</th><th scope=col>h2o_hmp_mean</th><th scope=col>t_hmp_mean</th><th scope=col>rh_hmp_mean</th></tr>\n",
       "\t<tr><th></th><th scope=col>&lt;dttm&gt;</th><th scope=col>&lt;int&gt;</th><th scope=col>&lt;dbl&gt;</th><th scope=col>&lt;dbl&gt;</th><th scope=col>&lt;dbl&gt;</th><th scope=col>&lt;dbl&gt;</th><th scope=col>&lt;dbl&gt;</th><th scope=col>&lt;dbl&gt;</th><th scope=col>&lt;dbl&gt;</th><th scope=col>&lt;dbl&gt;</th><th scope=col>⋯</th><th scope=col>&lt;dbl&gt;</th><th scope=col>&lt;dbl&gt;</th><th scope=col>&lt;dbl&gt;</th><th scope=col>&lt;dbl&gt;</th><th scope=col>&lt;dbl&gt;</th><th scope=col>&lt;dbl&gt;</th><th scope=col>&lt;dbl&gt;</th><th scope=col>&lt;dbl&gt;</th><th scope=col>&lt;dbl&gt;</th><th scope=col>&lt;dbl&gt;</th></tr>\n",
       "</thead>\n",
       "<tbody>\n",
       "\t<tr><th scope=row>52603</th><td>2016-12-31 21:30:00</td><td>NA</td><td>NA</td><td>NA</td><td>NA</td><td>NA</td><td>NA</td><td>NA</td><td>NA</td><td>NA</td><td>⋯</td><td>NA</td><td>NA</td><td>NA</td><td>NA</td><td>NA</td><td>NA</td><td>NA</td><td>NA</td><td>NA</td><td>NA</td></tr>\n",
       "\t<tr><th scope=row>52604</th><td>2016-12-31 22:00:00</td><td>NA</td><td>NA</td><td>NA</td><td>NA</td><td>NA</td><td>NA</td><td>NA</td><td>NA</td><td>NA</td><td>⋯</td><td>NA</td><td>NA</td><td>NA</td><td>NA</td><td>NA</td><td>NA</td><td>NA</td><td>NA</td><td>NA</td><td>NA</td></tr>\n",
       "\t<tr><th scope=row>52605</th><td>2016-12-31 22:30:00</td><td>NA</td><td>NA</td><td>NA</td><td>NA</td><td>NA</td><td>NA</td><td>NA</td><td>NA</td><td>NA</td><td>⋯</td><td>NA</td><td>NA</td><td>NA</td><td>NA</td><td>NA</td><td>NA</td><td>NA</td><td>NA</td><td>NA</td><td>NA</td></tr>\n",
       "\t<tr><th scope=row>52606</th><td>2016-12-31 23:00:00</td><td>NA</td><td>NA</td><td>NA</td><td>NA</td><td>NA</td><td>NA</td><td>NA</td><td>NA</td><td>NA</td><td>⋯</td><td>NA</td><td>NA</td><td>NA</td><td>NA</td><td>NA</td><td>NA</td><td>NA</td><td>NA</td><td>NA</td><td>NA</td></tr>\n",
       "\t<tr><th scope=row>52607</th><td>2016-12-31 23:30:00</td><td>NA</td><td>NA</td><td>NA</td><td>NA</td><td>NA</td><td>NA</td><td>NA</td><td>NA</td><td>NA</td><td>⋯</td><td>NA</td><td>NA</td><td>NA</td><td>NA</td><td>NA</td><td>NA</td><td>NA</td><td>NA</td><td>NA</td><td>NA</td></tr>\n",
       "\t<tr><th scope=row>52608</th><td>2017-01-01 00:00:00</td><td>NA</td><td>NA</td><td>NA</td><td>NA</td><td>NA</td><td>NA</td><td>NA</td><td>NA</td><td>NA</td><td>⋯</td><td>NA</td><td>NA</td><td>NA</td><td>NA</td><td>NA</td><td>NA</td><td>NA</td><td>NA</td><td>NA</td><td>NA</td></tr>\n",
       "</tbody>\n",
       "</table>\n"
      ],
      "text/latex": [
       "A data.frame: 6 × 54\n",
       "\\begin{tabular}{r|lllllllllllllllllllll}\n",
       "  & TIMESTAMP & RECORD & Fc\\_wpl & LE\\_wpl & Hs & Hc & tau & u\\_star & stdev\\_Ts & cov\\_Ts\\_Ux & ⋯ & agc\\_Avg & Fc\\_irga & LE\\_irga & co2\\_wpl\\_LE & co2\\_wpl\\_H & h2o\\_wpl\\_LE & h2o\\_wpl\\_H & h2o\\_hmp\\_mean & t\\_hmp\\_mean & rh\\_hmp\\_mean\\\\\n",
       "  & <dttm> & <int> & <dbl> & <dbl> & <dbl> & <dbl> & <dbl> & <dbl> & <dbl> & <dbl> & ⋯ & <dbl> & <dbl> & <dbl> & <dbl> & <dbl> & <dbl> & <dbl> & <dbl> & <dbl> & <dbl>\\\\\n",
       "\\hline\n",
       "\t52603 & 2016-12-31 21:30:00 & NA & NA & NA & NA & NA & NA & NA & NA & NA & ⋯ & NA & NA & NA & NA & NA & NA & NA & NA & NA & NA\\\\\n",
       "\t52604 & 2016-12-31 22:00:00 & NA & NA & NA & NA & NA & NA & NA & NA & NA & ⋯ & NA & NA & NA & NA & NA & NA & NA & NA & NA & NA\\\\\n",
       "\t52605 & 2016-12-31 22:30:00 & NA & NA & NA & NA & NA & NA & NA & NA & NA & ⋯ & NA & NA & NA & NA & NA & NA & NA & NA & NA & NA\\\\\n",
       "\t52606 & 2016-12-31 23:00:00 & NA & NA & NA & NA & NA & NA & NA & NA & NA & ⋯ & NA & NA & NA & NA & NA & NA & NA & NA & NA & NA\\\\\n",
       "\t52607 & 2016-12-31 23:30:00 & NA & NA & NA & NA & NA & NA & NA & NA & NA & ⋯ & NA & NA & NA & NA & NA & NA & NA & NA & NA & NA\\\\\n",
       "\t52608 & 2017-01-01 00:00:00 & NA & NA & NA & NA & NA & NA & NA & NA & NA & ⋯ & NA & NA & NA & NA & NA & NA & NA & NA & NA & NA\\\\\n",
       "\\end{tabular}\n"
      ],
      "text/markdown": [
       "\n",
       "A data.frame: 6 × 54\n",
       "\n",
       "| <!--/--> | TIMESTAMP &lt;dttm&gt; | RECORD &lt;int&gt; | Fc_wpl &lt;dbl&gt; | LE_wpl &lt;dbl&gt; | Hs &lt;dbl&gt; | Hc &lt;dbl&gt; | tau &lt;dbl&gt; | u_star &lt;dbl&gt; | stdev_Ts &lt;dbl&gt; | cov_Ts_Ux &lt;dbl&gt; | ⋯ ⋯ | agc_Avg &lt;dbl&gt; | Fc_irga &lt;dbl&gt; | LE_irga &lt;dbl&gt; | co2_wpl_LE &lt;dbl&gt; | co2_wpl_H &lt;dbl&gt; | h2o_wpl_LE &lt;dbl&gt; | h2o_wpl_H &lt;dbl&gt; | h2o_hmp_mean &lt;dbl&gt; | t_hmp_mean &lt;dbl&gt; | rh_hmp_mean &lt;dbl&gt; |\n",
       "|---|---|---|---|---|---|---|---|---|---|---|---|---|---|---|---|---|---|---|---|---|---|\n",
       "| 52603 | 2016-12-31 21:30:00 | NA | NA | NA | NA | NA | NA | NA | NA | NA | ⋯ | NA | NA | NA | NA | NA | NA | NA | NA | NA | NA |\n",
       "| 52604 | 2016-12-31 22:00:00 | NA | NA | NA | NA | NA | NA | NA | NA | NA | ⋯ | NA | NA | NA | NA | NA | NA | NA | NA | NA | NA |\n",
       "| 52605 | 2016-12-31 22:30:00 | NA | NA | NA | NA | NA | NA | NA | NA | NA | ⋯ | NA | NA | NA | NA | NA | NA | NA | NA | NA | NA |\n",
       "| 52606 | 2016-12-31 23:00:00 | NA | NA | NA | NA | NA | NA | NA | NA | NA | ⋯ | NA | NA | NA | NA | NA | NA | NA | NA | NA | NA |\n",
       "| 52607 | 2016-12-31 23:30:00 | NA | NA | NA | NA | NA | NA | NA | NA | NA | ⋯ | NA | NA | NA | NA | NA | NA | NA | NA | NA | NA |\n",
       "| 52608 | 2017-01-01 00:00:00 | NA | NA | NA | NA | NA | NA | NA | NA | NA | ⋯ | NA | NA | NA | NA | NA | NA | NA | NA | NA | NA |\n",
       "\n"
      ],
      "text/plain": [
       "      TIMESTAMP           RECORD Fc_wpl LE_wpl Hs Hc tau u_star stdev_Ts\n",
       "52603 2016-12-31 21:30:00 NA     NA     NA     NA NA NA  NA     NA      \n",
       "52604 2016-12-31 22:00:00 NA     NA     NA     NA NA NA  NA     NA      \n",
       "52605 2016-12-31 22:30:00 NA     NA     NA     NA NA NA  NA     NA      \n",
       "52606 2016-12-31 23:00:00 NA     NA     NA     NA NA NA  NA     NA      \n",
       "52607 2016-12-31 23:30:00 NA     NA     NA     NA NA NA  NA     NA      \n",
       "52608 2017-01-01 00:00:00 NA     NA     NA     NA NA NA  NA     NA      \n",
       "      cov_Ts_Ux ⋯ agc_Avg Fc_irga LE_irga co2_wpl_LE co2_wpl_H h2o_wpl_LE\n",
       "52603 NA        ⋯ NA      NA      NA      NA         NA        NA        \n",
       "52604 NA        ⋯ NA      NA      NA      NA         NA        NA        \n",
       "52605 NA        ⋯ NA      NA      NA      NA         NA        NA        \n",
       "52606 NA        ⋯ NA      NA      NA      NA         NA        NA        \n",
       "52607 NA        ⋯ NA      NA      NA      NA         NA        NA        \n",
       "52608 NA        ⋯ NA      NA      NA      NA         NA        NA        \n",
       "      h2o_wpl_H h2o_hmp_mean t_hmp_mean rh_hmp_mean\n",
       "52603 NA        NA           NA         NA         \n",
       "52604 NA        NA           NA         NA         \n",
       "52605 NA        NA           NA         NA         \n",
       "52606 NA        NA           NA         NA         \n",
       "52607 NA        NA           NA         NA         \n",
       "52608 NA        NA           NA         NA         "
      ]
     },
     "metadata": {},
     "output_type": "display_data"
    }
   ],
   "source": [
    "tail(ts)"
   ]
  },
  {
   "cell_type": "code",
   "execution_count": 15,
   "metadata": {
    "vscode": {
     "languageId": "r"
    }
   },
   "outputs": [
    {
     "data": {
      "text/html": [
       "52608"
      ],
      "text/latex": [
       "52608"
      ],
      "text/markdown": [
       "52608"
      ],
      "text/plain": [
       "[1] 52608"
      ]
     },
     "metadata": {},
     "output_type": "display_data"
    }
   ],
   "source": [
    "nrow(ts)"
   ]
  },
  {
   "cell_type": "markdown",
   "metadata": {},
   "source": [
    "## Unit conversions"
   ]
  },
  {
   "cell_type": "code",
   "execution_count": null,
   "metadata": {
    "vscode": {
     "languageId": "r"
    }
   },
   "outputs": [],
   "source": []
  },
  {
   "cell_type": "markdown",
   "metadata": {},
   "source": [
    "## REddyProc\n",
    "\n",
    "<https://github.com/bgctw/REddyProc>\n",
    "\n",
    "- The number of steps per day can be 24 (hourly) or 48 (half-hourly).\n",
    "- The time stamp needs to be provided in POSIX time format, equidistant half-hours, and stamped on the half hour.\n",
    "- The sEddyProc procedures require at least three months of data.\n",
    "- Full days of data are preferred: the total amount of data rows should be a multiple of the daily time step, and in accordance with FLUXNET standards, the dataset is spanning from the end of the first (half-)hour (0:30 or 1:00, respectively) and to midnight (0:00)\n",
    "\n",
    "Source: REddyProc manual"
   ]
  },
  {
   "cell_type": "code",
   "execution_count": 57,
   "metadata": {
    "vscode": {
     "languageId": "r"
    }
   },
   "outputs": [],
   "source": [
    "# check time series data - should have 48 daily timestamps\n",
    "fCheckHHTimeSeries(Time = ts$TIMESTAMP, DTS = 48)"
   ]
  },
  {
   "cell_type": "code",
   "execution_count": 58,
   "metadata": {
    "vscode": {
     "languageId": "r"
    }
   },
   "outputs": [],
   "source": [
    "EddyData <- ts"
   ]
  },
  {
   "cell_type": "code",
   "execution_count": 59,
   "metadata": {
    "vscode": {
     "languageId": "r"
    }
   },
   "outputs": [],
   "source": [
    "# if not provided, calculate vapour pressure deficit from relative humidity\n",
    "# and air temperature\n",
    "EddyData$VPD <- fCalcVPDfromRHandTair(\n",
    "  rH = EddyData$rh_hmp_mean,\n",
    "  Tair = EddyData$t_hmp_mean\n",
    ")"
   ]
  },
  {
   "cell_type": "code",
   "execution_count": 18,
   "metadata": {
    "vscode": {
     "languageId": "r"
    }
   },
   "outputs": [],
   "source": [
    "# replace long runs of equal net ecosystem exchange values by NA\n",
    "EddyData <- filterLongRuns(EddyData, \"Fc_wpl\")"
   ]
  },
  {
   "cell_type": "code",
   "execution_count": 19,
   "metadata": {
    "vscode": {
     "languageId": "r"
    }
   },
   "outputs": [
    {
     "name": "stderr",
     "output_type": "stream",
     "text": [
      "New sEddyProc class for site 'IE-Kil'\n",
      "\n"
     ]
    }
   ],
   "source": [
    "# initalize R5 reference class sEddyProc for post-processing of eddy data\n",
    "# with the variables needed for post-processing later\n",
    "# colnames are NEE, global radiation, air temperature, VPD, and ustar\n",
    "EProc <- sEddyProc$new(\n",
    "  ID = \"IE-Kil\",\n",
    "  Data = EddyData,\n",
    "  ColNames = c(\"Fc_wpl\", \"swrad??\", \"t_hmp_mean\", \"VPD\", \"u_star\"),\n",
    "  ColPOSIXTime = \"TIMESTAMP\"\n",
    ")"
   ]
  },
  {
   "cell_type": "code",
   "execution_count": 32,
   "metadata": {
    "vscode": {
     "languageId": "r"
    }
   },
   "outputs": [],
   "source": [
    "# location of IE-Kil\n",
    "EProc$sSetLocationInfo(\n",
    "  LatDeg = 51.9683611, LongDeg = -9.9003056, TimeZoneHour = 0\n",
    ")"
   ]
  },
  {
   "cell_type": "code",
   "execution_count": 21,
   "metadata": {
    "vscode": {
     "languageId": "r"
    }
   },
   "outputs": [
    {
     "name": "stderr",
     "output_type": "stream",
     "text": [
      "Warning message in sFillInit(Var, QFVar, QFValue, FillAll):\n",
      "“sMDSGapFill::: The long gap between position 23934 and 42736 will not be filled!”\n",
      "Warning message in sFillInit(Var, QFVar, QFValue, FillAll):\n",
      "“sMDSGapFill::: The long gap between position 1 and 15480 will not be filled!”\n",
      "Warning message in sFillInit(Var, QFVar, QFValue, FillAll):\n",
      "“sMDSGapFill::: The long gap between position 44092 and 52608 will not be filled!”\n",
      "Warning message in sFillInit(Var, QFVar, QFValue, FillAll):\n",
      "“sMDSGapFill::: The long gap between position 18655 and 22580 will not be filled!”\n",
      "Initialized variable 'Fc_wpl' with 49669 real gaps for gap filling.\n",
      "\n",
      "Restriced MDS algorithm for gap filling of 'Fc_wpl' with no meteo conditions and hence only MDC.\n",
      "\n",
      "Warning message in EProc$sMDSGapFill(\"Fc_wpl\", FillAll = FALSE):\n",
      "“sMDSGapFill::: No meteo available for MDS gap filling!”\n",
      "Mean diurnal course with window size of 0 days: .\n",
      "\n",
      ".\n",
      ".\n",
      ".\n",
      ".\n",
      ".\n",
      ".\n",
      ".\n",
      ".\n",
      ".\n",
      ".\n",
      ".\n",
      ".\n",
      ".\n",
      ".\n",
      ".\n",
      ".\n",
      ".\n",
      ".\n",
      ".\n",
      ".\n",
      ".\n",
      ".\n",
      ".\n",
      ".\n",
      ".\n",
      ".\n",
      ".\n",
      ".\n",
      ".\n",
      "39\n",
      "\n",
      "Mean diurnal course with window size of 1 days: .\n",
      "\n",
      ".\n",
      ".\n",
      ".\n",
      ".\n",
      ".\n",
      ".\n",
      ".\n",
      ".\n",
      ".\n",
      ".\n",
      ".\n",
      ".\n",
      ".\n",
      ".\n",
      ".\n",
      ".\n",
      ".\n",
      ".\n",
      ".\n",
      ".\n",
      ".\n",
      ".\n",
      ".\n",
      ".\n",
      ".\n",
      ".\n",
      ".\n",
      ".\n",
      ".\n",
      "83\n",
      "\n",
      "Mean diurnal course with window size of 2 days: .\n",
      "\n",
      ".\n",
      ".\n",
      ".\n",
      ".\n",
      ".\n",
      ".\n",
      ".\n",
      ".\n",
      ".\n",
      ".\n",
      ".\n",
      ".\n",
      ".\n",
      ".\n",
      ".\n",
      ".\n",
      ".\n",
      ".\n",
      ".\n",
      ".\n",
      ".\n",
      ".\n",
      ".\n",
      ".\n",
      ".\n",
      ".\n",
      ".\n",
      ".\n",
      "48\n",
      "\n",
      "Mean diurnal course with window size of 7 days: .\n",
      "\n",
      ".\n",
      ".\n",
      ".\n",
      ".\n",
      ".\n",
      ".\n",
      ".\n",
      ".\n",
      ".\n",
      ".\n",
      ".\n",
      ".\n",
      ".\n",
      ".\n",
      ".\n",
      ".\n",
      ".\n",
      ".\n",
      ".\n",
      ".\n",
      ".\n",
      ".\n",
      ".\n",
      ".\n",
      ".\n",
      ".\n",
      ".\n",
      "240\n",
      "\n",
      "Mean diurnal course with window size of 14 days: .\n",
      "\n",
      ".\n",
      ".\n",
      ".\n",
      ".\n",
      ".\n",
      ".\n",
      ".\n",
      ".\n",
      ".\n",
      ".\n",
      ".\n",
      ".\n",
      ".\n",
      ".\n",
      ".\n",
      ".\n",
      ".\n",
      ".\n",
      ".\n",
      ".\n",
      ".\n",
      ".\n",
      ".\n",
      ".\n",
      ".\n",
      "336\n",
      "\n",
      "Mean diurnal course with window size of 21 days: .\n",
      "\n",
      ".\n",
      ".\n",
      ".\n",
      ".\n",
      ".\n",
      ".\n",
      ".\n",
      ".\n",
      ".\n",
      ".\n",
      ".\n",
      ".\n",
      ".\n",
      ".\n",
      ".\n",
      ".\n",
      ".\n",
      ".\n",
      ".\n",
      ".\n",
      ".\n",
      "336\n",
      "\n",
      "Mean diurnal course with window size of 28 days: .\n",
      "\n",
      ".\n",
      ".\n",
      ".\n",
      ".\n",
      ".\n",
      ".\n",
      ".\n",
      ".\n",
      ".\n",
      ".\n",
      ".\n",
      ".\n",
      ".\n",
      ".\n",
      ".\n",
      ".\n",
      ".\n",
      ".\n",
      "336\n",
      "\n",
      "Mean diurnal course with window size of 35 days: .\n",
      "\n",
      ".\n",
      ".\n",
      ".\n",
      ".\n",
      ".\n",
      ".\n",
      ".\n",
      ".\n",
      ".\n",
      ".\n",
      ".\n",
      ".\n",
      ".\n",
      ".\n",
      ".\n",
      "337\n",
      "\n",
      "Mean diurnal course with window size of 42 days: .\n",
      "\n",
      ".\n",
      ".\n",
      ".\n",
      ".\n",
      ".\n",
      ".\n",
      ".\n",
      ".\n",
      ".\n",
      ".\n",
      ".\n",
      "336\n",
      "\n",
      "Mean diurnal course with window size of 49 days: .\n",
      "\n",
      ".\n",
      ".\n",
      ".\n",
      ".\n",
      ".\n",
      ".\n",
      ".\n",
      ".\n",
      "336\n",
      "\n",
      "Mean diurnal course with window size of 56 days: .\n",
      "\n",
      ".\n",
      ".\n",
      ".\n",
      ".\n",
      ".\n",
      "336\n",
      "\n",
      "Mean diurnal course with window size of 63 days: .\n",
      "\n",
      ".\n",
      "180\n",
      "\n",
      "Finished gap filling of 'Fc_wpl' in 1 seconds. Artificial gaps filled: 5882, real gaps filled: 49669, unfilled (long) gaps: 46726.\n",
      "\n"
     ]
    }
   ],
   "source": [
    "# fill NEE gaps with MDS gap filling algorithm (without prior ustar filtering)\n",
    "EProc$sMDSGapFill(\"Fc_wpl\", FillAll = FALSE)"
   ]
  },
  {
   "cell_type": "code",
   "execution_count": 22,
   "metadata": {
    "vscode": {
     "languageId": "r"
    }
   },
   "outputs": [],
   "source": [
    "# export gap filled and partitioned data to standard data frame\n",
    "FilledEddyData <- EProc$sExportResults()"
   ]
  },
  {
   "cell_type": "code",
   "execution_count": 27,
   "metadata": {
    "vscode": {
     "languageId": "r"
    }
   },
   "outputs": [
    {
     "data": {
      "text/html": [
       "<table class=\"dataframe\">\n",
       "<caption>A data.frame: 6 × 9</caption>\n",
       "<thead>\n",
       "\t<tr><th></th><th scope=col>Fc_wpl_orig</th><th scope=col>Fc_wpl_f</th><th scope=col>Fc_wpl_fqc</th><th scope=col>Fc_wpl_fall</th><th scope=col>Fc_wpl_fall_qc</th><th scope=col>Fc_wpl_fnum</th><th scope=col>Fc_wpl_fsd</th><th scope=col>Fc_wpl_fmeth</th><th scope=col>Fc_wpl_fwin</th></tr>\n",
       "\t<tr><th></th><th scope=col>&lt;dbl&gt;</th><th scope=col>&lt;dbl&gt;</th><th scope=col>&lt;dbl&gt;</th><th scope=col>&lt;dbl&gt;</th><th scope=col>&lt;dbl&gt;</th><th scope=col>&lt;dbl&gt;</th><th scope=col>&lt;dbl&gt;</th><th scope=col>&lt;dbl&gt;</th><th scope=col>&lt;dbl&gt;</th></tr>\n",
       "</thead>\n",
       "<tbody>\n",
       "\t<tr><th scope=row>15481</th><td>-0.02738776</td><td>-0.02738776</td><td>0</td><td>-0.02738776</td><td>NA</td><td>NA</td><td>NA</td><td>NA</td><td>NA</td></tr>\n",
       "\t<tr><th scope=row>15482</th><td>-0.03498442</td><td>-0.03498442</td><td>0</td><td>-0.03498442</td><td>NA</td><td>NA</td><td>NA</td><td>NA</td><td>NA</td></tr>\n",
       "\t<tr><th scope=row>15483</th><td> 0.18082340</td><td> 0.18082340</td><td>0</td><td> 0.18082340</td><td>NA</td><td>NA</td><td>NA</td><td>NA</td><td>NA</td></tr>\n",
       "\t<tr><th scope=row>15484</th><td> 2.18144700</td><td> 2.18144700</td><td>0</td><td> 2.18144700</td><td>NA</td><td>NA</td><td>NA</td><td>NA</td><td>NA</td></tr>\n",
       "\t<tr><th scope=row>15485</th><td>-0.07790546</td><td>-0.07790546</td><td>0</td><td>-0.07790546</td><td>NA</td><td>NA</td><td>NA</td><td>NA</td><td>NA</td></tr>\n",
       "\t<tr><th scope=row>15486</th><td>-0.01854837</td><td>-0.01854837</td><td>0</td><td>-0.01854837</td><td>NA</td><td>NA</td><td>NA</td><td>NA</td><td>NA</td></tr>\n",
       "</tbody>\n",
       "</table>\n"
      ],
      "text/latex": [
       "A data.frame: 6 × 9\n",
       "\\begin{tabular}{r|lllllllll}\n",
       "  & Fc\\_wpl\\_orig & Fc\\_wpl\\_f & Fc\\_wpl\\_fqc & Fc\\_wpl\\_fall & Fc\\_wpl\\_fall\\_qc & Fc\\_wpl\\_fnum & Fc\\_wpl\\_fsd & Fc\\_wpl\\_fmeth & Fc\\_wpl\\_fwin\\\\\n",
       "  & <dbl> & <dbl> & <dbl> & <dbl> & <dbl> & <dbl> & <dbl> & <dbl> & <dbl>\\\\\n",
       "\\hline\n",
       "\t15481 & -0.02738776 & -0.02738776 & 0 & -0.02738776 & NA & NA & NA & NA & NA\\\\\n",
       "\t15482 & -0.03498442 & -0.03498442 & 0 & -0.03498442 & NA & NA & NA & NA & NA\\\\\n",
       "\t15483 &  0.18082340 &  0.18082340 & 0 &  0.18082340 & NA & NA & NA & NA & NA\\\\\n",
       "\t15484 &  2.18144700 &  2.18144700 & 0 &  2.18144700 & NA & NA & NA & NA & NA\\\\\n",
       "\t15485 & -0.07790546 & -0.07790546 & 0 & -0.07790546 & NA & NA & NA & NA & NA\\\\\n",
       "\t15486 & -0.01854837 & -0.01854837 & 0 & -0.01854837 & NA & NA & NA & NA & NA\\\\\n",
       "\\end{tabular}\n"
      ],
      "text/markdown": [
       "\n",
       "A data.frame: 6 × 9\n",
       "\n",
       "| <!--/--> | Fc_wpl_orig &lt;dbl&gt; | Fc_wpl_f &lt;dbl&gt; | Fc_wpl_fqc &lt;dbl&gt; | Fc_wpl_fall &lt;dbl&gt; | Fc_wpl_fall_qc &lt;dbl&gt; | Fc_wpl_fnum &lt;dbl&gt; | Fc_wpl_fsd &lt;dbl&gt; | Fc_wpl_fmeth &lt;dbl&gt; | Fc_wpl_fwin &lt;dbl&gt; |\n",
       "|---|---|---|---|---|---|---|---|---|---|\n",
       "| 15481 | -0.02738776 | -0.02738776 | 0 | -0.02738776 | NA | NA | NA | NA | NA |\n",
       "| 15482 | -0.03498442 | -0.03498442 | 0 | -0.03498442 | NA | NA | NA | NA | NA |\n",
       "| 15483 |  0.18082340 |  0.18082340 | 0 |  0.18082340 | NA | NA | NA | NA | NA |\n",
       "| 15484 |  2.18144700 |  2.18144700 | 0 |  2.18144700 | NA | NA | NA | NA | NA |\n",
       "| 15485 | -0.07790546 | -0.07790546 | 0 | -0.07790546 | NA | NA | NA | NA | NA |\n",
       "| 15486 | -0.01854837 | -0.01854837 | 0 | -0.01854837 | NA | NA | NA | NA | NA |\n",
       "\n"
      ],
      "text/plain": [
       "      Fc_wpl_orig Fc_wpl_f    Fc_wpl_fqc Fc_wpl_fall Fc_wpl_fall_qc Fc_wpl_fnum\n",
       "15481 -0.02738776 -0.02738776 0          -0.02738776 NA             NA         \n",
       "15482 -0.03498442 -0.03498442 0          -0.03498442 NA             NA         \n",
       "15483  0.18082340  0.18082340 0           0.18082340 NA             NA         \n",
       "15484  2.18144700  2.18144700 0           2.18144700 NA             NA         \n",
       "15485 -0.07790546 -0.07790546 0          -0.07790546 NA             NA         \n",
       "15486 -0.01854837 -0.01854837 0          -0.01854837 NA             NA         \n",
       "      Fc_wpl_fsd Fc_wpl_fmeth Fc_wpl_fwin\n",
       "15481 NA         NA           NA         \n",
       "15482 NA         NA           NA         \n",
       "15483 NA         NA           NA         \n",
       "15484 NA         NA           NA         \n",
       "15485 NA         NA           NA         \n",
       "15486 NA         NA           NA         "
      ]
     },
     "metadata": {},
     "output_type": "display_data"
    }
   ],
   "source": [
    "head(FilledEddyData[!is.na(FilledEddyData),])"
   ]
  },
  {
   "cell_type": "markdown",
   "metadata": {},
   "source": [
    "## Save"
   ]
  },
  {
   "cell_type": "code",
   "execution_count": 28,
   "metadata": {
    "vscode": {
     "languageId": "r"
    }
   },
   "outputs": [],
   "source": [
    "# convert timestamp back to character before saving\n",
    "# https://stackoverflow.com/q/76259729\n",
    "ts$TIMESTAMP <- format(ts$TIMESTAMP)"
   ]
  },
  {
   "cell_type": "code",
   "execution_count": 29,
   "metadata": {
    "vscode": {
     "languageId": "r"
    }
   },
   "outputs": [],
   "source": [
    "write.table(\n",
    "  ts, \"data/flux/3989.flux.csv\", row.names = FALSE, sep = \",\", quote = FALSE\n",
    ")"
   ]
  },
  {
   "cell_type": "code",
   "execution_count": 30,
   "metadata": {
    "vscode": {
     "languageId": "r"
    }
   },
   "outputs": [],
   "source": [
    "write.table(\n",
    "  FilledEddyData, \"data/flux/3989.flux.filled.csv\", sep = \",\", quote = FALSE\n",
    ")"
   ]
  }
 ],
 "metadata": {
  "kernelspec": {
   "display_name": "R",
   "language": "R",
   "name": "ir"
  },
  "language_info": {
   "codemirror_mode": "r",
   "file_extension": ".r",
   "mimetype": "text/x-r-source",
   "name": "R",
   "pygments_lexer": "r",
   "version": "4.3.2"
  }
 },
 "nbformat": 4,
 "nbformat_minor": 2
}
