{
 "cells": [
  {
   "cell_type": "markdown",
   "metadata": {},
   "source": [
    "# REddyProc variables\n",
    "\n",
    "- <https://github.com/bgctw/REddyProc>\n",
    "- <https://ameriflux.lbl.gov/data/aboutdata/data-variables/>"
   ]
  },
  {
   "cell_type": "code",
   "execution_count": 1,
   "metadata": {
    "vscode": {
     "languageId": "r"
    }
   },
   "outputs": [],
   "source": [
    "if (grepl(\"docs\", getwd(), fixed = TRUE)) {\n",
    "  setwd(\"..\")\n",
    "}"
   ]
  },
  {
   "cell_type": "code",
   "execution_count": 2,
   "metadata": {
    "vscode": {
     "languageId": "r"
    }
   },
   "outputs": [
    {
     "name": "stderr",
     "output_type": "stream",
     "text": [
      "\n",
      "Attaching package: ‘dplyr’\n",
      "\n",
      "\n",
      "The following objects are masked from ‘package:stats’:\n",
      "\n",
      "    filter, lag\n",
      "\n",
      "\n",
      "The following objects are masked from ‘package:base’:\n",
      "\n",
      "    intersect, setdiff, setequal, union\n",
      "\n",
      "\n"
     ]
    }
   ],
   "source": [
    "library(REddyProc)\n",
    "library(dplyr)"
   ]
  },
  {
   "cell_type": "code",
   "execution_count": 3,
   "metadata": {
    "vscode": {
     "languageId": "r"
    }
   },
   "outputs": [],
   "source": [
    "# REddyProc - AmeriFlux variable name mapping\n",
    "vars_bgc <- data.frame(getBGC05ToAmerifluxVariableNameMapping())"
   ]
  },
  {
   "cell_type": "code",
   "execution_count": 4,
   "metadata": {
    "vscode": {
     "languageId": "r"
    }
   },
   "outputs": [
    {
     "data": {
      "text/html": [
       "<table class=\"dataframe\">\n",
       "<caption>A data.frame: 6 × 1</caption>\n",
       "<thead>\n",
       "\t<tr><th></th><th scope=col>getBGC05ToAmerifluxVariableNameMapping..</th></tr>\n",
       "\t<tr><th></th><th scope=col>&lt;chr&gt;</th></tr>\n",
       "</thead>\n",
       "<tbody>\n",
       "\t<tr><th scope=row>Year</th><td>YEAR </td></tr>\n",
       "\t<tr><th scope=row>DoY</th><td>DOY  </td></tr>\n",
       "\t<tr><th scope=row>Rg</th><td>SW_IN</td></tr>\n",
       "\t<tr><th scope=row>Tair</th><td>TA   </td></tr>\n",
       "\t<tr><th scope=row>Tsoil</th><td>TS   </td></tr>\n",
       "\t<tr><th scope=row>rH</th><td>RH   </td></tr>\n",
       "</tbody>\n",
       "</table>\n"
      ],
      "text/latex": [
       "A data.frame: 6 × 1\n",
       "\\begin{tabular}{r|l}\n",
       "  & getBGC05ToAmerifluxVariableNameMapping..\\\\\n",
       "  & <chr>\\\\\n",
       "\\hline\n",
       "\tYear & YEAR \\\\\n",
       "\tDoY & DOY  \\\\\n",
       "\tRg & SW\\_IN\\\\\n",
       "\tTair & TA   \\\\\n",
       "\tTsoil & TS   \\\\\n",
       "\trH & RH   \\\\\n",
       "\\end{tabular}\n"
      ],
      "text/markdown": [
       "\n",
       "A data.frame: 6 × 1\n",
       "\n",
       "| <!--/--> | getBGC05ToAmerifluxVariableNameMapping.. &lt;chr&gt; |\n",
       "|---|---|\n",
       "| Year | YEAR  |\n",
       "| DoY | DOY   |\n",
       "| Rg | SW_IN |\n",
       "| Tair | TA    |\n",
       "| Tsoil | TS    |\n",
       "| rH | RH    |\n",
       "\n"
      ],
      "text/plain": [
       "      getBGC05ToAmerifluxVariableNameMapping..\n",
       "Year  YEAR                                    \n",
       "DoY   DOY                                     \n",
       "Rg    SW_IN                                   \n",
       "Tair  TA                                      \n",
       "Tsoil TS                                      \n",
       "rH    RH                                      "
      ]
     },
     "metadata": {},
     "output_type": "display_data"
    }
   ],
   "source": [
    "head(vars_bgc)"
   ]
  },
  {
   "cell_type": "code",
   "execution_count": 5,
   "metadata": {
    "vscode": {
     "languageId": "r"
    }
   },
   "outputs": [],
   "source": [
    "# assign column name\n",
    "names(vars_bgc) <- \"Variable\""
   ]
  },
  {
   "cell_type": "code",
   "execution_count": 6,
   "metadata": {
    "vscode": {
     "languageId": "r"
    }
   },
   "outputs": [],
   "source": [
    "# convert row names to column\n",
    "vars_bgc$BGC <- row.names(vars_bgc)"
   ]
  },
  {
   "cell_type": "code",
   "execution_count": 7,
   "metadata": {
    "vscode": {
     "languageId": "r"
    }
   },
   "outputs": [],
   "source": [
    "# AmeriFlux vars - downloaded from their website\n",
    "vars_af <- read.csv(\"data/flux-met_processing_variables.csv\")"
   ]
  },
  {
   "cell_type": "code",
   "execution_count": 8,
   "metadata": {
    "vscode": {
     "languageId": "r"
    }
   },
   "outputs": [
    {
     "data": {
      "text/html": [
       "<table class=\"dataframe\">\n",
       "<caption>A data.frame: 6 × 4</caption>\n",
       "<thead>\n",
       "\t<tr><th></th><th scope=col>Type</th><th scope=col>Variable</th><th scope=col>Description</th><th scope=col>Units</th></tr>\n",
       "\t<tr><th></th><th scope=col>&lt;chr&gt;</th><th scope=col>&lt;chr&gt;</th><th scope=col>&lt;chr&gt;</th><th scope=col>&lt;chr&gt;</th></tr>\n",
       "</thead>\n",
       "<tbody>\n",
       "\t<tr><th scope=row>1</th><td>TIMEKEEPING</td><td>TIMESTAMP_START</td><td>ISO timestamp start of averaging period (up to a 12-digit integer as specified by the data's temporal resolution)</td><td>YYYYMMDDHHMM </td></tr>\n",
       "\t<tr><th scope=row>2</th><td>TIMEKEEPING</td><td>TIMESTAMP_END  </td><td>ISO timestamp end of averaging period (up to a 12-digit integer as specified by the data's temporal resolution)  </td><td>YYYYMMDDHHMM </td></tr>\n",
       "\t<tr><th scope=row>3</th><td>TIMEKEEPING</td><td>TIMESTAMP      </td><td>ISO timestamp (up to a 12-digit integer as specified by the data's temporal resolution)                          </td><td>YYYYMMDDHHMM </td></tr>\n",
       "\t<tr><th scope=row>4</th><td>AQUATIC    </td><td>COND_WATER     </td><td>Conductivity (i.e., electrical conductivity) of water                                                            </td><td>µS cm-1      </td></tr>\n",
       "\t<tr><th scope=row>5</th><td>AQUATIC    </td><td>DO             </td><td>Dissolved oxygen in water                                                                                        </td><td>µmol L-1     </td></tr>\n",
       "\t<tr><th scope=row>6</th><td>AQUATIC    </td><td>PCH4           </td><td>Dissolved methane (CH4) in water                                                                                 </td><td>nmolCH4 mol-1</td></tr>\n",
       "</tbody>\n",
       "</table>\n"
      ],
      "text/latex": [
       "A data.frame: 6 × 4\n",
       "\\begin{tabular}{r|llll}\n",
       "  & Type & Variable & Description & Units\\\\\n",
       "  & <chr> & <chr> & <chr> & <chr>\\\\\n",
       "\\hline\n",
       "\t1 & TIMEKEEPING & TIMESTAMP\\_START & ISO timestamp start of averaging period (up to a 12-digit integer as specified by the data's temporal resolution) & YYYYMMDDHHMM \\\\\n",
       "\t2 & TIMEKEEPING & TIMESTAMP\\_END   & ISO timestamp end of averaging period (up to a 12-digit integer as specified by the data's temporal resolution)   & YYYYMMDDHHMM \\\\\n",
       "\t3 & TIMEKEEPING & TIMESTAMP       & ISO timestamp (up to a 12-digit integer as specified by the data's temporal resolution)                           & YYYYMMDDHHMM \\\\\n",
       "\t4 & AQUATIC     & COND\\_WATER      & Conductivity (i.e., electrical conductivity) of water                                                             & µS cm-1      \\\\\n",
       "\t5 & AQUATIC     & DO              & Dissolved oxygen in water                                                                                         & µmol L-1     \\\\\n",
       "\t6 & AQUATIC     & PCH4            & Dissolved methane (CH4) in water                                                                                  & nmolCH4 mol-1\\\\\n",
       "\\end{tabular}\n"
      ],
      "text/markdown": [
       "\n",
       "A data.frame: 6 × 4\n",
       "\n",
       "| <!--/--> | Type &lt;chr&gt; | Variable &lt;chr&gt; | Description &lt;chr&gt; | Units &lt;chr&gt; |\n",
       "|---|---|---|---|---|\n",
       "| 1 | TIMEKEEPING | TIMESTAMP_START | ISO timestamp start of averaging period (up to a 12-digit integer as specified by the data's temporal resolution) | YYYYMMDDHHMM  |\n",
       "| 2 | TIMEKEEPING | TIMESTAMP_END   | ISO timestamp end of averaging period (up to a 12-digit integer as specified by the data's temporal resolution)   | YYYYMMDDHHMM  |\n",
       "| 3 | TIMEKEEPING | TIMESTAMP       | ISO timestamp (up to a 12-digit integer as specified by the data's temporal resolution)                           | YYYYMMDDHHMM  |\n",
       "| 4 | AQUATIC     | COND_WATER      | Conductivity (i.e., electrical conductivity) of water                                                             | µS cm-1       |\n",
       "| 5 | AQUATIC     | DO              | Dissolved oxygen in water                                                                                         | µmol L-1      |\n",
       "| 6 | AQUATIC     | PCH4            | Dissolved methane (CH4) in water                                                                                  | nmolCH4 mol-1 |\n",
       "\n"
      ],
      "text/plain": [
       "  Type        Variable       \n",
       "1 TIMEKEEPING TIMESTAMP_START\n",
       "2 TIMEKEEPING TIMESTAMP_END  \n",
       "3 TIMEKEEPING TIMESTAMP      \n",
       "4 AQUATIC     COND_WATER     \n",
       "5 AQUATIC     DO             \n",
       "6 AQUATIC     PCH4           \n",
       "  Description                                                                                                      \n",
       "1 ISO timestamp start of averaging period (up to a 12-digit integer as specified by the data's temporal resolution)\n",
       "2 ISO timestamp end of averaging period (up to a 12-digit integer as specified by the data's temporal resolution)  \n",
       "3 ISO timestamp (up to a 12-digit integer as specified by the data's temporal resolution)                          \n",
       "4 Conductivity (i.e., electrical conductivity) of water                                                            \n",
       "5 Dissolved oxygen in water                                                                                        \n",
       "6 Dissolved methane (CH4) in water                                                                                 \n",
       "  Units        \n",
       "1 YYYYMMDDHHMM \n",
       "2 YYYYMMDDHHMM \n",
       "3 YYYYMMDDHHMM \n",
       "4 µS cm-1      \n",
       "5 µmol L-1     \n",
       "6 nmolCH4 mol-1"
      ]
     },
     "metadata": {},
     "output_type": "display_data"
    }
   ],
   "source": [
    "head(vars_af)"
   ]
  },
  {
   "cell_type": "code",
   "execution_count": 9,
   "metadata": {
    "vscode": {
     "languageId": "r"
    }
   },
   "outputs": [],
   "source": [
    "# merge into a single dataframe with variables relevant to REddyProc\n",
    "vars_all <- merge(vars_bgc, vars_af, by = \"Variable\", all.x = TRUE)"
   ]
  },
  {
   "cell_type": "code",
   "execution_count": 10,
   "metadata": {
    "vscode": {
     "languageId": "r"
    }
   },
   "outputs": [
    {
     "data": {
      "text/html": [
       "<table class=\"dataframe\">\n",
       "<caption>A data.frame: 17 × 5</caption>\n",
       "<thead>\n",
       "\t<tr><th scope=col>Variable</th><th scope=col>BGC</th><th scope=col>Type</th><th scope=col>Description</th><th scope=col>Units</th></tr>\n",
       "\t<tr><th scope=col>&lt;chr&gt;</th><th scope=col>&lt;chr&gt;</th><th scope=col>&lt;chr&gt;</th><th scope=col>&lt;chr&gt;</th><th scope=col>&lt;chr&gt;</th></tr>\n",
       "</thead>\n",
       "<tbody>\n",
       "\t<tr><td>DOY   </td><td>DoY     </td><td>NA      </td><td>NA                            </td><td>NA   </td></tr>\n",
       "\t<tr><td>H_F   </td><td>H_f     </td><td>NA      </td><td>NA                            </td><td>NA   </td></tr>\n",
       "\t<tr><td>H_PI  </td><td>H_orig  </td><td>NA      </td><td>NA                            </td><td>NA   </td></tr>\n",
       "\t<tr><td>H_QC  </td><td>H_fqc   </td><td>NA      </td><td>NA                            </td><td>NA   </td></tr>\n",
       "\t<tr><td>LE_F  </td><td>LE_f    </td><td>NA      </td><td>NA                            </td><td>NA   </td></tr>\n",
       "\t<tr><td>LE_PI </td><td>LE_orig </td><td>NA      </td><td>NA                            </td><td>NA   </td></tr>\n",
       "\t<tr><td>LE_QC </td><td>LE_fqc  </td><td>NA      </td><td>NA                            </td><td>NA   </td></tr>\n",
       "\t<tr><td>NEE_F </td><td>NEE_f   </td><td>NA      </td><td>NA                            </td><td>NA   </td></tr>\n",
       "\t<tr><td>NEE_PI</td><td>NEE_orig</td><td>NA      </td><td>NA                            </td><td>NA   </td></tr>\n",
       "\t<tr><td>NEE_QC</td><td>NEE_fqc </td><td>NA      </td><td>NA                            </td><td>NA   </td></tr>\n",
       "\t<tr><td>RH    </td><td>rH      </td><td>MET_ATM </td><td>Relative humidity, range 0-100</td><td>%    </td></tr>\n",
       "\t<tr><td>SW_IN </td><td>Rg      </td><td>MET_RAD </td><td>Shortwave radiation, incoming </td><td>W m-2</td></tr>\n",
       "\t<tr><td>TA    </td><td>Tair    </td><td>MET_ATM </td><td>Air temperature               </td><td>deg C</td></tr>\n",
       "\t<tr><td>TS    </td><td>Tsoil   </td><td>MET_SOIL</td><td>Soil temperature              </td><td>deg C</td></tr>\n",
       "\t<tr><td>USTAR </td><td>Ustar   </td><td>MET_WIND</td><td>Friction velocity             </td><td>m s-1</td></tr>\n",
       "\t<tr><td>VPD   </td><td>VPD     </td><td>MET_ATM </td><td>Vapor Pressure Deficit        </td><td>hPa  </td></tr>\n",
       "\t<tr><td>YEAR  </td><td>Year    </td><td>NA      </td><td>NA                            </td><td>NA   </td></tr>\n",
       "</tbody>\n",
       "</table>\n"
      ],
      "text/latex": [
       "A data.frame: 17 × 5\n",
       "\\begin{tabular}{lllll}\n",
       " Variable & BGC & Type & Description & Units\\\\\n",
       " <chr> & <chr> & <chr> & <chr> & <chr>\\\\\n",
       "\\hline\n",
       "\t DOY    & DoY      & NA       & NA                             & NA   \\\\\n",
       "\t H\\_F    & H\\_f      & NA       & NA                             & NA   \\\\\n",
       "\t H\\_PI   & H\\_orig   & NA       & NA                             & NA   \\\\\n",
       "\t H\\_QC   & H\\_fqc    & NA       & NA                             & NA   \\\\\n",
       "\t LE\\_F   & LE\\_f     & NA       & NA                             & NA   \\\\\n",
       "\t LE\\_PI  & LE\\_orig  & NA       & NA                             & NA   \\\\\n",
       "\t LE\\_QC  & LE\\_fqc   & NA       & NA                             & NA   \\\\\n",
       "\t NEE\\_F  & NEE\\_f    & NA       & NA                             & NA   \\\\\n",
       "\t NEE\\_PI & NEE\\_orig & NA       & NA                             & NA   \\\\\n",
       "\t NEE\\_QC & NEE\\_fqc  & NA       & NA                             & NA   \\\\\n",
       "\t RH     & rH       & MET\\_ATM  & Relative humidity, range 0-100 & \\%    \\\\\n",
       "\t SW\\_IN  & Rg       & MET\\_RAD  & Shortwave radiation, incoming  & W m-2\\\\\n",
       "\t TA     & Tair     & MET\\_ATM  & Air temperature                & deg C\\\\\n",
       "\t TS     & Tsoil    & MET\\_SOIL & Soil temperature               & deg C\\\\\n",
       "\t USTAR  & Ustar    & MET\\_WIND & Friction velocity              & m s-1\\\\\n",
       "\t VPD    & VPD      & MET\\_ATM  & Vapor Pressure Deficit         & hPa  \\\\\n",
       "\t YEAR   & Year     & NA       & NA                             & NA   \\\\\n",
       "\\end{tabular}\n"
      ],
      "text/markdown": [
       "\n",
       "A data.frame: 17 × 5\n",
       "\n",
       "| Variable &lt;chr&gt; | BGC &lt;chr&gt; | Type &lt;chr&gt; | Description &lt;chr&gt; | Units &lt;chr&gt; |\n",
       "|---|---|---|---|---|\n",
       "| DOY    | DoY      | NA       | NA                             | NA    |\n",
       "| H_F    | H_f      | NA       | NA                             | NA    |\n",
       "| H_PI   | H_orig   | NA       | NA                             | NA    |\n",
       "| H_QC   | H_fqc    | NA       | NA                             | NA    |\n",
       "| LE_F   | LE_f     | NA       | NA                             | NA    |\n",
       "| LE_PI  | LE_orig  | NA       | NA                             | NA    |\n",
       "| LE_QC  | LE_fqc   | NA       | NA                             | NA    |\n",
       "| NEE_F  | NEE_f    | NA       | NA                             | NA    |\n",
       "| NEE_PI | NEE_orig | NA       | NA                             | NA    |\n",
       "| NEE_QC | NEE_fqc  | NA       | NA                             | NA    |\n",
       "| RH     | rH       | MET_ATM  | Relative humidity, range 0-100 | %     |\n",
       "| SW_IN  | Rg       | MET_RAD  | Shortwave radiation, incoming  | W m-2 |\n",
       "| TA     | Tair     | MET_ATM  | Air temperature                | deg C |\n",
       "| TS     | Tsoil    | MET_SOIL | Soil temperature               | deg C |\n",
       "| USTAR  | Ustar    | MET_WIND | Friction velocity              | m s-1 |\n",
       "| VPD    | VPD      | MET_ATM  | Vapor Pressure Deficit         | hPa   |\n",
       "| YEAR   | Year     | NA       | NA                             | NA    |\n",
       "\n"
      ],
      "text/plain": [
       "   Variable BGC      Type     Description                    Units\n",
       "1  DOY      DoY      NA       NA                             NA   \n",
       "2  H_F      H_f      NA       NA                             NA   \n",
       "3  H_PI     H_orig   NA       NA                             NA   \n",
       "4  H_QC     H_fqc    NA       NA                             NA   \n",
       "5  LE_F     LE_f     NA       NA                             NA   \n",
       "6  LE_PI    LE_orig  NA       NA                             NA   \n",
       "7  LE_QC    LE_fqc   NA       NA                             NA   \n",
       "8  NEE_F    NEE_f    NA       NA                             NA   \n",
       "9  NEE_PI   NEE_orig NA       NA                             NA   \n",
       "10 NEE_QC   NEE_fqc  NA       NA                             NA   \n",
       "11 RH       rH       MET_ATM  Relative humidity, range 0-100 %    \n",
       "12 SW_IN    Rg       MET_RAD  Shortwave radiation, incoming  W m-2\n",
       "13 TA       Tair     MET_ATM  Air temperature                deg C\n",
       "14 TS       Tsoil    MET_SOIL Soil temperature               deg C\n",
       "15 USTAR    Ustar    MET_WIND Friction velocity              m s-1\n",
       "16 VPD      VPD      MET_ATM  Vapor Pressure Deficit         hPa  \n",
       "17 YEAR     Year     NA       NA                             NA   "
      ]
     },
     "metadata": {},
     "output_type": "display_data"
    }
   ],
   "source": [
    "vars_all"
   ]
  },
  {
   "cell_type": "code",
   "execution_count": 11,
   "metadata": {
    "vscode": {
     "languageId": "r"
    }
   },
   "outputs": [],
   "source": [
    "# handle the NAs - use the variable name without the prefix\n",
    "l <- strsplit(as.character(vars_all[!complete.cases(vars_all),]$Variable), \"_\")"
   ]
  },
  {
   "cell_type": "code",
   "execution_count": 12,
   "metadata": {
    "vscode": {
     "languageId": "r"
    }
   },
   "outputs": [],
   "source": [
    "# create a dataframe\n",
    "l <- data.frame(\n",
    "  Variable = unlist(l),\n",
    "  Var = rep(vars_all[!complete.cases(vars_all),]$Variable, lengths(l))\n",
    ")"
   ]
  },
  {
   "cell_type": "code",
   "execution_count": 13,
   "metadata": {
    "vscode": {
     "languageId": "r"
    }
   },
   "outputs": [],
   "source": [
    "# remove duplicates based on actual var name\n",
    "l <- distinct(l, Var, .keep_all = TRUE)"
   ]
  },
  {
   "cell_type": "code",
   "execution_count": 14,
   "metadata": {
    "vscode": {
     "languageId": "r"
    }
   },
   "outputs": [],
   "source": [
    "# merge with AmeriFlux vars\n",
    "l <- merge(l, vars_af, by = \"Variable\", all.x = TRUE)"
   ]
  },
  {
   "cell_type": "code",
   "execution_count": 15,
   "metadata": {
    "vscode": {
     "languageId": "r"
    }
   },
   "outputs": [],
   "source": [
    "# switch back to the actual var names\n",
    "l$Variable <- NULL"
   ]
  },
  {
   "cell_type": "code",
   "execution_count": 16,
   "metadata": {
    "vscode": {
     "languageId": "r"
    }
   },
   "outputs": [],
   "source": [
    "names(l)[names(l) == \"Var\"] <- \"Variable\""
   ]
  },
  {
   "cell_type": "code",
   "execution_count": 17,
   "metadata": {
    "vscode": {
     "languageId": "r"
    }
   },
   "outputs": [],
   "source": [
    "# merge with main var list\n",
    "vars_all <- merge(\n",
    "  merge(l, vars_all[!complete.cases(vars_all),], all.x = TRUE),\n",
    "  vars_all[complete.cases(vars_all),], all = TRUE\n",
    ")"
   ]
  },
  {
   "cell_type": "code",
   "execution_count": 18,
   "metadata": {
    "vscode": {
     "languageId": "r"
    }
   },
   "outputs": [],
   "source": [
    "# merge again with REddyProc vars\n",
    "vars_all$BGC <- NULL"
   ]
  },
  {
   "cell_type": "code",
   "execution_count": 19,
   "metadata": {
    "vscode": {
     "languageId": "r"
    }
   },
   "outputs": [],
   "source": [
    "vars_all <- merge(vars_all, vars_bgc)"
   ]
  },
  {
   "cell_type": "code",
   "execution_count": 20,
   "metadata": {
    "vscode": {
     "languageId": "r"
    }
   },
   "outputs": [],
   "source": [
    "# add info about prefixes\n",
    "vars_all$Qualifier <- ifelse(\n",
    "  grepl(\"_F\", vars_all$Variable), \"Gap-filled variable\",\n",
    "  ifelse(\n",
    "    grepl(\"_PI\", vars_all$Variable), \"Provided by PI\",\n",
    "    ifelse(grepl(\"_QC\", vars_all$Variable), \"Quality control flag\", NA)\n",
    "  )\n",
    ")"
   ]
  },
  {
   "cell_type": "code",
   "execution_count": 21,
   "metadata": {
    "vscode": {
     "languageId": "r"
    }
   },
   "outputs": [
    {
     "data": {
      "text/html": [
       "<table class=\"dataframe\">\n",
       "<caption>A data.frame: 17 × 6</caption>\n",
       "<thead>\n",
       "\t<tr><th scope=col>Variable</th><th scope=col>Type</th><th scope=col>Description</th><th scope=col>Units</th><th scope=col>BGC</th><th scope=col>Qualifier</th></tr>\n",
       "\t<tr><th scope=col>&lt;chr&gt;</th><th scope=col>&lt;chr&gt;</th><th scope=col>&lt;chr&gt;</th><th scope=col>&lt;chr&gt;</th><th scope=col>&lt;chr&gt;</th><th scope=col>&lt;chr&gt;</th></tr>\n",
       "</thead>\n",
       "<tbody>\n",
       "\t<tr><td>DOY   </td><td>NA      </td><td>NA                                                  </td><td>NA             </td><td>DoY     </td><td>NA                  </td></tr>\n",
       "\t<tr><td>H_F   </td><td>HEAT    </td><td>Sensible heat turbulent flux (no storage correction)</td><td>W m-2          </td><td>H_f     </td><td>Gap-filled variable </td></tr>\n",
       "\t<tr><td>H_PI  </td><td>HEAT    </td><td>Sensible heat turbulent flux (no storage correction)</td><td>W m-2          </td><td>H_orig  </td><td>Provided by PI      </td></tr>\n",
       "\t<tr><td>H_QC  </td><td>HEAT    </td><td>Sensible heat turbulent flux (no storage correction)</td><td>W m-2          </td><td>H_fqc   </td><td>Quality control flag</td></tr>\n",
       "\t<tr><td>LE_F  </td><td>HEAT    </td><td>Latent heat turbulent flux (no storage correction)  </td><td>W m-2          </td><td>LE_f    </td><td>Gap-filled variable </td></tr>\n",
       "\t<tr><td>LE_PI </td><td>HEAT    </td><td>Latent heat turbulent flux (no storage correction)  </td><td>W m-2          </td><td>LE_orig </td><td>Provided by PI      </td></tr>\n",
       "\t<tr><td>LE_QC </td><td>HEAT    </td><td>Latent heat turbulent flux (no storage correction)  </td><td>W m-2          </td><td>LE_fqc  </td><td>Quality control flag</td></tr>\n",
       "\t<tr><td>NEE_F </td><td>PRODUCTS</td><td>Net Ecosystem Exchange                              </td><td>µmolCO2 m-2 s-1</td><td>NEE_f   </td><td>Gap-filled variable </td></tr>\n",
       "\t<tr><td>NEE_PI</td><td>PRODUCTS</td><td>Net Ecosystem Exchange                              </td><td>µmolCO2 m-2 s-1</td><td>NEE_orig</td><td>Provided by PI      </td></tr>\n",
       "\t<tr><td>NEE_QC</td><td>PRODUCTS</td><td>Net Ecosystem Exchange                              </td><td>µmolCO2 m-2 s-1</td><td>NEE_fqc </td><td>Quality control flag</td></tr>\n",
       "\t<tr><td>RH    </td><td>MET_ATM </td><td>Relative humidity, range 0-100                      </td><td>%              </td><td>rH      </td><td>NA                  </td></tr>\n",
       "\t<tr><td>SW_IN </td><td>MET_RAD </td><td>Shortwave radiation, incoming                       </td><td>W m-2          </td><td>Rg      </td><td>NA                  </td></tr>\n",
       "\t<tr><td>TA    </td><td>MET_ATM </td><td>Air temperature                                     </td><td>deg C          </td><td>Tair    </td><td>NA                  </td></tr>\n",
       "\t<tr><td>TS    </td><td>MET_SOIL</td><td>Soil temperature                                    </td><td>deg C          </td><td>Tsoil   </td><td>NA                  </td></tr>\n",
       "\t<tr><td>USTAR </td><td>MET_WIND</td><td>Friction velocity                                   </td><td>m s-1          </td><td>Ustar   </td><td>NA                  </td></tr>\n",
       "\t<tr><td>VPD   </td><td>MET_ATM </td><td>Vapor Pressure Deficit                              </td><td>hPa            </td><td>VPD     </td><td>NA                  </td></tr>\n",
       "\t<tr><td>YEAR  </td><td>NA      </td><td>NA                                                  </td><td>NA             </td><td>Year    </td><td>NA                  </td></tr>\n",
       "</tbody>\n",
       "</table>\n"
      ],
      "text/latex": [
       "A data.frame: 17 × 6\n",
       "\\begin{tabular}{llllll}\n",
       " Variable & Type & Description & Units & BGC & Qualifier\\\\\n",
       " <chr> & <chr> & <chr> & <chr> & <chr> & <chr>\\\\\n",
       "\\hline\n",
       "\t DOY    & NA       & NA                                                   & NA              & DoY      & NA                  \\\\\n",
       "\t H\\_F    & HEAT     & Sensible heat turbulent flux (no storage correction) & W m-2           & H\\_f      & Gap-filled variable \\\\\n",
       "\t H\\_PI   & HEAT     & Sensible heat turbulent flux (no storage correction) & W m-2           & H\\_orig   & Provided by PI      \\\\\n",
       "\t H\\_QC   & HEAT     & Sensible heat turbulent flux (no storage correction) & W m-2           & H\\_fqc    & Quality control flag\\\\\n",
       "\t LE\\_F   & HEAT     & Latent heat turbulent flux (no storage correction)   & W m-2           & LE\\_f     & Gap-filled variable \\\\\n",
       "\t LE\\_PI  & HEAT     & Latent heat turbulent flux (no storage correction)   & W m-2           & LE\\_orig  & Provided by PI      \\\\\n",
       "\t LE\\_QC  & HEAT     & Latent heat turbulent flux (no storage correction)   & W m-2           & LE\\_fqc   & Quality control flag\\\\\n",
       "\t NEE\\_F  & PRODUCTS & Net Ecosystem Exchange                               & µmolCO2 m-2 s-1 & NEE\\_f    & Gap-filled variable \\\\\n",
       "\t NEE\\_PI & PRODUCTS & Net Ecosystem Exchange                               & µmolCO2 m-2 s-1 & NEE\\_orig & Provided by PI      \\\\\n",
       "\t NEE\\_QC & PRODUCTS & Net Ecosystem Exchange                               & µmolCO2 m-2 s-1 & NEE\\_fqc  & Quality control flag\\\\\n",
       "\t RH     & MET\\_ATM  & Relative humidity, range 0-100                       & \\%               & rH       & NA                  \\\\\n",
       "\t SW\\_IN  & MET\\_RAD  & Shortwave radiation, incoming                        & W m-2           & Rg       & NA                  \\\\\n",
       "\t TA     & MET\\_ATM  & Air temperature                                      & deg C           & Tair     & NA                  \\\\\n",
       "\t TS     & MET\\_SOIL & Soil temperature                                     & deg C           & Tsoil    & NA                  \\\\\n",
       "\t USTAR  & MET\\_WIND & Friction velocity                                    & m s-1           & Ustar    & NA                  \\\\\n",
       "\t VPD    & MET\\_ATM  & Vapor Pressure Deficit                               & hPa             & VPD      & NA                  \\\\\n",
       "\t YEAR   & NA       & NA                                                   & NA              & Year     & NA                  \\\\\n",
       "\\end{tabular}\n"
      ],
      "text/markdown": [
       "\n",
       "A data.frame: 17 × 6\n",
       "\n",
       "| Variable &lt;chr&gt; | Type &lt;chr&gt; | Description &lt;chr&gt; | Units &lt;chr&gt; | BGC &lt;chr&gt; | Qualifier &lt;chr&gt; |\n",
       "|---|---|---|---|---|---|\n",
       "| DOY    | NA       | NA                                                   | NA              | DoY      | NA                   |\n",
       "| H_F    | HEAT     | Sensible heat turbulent flux (no storage correction) | W m-2           | H_f      | Gap-filled variable  |\n",
       "| H_PI   | HEAT     | Sensible heat turbulent flux (no storage correction) | W m-2           | H_orig   | Provided by PI       |\n",
       "| H_QC   | HEAT     | Sensible heat turbulent flux (no storage correction) | W m-2           | H_fqc    | Quality control flag |\n",
       "| LE_F   | HEAT     | Latent heat turbulent flux (no storage correction)   | W m-2           | LE_f     | Gap-filled variable  |\n",
       "| LE_PI  | HEAT     | Latent heat turbulent flux (no storage correction)   | W m-2           | LE_orig  | Provided by PI       |\n",
       "| LE_QC  | HEAT     | Latent heat turbulent flux (no storage correction)   | W m-2           | LE_fqc   | Quality control flag |\n",
       "| NEE_F  | PRODUCTS | Net Ecosystem Exchange                               | µmolCO2 m-2 s-1 | NEE_f    | Gap-filled variable  |\n",
       "| NEE_PI | PRODUCTS | Net Ecosystem Exchange                               | µmolCO2 m-2 s-1 | NEE_orig | Provided by PI       |\n",
       "| NEE_QC | PRODUCTS | Net Ecosystem Exchange                               | µmolCO2 m-2 s-1 | NEE_fqc  | Quality control flag |\n",
       "| RH     | MET_ATM  | Relative humidity, range 0-100                       | %               | rH       | NA                   |\n",
       "| SW_IN  | MET_RAD  | Shortwave radiation, incoming                        | W m-2           | Rg       | NA                   |\n",
       "| TA     | MET_ATM  | Air temperature                                      | deg C           | Tair     | NA                   |\n",
       "| TS     | MET_SOIL | Soil temperature                                     | deg C           | Tsoil    | NA                   |\n",
       "| USTAR  | MET_WIND | Friction velocity                                    | m s-1           | Ustar    | NA                   |\n",
       "| VPD    | MET_ATM  | Vapor Pressure Deficit                               | hPa             | VPD      | NA                   |\n",
       "| YEAR   | NA       | NA                                                   | NA              | Year     | NA                   |\n",
       "\n"
      ],
      "text/plain": [
       "   Variable Type     Description                                         \n",
       "1  DOY      NA       NA                                                  \n",
       "2  H_F      HEAT     Sensible heat turbulent flux (no storage correction)\n",
       "3  H_PI     HEAT     Sensible heat turbulent flux (no storage correction)\n",
       "4  H_QC     HEAT     Sensible heat turbulent flux (no storage correction)\n",
       "5  LE_F     HEAT     Latent heat turbulent flux (no storage correction)  \n",
       "6  LE_PI    HEAT     Latent heat turbulent flux (no storage correction)  \n",
       "7  LE_QC    HEAT     Latent heat turbulent flux (no storage correction)  \n",
       "8  NEE_F    PRODUCTS Net Ecosystem Exchange                              \n",
       "9  NEE_PI   PRODUCTS Net Ecosystem Exchange                              \n",
       "10 NEE_QC   PRODUCTS Net Ecosystem Exchange                              \n",
       "11 RH       MET_ATM  Relative humidity, range 0-100                      \n",
       "12 SW_IN    MET_RAD  Shortwave radiation, incoming                       \n",
       "13 TA       MET_ATM  Air temperature                                     \n",
       "14 TS       MET_SOIL Soil temperature                                    \n",
       "15 USTAR    MET_WIND Friction velocity                                   \n",
       "16 VPD      MET_ATM  Vapor Pressure Deficit                              \n",
       "17 YEAR     NA       NA                                                  \n",
       "   Units           BGC      Qualifier           \n",
       "1  NA              DoY      NA                  \n",
       "2  W m-2           H_f      Gap-filled variable \n",
       "3  W m-2           H_orig   Provided by PI      \n",
       "4  W m-2           H_fqc    Quality control flag\n",
       "5  W m-2           LE_f     Gap-filled variable \n",
       "6  W m-2           LE_orig  Provided by PI      \n",
       "7  W m-2           LE_fqc   Quality control flag\n",
       "8  µmolCO2 m-2 s-1 NEE_f    Gap-filled variable \n",
       "9  µmolCO2 m-2 s-1 NEE_orig Provided by PI      \n",
       "10 µmolCO2 m-2 s-1 NEE_fqc  Quality control flag\n",
       "11 %               rH       NA                  \n",
       "12 W m-2           Rg       NA                  \n",
       "13 deg C           Tair     NA                  \n",
       "14 deg C           Tsoil    NA                  \n",
       "15 m s-1           Ustar    NA                  \n",
       "16 hPa             VPD      NA                  \n",
       "17 NA              Year     NA                  "
      ]
     },
     "metadata": {},
     "output_type": "display_data"
    }
   ],
   "source": [
    "vars_all"
   ]
  },
  {
   "cell_type": "code",
   "execution_count": 22,
   "metadata": {
    "vscode": {
     "languageId": "r"
    }
   },
   "outputs": [],
   "source": [
    "# save\n",
    "write.table(\n",
    "  vars_all, \"data/reddyproc_ameriflux_bgc_variables.tsv\", row.names = FALSE,\n",
    "  sep = \"\\t\", quote = FALSE\n",
    ")"
   ]
  }
 ],
 "metadata": {
  "kernelspec": {
   "display_name": "R",
   "language": "R",
   "name": "ir"
  },
  "language_info": {
   "codemirror_mode": "r",
   "file_extension": ".r",
   "mimetype": "text/x-r-source",
   "name": "R",
   "pygments_lexer": "r",
   "version": "4.3.2"
  }
 },
 "nbformat": 4,
 "nbformat_minor": 2
}
