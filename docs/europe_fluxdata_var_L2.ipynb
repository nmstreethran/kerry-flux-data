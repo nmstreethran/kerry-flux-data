{
 "cells": [
  {
   "cell_type": "markdown",
   "metadata": {},
   "source": [
    "# European Fluxes Database Cluster Level 2 variables\n",
    "\n",
    "<http://www.europe-fluxdata.eu/home/guidelines/obtaining-data/variables-and-formats>"
   ]
  },
  {
   "cell_type": "code",
   "execution_count": 1,
   "metadata": {
    "vscode": {
     "languageId": "r"
    }
   },
   "outputs": [],
   "source": [
    "if (grepl(\"docs\", getwd(), fixed = TRUE)) {\n",
    "  setwd(\"..\")\n",
    "}"
   ]
  },
  {
   "cell_type": "code",
   "execution_count": 2,
   "metadata": {
    "vscode": {
     "languageId": "r"
    }
   },
   "outputs": [],
   "source": [
    "vars_all <- read.csv(\n",
    "  \"data/europe_fluxdata_variables_description_L2.tsv\", sep = \"\\t\"\n",
    ")"
   ]
  },
  {
   "cell_type": "code",
   "execution_count": 4,
   "metadata": {
    "vscode": {
     "languageId": "r"
    }
   },
   "outputs": [
    {
     "data": {
      "text/html": [
       "103"
      ],
      "text/latex": [
       "103"
      ],
      "text/markdown": [
       "103"
      ],
      "text/plain": [
       "[1] 103"
      ]
     },
     "metadata": {},
     "output_type": "display_data"
    }
   ],
   "source": [
    "nrow(vars_all)"
   ]
  },
  {
   "cell_type": "code",
   "execution_count": 5,
   "metadata": {
    "vscode": {
     "languageId": "r"
    }
   },
   "outputs": [
    {
     "data": {
      "text/html": [
       "<table class=\"dataframe\">\n",
       "<caption>A data.frame: 6 × 3</caption>\n",
       "<thead>\n",
       "\t<tr><th></th><th scope=col>Variables</th><th scope=col>Description</th><th scope=col>Unit</th></tr>\n",
       "\t<tr><th></th><th scope=col>&lt;chr&gt;</th><th scope=col>&lt;chr&gt;</th><th scope=col>&lt;chr&gt;</th></tr>\n",
       "</thead>\n",
       "<tbody>\n",
       "\t<tr><th scope=row>1</th><td>ALB   </td><td>Albedo                   </td><td>%             </td></tr>\n",
       "\t<tr><th scope=row>2</th><td>APAR  </td><td>Absorbed PAR (400-700 nm)</td><td>µmol m-2 s-1  </td></tr>\n",
       "\t<tr><th scope=row>3</th><td>CH4   </td><td>Methane concentration    </td><td>ppb           </td></tr>\n",
       "\t<tr><th scope=row>4</th><td>CO2   </td><td>CO2 concentration        </td><td>ppm           </td></tr>\n",
       "\t<tr><th scope=row>5</th><td>D_SNOW</td><td>Snow depth               </td><td>cm            </td></tr>\n",
       "\t<tr><th scope=row>6</th><td>EVI   </td><td>Enhanced Vegetation Index</td><td>nondimensional</td></tr>\n",
       "</tbody>\n",
       "</table>\n"
      ],
      "text/latex": [
       "A data.frame: 6 × 3\n",
       "\\begin{tabular}{r|lll}\n",
       "  & Variables & Description & Unit\\\\\n",
       "  & <chr> & <chr> & <chr>\\\\\n",
       "\\hline\n",
       "\t1 & ALB    & Albedo                    & \\%             \\\\\n",
       "\t2 & APAR   & Absorbed PAR (400-700 nm) & µmol m-2 s-1  \\\\\n",
       "\t3 & CH4    & Methane concentration     & ppb           \\\\\n",
       "\t4 & CO2    & CO2 concentration         & ppm           \\\\\n",
       "\t5 & D\\_SNOW & Snow depth                & cm            \\\\\n",
       "\t6 & EVI    & Enhanced Vegetation Index & nondimensional\\\\\n",
       "\\end{tabular}\n"
      ],
      "text/markdown": [
       "\n",
       "A data.frame: 6 × 3\n",
       "\n",
       "| <!--/--> | Variables &lt;chr&gt; | Description &lt;chr&gt; | Unit &lt;chr&gt; |\n",
       "|---|---|---|---|\n",
       "| 1 | ALB    | Albedo                    | %              |\n",
       "| 2 | APAR   | Absorbed PAR (400-700 nm) | µmol m-2 s-1   |\n",
       "| 3 | CH4    | Methane concentration     | ppb            |\n",
       "| 4 | CO2    | CO2 concentration         | ppm            |\n",
       "| 5 | D_SNOW | Snow depth                | cm             |\n",
       "| 6 | EVI    | Enhanced Vegetation Index | nondimensional |\n",
       "\n"
      ],
      "text/plain": [
       "  Variables Description               Unit          \n",
       "1 ALB       Albedo                    %             \n",
       "2 APAR      Absorbed PAR (400-700 nm) µmol m-2 s-1  \n",
       "3 CH4       Methane concentration     ppb           \n",
       "4 CO2       CO2 concentration         ppm           \n",
       "5 D_SNOW    Snow depth                cm            \n",
       "6 EVI       Enhanced Vegetation Index nondimensional"
      ]
     },
     "metadata": {},
     "output_type": "display_data"
    }
   ],
   "source": [
    "head(vars_all)"
   ]
  },
  {
   "cell_type": "code",
   "execution_count": 5,
   "metadata": {
    "vscode": {
     "languageId": "r"
    }
   },
   "outputs": [
    {
     "name": "stdout",
     "output_type": "stream",
     "text": [
      "[1] \"data/europe_fluxdata_archive/EFDC_L2_Flx_IEKil_2002_v02_30m.txt\"\n",
      "[1] \"TIMESTAMP_START,TIMESTAMP_END,DTime,FC,CO2,H,H2O,LE,TAU,USTAR,LW_IN,LW_OUT,NETRAD,P,PA,PPFD_IN,RH,SW_IN,SW_OUT,SWC,TA,TS,WD,WS,WTD,G\"\n",
      "[1] \"data/europe_fluxdata_archive/EFDC_L2_Flx_IEKil_2003_v04_30m.txt\"\n",
      "[1] \"TIMESTAMP_START,TIMESTAMP_END,DTime,FC,CO2,H,H2O,LE,TAU,USTAR,LW_IN,LW_OUT,NETRAD,P,PA,PPFD_IN,RH,SW_IN,SW_OUT,SWC,TA,TS,WD,WS,WTD,G\"\n",
      "[1] \"data/europe_fluxdata_archive/EFDC_L2_Flx_IEKil_2004_v04_30m.txt\"\n",
      "[1] \"TIMESTAMP_START,TIMESTAMP_END,DTime,FC,CO2,H,H2O,LE,TAU,USTAR,LW_IN,LW_OUT,NETRAD,P,PA,PPFD_IN,RH,SW_IN,SW_OUT,SWC,TA,TS,WD,WS,WTD,G\"\n",
      "[1] \"data/europe_fluxdata_archive/EFDC_L2_Flx_IEKil_2005_v04_30m.txt\"\n",
      "[1] \"TIMESTAMP_START,TIMESTAMP_END,DTime,FC,CO2,H,H2O,LE,TAU,USTAR,LW_IN,LW_OUT,NETRAD,P,PA,PPFD_IN,RH,SW_IN,SW_OUT,TA,TS,WD,WS,WTD,G\"\n",
      "[1] \"data/europe_fluxdata_archive/EFDC_L2_Flx_IEKil_2006_v04_30m.txt\"\n",
      "[1] \"TIMESTAMP_START,TIMESTAMP_END,DTime,FC,CO2,H,H2O,LE,TAU,USTAR,LW_IN,LW_OUT,NETRAD,P,PA,PPFD_IN,RH,SW_IN,SW_OUT,TA,TS,WD,WS,WTD,G\"\n",
      "[1] \"data/europe_fluxdata_archive/EFDC_L2_Flx_IEKil_2007_v04_30m.txt\"\n",
      "[1] \"TIMESTAMP_START,TIMESTAMP_END,DTime,FC,CO2,H,H2O,LE,TAU,USTAR,LW_IN,LW_OUT,NETRAD,P,PA,PPFD_IN,RH,SW_IN,SW_OUT,TA,TS,WD,WS,WTD,G\"\n",
      "[1] \"data/europe_fluxdata_archive/EFDC_L2_Flx_IEKil_2008_v04_30m.txt\"\n",
      "[1] \"TIMESTAMP_START,TIMESTAMP_END,DTime,FC,CO2,H,H2O,LE,TAU,USTAR,LW_IN,LW_OUT,NETRAD,P,PA,PPFD_IN,RH,SW_IN,SW_OUT,TA,TS,WD,WS,WTD,G\"\n",
      "[1] \"data/europe_fluxdata_archive/EFDC_L2_Flx_IEKil_2009_v04_30m.txt\"\n",
      "[1] \"TIMESTAMP_START,TIMESTAMP_END,DTime,FC,CO2,H,H2O,LE,TAU,USTAR,LW_IN,LW_OUT,NETRAD,P,PA,PPFD_IN,RH,SW_IN,SW_OUT,TA,TS,WD,WS,WTD,G\"\n",
      "[1] \"data/europe_fluxdata_archive/EFDC_L2_Flx_IEKil_2010_v04_30m.txt\"\n",
      "[1] \"TIMESTAMP_START,TIMESTAMP_END,DTime,FC,CO2,H,H2O,LE,TAU,USTAR,LW_IN,LW_OUT,NETRAD,P,PA,PPFD_IN,RH,SW_IN,SW_OUT,TA,TS,WD,WS,WTD,G\"\n",
      "[1] \"data/europe_fluxdata_archive/EFDC_L2_Flx_IEKil_2011_v04_30m.txt\"\n",
      "[1] \"TIMESTAMP_START,TIMESTAMP_END,DTime,FC,CO2,H,H2O,LE,TAU,USTAR,LW_IN,LW_OUT,NETRAD,P,PA,PPFD_IN,RH,SW_IN,SW_OUT,TA,TS,WD,WS,WTD,G\"\n",
      "[1] \"data/europe_fluxdata_archive/EFDC_L2_Flx_IEKil_2012_v04_30m.txt\"\n",
      "[1] \"TIMESTAMP_START,TIMESTAMP_END,DTime,FC,CO2,H,H2O,LE,TAU,USTAR,LW_IN,LW_OUT,NETRAD,P,PA,PPFD_IN,RH,SW_IN,SW_OUT,TA,TS,WD,WS,WTD,G\"\n"
     ]
    }
   ],
   "source": [
    "for (\n",
    "  f in list.files(\n",
    "    path = \"data/europe_fluxdata_archive\", pattern = \"EFDC\", full.names = TRUE\n",
    "  )\n",
    ") {\n",
    "  print(f)\n",
    "  print(readLines(f, n = 1))\n",
    "}"
   ]
  },
  {
   "cell_type": "code",
   "execution_count": 6,
   "metadata": {
    "vscode": {
     "languageId": "r"
    }
   },
   "outputs": [],
   "source": [
    "vars_ie <- data.frame(\n",
    "  t(\n",
    "    read.csv(\n",
    "      \"data/europe_fluxdata_archive/EFDC_L2_Flx_IEKil_2002_v02_30m.txt\",\n",
    "      header = FALSE, nrows = 1\n",
    "    )\n",
    "  )\n",
    ")"
   ]
  },
  {
   "cell_type": "code",
   "execution_count": 7,
   "metadata": {
    "vscode": {
     "languageId": "r"
    }
   },
   "outputs": [],
   "source": [
    "names(vars_ie) <- \"Variables\""
   ]
  },
  {
   "cell_type": "code",
   "execution_count": 8,
   "metadata": {
    "vscode": {
     "languageId": "r"
    }
   },
   "outputs": [
    {
     "data": {
      "text/html": [
       "26"
      ],
      "text/latex": [
       "26"
      ],
      "text/markdown": [
       "26"
      ],
      "text/plain": [
       "[1] 26"
      ]
     },
     "metadata": {},
     "output_type": "display_data"
    }
   ],
   "source": [
    "nrow(vars_ie)"
   ]
  },
  {
   "cell_type": "code",
   "execution_count": 9,
   "metadata": {
    "vscode": {
     "languageId": "r"
    }
   },
   "outputs": [
    {
     "data": {
      "text/html": [
       "<table class=\"dataframe\">\n",
       "<caption>A data.frame: 26 × 3</caption>\n",
       "<thead>\n",
       "\t<tr><th scope=col>Variables</th><th scope=col>Description</th><th scope=col>Unit</th></tr>\n",
       "\t<tr><th scope=col>&lt;chr&gt;</th><th scope=col>&lt;chr&gt;</th><th scope=col>&lt;chr&gt;</th></tr>\n",
       "</thead>\n",
       "<tbody>\n",
       "\t<tr><td>CO2            </td><td>CO2 concentration                                                 </td><td>ppm            </td></tr>\n",
       "\t<tr><td>DTime          </td><td>NA                                                                </td><td>NA             </td></tr>\n",
       "\t<tr><td>FC             </td><td>CO2 flux                                                          </td><td>µmolCO2 m-2 s-1</td></tr>\n",
       "\t<tr><td>G              </td><td>Soil heat flux                                                    </td><td>W m-2          </td></tr>\n",
       "\t<tr><td>H              </td><td>Sensible heat flux                                                </td><td>W m-2          </td></tr>\n",
       "\t<tr><td>H2O            </td><td>Water (H2O) vapor mole fraction                                   </td><td>mmolH2O mol-1  </td></tr>\n",
       "\t<tr><td>LE             </td><td>Latent heat flux                                                  </td><td>W m-2          </td></tr>\n",
       "\t<tr><td>LW_IN          </td><td>Incoming Longwave radiation (in the range from 4 to 50 micron)    </td><td>W m-2          </td></tr>\n",
       "\t<tr><td>LW_OUT         </td><td>Outgoing Longwave radiation (in the range from 4 to 50 micron)    </td><td>W m-2          </td></tr>\n",
       "\t<tr><td>NETRAD         </td><td>Net radiation (including SW and LW components)                    </td><td>W m-2          </td></tr>\n",
       "\t<tr><td>P              </td><td>Precipitation                                                     </td><td>mm             </td></tr>\n",
       "\t<tr><td>PA             </td><td>Atmospheric pressure                                              </td><td>kPa            </td></tr>\n",
       "\t<tr><td>PPFD_IN        </td><td>Photosynthetic Photon Flux Density (400-700 nm)                   </td><td>µmol m-2 s-1   </td></tr>\n",
       "\t<tr><td>RH             </td><td>Relative humidity                                                 </td><td>%              </td></tr>\n",
       "\t<tr><td>SW_IN          </td><td>Incoming Shortwave radiation (in the range from 0.3 to 4.5 micron)</td><td>W m-2          </td></tr>\n",
       "\t<tr><td>SW_OUT         </td><td>Outgoing Shortwave radiation (in the range from 0.3 to 4.5 micron)</td><td>W m-2          </td></tr>\n",
       "\t<tr><td>SWC            </td><td>Soil water content                                                </td><td>%              </td></tr>\n",
       "\t<tr><td>TA             </td><td>Air temperature                                                   </td><td>°C             </td></tr>\n",
       "\t<tr><td>TAU            </td><td>Momentum flux                                                     </td><td>kg m-1 s-2     </td></tr>\n",
       "\t<tr><td>TIMESTAMP_END  </td><td>NA                                                                </td><td>NA             </td></tr>\n",
       "\t<tr><td>TIMESTAMP_START</td><td>NA                                                                </td><td>NA             </td></tr>\n",
       "\t<tr><td>TS             </td><td>Soil temperature                                                  </td><td>°C             </td></tr>\n",
       "\t<tr><td>USTAR          </td><td>Friction velocity                                                 </td><td>m s-1          </td></tr>\n",
       "\t<tr><td>WD             </td><td>Wind direction                                                    </td><td>decimal degree </td></tr>\n",
       "\t<tr><td>WS             </td><td>Wind speed                                                        </td><td>m s-1          </td></tr>\n",
       "\t<tr><td>WTD            </td><td>Water table depth                                                 </td><td>m              </td></tr>\n",
       "</tbody>\n",
       "</table>\n"
      ],
      "text/latex": [
       "A data.frame: 26 × 3\n",
       "\\begin{tabular}{lll}\n",
       " Variables & Description & Unit\\\\\n",
       " <chr> & <chr> & <chr>\\\\\n",
       "\\hline\n",
       "\t CO2             & CO2 concentration                                                  & ppm            \\\\\n",
       "\t DTime           & NA                                                                 & NA             \\\\\n",
       "\t FC              & CO2 flux                                                           & µmolCO2 m-2 s-1\\\\\n",
       "\t G               & Soil heat flux                                                     & W m-2          \\\\\n",
       "\t H               & Sensible heat flux                                                 & W m-2          \\\\\n",
       "\t H2O             & Water (H2O) vapor mole fraction                                    & mmolH2O mol-1  \\\\\n",
       "\t LE              & Latent heat flux                                                   & W m-2          \\\\\n",
       "\t LW\\_IN           & Incoming Longwave radiation (in the range from 4 to 50 micron)     & W m-2          \\\\\n",
       "\t LW\\_OUT          & Outgoing Longwave radiation (in the range from 4 to 50 micron)     & W m-2          \\\\\n",
       "\t NETRAD          & Net radiation (including SW and LW components)                     & W m-2          \\\\\n",
       "\t P               & Precipitation                                                      & mm             \\\\\n",
       "\t PA              & Atmospheric pressure                                               & kPa            \\\\\n",
       "\t PPFD\\_IN         & Photosynthetic Photon Flux Density (400-700 nm)                    & µmol m-2 s-1   \\\\\n",
       "\t RH              & Relative humidity                                                  & \\%              \\\\\n",
       "\t SW\\_IN           & Incoming Shortwave radiation (in the range from 0.3 to 4.5 micron) & W m-2          \\\\\n",
       "\t SW\\_OUT          & Outgoing Shortwave radiation (in the range from 0.3 to 4.5 micron) & W m-2          \\\\\n",
       "\t SWC             & Soil water content                                                 & \\%              \\\\\n",
       "\t TA              & Air temperature                                                    & °C             \\\\\n",
       "\t TAU             & Momentum flux                                                      & kg m-1 s-2     \\\\\n",
       "\t TIMESTAMP\\_END   & NA                                                                 & NA             \\\\\n",
       "\t TIMESTAMP\\_START & NA                                                                 & NA             \\\\\n",
       "\t TS              & Soil temperature                                                   & °C             \\\\\n",
       "\t USTAR           & Friction velocity                                                  & m s-1          \\\\\n",
       "\t WD              & Wind direction                                                     & decimal degree \\\\\n",
       "\t WS              & Wind speed                                                         & m s-1          \\\\\n",
       "\t WTD             & Water table depth                                                  & m              \\\\\n",
       "\\end{tabular}\n"
      ],
      "text/markdown": [
       "\n",
       "A data.frame: 26 × 3\n",
       "\n",
       "| Variables &lt;chr&gt; | Description &lt;chr&gt; | Unit &lt;chr&gt; |\n",
       "|---|---|---|\n",
       "| CO2             | CO2 concentration                                                  | ppm             |\n",
       "| DTime           | NA                                                                 | NA              |\n",
       "| FC              | CO2 flux                                                           | µmolCO2 m-2 s-1 |\n",
       "| G               | Soil heat flux                                                     | W m-2           |\n",
       "| H               | Sensible heat flux                                                 | W m-2           |\n",
       "| H2O             | Water (H2O) vapor mole fraction                                    | mmolH2O mol-1   |\n",
       "| LE              | Latent heat flux                                                   | W m-2           |\n",
       "| LW_IN           | Incoming Longwave radiation (in the range from 4 to 50 micron)     | W m-2           |\n",
       "| LW_OUT          | Outgoing Longwave radiation (in the range from 4 to 50 micron)     | W m-2           |\n",
       "| NETRAD          | Net radiation (including SW and LW components)                     | W m-2           |\n",
       "| P               | Precipitation                                                      | mm              |\n",
       "| PA              | Atmospheric pressure                                               | kPa             |\n",
       "| PPFD_IN         | Photosynthetic Photon Flux Density (400-700 nm)                    | µmol m-2 s-1    |\n",
       "| RH              | Relative humidity                                                  | %               |\n",
       "| SW_IN           | Incoming Shortwave radiation (in the range from 0.3 to 4.5 micron) | W m-2           |\n",
       "| SW_OUT          | Outgoing Shortwave radiation (in the range from 0.3 to 4.5 micron) | W m-2           |\n",
       "| SWC             | Soil water content                                                 | %               |\n",
       "| TA              | Air temperature                                                    | °C              |\n",
       "| TAU             | Momentum flux                                                      | kg m-1 s-2      |\n",
       "| TIMESTAMP_END   | NA                                                                 | NA              |\n",
       "| TIMESTAMP_START | NA                                                                 | NA              |\n",
       "| TS              | Soil temperature                                                   | °C              |\n",
       "| USTAR           | Friction velocity                                                  | m s-1           |\n",
       "| WD              | Wind direction                                                     | decimal degree  |\n",
       "| WS              | Wind speed                                                         | m s-1           |\n",
       "| WTD             | Water table depth                                                  | m               |\n",
       "\n"
      ],
      "text/plain": [
       "   Variables      \n",
       "1  CO2            \n",
       "2  DTime          \n",
       "3  FC             \n",
       "4  G              \n",
       "5  H              \n",
       "6  H2O            \n",
       "7  LE             \n",
       "8  LW_IN          \n",
       "9  LW_OUT         \n",
       "10 NETRAD         \n",
       "11 P              \n",
       "12 PA             \n",
       "13 PPFD_IN        \n",
       "14 RH             \n",
       "15 SW_IN          \n",
       "16 SW_OUT         \n",
       "17 SWC            \n",
       "18 TA             \n",
       "19 TAU            \n",
       "20 TIMESTAMP_END  \n",
       "21 TIMESTAMP_START\n",
       "22 TS             \n",
       "23 USTAR          \n",
       "24 WD             \n",
       "25 WS             \n",
       "26 WTD            \n",
       "   Description                                                       \n",
       "1  CO2 concentration                                                 \n",
       "2  NA                                                                \n",
       "3  CO2 flux                                                          \n",
       "4  Soil heat flux                                                    \n",
       "5  Sensible heat flux                                                \n",
       "6  Water (H2O) vapor mole fraction                                   \n",
       "7  Latent heat flux                                                  \n",
       "8  Incoming Longwave radiation (in the range from 4 to 50 micron)    \n",
       "9  Outgoing Longwave radiation (in the range from 4 to 50 micron)    \n",
       "10 Net radiation (including SW and LW components)                    \n",
       "11 Precipitation                                                     \n",
       "12 Atmospheric pressure                                              \n",
       "13 Photosynthetic Photon Flux Density (400-700 nm)                   \n",
       "14 Relative humidity                                                 \n",
       "15 Incoming Shortwave radiation (in the range from 0.3 to 4.5 micron)\n",
       "16 Outgoing Shortwave radiation (in the range from 0.3 to 4.5 micron)\n",
       "17 Soil water content                                                \n",
       "18 Air temperature                                                   \n",
       "19 Momentum flux                                                     \n",
       "20 NA                                                                \n",
       "21 NA                                                                \n",
       "22 Soil temperature                                                  \n",
       "23 Friction velocity                                                 \n",
       "24 Wind direction                                                    \n",
       "25 Wind speed                                                        \n",
       "26 Water table depth                                                 \n",
       "   Unit           \n",
       "1  ppm            \n",
       "2  NA             \n",
       "3  µmolCO2 m-2 s-1\n",
       "4  W m-2          \n",
       "5  W m-2          \n",
       "6  mmolH2O mol-1  \n",
       "7  W m-2          \n",
       "8  W m-2          \n",
       "9  W m-2          \n",
       "10 W m-2          \n",
       "11 mm             \n",
       "12 kPa            \n",
       "13 µmol m-2 s-1   \n",
       "14 %              \n",
       "15 W m-2          \n",
       "16 W m-2          \n",
       "17 %              \n",
       "18 °C             \n",
       "19 kg m-1 s-2     \n",
       "20 NA             \n",
       "21 NA             \n",
       "22 °C             \n",
       "23 m s-1          \n",
       "24 decimal degree \n",
       "25 m s-1          \n",
       "26 m              "
      ]
     },
     "metadata": {},
     "output_type": "display_data"
    }
   ],
   "source": [
    "merge(vars_ie, vars_all, by = \"Variables\", all.x = TRUE)"
   ]
  }
 ],
 "metadata": {
  "kernelspec": {
   "display_name": "R",
   "language": "R",
   "name": "ir"
  },
  "language_info": {
   "codemirror_mode": "r",
   "file_extension": ".r",
   "mimetype": "text/x-r-source",
   "name": "R",
   "pygments_lexer": "r",
   "version": "4.3.2"
  }
 },
 "nbformat": 4,
 "nbformat_minor": 2
}
