{
 "cells": [
  {
   "cell_type": "markdown",
   "id": "f7a3c32f-d185-4ebf-8907-af4900ab9f3d",
   "metadata": {},
   "source": [
    "# Datalogger vars"
   ]
  },
  {
   "cell_type": "code",
   "execution_count": 1,
   "id": "079dc8b6",
   "metadata": {
    "vscode": {
     "languageId": "r"
    }
   },
   "outputs": [],
   "source": [
    "if (grepl(\"docs\", getwd(), fixed = TRUE)) {\n",
    "  setwd(\"..\")\n",
    "}"
   ]
  },
  {
   "cell_type": "code",
   "execution_count": 2,
   "id": "9266b919",
   "metadata": {
    "vscode": {
     "languageId": "r"
    }
   },
   "outputs": [
    {
     "name": "stderr",
     "output_type": "stream",
     "text": [
      "\n",
      "Attaching package: ‘dplyr’\n",
      "\n",
      "\n",
      "The following objects are masked from ‘package:stats’:\n",
      "\n",
      "    filter, lag\n",
      "\n",
      "\n",
      "The following objects are masked from ‘package:base’:\n",
      "\n",
      "    intersect, setdiff, setequal, union\n",
      "\n",
      "\n"
     ]
    }
   ],
   "source": [
    "library(dplyr)"
   ]
  },
  {
   "cell_type": "markdown",
   "id": "4f8ff856",
   "metadata": {},
   "source": [
    "## TOA5_2806.ts_data"
   ]
  },
  {
   "cell_type": "code",
   "execution_count": 33,
   "id": "5faf8940",
   "metadata": {
    "vscode": {
     "languageId": "r"
    }
   },
   "outputs": [
    {
     "data": {
      "text/html": [
       "'\"TOA5\",\"2806\",\"CR1000\",\"2806\",\"CR1000.Std.06\",\"CPU:3D_LI_TGA_VNOTDNEW.CR1\",\"21445\",\"ts_data\"'"
      ],
      "text/latex": [
       "'\"TOA5\",\"2806\",\"CR1000\",\"2806\",\"CR1000.Std.06\",\"CPU:3D\\_LI\\_TGA\\_VNOTDNEW.CR1\",\"21445\",\"ts\\_data\"'"
      ],
      "text/markdown": [
       "'\"TOA5\",\"2806\",\"CR1000\",\"2806\",\"CR1000.Std.06\",\"CPU:3D_LI_TGA_VNOTDNEW.CR1\",\"21445\",\"ts_data\"'"
      ],
      "text/plain": [
       "[1] \"\\\"TOA5\\\",\\\"2806\\\",\\\"CR1000\\\",\\\"2806\\\",\\\"CR1000.Std.06\\\",\\\"CPU:3D_LI_TGA_VNOTDNEW.CR1\\\",\\\"21445\\\",\\\"ts_data\\\"\""
      ]
     },
     "metadata": {},
     "output_type": "display_data"
    }
   ],
   "source": [
    "readLines(\"data/TOA5/TOA5_2806.ts_data.dat\", n = 1)"
   ]
  },
  {
   "cell_type": "code",
   "execution_count": 3,
   "id": "0f626d08-8ed5-48c7-a629-6acad5bbffac",
   "metadata": {
    "vscode": {
     "languageId": "r"
    }
   },
   "outputs": [],
   "source": [
    "h2086 <- data.frame(\n",
    "  t(read.csv(\"data/CSV/TOA5_2806.ts_data.headers.csv\", header = FALSE))\n",
    ")"
   ]
  },
  {
   "cell_type": "code",
   "execution_count": 28,
   "id": "6d9fbde7",
   "metadata": {
    "vscode": {
     "languageId": "r"
    }
   },
   "outputs": [
    {
     "data": {
      "text/html": [
       "<table class=\"dataframe\">\n",
       "<caption>A data.frame: 13 × 3</caption>\n",
       "<thead>\n",
       "\t<tr><th></th><th scope=col>X1</th><th scope=col>X2</th><th scope=col>X3</th></tr>\n",
       "\t<tr><th></th><th scope=col>&lt;chr&gt;</th><th scope=col>&lt;chr&gt;</th><th scope=col>&lt;chr&gt;</th></tr>\n",
       "</thead>\n",
       "<tbody>\n",
       "\t<tr><th scope=row>V1</th><td>TIMESTAMP</td><td>TS      </td><td>   </td></tr>\n",
       "\t<tr><th scope=row>V2</th><td>RECORD   </td><td>RN      </td><td>   </td></tr>\n",
       "\t<tr><th scope=row>V3</th><td>Ux       </td><td>m/s     </td><td>Smp</td></tr>\n",
       "\t<tr><th scope=row>V4</th><td>Uy       </td><td>m/s     </td><td>Smp</td></tr>\n",
       "\t<tr><th scope=row>V5</th><td>Uz       </td><td>m/s     </td><td>Smp</td></tr>\n",
       "\t<tr><th scope=row>V6</th><td>co2      </td><td>mg/m^3  </td><td>Smp</td></tr>\n",
       "\t<tr><th scope=row>V7</th><td>h2o      </td><td>g/m^3   </td><td>Smp</td></tr>\n",
       "\t<tr><th scope=row>V8</th><td>n2o      </td><td>umol/mol</td><td>Smp</td></tr>\n",
       "\t<tr><th scope=row>V9</th><td>Ts       </td><td>C       </td><td>Smp</td></tr>\n",
       "\t<tr><th scope=row>V10</th><td>press    </td><td>kPa     </td><td>Smp</td></tr>\n",
       "\t<tr><th scope=row>V11</th><td>diag_csat</td><td>unitless</td><td>Smp</td></tr>\n",
       "\t<tr><th scope=row>V12</th><td>t_hmp    </td><td>C       </td><td>Smp</td></tr>\n",
       "\t<tr><th scope=row>V13</th><td>e_hmp    </td><td>kPa     </td><td>Smp</td></tr>\n",
       "</tbody>\n",
       "</table>\n"
      ],
      "text/latex": [
       "A data.frame: 13 × 3\n",
       "\\begin{tabular}{r|lll}\n",
       "  & X1 & X2 & X3\\\\\n",
       "  & <chr> & <chr> & <chr>\\\\\n",
       "\\hline\n",
       "\tV1 & TIMESTAMP & TS       &    \\\\\n",
       "\tV2 & RECORD    & RN       &    \\\\\n",
       "\tV3 & Ux        & m/s      & Smp\\\\\n",
       "\tV4 & Uy        & m/s      & Smp\\\\\n",
       "\tV5 & Uz        & m/s      & Smp\\\\\n",
       "\tV6 & co2       & mg/m\\textasciicircum{}3   & Smp\\\\\n",
       "\tV7 & h2o       & g/m\\textasciicircum{}3    & Smp\\\\\n",
       "\tV8 & n2o       & umol/mol & Smp\\\\\n",
       "\tV9 & Ts        & C        & Smp\\\\\n",
       "\tV10 & press     & kPa      & Smp\\\\\n",
       "\tV11 & diag\\_csat & unitless & Smp\\\\\n",
       "\tV12 & t\\_hmp     & C        & Smp\\\\\n",
       "\tV13 & e\\_hmp     & kPa      & Smp\\\\\n",
       "\\end{tabular}\n"
      ],
      "text/markdown": [
       "\n",
       "A data.frame: 13 × 3\n",
       "\n",
       "| <!--/--> | X1 &lt;chr&gt; | X2 &lt;chr&gt; | X3 &lt;chr&gt; |\n",
       "|---|---|---|---|\n",
       "| V1 | TIMESTAMP | TS       | <!----> |\n",
       "| V2 | RECORD    | RN       | <!----> |\n",
       "| V3 | Ux        | m/s      | Smp |\n",
       "| V4 | Uy        | m/s      | Smp |\n",
       "| V5 | Uz        | m/s      | Smp |\n",
       "| V6 | co2       | mg/m^3   | Smp |\n",
       "| V7 | h2o       | g/m^3    | Smp |\n",
       "| V8 | n2o       | umol/mol | Smp |\n",
       "| V9 | Ts        | C        | Smp |\n",
       "| V10 | press     | kPa      | Smp |\n",
       "| V11 | diag_csat | unitless | Smp |\n",
       "| V12 | t_hmp     | C        | Smp |\n",
       "| V13 | e_hmp     | kPa      | Smp |\n",
       "\n"
      ],
      "text/plain": [
       "    X1        X2       X3 \n",
       "V1  TIMESTAMP TS          \n",
       "V2  RECORD    RN          \n",
       "V3  Ux        m/s      Smp\n",
       "V4  Uy        m/s      Smp\n",
       "V5  Uz        m/s      Smp\n",
       "V6  co2       mg/m^3   Smp\n",
       "V7  h2o       g/m^3    Smp\n",
       "V8  n2o       umol/mol Smp\n",
       "V9  Ts        C        Smp\n",
       "V10 press     kPa      Smp\n",
       "V11 diag_csat unitless Smp\n",
       "V12 t_hmp     C        Smp\n",
       "V13 e_hmp     kPa      Smp"
      ]
     },
     "metadata": {},
     "output_type": "display_data"
    }
   ],
   "source": [
    "h2086"
   ]
  },
  {
   "cell_type": "markdown",
   "id": "69127e72",
   "metadata": {},
   "source": [
    "## TOA5_1541.ts_data"
   ]
  },
  {
   "cell_type": "code",
   "execution_count": 34,
   "id": "096e4faf",
   "metadata": {
    "vscode": {
     "languageId": "r"
    }
   },
   "outputs": [
    {
     "data": {
      "text/html": [
       "'\"TOA5\",\"1541\",\"CR5000\",\"1541\",\"2.3\",\"CPU:3D_LI_EB_DFnew.CR5\",\"52197\",\"ts_data\"'"
      ],
      "text/latex": [
       "'\"TOA5\",\"1541\",\"CR5000\",\"1541\",\"2.3\",\"CPU:3D\\_LI\\_EB\\_DFnew.CR5\",\"52197\",\"ts\\_data\"'"
      ],
      "text/markdown": [
       "'\"TOA5\",\"1541\",\"CR5000\",\"1541\",\"2.3\",\"CPU:3D_LI_EB_DFnew.CR5\",\"52197\",\"ts_data\"'"
      ],
      "text/plain": [
       "[1] \"\\\"TOA5\\\",\\\"1541\\\",\\\"CR5000\\\",\\\"1541\\\",\\\"2.3\\\",\\\"CPU:3D_LI_EB_DFnew.CR5\\\",\\\"52197\\\",\\\"ts_data\\\"\""
      ]
     },
     "metadata": {},
     "output_type": "display_data"
    }
   ],
   "source": [
    "readLines(\"data/TOA5/TOA5_1541.ts_data.dat\", n = 1)"
   ]
  },
  {
   "cell_type": "code",
   "execution_count": 4,
   "id": "c892af4d",
   "metadata": {
    "vscode": {
     "languageId": "r"
    }
   },
   "outputs": [],
   "source": [
    "h1541 <- data.frame(\n",
    "  t(read.csv(\"data/CSV/TOA5_1541.ts_data.headers.csv\", header = FALSE))\n",
    ")"
   ]
  },
  {
   "cell_type": "code",
   "execution_count": 26,
   "id": "88cc1ef6",
   "metadata": {
    "vscode": {
     "languageId": "r"
    }
   },
   "outputs": [
    {
     "data": {
      "text/html": [
       "<table class=\"dataframe\">\n",
       "<caption>A data.frame: 11 × 3</caption>\n",
       "<thead>\n",
       "\t<tr><th></th><th scope=col>X1</th><th scope=col>X2</th><th scope=col>X3</th></tr>\n",
       "\t<tr><th></th><th scope=col>&lt;chr&gt;</th><th scope=col>&lt;chr&gt;</th><th scope=col>&lt;chr&gt;</th></tr>\n",
       "</thead>\n",
       "<tbody>\n",
       "\t<tr><th scope=row>V1</th><td>TIMESTAMP</td><td>TS      </td><td>   </td></tr>\n",
       "\t<tr><th scope=row>V2</th><td>RECORD   </td><td>RN      </td><td>   </td></tr>\n",
       "\t<tr><th scope=row>V3</th><td>Ux       </td><td>m/s     </td><td>Smp</td></tr>\n",
       "\t<tr><th scope=row>V4</th><td>Uy       </td><td>m/s     </td><td>Smp</td></tr>\n",
       "\t<tr><th scope=row>V5</th><td>Uz       </td><td>m/s     </td><td>Smp</td></tr>\n",
       "\t<tr><th scope=row>V6</th><td>co2      </td><td>mg/(m^3)</td><td>Smp</td></tr>\n",
       "\t<tr><th scope=row>V7</th><td>h2o      </td><td>g/(m^3) </td><td>Smp</td></tr>\n",
       "\t<tr><th scope=row>V8</th><td>Ts       </td><td>C       </td><td>Smp</td></tr>\n",
       "\t<tr><th scope=row>V9</th><td>press    </td><td>kPa     </td><td>Smp</td></tr>\n",
       "\t<tr><th scope=row>V10</th><td>diag_csat</td><td>unitless</td><td>Smp</td></tr>\n",
       "\t<tr><th scope=row>V11</th><td>diag_irga</td><td>unitless</td><td>Smp</td></tr>\n",
       "</tbody>\n",
       "</table>\n"
      ],
      "text/latex": [
       "A data.frame: 11 × 3\n",
       "\\begin{tabular}{r|lll}\n",
       "  & X1 & X2 & X3\\\\\n",
       "  & <chr> & <chr> & <chr>\\\\\n",
       "\\hline\n",
       "\tV1 & TIMESTAMP & TS       &    \\\\\n",
       "\tV2 & RECORD    & RN       &    \\\\\n",
       "\tV3 & Ux        & m/s      & Smp\\\\\n",
       "\tV4 & Uy        & m/s      & Smp\\\\\n",
       "\tV5 & Uz        & m/s      & Smp\\\\\n",
       "\tV6 & co2       & mg/(m\\textasciicircum{}3) & Smp\\\\\n",
       "\tV7 & h2o       & g/(m\\textasciicircum{}3)  & Smp\\\\\n",
       "\tV8 & Ts        & C        & Smp\\\\\n",
       "\tV9 & press     & kPa      & Smp\\\\\n",
       "\tV10 & diag\\_csat & unitless & Smp\\\\\n",
       "\tV11 & diag\\_irga & unitless & Smp\\\\\n",
       "\\end{tabular}\n"
      ],
      "text/markdown": [
       "\n",
       "A data.frame: 11 × 3\n",
       "\n",
       "| <!--/--> | X1 &lt;chr&gt; | X2 &lt;chr&gt; | X3 &lt;chr&gt; |\n",
       "|---|---|---|---|\n",
       "| V1 | TIMESTAMP | TS       | <!----> |\n",
       "| V2 | RECORD    | RN       | <!----> |\n",
       "| V3 | Ux        | m/s      | Smp |\n",
       "| V4 | Uy        | m/s      | Smp |\n",
       "| V5 | Uz        | m/s      | Smp |\n",
       "| V6 | co2       | mg/(m^3) | Smp |\n",
       "| V7 | h2o       | g/(m^3)  | Smp |\n",
       "| V8 | Ts        | C        | Smp |\n",
       "| V9 | press     | kPa      | Smp |\n",
       "| V10 | diag_csat | unitless | Smp |\n",
       "| V11 | diag_irga | unitless | Smp |\n",
       "\n"
      ],
      "text/plain": [
       "    X1        X2       X3 \n",
       "V1  TIMESTAMP TS          \n",
       "V2  RECORD    RN          \n",
       "V3  Ux        m/s      Smp\n",
       "V4  Uy        m/s      Smp\n",
       "V5  Uz        m/s      Smp\n",
       "V6  co2       mg/(m^3) Smp\n",
       "V7  h2o       g/(m^3)  Smp\n",
       "V8  Ts        C        Smp\n",
       "V9  press     kPa      Smp\n",
       "V10 diag_csat unitless Smp\n",
       "V11 diag_irga unitless Smp"
      ]
     },
     "metadata": {},
     "output_type": "display_data"
    }
   ],
   "source": [
    "h1541"
   ]
  },
  {
   "cell_type": "markdown",
   "id": "c5cfe89f",
   "metadata": {},
   "source": [
    "## TOA5_3989.ts_data"
   ]
  },
  {
   "cell_type": "code",
   "execution_count": 35,
   "id": "29c7a3b6",
   "metadata": {
    "vscode": {
     "languageId": "r"
    }
   },
   "outputs": [
    {
     "data": {
      "text/html": [
       "'\"TOA5\",\"3989\",\"CR1000\",\"3989\",\"CR1000.Std.08\",\"CPU:kerry.co2.2.0.cr1\",\"33162\",\"ts_data\"'"
      ],
      "text/latex": [
       "'\"TOA5\",\"3989\",\"CR1000\",\"3989\",\"CR1000.Std.08\",\"CPU:kerry.co2.2.0.cr1\",\"33162\",\"ts\\_data\"'"
      ],
      "text/markdown": [
       "'\"TOA5\",\"3989\",\"CR1000\",\"3989\",\"CR1000.Std.08\",\"CPU:kerry.co2.2.0.cr1\",\"33162\",\"ts_data\"'"
      ],
      "text/plain": [
       "[1] \"\\\"TOA5\\\",\\\"3989\\\",\\\"CR1000\\\",\\\"3989\\\",\\\"CR1000.Std.08\\\",\\\"CPU:kerry.co2.2.0.cr1\\\",\\\"33162\\\",\\\"ts_data\\\"\""
      ]
     },
     "metadata": {},
     "output_type": "display_data"
    }
   ],
   "source": [
    "readLines(\"data/TOA5/TOA5_3989.ts_data.dat\", n = 1)"
   ]
  },
  {
   "cell_type": "code",
   "execution_count": 5,
   "id": "bbe3616c",
   "metadata": {
    "vscode": {
     "languageId": "r"
    }
   },
   "outputs": [],
   "source": [
    "h3989 <- data.frame(\n",
    "  t(read.csv(\"data/CSV/TOA5_3989.ts_data.headers.csv\", header = FALSE))\n",
    ")"
   ]
  },
  {
   "cell_type": "code",
   "execution_count": 30,
   "id": "c98f4742",
   "metadata": {
    "vscode": {
     "languageId": "r"
    }
   },
   "outputs": [
    {
     "data": {
      "text/html": [
       "<table class=\"dataframe\">\n",
       "<caption>A data.frame: 9 × 3</caption>\n",
       "<thead>\n",
       "\t<tr><th></th><th scope=col>X1</th><th scope=col>X2</th><th scope=col>X3</th></tr>\n",
       "\t<tr><th></th><th scope=col>&lt;chr&gt;</th><th scope=col>&lt;chr&gt;</th><th scope=col>&lt;chr&gt;</th></tr>\n",
       "</thead>\n",
       "<tbody>\n",
       "\t<tr><th scope=row>V1</th><td>TIMESTAMP</td><td>TS    </td><td>   </td></tr>\n",
       "\t<tr><th scope=row>V2</th><td>RECORD   </td><td>RN    </td><td>   </td></tr>\n",
       "\t<tr><th scope=row>V3</th><td>Ux       </td><td>m/s   </td><td>Smp</td></tr>\n",
       "\t<tr><th scope=row>V4</th><td>Uy       </td><td>m/s   </td><td>Smp</td></tr>\n",
       "\t<tr><th scope=row>V5</th><td>Uz       </td><td>m/s   </td><td>Smp</td></tr>\n",
       "\t<tr><th scope=row>V6</th><td>Ts       </td><td>C     </td><td>Smp</td></tr>\n",
       "\t<tr><th scope=row>V7</th><td>co2      </td><td>mg/m^3</td><td>Smp</td></tr>\n",
       "\t<tr><th scope=row>V8</th><td>h2o      </td><td>g/m^3 </td><td>Smp</td></tr>\n",
       "\t<tr><th scope=row>V9</th><td>press    </td><td>kPa   </td><td>Smp</td></tr>\n",
       "</tbody>\n",
       "</table>\n"
      ],
      "text/latex": [
       "A data.frame: 9 × 3\n",
       "\\begin{tabular}{r|lll}\n",
       "  & X1 & X2 & X3\\\\\n",
       "  & <chr> & <chr> & <chr>\\\\\n",
       "\\hline\n",
       "\tV1 & TIMESTAMP & TS     &    \\\\\n",
       "\tV2 & RECORD    & RN     &    \\\\\n",
       "\tV3 & Ux        & m/s    & Smp\\\\\n",
       "\tV4 & Uy        & m/s    & Smp\\\\\n",
       "\tV5 & Uz        & m/s    & Smp\\\\\n",
       "\tV6 & Ts        & C      & Smp\\\\\n",
       "\tV7 & co2       & mg/m\\textasciicircum{}3 & Smp\\\\\n",
       "\tV8 & h2o       & g/m\\textasciicircum{}3  & Smp\\\\\n",
       "\tV9 & press     & kPa    & Smp\\\\\n",
       "\\end{tabular}\n"
      ],
      "text/markdown": [
       "\n",
       "A data.frame: 9 × 3\n",
       "\n",
       "| <!--/--> | X1 &lt;chr&gt; | X2 &lt;chr&gt; | X3 &lt;chr&gt; |\n",
       "|---|---|---|---|\n",
       "| V1 | TIMESTAMP | TS     | <!----> |\n",
       "| V2 | RECORD    | RN     | <!----> |\n",
       "| V3 | Ux        | m/s    | Smp |\n",
       "| V4 | Uy        | m/s    | Smp |\n",
       "| V5 | Uz        | m/s    | Smp |\n",
       "| V6 | Ts        | C      | Smp |\n",
       "| V7 | co2       | mg/m^3 | Smp |\n",
       "| V8 | h2o       | g/m^3  | Smp |\n",
       "| V9 | press     | kPa    | Smp |\n",
       "\n"
      ],
      "text/plain": [
       "   X1        X2     X3 \n",
       "V1 TIMESTAMP TS        \n",
       "V2 RECORD    RN        \n",
       "V3 Ux        m/s    Smp\n",
       "V4 Uy        m/s    Smp\n",
       "V5 Uz        m/s    Smp\n",
       "V6 Ts        C      Smp\n",
       "V7 co2       mg/m^3 Smp\n",
       "V8 h2o       g/m^3  Smp\n",
       "V9 press     kPa    Smp"
      ]
     },
     "metadata": {},
     "output_type": "display_data"
    }
   ],
   "source": [
    "h3989"
   ]
  },
  {
   "cell_type": "markdown",
   "id": "6d951e35",
   "metadata": {},
   "source": [
    "## ts_data merged"
   ]
  },
  {
   "cell_type": "code",
   "execution_count": 6,
   "id": "ba2bff8e",
   "metadata": {
    "vscode": {
     "languageId": "r"
    }
   },
   "outputs": [],
   "source": [
    "hvars <- merge(merge(h3989, h1541, all = TRUE), h2086, all = TRUE)"
   ]
  },
  {
   "cell_type": "code",
   "execution_count": 7,
   "id": "4407f37b",
   "metadata": {
    "vscode": {
     "languageId": "r"
    }
   },
   "outputs": [],
   "source": [
    "hvars <- distinct(hvars, X1, .keep_all = TRUE)"
   ]
  },
  {
   "cell_type": "code",
   "execution_count": 69,
   "id": "e18e633a",
   "metadata": {
    "vscode": {
     "languageId": "r"
    }
   },
   "outputs": [
    {
     "data": {
      "text/html": [
       "<table class=\"dataframe\">\n",
       "<caption>A data.frame: 14 × 3</caption>\n",
       "<thead>\n",
       "\t<tr><th scope=col>X1</th><th scope=col>X2</th><th scope=col>X3</th></tr>\n",
       "\t<tr><th scope=col>&lt;chr&gt;</th><th scope=col>&lt;chr&gt;</th><th scope=col>&lt;chr&gt;</th></tr>\n",
       "</thead>\n",
       "<tbody>\n",
       "\t<tr><td>co2      </td><td>mg/(m^3)</td><td>Smp</td></tr>\n",
       "\t<tr><td>diag_csat</td><td>unitless</td><td>Smp</td></tr>\n",
       "\t<tr><td>diag_irga</td><td>unitless</td><td>Smp</td></tr>\n",
       "\t<tr><td>e_hmp    </td><td>kPa     </td><td>Smp</td></tr>\n",
       "\t<tr><td>h2o      </td><td>g/(m^3) </td><td>Smp</td></tr>\n",
       "\t<tr><td>n2o      </td><td>umol/mol</td><td>Smp</td></tr>\n",
       "\t<tr><td>press    </td><td>kPa     </td><td>Smp</td></tr>\n",
       "\t<tr><td>RECORD   </td><td>RN      </td><td>   </td></tr>\n",
       "\t<tr><td>t_hmp    </td><td>C       </td><td>Smp</td></tr>\n",
       "\t<tr><td>TIMESTAMP</td><td>TS      </td><td>   </td></tr>\n",
       "\t<tr><td>Ts       </td><td>C       </td><td>Smp</td></tr>\n",
       "\t<tr><td>Ux       </td><td>m/s     </td><td>Smp</td></tr>\n",
       "\t<tr><td>Uy       </td><td>m/s     </td><td>Smp</td></tr>\n",
       "\t<tr><td>Uz       </td><td>m/s     </td><td>Smp</td></tr>\n",
       "</tbody>\n",
       "</table>\n"
      ],
      "text/latex": [
       "A data.frame: 14 × 3\n",
       "\\begin{tabular}{lll}\n",
       " X1 & X2 & X3\\\\\n",
       " <chr> & <chr> & <chr>\\\\\n",
       "\\hline\n",
       "\t co2       & mg/(m\\textasciicircum{}3) & Smp\\\\\n",
       "\t diag\\_csat & unitless & Smp\\\\\n",
       "\t diag\\_irga & unitless & Smp\\\\\n",
       "\t e\\_hmp     & kPa      & Smp\\\\\n",
       "\t h2o       & g/(m\\textasciicircum{}3)  & Smp\\\\\n",
       "\t n2o       & umol/mol & Smp\\\\\n",
       "\t press     & kPa      & Smp\\\\\n",
       "\t RECORD    & RN       &    \\\\\n",
       "\t t\\_hmp     & C        & Smp\\\\\n",
       "\t TIMESTAMP & TS       &    \\\\\n",
       "\t Ts        & C        & Smp\\\\\n",
       "\t Ux        & m/s      & Smp\\\\\n",
       "\t Uy        & m/s      & Smp\\\\\n",
       "\t Uz        & m/s      & Smp\\\\\n",
       "\\end{tabular}\n"
      ],
      "text/markdown": [
       "\n",
       "A data.frame: 14 × 3\n",
       "\n",
       "| X1 &lt;chr&gt; | X2 &lt;chr&gt; | X3 &lt;chr&gt; |\n",
       "|---|---|---|\n",
       "| co2       | mg/(m^3) | Smp |\n",
       "| diag_csat | unitless | Smp |\n",
       "| diag_irga | unitless | Smp |\n",
       "| e_hmp     | kPa      | Smp |\n",
       "| h2o       | g/(m^3)  | Smp |\n",
       "| n2o       | umol/mol | Smp |\n",
       "| press     | kPa      | Smp |\n",
       "| RECORD    | RN       | <!----> |\n",
       "| t_hmp     | C        | Smp |\n",
       "| TIMESTAMP | TS       | <!----> |\n",
       "| Ts        | C        | Smp |\n",
       "| Ux        | m/s      | Smp |\n",
       "| Uy        | m/s      | Smp |\n",
       "| Uz        | m/s      | Smp |\n",
       "\n"
      ],
      "text/plain": [
       "   X1        X2       X3 \n",
       "1  co2       mg/(m^3) Smp\n",
       "2  diag_csat unitless Smp\n",
       "3  diag_irga unitless Smp\n",
       "4  e_hmp     kPa      Smp\n",
       "5  h2o       g/(m^3)  Smp\n",
       "6  n2o       umol/mol Smp\n",
       "7  press     kPa      Smp\n",
       "8  RECORD    RN          \n",
       "9  t_hmp     C        Smp\n",
       "10 TIMESTAMP TS          \n",
       "11 Ts        C        Smp\n",
       "12 Ux        m/s      Smp\n",
       "13 Uy        m/s      Smp\n",
       "14 Uz        m/s      Smp"
      ]
     },
     "metadata": {},
     "output_type": "display_data"
    }
   ],
   "source": [
    "hvars"
   ]
  },
  {
   "cell_type": "code",
   "execution_count": 8,
   "id": "32f28d93",
   "metadata": {
    "vscode": {
     "languageId": "r"
    }
   },
   "outputs": [],
   "source": [
    "# write.table(\n",
    "#   hvars, \"data/ts_data_variables.tsv\", row.names = FALSE,\n",
    "#   sep = \"\\t\", quote = FALSE, col.names = FALSE\n",
    "# )"
   ]
  },
  {
   "cell_type": "code",
   "execution_count": 9,
   "id": "798d7d44",
   "metadata": {
    "vscode": {
     "languageId": "r"
    }
   },
   "outputs": [
    {
     "data": {
      "text/html": [
       "<table class=\"dataframe\">\n",
       "<caption>A data.frame: 14 × 4</caption>\n",
       "<thead>\n",
       "\t<tr><th scope=col>Variable</th><th scope=col>Units</th><th scope=col>Type</th><th scope=col>Description</th></tr>\n",
       "\t<tr><th scope=col>&lt;chr&gt;</th><th scope=col>&lt;chr&gt;</th><th scope=col>&lt;chr&gt;</th><th scope=col>&lt;chr&gt;</th></tr>\n",
       "</thead>\n",
       "<tbody>\n",
       "\t<tr><td>co2      </td><td>mg m-3    </td><td>Smp</td><td>LI-7500 carbon dioxide mass density                    </td></tr>\n",
       "\t<tr><td>diag_csat</td><td>unitless  </td><td>Smp</td><td>CSAT3 diagnostic word                                  </td></tr>\n",
       "\t<tr><td>diag_irga</td><td>unitless  </td><td>Smp</td><td>                                                       </td></tr>\n",
       "\t<tr><td>e_hmp    </td><td>kPa       </td><td>Smp</td><td>HMP45C vapour pressure                                 </td></tr>\n",
       "\t<tr><td>h2o      </td><td>g m-3     </td><td>Smp</td><td>LI-7500 water vapour mass density                      </td></tr>\n",
       "\t<tr><td>n2o      </td><td>µmol mol-1</td><td>Smp</td><td>                                                       </td></tr>\n",
       "\t<tr><td>press    </td><td>kPa       </td><td>Smp</td><td>LI-7500 system pressure                                </td></tr>\n",
       "\t<tr><td>RECORD   </td><td>RN        </td><td>   </td><td>Record number from the starting date                   </td></tr>\n",
       "\t<tr><td>t_hmp    </td><td>°C        </td><td>Smp</td><td>HMP45C temperature                                     </td></tr>\n",
       "\t<tr><td>TIMESTAMP</td><td>TS        </td><td>   </td><td>Sampling time in format YYYY-MM-dd hh:mm:ss            </td></tr>\n",
       "\t<tr><td>Ts       </td><td>°C        </td><td>Smp</td><td>Sonic temperature                                      </td></tr>\n",
       "\t<tr><td>Ux       </td><td>m s-1     </td><td>Smp</td><td>Horizontal wind in the x-axis (sonic coordinate system)</td></tr>\n",
       "\t<tr><td>Uy       </td><td>m s-1     </td><td>Smp</td><td>Horizontal wind in the y-axis (sonic coordinate system)</td></tr>\n",
       "\t<tr><td>Uz       </td><td>m s-1     </td><td>Smp</td><td>Vertical wind (sonic coordinate system)                </td></tr>\n",
       "</tbody>\n",
       "</table>\n"
      ],
      "text/latex": [
       "A data.frame: 14 × 4\n",
       "\\begin{tabular}{llll}\n",
       " Variable & Units & Type & Description\\\\\n",
       " <chr> & <chr> & <chr> & <chr>\\\\\n",
       "\\hline\n",
       "\t co2       & mg m-3     & Smp & LI-7500 carbon dioxide mass density                    \\\\\n",
       "\t diag\\_csat & unitless   & Smp & CSAT3 diagnostic word                                  \\\\\n",
       "\t diag\\_irga & unitless   & Smp &                                                        \\\\\n",
       "\t e\\_hmp     & kPa        & Smp & HMP45C vapour pressure                                 \\\\\n",
       "\t h2o       & g m-3      & Smp & LI-7500 water vapour mass density                      \\\\\n",
       "\t n2o       & µmol mol-1 & Smp &                                                        \\\\\n",
       "\t press     & kPa        & Smp & LI-7500 system pressure                                \\\\\n",
       "\t RECORD    & RN         &     & Record number from the starting date                   \\\\\n",
       "\t t\\_hmp     & °C         & Smp & HMP45C temperature                                     \\\\\n",
       "\t TIMESTAMP & TS         &     & Sampling time in format YYYY-MM-dd hh:mm:ss            \\\\\n",
       "\t Ts        & °C         & Smp & Sonic temperature                                      \\\\\n",
       "\t Ux        & m s-1      & Smp & Horizontal wind in the x-axis (sonic coordinate system)\\\\\n",
       "\t Uy        & m s-1      & Smp & Horizontal wind in the y-axis (sonic coordinate system)\\\\\n",
       "\t Uz        & m s-1      & Smp & Vertical wind (sonic coordinate system)                \\\\\n",
       "\\end{tabular}\n"
      ],
      "text/markdown": [
       "\n",
       "A data.frame: 14 × 4\n",
       "\n",
       "| Variable &lt;chr&gt; | Units &lt;chr&gt; | Type &lt;chr&gt; | Description &lt;chr&gt; |\n",
       "|---|---|---|---|\n",
       "| co2       | mg m-3     | Smp | LI-7500 carbon dioxide mass density                     |\n",
       "| diag_csat | unitless   | Smp | CSAT3 diagnostic word                                   |\n",
       "| diag_irga | unitless   | Smp | <!----> |\n",
       "| e_hmp     | kPa        | Smp | HMP45C vapour pressure                                  |\n",
       "| h2o       | g m-3      | Smp | LI-7500 water vapour mass density                       |\n",
       "| n2o       | µmol mol-1 | Smp | <!----> |\n",
       "| press     | kPa        | Smp | LI-7500 system pressure                                 |\n",
       "| RECORD    | RN         | <!----> | Record number from the starting date                    |\n",
       "| t_hmp     | °C         | Smp | HMP45C temperature                                      |\n",
       "| TIMESTAMP | TS         | <!----> | Sampling time in format YYYY-MM-dd hh:mm:ss             |\n",
       "| Ts        | °C         | Smp | Sonic temperature                                       |\n",
       "| Ux        | m s-1      | Smp | Horizontal wind in the x-axis (sonic coordinate system) |\n",
       "| Uy        | m s-1      | Smp | Horizontal wind in the y-axis (sonic coordinate system) |\n",
       "| Uz        | m s-1      | Smp | Vertical wind (sonic coordinate system)                 |\n",
       "\n"
      ],
      "text/plain": [
       "   Variable  Units      Type\n",
       "1  co2       mg m-3     Smp \n",
       "2  diag_csat unitless   Smp \n",
       "3  diag_irga unitless   Smp \n",
       "4  e_hmp     kPa        Smp \n",
       "5  h2o       g m-3      Smp \n",
       "6  n2o       µmol mol-1 Smp \n",
       "7  press     kPa        Smp \n",
       "8  RECORD    RN             \n",
       "9  t_hmp     °C         Smp \n",
       "10 TIMESTAMP TS             \n",
       "11 Ts        °C         Smp \n",
       "12 Ux        m s-1      Smp \n",
       "13 Uy        m s-1      Smp \n",
       "14 Uz        m s-1      Smp \n",
       "   Description                                            \n",
       "1  LI-7500 carbon dioxide mass density                    \n",
       "2  CSAT3 diagnostic word                                  \n",
       "3                                                         \n",
       "4  HMP45C vapour pressure                                 \n",
       "5  LI-7500 water vapour mass density                      \n",
       "6                                                         \n",
       "7  LI-7500 system pressure                                \n",
       "8  Record number from the starting date                   \n",
       "9  HMP45C temperature                                     \n",
       "10 Sampling time in format YYYY-MM-dd hh:mm:ss            \n",
       "11 Sonic temperature                                      \n",
       "12 Horizontal wind in the x-axis (sonic coordinate system)\n",
       "13 Horizontal wind in the y-axis (sonic coordinate system)\n",
       "14 Vertical wind (sonic coordinate system)                "
      ]
     },
     "metadata": {},
     "output_type": "display_data"
    }
   ],
   "source": [
    "# view manually updated variable table\n",
    "read.csv(\"data/ts_data_variables.tsv\", sep = \"\\t\")"
   ]
  },
  {
   "cell_type": "markdown",
   "id": "90564b6a",
   "metadata": {},
   "source": [
    "## TOA5_3989.flux"
   ]
  },
  {
   "cell_type": "code",
   "execution_count": 36,
   "id": "6f6b983c",
   "metadata": {
    "vscode": {
     "languageId": "r"
    }
   },
   "outputs": [
    {
     "data": {
      "text/html": [
       "'\"TOA5\",\"3989\",\"CR1000\",\"3989\",\"CR1000.Std.08\",\"CPU:kerry.co2.2.0.cr1\",\"33162\",\"flux\"'"
      ],
      "text/latex": [
       "'\"TOA5\",\"3989\",\"CR1000\",\"3989\",\"CR1000.Std.08\",\"CPU:kerry.co2.2.0.cr1\",\"33162\",\"flux\"'"
      ],
      "text/markdown": [
       "'\"TOA5\",\"3989\",\"CR1000\",\"3989\",\"CR1000.Std.08\",\"CPU:kerry.co2.2.0.cr1\",\"33162\",\"flux\"'"
      ],
      "text/plain": [
       "[1] \"\\\"TOA5\\\",\\\"3989\\\",\\\"CR1000\\\",\\\"3989\\\",\\\"CR1000.Std.08\\\",\\\"CPU:kerry.co2.2.0.cr1\\\",\\\"33162\\\",\\\"flux\\\"\""
      ]
     },
     "metadata": {},
     "output_type": "display_data"
    }
   ],
   "source": [
    "readLines(\"data/TOA5/TOA5_3989.flux.dat\", n = 1)"
   ]
  },
  {
   "cell_type": "code",
   "execution_count": 10,
   "id": "f6831aa9",
   "metadata": {
    "vscode": {
     "languageId": "r"
    }
   },
   "outputs": [],
   "source": [
    "h3989f <- data.frame(\n",
    "  t(read.csv(\"data/CSV/TOA5_3989.flux.headers.csv\", header = FALSE))\n",
    ")"
   ]
  },
  {
   "cell_type": "code",
   "execution_count": 32,
   "id": "371404ec",
   "metadata": {
    "vscode": {
     "languageId": "r"
    }
   },
   "outputs": [
    {
     "data": {
      "text/html": [
       "<table class=\"dataframe\">\n",
       "<caption>A data.frame: 54 × 3</caption>\n",
       "<thead>\n",
       "\t<tr><th></th><th scope=col>X1</th><th scope=col>X2</th><th scope=col>X3</th></tr>\n",
       "\t<tr><th></th><th scope=col>&lt;chr&gt;</th><th scope=col>&lt;chr&gt;</th><th scope=col>&lt;chr&gt;</th></tr>\n",
       "</thead>\n",
       "<tbody>\n",
       "\t<tr><th scope=row>V1</th><td>TIMESTAMP     </td><td>TS        </td><td>   </td></tr>\n",
       "\t<tr><th scope=row>V2</th><td>RECORD        </td><td>RN        </td><td>   </td></tr>\n",
       "\t<tr><th scope=row>V3</th><td>Fc_wpl        </td><td>mg/(m^2 s)</td><td>Smp</td></tr>\n",
       "\t<tr><th scope=row>V4</th><td>LE_wpl        </td><td>W/m^2     </td><td>Smp</td></tr>\n",
       "\t<tr><th scope=row>V5</th><td>Hs            </td><td>W/m^2     </td><td>Smp</td></tr>\n",
       "\t<tr><th scope=row>V6</th><td>Hc            </td><td>W/m^2     </td><td>Smp</td></tr>\n",
       "\t<tr><th scope=row>V7</th><td>tau           </td><td>kg/(m s^2)</td><td>Smp</td></tr>\n",
       "\t<tr><th scope=row>V8</th><td>u_star        </td><td>m/s       </td><td>Smp</td></tr>\n",
       "\t<tr><th scope=row>V9</th><td>stdev_Ts      </td><td>C         </td><td>Smp</td></tr>\n",
       "\t<tr><th scope=row>V10</th><td>cov_Ts_Ux     </td><td>m C/s     </td><td>Smp</td></tr>\n",
       "\t<tr><th scope=row>V11</th><td>cov_Ts_Uy     </td><td>m C/s     </td><td>Smp</td></tr>\n",
       "\t<tr><th scope=row>V12</th><td>cov_Ts_Uz     </td><td>m C/s     </td><td>Smp</td></tr>\n",
       "\t<tr><th scope=row>V13</th><td>stdev_Ux      </td><td>m/s       </td><td>Smp</td></tr>\n",
       "\t<tr><th scope=row>V14</th><td>cov_Ux_Uy     </td><td>(m/s)^2   </td><td>Smp</td></tr>\n",
       "\t<tr><th scope=row>V15</th><td>cov_Ux_Uz     </td><td>(m/s)^2   </td><td>Smp</td></tr>\n",
       "\t<tr><th scope=row>V16</th><td>stdev_Uy      </td><td>m/s       </td><td>Smp</td></tr>\n",
       "\t<tr><th scope=row>V17</th><td>cov_Uy_Uz     </td><td>(m/s)^2   </td><td>Smp</td></tr>\n",
       "\t<tr><th scope=row>V18</th><td>stdev_Uz      </td><td>m/s       </td><td>Smp</td></tr>\n",
       "\t<tr><th scope=row>V19</th><td>stdev_co2     </td><td>mg/m^3    </td><td>Smp</td></tr>\n",
       "\t<tr><th scope=row>V20</th><td>cov_co2_Ux    </td><td>mg/(m^2 s)</td><td>Smp</td></tr>\n",
       "\t<tr><th scope=row>V21</th><td>cov_co2_Uy    </td><td>mg/(m^2 s)</td><td>Smp</td></tr>\n",
       "\t<tr><th scope=row>V22</th><td>cov_co2_Uz    </td><td>mg/(m^2 s)</td><td>Smp</td></tr>\n",
       "\t<tr><th scope=row>V23</th><td>stdev_h2o     </td><td>g/m^3     </td><td>Smp</td></tr>\n",
       "\t<tr><th scope=row>V24</th><td>cov_h2o_Ux    </td><td>g/(m^2 s) </td><td>Smp</td></tr>\n",
       "\t<tr><th scope=row>V25</th><td>cov_h2o_Uy    </td><td>g/(m^2 s) </td><td>Smp</td></tr>\n",
       "\t<tr><th scope=row>V26</th><td>cov_h2o_Uz    </td><td>g/(m^2 s) </td><td>Smp</td></tr>\n",
       "\t<tr><th scope=row>V27</th><td>Ts_mean       </td><td>C         </td><td>Smp</td></tr>\n",
       "\t<tr><th scope=row>V28</th><td>Ux_Avg        </td><td>m/s       </td><td>Avg</td></tr>\n",
       "\t<tr><th scope=row>V29</th><td>Uy_Avg        </td><td>m/s       </td><td>Avg</td></tr>\n",
       "\t<tr><th scope=row>V30</th><td>Uz_Avg        </td><td>m/s       </td><td>Avg</td></tr>\n",
       "\t<tr><th scope=row>V31</th><td>co2_mean      </td><td>mg/m^3    </td><td>Smp</td></tr>\n",
       "\t<tr><th scope=row>V32</th><td>h2o_Avg       </td><td>g/m^3     </td><td>Avg</td></tr>\n",
       "\t<tr><th scope=row>V33</th><td>rho_a_mean    </td><td>kg/m^3    </td><td>Smp</td></tr>\n",
       "\t<tr><th scope=row>V34</th><td>press_mean    </td><td>kPa       </td><td>Smp</td></tr>\n",
       "\t<tr><th scope=row>V35</th><td>panel_temp_Avg</td><td>C         </td><td>Avg</td></tr>\n",
       "\t<tr><th scope=row>V36</th><td>wind_dir      </td><td>degrees   </td><td>Smp</td></tr>\n",
       "\t<tr><th scope=row>V37</th><td>rslt_wnd_spd  </td><td>m/s       </td><td>Smp</td></tr>\n",
       "\t<tr><th scope=row>V38</th><td>std_wnd_dir   </td><td>degrees   </td><td>Smp</td></tr>\n",
       "\t<tr><th scope=row>V39</th><td>batt_volt_Avg </td><td>V         </td><td>Avg</td></tr>\n",
       "\t<tr><th scope=row>V40</th><td>irga_warnings </td><td>samples   </td><td>Tot</td></tr>\n",
       "\t<tr><th scope=row>V41</th><td>chopper_f_Tot </td><td>samples   </td><td>Tot</td></tr>\n",
       "\t<tr><th scope=row>V42</th><td>detector_f_Tot</td><td>samples   </td><td>Tot</td></tr>\n",
       "\t<tr><th scope=row>V43</th><td>pll_f_Tot     </td><td>samples   </td><td>Tot</td></tr>\n",
       "\t<tr><th scope=row>V44</th><td>sync_f_Tot    </td><td>samples   </td><td>Tot</td></tr>\n",
       "\t<tr><th scope=row>V45</th><td>agc_Avg       </td><td>unitless  </td><td>Avg</td></tr>\n",
       "\t<tr><th scope=row>V46</th><td>Fc_irga       </td><td>mg/(m^2 s)</td><td>Smp</td></tr>\n",
       "\t<tr><th scope=row>V47</th><td>LE_irga       </td><td>W/m^2     </td><td>Smp</td></tr>\n",
       "\t<tr><th scope=row>V48</th><td>co2_wpl_LE    </td><td>mg/(m^2 s)</td><td>Smp</td></tr>\n",
       "\t<tr><th scope=row>V49</th><td>co2_wpl_H     </td><td>mg/(m^2 s)</td><td>Smp</td></tr>\n",
       "\t<tr><th scope=row>V50</th><td>h2o_wpl_LE    </td><td>W/m^2     </td><td>Smp</td></tr>\n",
       "\t<tr><th scope=row>V51</th><td>h2o_wpl_H     </td><td>W/m^2     </td><td>Smp</td></tr>\n",
       "\t<tr><th scope=row>V52</th><td>h2o_hmp_mean  </td><td>g/m^3     </td><td>Smp</td></tr>\n",
       "\t<tr><th scope=row>V53</th><td>t_hmp_mean    </td><td>C         </td><td>Smp</td></tr>\n",
       "\t<tr><th scope=row>V54</th><td>rh_hmp_mean   </td><td>percent   </td><td>Smp</td></tr>\n",
       "</tbody>\n",
       "</table>\n"
      ],
      "text/latex": [
       "A data.frame: 54 × 3\n",
       "\\begin{tabular}{r|lll}\n",
       "  & X1 & X2 & X3\\\\\n",
       "  & <chr> & <chr> & <chr>\\\\\n",
       "\\hline\n",
       "\tV1 & TIMESTAMP      & TS         &    \\\\\n",
       "\tV2 & RECORD         & RN         &    \\\\\n",
       "\tV3 & Fc\\_wpl         & mg/(m\\textasciicircum{}2 s) & Smp\\\\\n",
       "\tV4 & LE\\_wpl         & W/m\\textasciicircum{}2      & Smp\\\\\n",
       "\tV5 & Hs             & W/m\\textasciicircum{}2      & Smp\\\\\n",
       "\tV6 & Hc             & W/m\\textasciicircum{}2      & Smp\\\\\n",
       "\tV7 & tau            & kg/(m s\\textasciicircum{}2) & Smp\\\\\n",
       "\tV8 & u\\_star         & m/s        & Smp\\\\\n",
       "\tV9 & stdev\\_Ts       & C          & Smp\\\\\n",
       "\tV10 & cov\\_Ts\\_Ux      & m C/s      & Smp\\\\\n",
       "\tV11 & cov\\_Ts\\_Uy      & m C/s      & Smp\\\\\n",
       "\tV12 & cov\\_Ts\\_Uz      & m C/s      & Smp\\\\\n",
       "\tV13 & stdev\\_Ux       & m/s        & Smp\\\\\n",
       "\tV14 & cov\\_Ux\\_Uy      & (m/s)\\textasciicircum{}2    & Smp\\\\\n",
       "\tV15 & cov\\_Ux\\_Uz      & (m/s)\\textasciicircum{}2    & Smp\\\\\n",
       "\tV16 & stdev\\_Uy       & m/s        & Smp\\\\\n",
       "\tV17 & cov\\_Uy\\_Uz      & (m/s)\\textasciicircum{}2    & Smp\\\\\n",
       "\tV18 & stdev\\_Uz       & m/s        & Smp\\\\\n",
       "\tV19 & stdev\\_co2      & mg/m\\textasciicircum{}3     & Smp\\\\\n",
       "\tV20 & cov\\_co2\\_Ux     & mg/(m\\textasciicircum{}2 s) & Smp\\\\\n",
       "\tV21 & cov\\_co2\\_Uy     & mg/(m\\textasciicircum{}2 s) & Smp\\\\\n",
       "\tV22 & cov\\_co2\\_Uz     & mg/(m\\textasciicircum{}2 s) & Smp\\\\\n",
       "\tV23 & stdev\\_h2o      & g/m\\textasciicircum{}3      & Smp\\\\\n",
       "\tV24 & cov\\_h2o\\_Ux     & g/(m\\textasciicircum{}2 s)  & Smp\\\\\n",
       "\tV25 & cov\\_h2o\\_Uy     & g/(m\\textasciicircum{}2 s)  & Smp\\\\\n",
       "\tV26 & cov\\_h2o\\_Uz     & g/(m\\textasciicircum{}2 s)  & Smp\\\\\n",
       "\tV27 & Ts\\_mean        & C          & Smp\\\\\n",
       "\tV28 & Ux\\_Avg         & m/s        & Avg\\\\\n",
       "\tV29 & Uy\\_Avg         & m/s        & Avg\\\\\n",
       "\tV30 & Uz\\_Avg         & m/s        & Avg\\\\\n",
       "\tV31 & co2\\_mean       & mg/m\\textasciicircum{}3     & Smp\\\\\n",
       "\tV32 & h2o\\_Avg        & g/m\\textasciicircum{}3      & Avg\\\\\n",
       "\tV33 & rho\\_a\\_mean     & kg/m\\textasciicircum{}3     & Smp\\\\\n",
       "\tV34 & press\\_mean     & kPa        & Smp\\\\\n",
       "\tV35 & panel\\_temp\\_Avg & C          & Avg\\\\\n",
       "\tV36 & wind\\_dir       & degrees    & Smp\\\\\n",
       "\tV37 & rslt\\_wnd\\_spd   & m/s        & Smp\\\\\n",
       "\tV38 & std\\_wnd\\_dir    & degrees    & Smp\\\\\n",
       "\tV39 & batt\\_volt\\_Avg  & V          & Avg\\\\\n",
       "\tV40 & irga\\_warnings  & samples    & Tot\\\\\n",
       "\tV41 & chopper\\_f\\_Tot  & samples    & Tot\\\\\n",
       "\tV42 & detector\\_f\\_Tot & samples    & Tot\\\\\n",
       "\tV43 & pll\\_f\\_Tot      & samples    & Tot\\\\\n",
       "\tV44 & sync\\_f\\_Tot     & samples    & Tot\\\\\n",
       "\tV45 & agc\\_Avg        & unitless   & Avg\\\\\n",
       "\tV46 & Fc\\_irga        & mg/(m\\textasciicircum{}2 s) & Smp\\\\\n",
       "\tV47 & LE\\_irga        & W/m\\textasciicircum{}2      & Smp\\\\\n",
       "\tV48 & co2\\_wpl\\_LE     & mg/(m\\textasciicircum{}2 s) & Smp\\\\\n",
       "\tV49 & co2\\_wpl\\_H      & mg/(m\\textasciicircum{}2 s) & Smp\\\\\n",
       "\tV50 & h2o\\_wpl\\_LE     & W/m\\textasciicircum{}2      & Smp\\\\\n",
       "\tV51 & h2o\\_wpl\\_H      & W/m\\textasciicircum{}2      & Smp\\\\\n",
       "\tV52 & h2o\\_hmp\\_mean   & g/m\\textasciicircum{}3      & Smp\\\\\n",
       "\tV53 & t\\_hmp\\_mean     & C          & Smp\\\\\n",
       "\tV54 & rh\\_hmp\\_mean    & percent    & Smp\\\\\n",
       "\\end{tabular}\n"
      ],
      "text/markdown": [
       "\n",
       "A data.frame: 54 × 3\n",
       "\n",
       "| <!--/--> | X1 &lt;chr&gt; | X2 &lt;chr&gt; | X3 &lt;chr&gt; |\n",
       "|---|---|---|---|\n",
       "| V1 | TIMESTAMP      | TS         | <!----> |\n",
       "| V2 | RECORD         | RN         | <!----> |\n",
       "| V3 | Fc_wpl         | mg/(m^2 s) | Smp |\n",
       "| V4 | LE_wpl         | W/m^2      | Smp |\n",
       "| V5 | Hs             | W/m^2      | Smp |\n",
       "| V6 | Hc             | W/m^2      | Smp |\n",
       "| V7 | tau            | kg/(m s^2) | Smp |\n",
       "| V8 | u_star         | m/s        | Smp |\n",
       "| V9 | stdev_Ts       | C          | Smp |\n",
       "| V10 | cov_Ts_Ux      | m C/s      | Smp |\n",
       "| V11 | cov_Ts_Uy      | m C/s      | Smp |\n",
       "| V12 | cov_Ts_Uz      | m C/s      | Smp |\n",
       "| V13 | stdev_Ux       | m/s        | Smp |\n",
       "| V14 | cov_Ux_Uy      | (m/s)^2    | Smp |\n",
       "| V15 | cov_Ux_Uz      | (m/s)^2    | Smp |\n",
       "| V16 | stdev_Uy       | m/s        | Smp |\n",
       "| V17 | cov_Uy_Uz      | (m/s)^2    | Smp |\n",
       "| V18 | stdev_Uz       | m/s        | Smp |\n",
       "| V19 | stdev_co2      | mg/m^3     | Smp |\n",
       "| V20 | cov_co2_Ux     | mg/(m^2 s) | Smp |\n",
       "| V21 | cov_co2_Uy     | mg/(m^2 s) | Smp |\n",
       "| V22 | cov_co2_Uz     | mg/(m^2 s) | Smp |\n",
       "| V23 | stdev_h2o      | g/m^3      | Smp |\n",
       "| V24 | cov_h2o_Ux     | g/(m^2 s)  | Smp |\n",
       "| V25 | cov_h2o_Uy     | g/(m^2 s)  | Smp |\n",
       "| V26 | cov_h2o_Uz     | g/(m^2 s)  | Smp |\n",
       "| V27 | Ts_mean        | C          | Smp |\n",
       "| V28 | Ux_Avg         | m/s        | Avg |\n",
       "| V29 | Uy_Avg         | m/s        | Avg |\n",
       "| V30 | Uz_Avg         | m/s        | Avg |\n",
       "| V31 | co2_mean       | mg/m^3     | Smp |\n",
       "| V32 | h2o_Avg        | g/m^3      | Avg |\n",
       "| V33 | rho_a_mean     | kg/m^3     | Smp |\n",
       "| V34 | press_mean     | kPa        | Smp |\n",
       "| V35 | panel_temp_Avg | C          | Avg |\n",
       "| V36 | wind_dir       | degrees    | Smp |\n",
       "| V37 | rslt_wnd_spd   | m/s        | Smp |\n",
       "| V38 | std_wnd_dir    | degrees    | Smp |\n",
       "| V39 | batt_volt_Avg  | V          | Avg |\n",
       "| V40 | irga_warnings  | samples    | Tot |\n",
       "| V41 | chopper_f_Tot  | samples    | Tot |\n",
       "| V42 | detector_f_Tot | samples    | Tot |\n",
       "| V43 | pll_f_Tot      | samples    | Tot |\n",
       "| V44 | sync_f_Tot     | samples    | Tot |\n",
       "| V45 | agc_Avg        | unitless   | Avg |\n",
       "| V46 | Fc_irga        | mg/(m^2 s) | Smp |\n",
       "| V47 | LE_irga        | W/m^2      | Smp |\n",
       "| V48 | co2_wpl_LE     | mg/(m^2 s) | Smp |\n",
       "| V49 | co2_wpl_H      | mg/(m^2 s) | Smp |\n",
       "| V50 | h2o_wpl_LE     | W/m^2      | Smp |\n",
       "| V51 | h2o_wpl_H      | W/m^2      | Smp |\n",
       "| V52 | h2o_hmp_mean   | g/m^3      | Smp |\n",
       "| V53 | t_hmp_mean     | C          | Smp |\n",
       "| V54 | rh_hmp_mean    | percent    | Smp |\n",
       "\n"
      ],
      "text/plain": [
       "    X1             X2         X3 \n",
       "V1  TIMESTAMP      TS            \n",
       "V2  RECORD         RN            \n",
       "V3  Fc_wpl         mg/(m^2 s) Smp\n",
       "V4  LE_wpl         W/m^2      Smp\n",
       "V5  Hs             W/m^2      Smp\n",
       "V6  Hc             W/m^2      Smp\n",
       "V7  tau            kg/(m s^2) Smp\n",
       "V8  u_star         m/s        Smp\n",
       "V9  stdev_Ts       C          Smp\n",
       "V10 cov_Ts_Ux      m C/s      Smp\n",
       "V11 cov_Ts_Uy      m C/s      Smp\n",
       "V12 cov_Ts_Uz      m C/s      Smp\n",
       "V13 stdev_Ux       m/s        Smp\n",
       "V14 cov_Ux_Uy      (m/s)^2    Smp\n",
       "V15 cov_Ux_Uz      (m/s)^2    Smp\n",
       "V16 stdev_Uy       m/s        Smp\n",
       "V17 cov_Uy_Uz      (m/s)^2    Smp\n",
       "V18 stdev_Uz       m/s        Smp\n",
       "V19 stdev_co2      mg/m^3     Smp\n",
       "V20 cov_co2_Ux     mg/(m^2 s) Smp\n",
       "V21 cov_co2_Uy     mg/(m^2 s) Smp\n",
       "V22 cov_co2_Uz     mg/(m^2 s) Smp\n",
       "V23 stdev_h2o      g/m^3      Smp\n",
       "V24 cov_h2o_Ux     g/(m^2 s)  Smp\n",
       "V25 cov_h2o_Uy     g/(m^2 s)  Smp\n",
       "V26 cov_h2o_Uz     g/(m^2 s)  Smp\n",
       "V27 Ts_mean        C          Smp\n",
       "V28 Ux_Avg         m/s        Avg\n",
       "V29 Uy_Avg         m/s        Avg\n",
       "V30 Uz_Avg         m/s        Avg\n",
       "V31 co2_mean       mg/m^3     Smp\n",
       "V32 h2o_Avg        g/m^3      Avg\n",
       "V33 rho_a_mean     kg/m^3     Smp\n",
       "V34 press_mean     kPa        Smp\n",
       "V35 panel_temp_Avg C          Avg\n",
       "V36 wind_dir       degrees    Smp\n",
       "V37 rslt_wnd_spd   m/s        Smp\n",
       "V38 std_wnd_dir    degrees    Smp\n",
       "V39 batt_volt_Avg  V          Avg\n",
       "V40 irga_warnings  samples    Tot\n",
       "V41 chopper_f_Tot  samples    Tot\n",
       "V42 detector_f_Tot samples    Tot\n",
       "V43 pll_f_Tot      samples    Tot\n",
       "V44 sync_f_Tot     samples    Tot\n",
       "V45 agc_Avg        unitless   Avg\n",
       "V46 Fc_irga        mg/(m^2 s) Smp\n",
       "V47 LE_irga        W/m^2      Smp\n",
       "V48 co2_wpl_LE     mg/(m^2 s) Smp\n",
       "V49 co2_wpl_H      mg/(m^2 s) Smp\n",
       "V50 h2o_wpl_LE     W/m^2      Smp\n",
       "V51 h2o_wpl_H      W/m^2      Smp\n",
       "V52 h2o_hmp_mean   g/m^3      Smp\n",
       "V53 t_hmp_mean     C          Smp\n",
       "V54 rh_hmp_mean    percent    Smp"
      ]
     },
     "metadata": {},
     "output_type": "display_data"
    }
   ],
   "source": [
    "h3989f"
   ]
  },
  {
   "cell_type": "code",
   "execution_count": 11,
   "id": "147fb3bb",
   "metadata": {
    "vscode": {
     "languageId": "r"
    }
   },
   "outputs": [],
   "source": [
    "# write.table(\n",
    "#   h3989f, \"data/flux_variables.tsv\", row.names = FALSE,\n",
    "#   sep = \"\\t\", quote = FALSE, col.names = FALSE\n",
    "# )"
   ]
  },
  {
   "cell_type": "code",
   "execution_count": 12,
   "id": "b2f5c549",
   "metadata": {
    "vscode": {
     "languageId": "r"
    }
   },
   "outputs": [
    {
     "data": {
      "text/html": [
       "<table class=\"dataframe\">\n",
       "<caption>A data.frame: 54 × 4</caption>\n",
       "<thead>\n",
       "\t<tr><th scope=col>Variable</th><th scope=col>Units</th><th scope=col>Type</th><th scope=col>Description</th></tr>\n",
       "\t<tr><th scope=col>&lt;chr&gt;</th><th scope=col>&lt;chr&gt;</th><th scope=col>&lt;chr&gt;</th><th scope=col>&lt;chr&gt;</th></tr>\n",
       "</thead>\n",
       "<tbody>\n",
       "\t<tr><td>TIMESTAMP     </td><td>TS        </td><td>   </td><td>Sampling time in format YYYY-MM-dd hh:mm:ss                      </td></tr>\n",
       "\t<tr><td>RECORD        </td><td>RN        </td><td>   </td><td>Record number from the starting date                             </td></tr>\n",
       "\t<tr><td>Fc_wpl        </td><td>mg m-2 s-1</td><td>Smp</td><td>Carbon dioxide flux, with Webb et al. term                       </td></tr>\n",
       "\t<tr><td>LE_wpl        </td><td>W m-2     </td><td>Smp</td><td>Latent heat flux, with Webb et al. term                          </td></tr>\n",
       "\t<tr><td>Hs            </td><td>W m-2     </td><td>Smp</td><td>Sensible heat flux using sonic temperature                       </td></tr>\n",
       "\t<tr><td>Hc            </td><td>W m-2     </td><td>Smp</td><td>Sensible heat flux calculated from Hs and LE wpl                 </td></tr>\n",
       "\t<tr><td>tau           </td><td>kg m-1 s-2</td><td>Smp</td><td>Momentum flux                                                    </td></tr>\n",
       "\t<tr><td>u_star        </td><td>m s-1     </td><td>Smp</td><td>Friction velocity                                                </td></tr>\n",
       "\t<tr><td>stdev_Ts      </td><td>°C        </td><td>Smp</td><td>Standard deviation of sonic temperature                          </td></tr>\n",
       "\t<tr><td>cov_Ts_Ux     </td><td>°C m s-1  </td><td>Smp</td><td>Covariance of sonic temperature and horizontal wind (x-axis)     </td></tr>\n",
       "\t<tr><td>cov_Ts_Uy     </td><td>°C m s-1  </td><td>Smp</td><td>Covariance of sonic temperature and horizontal wind (y-axis)     </td></tr>\n",
       "\t<tr><td>cov_Ts_Uz     </td><td>°C m s-1  </td><td>Smp</td><td>Covariance of sonic temperature and vertical wind                </td></tr>\n",
       "\t<tr><td>stdev_Ux      </td><td>m s-1     </td><td>Smp</td><td>Standard deviation of horizontal wind (x-axis)                   </td></tr>\n",
       "\t<tr><td>cov_Ux_Uy     </td><td>m2 s-2    </td><td>Smp</td><td>Covariance of horizontal winds (x-axis and y-axis)               </td></tr>\n",
       "\t<tr><td>cov_Ux_Uz     </td><td>m2 s-2    </td><td>Smp</td><td>Covariance of horizontal wind (x-axis) and vertical wind         </td></tr>\n",
       "\t<tr><td>stdev_Uy      </td><td>m s-1     </td><td>Smp</td><td>Standard deviation of horizontal wind (y-axis)                   </td></tr>\n",
       "\t<tr><td>cov_Uy_Uz     </td><td>m2 s-2    </td><td>Smp</td><td>Covariance of horizontal wind (y-axis) and vertical wind         </td></tr>\n",
       "\t<tr><td>stdev_Uz      </td><td>m s-1     </td><td>Smp</td><td>Standard deviation of vertical wind                              </td></tr>\n",
       "\t<tr><td>stdev_co2     </td><td>mg m-3    </td><td>Smp</td><td>Standard deviation carbon dioxide density                        </td></tr>\n",
       "\t<tr><td>cov_co2_Ux    </td><td>mg m-2 s-1</td><td>Smp</td><td>Covariance of carbon dioxide density and horizontal wind (x-axis)</td></tr>\n",
       "\t<tr><td>cov_co2_Uy    </td><td>mg m-2 s-1</td><td>Smp</td><td>Covariance of carbon dioxide density and horizontal wind (y-axis)</td></tr>\n",
       "\t<tr><td>cov_co2_Uz    </td><td>mg m-2 s-1</td><td>Smp</td><td>Covariance of carbon dioxide density and vertical wind           </td></tr>\n",
       "\t<tr><td>stdev_h2o     </td><td>g m-3     </td><td>Smp</td><td>Standard deviation of water vapour density                       </td></tr>\n",
       "\t<tr><td>cov_h2o_Ux    </td><td>g m-2 s-1 </td><td>Smp</td><td>Covariance of water vapour density and horizontal wind (x-axis)  </td></tr>\n",
       "\t<tr><td>cov_h2o_Uy    </td><td>g m-2 s-1 </td><td>Smp</td><td>Covariance of water vapour density and horizontal wind (y-axis)  </td></tr>\n",
       "\t<tr><td>cov_h2o_Uz    </td><td>g m-2 s-1 </td><td>Smp</td><td>Covariance of water vapour density and vertical wind             </td></tr>\n",
       "\t<tr><td>Ts_mean       </td><td>°C        </td><td>Smp</td><td>Average sonic temperature                                        </td></tr>\n",
       "\t<tr><td>Ux_Avg        </td><td>m s-1     </td><td>Avg</td><td>Average horizontal wind (x-axis)                                 </td></tr>\n",
       "\t<tr><td>Uy_Avg        </td><td>m s-1     </td><td>Avg</td><td>Average horizontal wind (y-axis)                                 </td></tr>\n",
       "\t<tr><td>Uz_Avg        </td><td>m s-1     </td><td>Avg</td><td>Average vertical wind                                            </td></tr>\n",
       "\t<tr><td>co2_mean      </td><td>mg m-3    </td><td>Smp</td><td>Average carbon dioxide density                                   </td></tr>\n",
       "\t<tr><td>h2o_Avg       </td><td>g m-3     </td><td>Avg</td><td>Average water vapour density                                     </td></tr>\n",
       "\t<tr><td>rho_a_mean    </td><td>kg m-3    </td><td>Smp</td><td>Average air density                                              </td></tr>\n",
       "\t<tr><td>press_mean    </td><td>kPa       </td><td>Smp</td><td>Average barometric pressure                                      </td></tr>\n",
       "\t<tr><td>panel_temp_Avg</td><td>°C        </td><td>Avg</td><td>Average datalogger panel temperature                             </td></tr>\n",
       "\t<tr><td>wind_dir      </td><td>degrees   </td><td>Smp</td><td>                                                                 </td></tr>\n",
       "\t<tr><td>rslt_wnd_spd  </td><td>m s-1     </td><td>Smp</td><td>Resultant horizontal wind speed                                  </td></tr>\n",
       "\t<tr><td>std_wnd_dir   </td><td>degrees   </td><td>Smp</td><td>Standard deviation of wind direction                             </td></tr>\n",
       "\t<tr><td>batt_volt_Avg </td><td>V         </td><td>Avg</td><td>Average battery voltage                                          </td></tr>\n",
       "\t<tr><td>irga_warnings </td><td>samples   </td><td>Tot</td><td>Number of times any LI-7500 warning flag was set high            </td></tr>\n",
       "\t<tr><td>chopper_f_Tot </td><td>samples   </td><td>Tot</td><td>Number of chopper warnings from LI-7500                          </td></tr>\n",
       "\t<tr><td>detector_f_Tot</td><td>samples   </td><td>Tot</td><td>Number of chopper detector from LI-7500                          </td></tr>\n",
       "\t<tr><td>pll_f_Tot     </td><td>samples   </td><td>Tot</td><td>Number of chopper pll from LI-7500                               </td></tr>\n",
       "\t<tr><td>sync_f_Tot    </td><td>samples   </td><td>Tot</td><td>Number of chopper synchronization warnings from LI-7500          </td></tr>\n",
       "\t<tr><td>agc_Avg       </td><td>unitless  </td><td>Avg</td><td>Average AGC from LI-7500                                         </td></tr>\n",
       "\t<tr><td>Fc_irga       </td><td>mg m-2 s-1</td><td>Smp</td><td>Carbon dioxide flux without the Webb et al. term                 </td></tr>\n",
       "\t<tr><td>LE_irga       </td><td>W m-2     </td><td>Smp</td><td>Latent heat flux without the Webb et al. term                    </td></tr>\n",
       "\t<tr><td>co2_wpl_LE    </td><td>mg m-2 s-1</td><td>Smp</td><td>Carbon dioxide Webb et al. term due to latent heat flux          </td></tr>\n",
       "\t<tr><td>co2_wpl_H     </td><td>mg m-2 s-1</td><td>Smp</td><td>Carbon dioxide Webb et al. term due to (sonic) sensible heat flux</td></tr>\n",
       "\t<tr><td>h2o_wpl_LE    </td><td>W m-2     </td><td>Smp</td><td>Water vapour Webb et al. term due to latent heat flux            </td></tr>\n",
       "\t<tr><td>h2o_wpl_H     </td><td>W m-2     </td><td>Smp</td><td>Water vapour Webb et al. term due to (sonic) sensible heat flux  </td></tr>\n",
       "\t<tr><td>h2o_hmp_mean  </td><td>g m-3     </td><td>Smp</td><td>Average water vapour density from HMP45C                         </td></tr>\n",
       "\t<tr><td>t_hmp_mean    </td><td>°C        </td><td>Smp</td><td>Average temperature from HMP45C                                  </td></tr>\n",
       "\t<tr><td>rh_hmp_mean   </td><td>percent   </td><td>Smp</td><td>Average relative humidity from HMP45C                            </td></tr>\n",
       "</tbody>\n",
       "</table>\n"
      ],
      "text/latex": [
       "A data.frame: 54 × 4\n",
       "\\begin{tabular}{llll}\n",
       " Variable & Units & Type & Description\\\\\n",
       " <chr> & <chr> & <chr> & <chr>\\\\\n",
       "\\hline\n",
       "\t TIMESTAMP      & TS         &     & Sampling time in format YYYY-MM-dd hh:mm:ss                      \\\\\n",
       "\t RECORD         & RN         &     & Record number from the starting date                             \\\\\n",
       "\t Fc\\_wpl         & mg m-2 s-1 & Smp & Carbon dioxide flux, with Webb et al. term                       \\\\\n",
       "\t LE\\_wpl         & W m-2      & Smp & Latent heat flux, with Webb et al. term                          \\\\\n",
       "\t Hs             & W m-2      & Smp & Sensible heat flux using sonic temperature                       \\\\\n",
       "\t Hc             & W m-2      & Smp & Sensible heat flux calculated from Hs and LE wpl                 \\\\\n",
       "\t tau            & kg m-1 s-2 & Smp & Momentum flux                                                    \\\\\n",
       "\t u\\_star         & m s-1      & Smp & Friction velocity                                                \\\\\n",
       "\t stdev\\_Ts       & °C         & Smp & Standard deviation of sonic temperature                          \\\\\n",
       "\t cov\\_Ts\\_Ux      & °C m s-1   & Smp & Covariance of sonic temperature and horizontal wind (x-axis)     \\\\\n",
       "\t cov\\_Ts\\_Uy      & °C m s-1   & Smp & Covariance of sonic temperature and horizontal wind (y-axis)     \\\\\n",
       "\t cov\\_Ts\\_Uz      & °C m s-1   & Smp & Covariance of sonic temperature and vertical wind                \\\\\n",
       "\t stdev\\_Ux       & m s-1      & Smp & Standard deviation of horizontal wind (x-axis)                   \\\\\n",
       "\t cov\\_Ux\\_Uy      & m2 s-2     & Smp & Covariance of horizontal winds (x-axis and y-axis)               \\\\\n",
       "\t cov\\_Ux\\_Uz      & m2 s-2     & Smp & Covariance of horizontal wind (x-axis) and vertical wind         \\\\\n",
       "\t stdev\\_Uy       & m s-1      & Smp & Standard deviation of horizontal wind (y-axis)                   \\\\\n",
       "\t cov\\_Uy\\_Uz      & m2 s-2     & Smp & Covariance of horizontal wind (y-axis) and vertical wind         \\\\\n",
       "\t stdev\\_Uz       & m s-1      & Smp & Standard deviation of vertical wind                              \\\\\n",
       "\t stdev\\_co2      & mg m-3     & Smp & Standard deviation carbon dioxide density                        \\\\\n",
       "\t cov\\_co2\\_Ux     & mg m-2 s-1 & Smp & Covariance of carbon dioxide density and horizontal wind (x-axis)\\\\\n",
       "\t cov\\_co2\\_Uy     & mg m-2 s-1 & Smp & Covariance of carbon dioxide density and horizontal wind (y-axis)\\\\\n",
       "\t cov\\_co2\\_Uz     & mg m-2 s-1 & Smp & Covariance of carbon dioxide density and vertical wind           \\\\\n",
       "\t stdev\\_h2o      & g m-3      & Smp & Standard deviation of water vapour density                       \\\\\n",
       "\t cov\\_h2o\\_Ux     & g m-2 s-1  & Smp & Covariance of water vapour density and horizontal wind (x-axis)  \\\\\n",
       "\t cov\\_h2o\\_Uy     & g m-2 s-1  & Smp & Covariance of water vapour density and horizontal wind (y-axis)  \\\\\n",
       "\t cov\\_h2o\\_Uz     & g m-2 s-1  & Smp & Covariance of water vapour density and vertical wind             \\\\\n",
       "\t Ts\\_mean        & °C         & Smp & Average sonic temperature                                        \\\\\n",
       "\t Ux\\_Avg         & m s-1      & Avg & Average horizontal wind (x-axis)                                 \\\\\n",
       "\t Uy\\_Avg         & m s-1      & Avg & Average horizontal wind (y-axis)                                 \\\\\n",
       "\t Uz\\_Avg         & m s-1      & Avg & Average vertical wind                                            \\\\\n",
       "\t co2\\_mean       & mg m-3     & Smp & Average carbon dioxide density                                   \\\\\n",
       "\t h2o\\_Avg        & g m-3      & Avg & Average water vapour density                                     \\\\\n",
       "\t rho\\_a\\_mean     & kg m-3     & Smp & Average air density                                              \\\\\n",
       "\t press\\_mean     & kPa        & Smp & Average barometric pressure                                      \\\\\n",
       "\t panel\\_temp\\_Avg & °C         & Avg & Average datalogger panel temperature                             \\\\\n",
       "\t wind\\_dir       & degrees    & Smp &                                                                  \\\\\n",
       "\t rslt\\_wnd\\_spd   & m s-1      & Smp & Resultant horizontal wind speed                                  \\\\\n",
       "\t std\\_wnd\\_dir    & degrees    & Smp & Standard deviation of wind direction                             \\\\\n",
       "\t batt\\_volt\\_Avg  & V          & Avg & Average battery voltage                                          \\\\\n",
       "\t irga\\_warnings  & samples    & Tot & Number of times any LI-7500 warning flag was set high            \\\\\n",
       "\t chopper\\_f\\_Tot  & samples    & Tot & Number of chopper warnings from LI-7500                          \\\\\n",
       "\t detector\\_f\\_Tot & samples    & Tot & Number of chopper detector from LI-7500                          \\\\\n",
       "\t pll\\_f\\_Tot      & samples    & Tot & Number of chopper pll from LI-7500                               \\\\\n",
       "\t sync\\_f\\_Tot     & samples    & Tot & Number of chopper synchronization warnings from LI-7500          \\\\\n",
       "\t agc\\_Avg        & unitless   & Avg & Average AGC from LI-7500                                         \\\\\n",
       "\t Fc\\_irga        & mg m-2 s-1 & Smp & Carbon dioxide flux without the Webb et al. term                 \\\\\n",
       "\t LE\\_irga        & W m-2      & Smp & Latent heat flux without the Webb et al. term                    \\\\\n",
       "\t co2\\_wpl\\_LE     & mg m-2 s-1 & Smp & Carbon dioxide Webb et al. term due to latent heat flux          \\\\\n",
       "\t co2\\_wpl\\_H      & mg m-2 s-1 & Smp & Carbon dioxide Webb et al. term due to (sonic) sensible heat flux\\\\\n",
       "\t h2o\\_wpl\\_LE     & W m-2      & Smp & Water vapour Webb et al. term due to latent heat flux            \\\\\n",
       "\t h2o\\_wpl\\_H      & W m-2      & Smp & Water vapour Webb et al. term due to (sonic) sensible heat flux  \\\\\n",
       "\t h2o\\_hmp\\_mean   & g m-3      & Smp & Average water vapour density from HMP45C                         \\\\\n",
       "\t t\\_hmp\\_mean     & °C         & Smp & Average temperature from HMP45C                                  \\\\\n",
       "\t rh\\_hmp\\_mean    & percent    & Smp & Average relative humidity from HMP45C                            \\\\\n",
       "\\end{tabular}\n"
      ],
      "text/markdown": [
       "\n",
       "A data.frame: 54 × 4\n",
       "\n",
       "| Variable &lt;chr&gt; | Units &lt;chr&gt; | Type &lt;chr&gt; | Description &lt;chr&gt; |\n",
       "|---|---|---|---|\n",
       "| TIMESTAMP      | TS         | <!----> | Sampling time in format YYYY-MM-dd hh:mm:ss                       |\n",
       "| RECORD         | RN         | <!----> | Record number from the starting date                              |\n",
       "| Fc_wpl         | mg m-2 s-1 | Smp | Carbon dioxide flux, with Webb et al. term                        |\n",
       "| LE_wpl         | W m-2      | Smp | Latent heat flux, with Webb et al. term                           |\n",
       "| Hs             | W m-2      | Smp | Sensible heat flux using sonic temperature                        |\n",
       "| Hc             | W m-2      | Smp | Sensible heat flux calculated from Hs and LE wpl                  |\n",
       "| tau            | kg m-1 s-2 | Smp | Momentum flux                                                     |\n",
       "| u_star         | m s-1      | Smp | Friction velocity                                                 |\n",
       "| stdev_Ts       | °C         | Smp | Standard deviation of sonic temperature                           |\n",
       "| cov_Ts_Ux      | °C m s-1   | Smp | Covariance of sonic temperature and horizontal wind (x-axis)      |\n",
       "| cov_Ts_Uy      | °C m s-1   | Smp | Covariance of sonic temperature and horizontal wind (y-axis)      |\n",
       "| cov_Ts_Uz      | °C m s-1   | Smp | Covariance of sonic temperature and vertical wind                 |\n",
       "| stdev_Ux       | m s-1      | Smp | Standard deviation of horizontal wind (x-axis)                    |\n",
       "| cov_Ux_Uy      | m2 s-2     | Smp | Covariance of horizontal winds (x-axis and y-axis)                |\n",
       "| cov_Ux_Uz      | m2 s-2     | Smp | Covariance of horizontal wind (x-axis) and vertical wind          |\n",
       "| stdev_Uy       | m s-1      | Smp | Standard deviation of horizontal wind (y-axis)                    |\n",
       "| cov_Uy_Uz      | m2 s-2     | Smp | Covariance of horizontal wind (y-axis) and vertical wind          |\n",
       "| stdev_Uz       | m s-1      | Smp | Standard deviation of vertical wind                               |\n",
       "| stdev_co2      | mg m-3     | Smp | Standard deviation carbon dioxide density                         |\n",
       "| cov_co2_Ux     | mg m-2 s-1 | Smp | Covariance of carbon dioxide density and horizontal wind (x-axis) |\n",
       "| cov_co2_Uy     | mg m-2 s-1 | Smp | Covariance of carbon dioxide density and horizontal wind (y-axis) |\n",
       "| cov_co2_Uz     | mg m-2 s-1 | Smp | Covariance of carbon dioxide density and vertical wind            |\n",
       "| stdev_h2o      | g m-3      | Smp | Standard deviation of water vapour density                        |\n",
       "| cov_h2o_Ux     | g m-2 s-1  | Smp | Covariance of water vapour density and horizontal wind (x-axis)   |\n",
       "| cov_h2o_Uy     | g m-2 s-1  | Smp | Covariance of water vapour density and horizontal wind (y-axis)   |\n",
       "| cov_h2o_Uz     | g m-2 s-1  | Smp | Covariance of water vapour density and vertical wind              |\n",
       "| Ts_mean        | °C         | Smp | Average sonic temperature                                         |\n",
       "| Ux_Avg         | m s-1      | Avg | Average horizontal wind (x-axis)                                  |\n",
       "| Uy_Avg         | m s-1      | Avg | Average horizontal wind (y-axis)                                  |\n",
       "| Uz_Avg         | m s-1      | Avg | Average vertical wind                                             |\n",
       "| co2_mean       | mg m-3     | Smp | Average carbon dioxide density                                    |\n",
       "| h2o_Avg        | g m-3      | Avg | Average water vapour density                                      |\n",
       "| rho_a_mean     | kg m-3     | Smp | Average air density                                               |\n",
       "| press_mean     | kPa        | Smp | Average barometric pressure                                       |\n",
       "| panel_temp_Avg | °C         | Avg | Average datalogger panel temperature                              |\n",
       "| wind_dir       | degrees    | Smp | <!----> |\n",
       "| rslt_wnd_spd   | m s-1      | Smp | Resultant horizontal wind speed                                   |\n",
       "| std_wnd_dir    | degrees    | Smp | Standard deviation of wind direction                              |\n",
       "| batt_volt_Avg  | V          | Avg | Average battery voltage                                           |\n",
       "| irga_warnings  | samples    | Tot | Number of times any LI-7500 warning flag was set high             |\n",
       "| chopper_f_Tot  | samples    | Tot | Number of chopper warnings from LI-7500                           |\n",
       "| detector_f_Tot | samples    | Tot | Number of chopper detector from LI-7500                           |\n",
       "| pll_f_Tot      | samples    | Tot | Number of chopper pll from LI-7500                                |\n",
       "| sync_f_Tot     | samples    | Tot | Number of chopper synchronization warnings from LI-7500           |\n",
       "| agc_Avg        | unitless   | Avg | Average AGC from LI-7500                                          |\n",
       "| Fc_irga        | mg m-2 s-1 | Smp | Carbon dioxide flux without the Webb et al. term                  |\n",
       "| LE_irga        | W m-2      | Smp | Latent heat flux without the Webb et al. term                     |\n",
       "| co2_wpl_LE     | mg m-2 s-1 | Smp | Carbon dioxide Webb et al. term due to latent heat flux           |\n",
       "| co2_wpl_H      | mg m-2 s-1 | Smp | Carbon dioxide Webb et al. term due to (sonic) sensible heat flux |\n",
       "| h2o_wpl_LE     | W m-2      | Smp | Water vapour Webb et al. term due to latent heat flux             |\n",
       "| h2o_wpl_H      | W m-2      | Smp | Water vapour Webb et al. term due to (sonic) sensible heat flux   |\n",
       "| h2o_hmp_mean   | g m-3      | Smp | Average water vapour density from HMP45C                          |\n",
       "| t_hmp_mean     | °C         | Smp | Average temperature from HMP45C                                   |\n",
       "| rh_hmp_mean    | percent    | Smp | Average relative humidity from HMP45C                             |\n",
       "\n"
      ],
      "text/plain": [
       "   Variable       Units      Type\n",
       "1  TIMESTAMP      TS             \n",
       "2  RECORD         RN             \n",
       "3  Fc_wpl         mg m-2 s-1 Smp \n",
       "4  LE_wpl         W m-2      Smp \n",
       "5  Hs             W m-2      Smp \n",
       "6  Hc             W m-2      Smp \n",
       "7  tau            kg m-1 s-2 Smp \n",
       "8  u_star         m s-1      Smp \n",
       "9  stdev_Ts       °C         Smp \n",
       "10 cov_Ts_Ux      °C m s-1   Smp \n",
       "11 cov_Ts_Uy      °C m s-1   Smp \n",
       "12 cov_Ts_Uz      °C m s-1   Smp \n",
       "13 stdev_Ux       m s-1      Smp \n",
       "14 cov_Ux_Uy      m2 s-2     Smp \n",
       "15 cov_Ux_Uz      m2 s-2     Smp \n",
       "16 stdev_Uy       m s-1      Smp \n",
       "17 cov_Uy_Uz      m2 s-2     Smp \n",
       "18 stdev_Uz       m s-1      Smp \n",
       "19 stdev_co2      mg m-3     Smp \n",
       "20 cov_co2_Ux     mg m-2 s-1 Smp \n",
       "21 cov_co2_Uy     mg m-2 s-1 Smp \n",
       "22 cov_co2_Uz     mg m-2 s-1 Smp \n",
       "23 stdev_h2o      g m-3      Smp \n",
       "24 cov_h2o_Ux     g m-2 s-1  Smp \n",
       "25 cov_h2o_Uy     g m-2 s-1  Smp \n",
       "26 cov_h2o_Uz     g m-2 s-1  Smp \n",
       "27 Ts_mean        °C         Smp \n",
       "28 Ux_Avg         m s-1      Avg \n",
       "29 Uy_Avg         m s-1      Avg \n",
       "30 Uz_Avg         m s-1      Avg \n",
       "31 co2_mean       mg m-3     Smp \n",
       "32 h2o_Avg        g m-3      Avg \n",
       "33 rho_a_mean     kg m-3     Smp \n",
       "34 press_mean     kPa        Smp \n",
       "35 panel_temp_Avg °C         Avg \n",
       "36 wind_dir       degrees    Smp \n",
       "37 rslt_wnd_spd   m s-1      Smp \n",
       "38 std_wnd_dir    degrees    Smp \n",
       "39 batt_volt_Avg  V          Avg \n",
       "40 irga_warnings  samples    Tot \n",
       "41 chopper_f_Tot  samples    Tot \n",
       "42 detector_f_Tot samples    Tot \n",
       "43 pll_f_Tot      samples    Tot \n",
       "44 sync_f_Tot     samples    Tot \n",
       "45 agc_Avg        unitless   Avg \n",
       "46 Fc_irga        mg m-2 s-1 Smp \n",
       "47 LE_irga        W m-2      Smp \n",
       "48 co2_wpl_LE     mg m-2 s-1 Smp \n",
       "49 co2_wpl_H      mg m-2 s-1 Smp \n",
       "50 h2o_wpl_LE     W m-2      Smp \n",
       "51 h2o_wpl_H      W m-2      Smp \n",
       "52 h2o_hmp_mean   g m-3      Smp \n",
       "53 t_hmp_mean     °C         Smp \n",
       "54 rh_hmp_mean    percent    Smp \n",
       "   Description                                                      \n",
       "1  Sampling time in format YYYY-MM-dd hh:mm:ss                      \n",
       "2  Record number from the starting date                             \n",
       "3  Carbon dioxide flux, with Webb et al. term                       \n",
       "4  Latent heat flux, with Webb et al. term                          \n",
       "5  Sensible heat flux using sonic temperature                       \n",
       "6  Sensible heat flux calculated from Hs and LE wpl                 \n",
       "7  Momentum flux                                                    \n",
       "8  Friction velocity                                                \n",
       "9  Standard deviation of sonic temperature                          \n",
       "10 Covariance of sonic temperature and horizontal wind (x-axis)     \n",
       "11 Covariance of sonic temperature and horizontal wind (y-axis)     \n",
       "12 Covariance of sonic temperature and vertical wind                \n",
       "13 Standard deviation of horizontal wind (x-axis)                   \n",
       "14 Covariance of horizontal winds (x-axis and y-axis)               \n",
       "15 Covariance of horizontal wind (x-axis) and vertical wind         \n",
       "16 Standard deviation of horizontal wind (y-axis)                   \n",
       "17 Covariance of horizontal wind (y-axis) and vertical wind         \n",
       "18 Standard deviation of vertical wind                              \n",
       "19 Standard deviation carbon dioxide density                        \n",
       "20 Covariance of carbon dioxide density and horizontal wind (x-axis)\n",
       "21 Covariance of carbon dioxide density and horizontal wind (y-axis)\n",
       "22 Covariance of carbon dioxide density and vertical wind           \n",
       "23 Standard deviation of water vapour density                       \n",
       "24 Covariance of water vapour density and horizontal wind (x-axis)  \n",
       "25 Covariance of water vapour density and horizontal wind (y-axis)  \n",
       "26 Covariance of water vapour density and vertical wind             \n",
       "27 Average sonic temperature                                        \n",
       "28 Average horizontal wind (x-axis)                                 \n",
       "29 Average horizontal wind (y-axis)                                 \n",
       "30 Average vertical wind                                            \n",
       "31 Average carbon dioxide density                                   \n",
       "32 Average water vapour density                                     \n",
       "33 Average air density                                              \n",
       "34 Average barometric pressure                                      \n",
       "35 Average datalogger panel temperature                             \n",
       "36                                                                  \n",
       "37 Resultant horizontal wind speed                                  \n",
       "38 Standard deviation of wind direction                             \n",
       "39 Average battery voltage                                          \n",
       "40 Number of times any LI-7500 warning flag was set high            \n",
       "41 Number of chopper warnings from LI-7500                          \n",
       "42 Number of chopper detector from LI-7500                          \n",
       "43 Number of chopper pll from LI-7500                               \n",
       "44 Number of chopper synchronization warnings from LI-7500          \n",
       "45 Average AGC from LI-7500                                         \n",
       "46 Carbon dioxide flux without the Webb et al. term                 \n",
       "47 Latent heat flux without the Webb et al. term                    \n",
       "48 Carbon dioxide Webb et al. term due to latent heat flux          \n",
       "49 Carbon dioxide Webb et al. term due to (sonic) sensible heat flux\n",
       "50 Water vapour Webb et al. term due to latent heat flux            \n",
       "51 Water vapour Webb et al. term due to (sonic) sensible heat flux  \n",
       "52 Average water vapour density from HMP45C                         \n",
       "53 Average temperature from HMP45C                                  \n",
       "54 Average relative humidity from HMP45C                            "
      ]
     },
     "metadata": {},
     "output_type": "display_data"
    }
   ],
   "source": [
    "# view manually updated variable table\n",
    "read.csv(\"data/flux_variables.tsv\", sep = \"\\t\")"
   ]
  }
 ],
 "metadata": {
  "kernelspec": {
   "display_name": "R",
   "language": "R",
   "name": "ir"
  },
  "language_info": {
   "codemirror_mode": "r",
   "file_extension": ".r",
   "mimetype": "text/x-r-source",
   "name": "R",
   "pygments_lexer": "r",
   "version": "4.3.2"
  }
 },
 "nbformat": 4,
 "nbformat_minor": 5
}
